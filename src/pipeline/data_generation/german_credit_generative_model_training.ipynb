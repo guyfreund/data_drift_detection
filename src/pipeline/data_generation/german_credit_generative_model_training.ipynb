{
 "cells": [
  {
   "cell_type": "markdown",
   "source": [
    "# German Credit Dataset"
   ],
   "metadata": {
    "collapsed": false,
    "pycharm": {
     "name": "#%% md\n"
    }
   }
  },
  {
   "cell_type": "markdown",
   "source": [
    "# CGAN Training for synthesize datasets\n",
    "\n",
    "\n",
    "CGAN: A conditional generative adversarial network (CGAN) is a type of GAN that also takes advantage of labels during the training process. Generator — Given a label and random array as input, this network generates data with the same structure as the training data observations corresponding to the same label.\n",
    "\n",
    "Then, we save the CGAN models for the data generation pipeline."
   ],
   "metadata": {
    "collapsed": false
   }
  },
  {
   "cell_type": "markdown",
   "source": [
    "## Imports"
   ],
   "metadata": {
    "collapsed": false
   }
  },
  {
   "cell_type": "code",
   "execution_count": 4,
   "outputs": [
    {
     "name": "stderr",
     "output_type": "stream",
     "text": [
      "2021-12-25 11:18:53.098891: I tensorflow/stream_executor/platform/default/dso_loader.cc:49] Successfully opened dynamic library libcudart.so.10.1\n"
     ]
    }
   ],
   "source": [
    "import os\n",
    "import pandas as pd\n",
    "import numpy as np\n",
    "from ydata_synthetic.synthesizers.regular import CGAN\n",
    "from ydata_synthetic.synthesizers import ModelParameters, TrainParameters\n",
    "import matplotlib.pyplot as plt\n",
    "from sklearn.preprocessing import PowerTransformer\n",
    "from sklearn.pipeline import Pipeline\n",
    "from sklearn.compose import ColumnTransformer\n",
    "\n",
    "from src.pipeline.data_generation.data_generator import GANDataGenerator\n",
    "from src.pipeline.datasets.training_datasets import GermanCreditProcessedDataset\n",
    "from src.pipeline.model.paths import GERMAN_CREDIT_GEN_CGAN_MODEL_PATH\n"
   ],
   "metadata": {
    "collapsed": false,
    "pycharm": {
     "name": "#%%\n"
    }
   }
  },
  {
   "cell_type": "code",
   "execution_count": 5,
   "outputs": [],
   "source": [
    "from IPython.core.interactiveshell import InteractiveShell\n",
    "InteractiveShell.ast_node_interactivity = \"all\""
   ],
   "metadata": {
    "collapsed": false,
    "pycharm": {
     "name": "#%%\n"
    }
   }
  },
  {
   "cell_type": "markdown",
   "source": [
    "# Load Preprocessed Data"
   ],
   "metadata": {
    "collapsed": false
   }
  },
  {
   "cell_type": "code",
   "execution_count": 6,
   "metadata": {},
   "outputs": [
    {
     "name": "stdout",
     "output_type": "stream",
     "text": [
      "Bank Marketing dataset\n",
      "\n",
      "loading dataset\n"
     ]
    },
    {
     "name": "stderr",
     "output_type": "stream",
     "text": [
      "/home/user/code/data_drift_detctor/src/pipeline/config.py:21: UnsafeLoaderWarning: \n",
      "The default 'Loader' for 'load(stream)' without further arguments can be unsafe.\n",
      "Use 'load(stream, Loader=ruamel.yaml.Loader)' explicitly if that is OK.\n",
      "Alternatively include the following in your code:\n",
      "\n",
      "  import warnings\n",
      "  warnings.simplefilter('ignore', ruamel.yaml.error.UnsafeLoaderWarning)\n",
      "\n",
      "In most other cases you should consider using 'safe_load(stream)'\n",
      "  cfg = ryaml.load(f)\n"
     ]
    },
    {
     "data": {
      "text/plain": "   duration  creditamount  installmentrate  residencesince  age  \\\n0         6          1169                4               4   67   \n1        48          5951                2               2   22   \n2        12          2096                2               3   49   \n3        42          7882                2               4   45   \n4        24          4870                3               4   53   \n\n   existingcredits  peopleliable  classification  existingchecking_A11  \\\n0                2             1               0                     1   \n1                1             1               1                     0   \n2                1             2               0                     0   \n3                1             2               0                     1   \n4                2             2               1                     1   \n\n   existingchecking_A12  ...  housing_A152  housing_A153  job_A171  job_A172  \\\n0                     0  ...             1             0         0         0   \n1                     1  ...             1             0         0         0   \n2                     0  ...             1             0         0         1   \n3                     0  ...             0             1         0         0   \n4                     0  ...             0             1         0         0   \n\n   job_A173  job_A174  telephone_A191  telephone_A192  foreignworker_A201  \\\n0         1         0               0               1                   1   \n1         1         0               1               0                   1   \n2         0         0               1               0                   1   \n3         1         0               1               0                   1   \n4         1         0               1               0                   1   \n\n   foreignworker_A202  \n0                   0  \n1                   0  \n2                   0  \n3                   0  \n4                   0  \n\n[5 rows x 62 columns]",
      "text/html": "<div>\n<style scoped>\n    .dataframe tbody tr th:only-of-type {\n        vertical-align: middle;\n    }\n\n    .dataframe tbody tr th {\n        vertical-align: top;\n    }\n\n    .dataframe thead th {\n        text-align: right;\n    }\n</style>\n<table border=\"1\" class=\"dataframe\">\n  <thead>\n    <tr style=\"text-align: right;\">\n      <th></th>\n      <th>duration</th>\n      <th>creditamount</th>\n      <th>installmentrate</th>\n      <th>residencesince</th>\n      <th>age</th>\n      <th>existingcredits</th>\n      <th>peopleliable</th>\n      <th>classification</th>\n      <th>existingchecking_A11</th>\n      <th>existingchecking_A12</th>\n      <th>...</th>\n      <th>housing_A152</th>\n      <th>housing_A153</th>\n      <th>job_A171</th>\n      <th>job_A172</th>\n      <th>job_A173</th>\n      <th>job_A174</th>\n      <th>telephone_A191</th>\n      <th>telephone_A192</th>\n      <th>foreignworker_A201</th>\n      <th>foreignworker_A202</th>\n    </tr>\n  </thead>\n  <tbody>\n    <tr>\n      <th>0</th>\n      <td>6</td>\n      <td>1169</td>\n      <td>4</td>\n      <td>4</td>\n      <td>67</td>\n      <td>2</td>\n      <td>1</td>\n      <td>0</td>\n      <td>1</td>\n      <td>0</td>\n      <td>...</td>\n      <td>1</td>\n      <td>0</td>\n      <td>0</td>\n      <td>0</td>\n      <td>1</td>\n      <td>0</td>\n      <td>0</td>\n      <td>1</td>\n      <td>1</td>\n      <td>0</td>\n    </tr>\n    <tr>\n      <th>1</th>\n      <td>48</td>\n      <td>5951</td>\n      <td>2</td>\n      <td>2</td>\n      <td>22</td>\n      <td>1</td>\n      <td>1</td>\n      <td>1</td>\n      <td>0</td>\n      <td>1</td>\n      <td>...</td>\n      <td>1</td>\n      <td>0</td>\n      <td>0</td>\n      <td>0</td>\n      <td>1</td>\n      <td>0</td>\n      <td>1</td>\n      <td>0</td>\n      <td>1</td>\n      <td>0</td>\n    </tr>\n    <tr>\n      <th>2</th>\n      <td>12</td>\n      <td>2096</td>\n      <td>2</td>\n      <td>3</td>\n      <td>49</td>\n      <td>1</td>\n      <td>2</td>\n      <td>0</td>\n      <td>0</td>\n      <td>0</td>\n      <td>...</td>\n      <td>1</td>\n      <td>0</td>\n      <td>0</td>\n      <td>1</td>\n      <td>0</td>\n      <td>0</td>\n      <td>1</td>\n      <td>0</td>\n      <td>1</td>\n      <td>0</td>\n    </tr>\n    <tr>\n      <th>3</th>\n      <td>42</td>\n      <td>7882</td>\n      <td>2</td>\n      <td>4</td>\n      <td>45</td>\n      <td>1</td>\n      <td>2</td>\n      <td>0</td>\n      <td>1</td>\n      <td>0</td>\n      <td>...</td>\n      <td>0</td>\n      <td>1</td>\n      <td>0</td>\n      <td>0</td>\n      <td>1</td>\n      <td>0</td>\n      <td>1</td>\n      <td>0</td>\n      <td>1</td>\n      <td>0</td>\n    </tr>\n    <tr>\n      <th>4</th>\n      <td>24</td>\n      <td>4870</td>\n      <td>3</td>\n      <td>4</td>\n      <td>53</td>\n      <td>2</td>\n      <td>2</td>\n      <td>1</td>\n      <td>1</td>\n      <td>0</td>\n      <td>...</td>\n      <td>0</td>\n      <td>1</td>\n      <td>0</td>\n      <td>0</td>\n      <td>1</td>\n      <td>0</td>\n      <td>1</td>\n      <td>0</td>\n      <td>1</td>\n      <td>0</td>\n    </tr>\n  </tbody>\n</table>\n<p>5 rows × 62 columns</p>\n</div>"
     },
     "execution_count": 6,
     "metadata": {},
     "output_type": "execute_result"
    },
    {
     "data": {
      "text/plain": "(1000, 62)"
     },
     "execution_count": 6,
     "metadata": {},
     "output_type": "execute_result"
    },
    {
     "name": "stdout",
     "output_type": "stream",
     "text": [
      "Label columns name is: classification. With 2 unique values.([0 1])\n"
     ]
    }
   ],
   "source": [
    "# init GANDataGenerator\n",
    "print('Bank Marketing dataset\\n')\n",
    "origin_dataset = GermanCreditProcessedDataset()\n",
    "\n",
    "df = origin_dataset.raw_df\n",
    "label_col = origin_dataset.label_column_name\n",
    "\n",
    "df.head()\n",
    "df.shape\n",
    "\n",
    "print(f'Label columns name is: {label_col}. With {df[label_col].nunique()} unique values.' \n",
    "      f'({df[label_col].unique()})')\n"
   ]
  },
  {
   "cell_type": "markdown",
   "metadata": {
    "id": "g96nVpRYxWFy"
   },
   "source": [
    "# EDA and Preprocessing"
   ]
  },
  {
   "cell_type": "code",
   "execution_count": 4,
   "outputs": [
    {
     "data": {
      "text/plain": "(1000, 62)"
     },
     "execution_count": 4,
     "metadata": {},
     "output_type": "execute_result"
    }
   ],
   "source": [
    "df.shape"
   ],
   "metadata": {
    "collapsed": false,
    "pycharm": {
     "name": "#%%\n"
    }
   }
  },
  {
   "cell_type": "code",
   "execution_count": 5,
   "metadata": {},
   "outputs": [],
   "source": [
    "train_sample = df"
   ]
  },
  {
   "cell_type": "code",
   "execution_count": 6,
   "outputs": [],
   "source": [
    "cat_cols = [col for col in df.columns if any(cat_col for cat_col in origin_dataset.categorical_feature_names if cat_col + '_' in col)]\n",
    "numeric_cols = [col for col in df.columns if any(numeric_col for numeric_col in origin_dataset.numeric_feature_names if numeric_col in col)]\n",
    "\n",
    "# numeric_cols.remove('job_management')\n",
    "\n",
    "# assert len(cat_cols)+len(numeric_cols) == len(df.columns)\n"
   ],
   "metadata": {
    "collapsed": false,
    "pycharm": {
     "name": "#%%\n"
    }
   }
  },
  {
   "cell_type": "markdown",
   "metadata": {},
   "source": [
    "# Init the GAN"
   ]
  },
  {
   "cell_type": "code",
   "execution_count": 8,
   "metadata": {
    "id": "avDWHsCKhMXS"
   },
   "outputs": [],
   "source": [
    "\n",
    "to_save = False\n",
    "\n",
    "#Define the Conditional GAN and training parameters\n",
    "\n",
    "noise_dim = 32\n",
    "dim = 128\n",
    "batch_size = 128\n",
    "beta_1 = 0.5\n",
    "beta_2 = 0.9\n",
    "\n",
    "log_step = 100\n",
    "epochs = 300 + 1\n",
    "learning_rate = 5e-4\n",
    "\n",
    "\n",
    "gan_args = ModelParameters(batch_size=batch_size,\n",
    "                           lr=learning_rate,\n",
    "                           betas=(beta_1, beta_2),\n",
    "                           noise_dim=noise_dim,\n",
    "                           n_cols=train_sample.shape[1] - 1,  # Don't count the label columns here\n",
    "                           layers_dim=dim)\n",
    "\n",
    "train_args = TrainParameters(epochs=epochs,\n",
    "                             cache_prefix='',\n",
    "                             sample_interval=log_step,\n",
    "                             label_dim=-1,\n",
    "                             labels=[0,1])\n",
    "\n",
    "num_classes = df[label_col].nunique()\n",
    "\n",
    "#Init the Conditional GAN providing the index of the label column as one of the arguments\n",
    "synthesizer = CGAN(model_parameters=gan_args, num_classes=num_classes)\n",
    "\n",
    "\n"
   ]
  },
  {
   "cell_type": "markdown",
   "metadata": {},
   "source": [
    "# Training\n"
   ]
  },
  {
   "cell_type": "code",
   "execution_count": 9,
   "metadata": {},
   "outputs": [
    {
     "name": "stdout",
     "output_type": "stream",
     "text": [
      "WARNING:tensorflow:AutoGraph could not transform <bound method GumbelSoftmaxLayer.call of <ydata_synthetic.utils.gumbel_softmax.GumbelSoftmaxLayer object at 0x7f092026a9a0>> and will run it as-is.\n",
      "Please report this to the TensorFlow team. When filing the bug, set the verbosity to 10 (on Linux, `export AUTOGRAPH_VERBOSITY=10`) and attach the full output.\n",
      "Cause: module 'gast' has no attribute 'Index'\n",
      "To silence this warning, decorate the function with @tf.autograph.experimental.do_not_convert\n",
      "WARNING: AutoGraph could not transform <bound method GumbelSoftmaxLayer.call of <ydata_synthetic.utils.gumbel_softmax.GumbelSoftmaxLayer object at 0x7f092026a9a0>> and will run it as-is.\n",
      "Please report this to the TensorFlow team. When filing the bug, set the verbosity to 10 (on Linux, `export AUTOGRAPH_VERBOSITY=10`) and attach the full output.\n",
      "Cause: module 'gast' has no attribute 'Index'\n",
      "To silence this warning, decorate the function with @tf.autograph.experimental.do_not_convert\n"
     ]
    },
    {
     "name": "stderr",
     "output_type": "stream",
     "text": [
      "2021-12-23 23:52:20.471594: I tensorflow/core/platform/cpu_feature_guard.cc:142] This TensorFlow binary is optimized with oneAPI Deep Neural Network Library (oneDNN) to use the following CPU instructions in performance-critical operations:  SSE4.1 SSE4.2 AVX AVX2 FMA\n",
      "To enable them in other operations, rebuild TensorFlow with the appropriate compiler flags.\n",
      "2021-12-23 23:52:20.472073: I tensorflow/stream_executor/cuda/cuda_gpu_executor.cc:941] successful NUMA node read from SysFS had negative value (-1), but there must be at least one NUMA node, so returning NUMA node zero\n",
      "2021-12-23 23:52:20.472541: I tensorflow/core/common_runtime/gpu/gpu_device.cc:1720] Found device 0 with properties: \n",
      "pciBusID: 0000:01:00.0 name: Quadro RTX 5000 with Max-Q Design computeCapability: 7.5\n",
      "coreClock: 1.35GHz coreCount: 48 deviceMemorySize: 15.74GiB deviceMemoryBandwidth: 357.69GiB/s\n",
      "2021-12-23 23:52:20.472568: I tensorflow/stream_executor/platform/default/dso_loader.cc:49] Successfully opened dynamic library libcudart.so.10.1\n",
      "2021-12-23 23:52:20.472591: I tensorflow/stream_executor/platform/default/dso_loader.cc:49] Successfully opened dynamic library libcublas.so.10\n",
      "2021-12-23 23:52:20.472603: I tensorflow/stream_executor/platform/default/dso_loader.cc:49] Successfully opened dynamic library libcublasLt.so.10\n",
      "2021-12-23 23:52:20.472613: I tensorflow/stream_executor/platform/default/dso_loader.cc:49] Successfully opened dynamic library libcufft.so.10\n",
      "2021-12-23 23:52:20.472624: I tensorflow/stream_executor/platform/default/dso_loader.cc:49] Successfully opened dynamic library libcurand.so.10\n",
      "2021-12-23 23:52:20.472635: I tensorflow/stream_executor/platform/default/dso_loader.cc:49] Successfully opened dynamic library libcusolver.so.10\n",
      "2021-12-23 23:52:20.472659: I tensorflow/stream_executor/platform/default/dso_loader.cc:49] Successfully opened dynamic library libcusparse.so.10\n",
      "2021-12-23 23:52:20.472691: I tensorflow/stream_executor/platform/default/dso_loader.cc:49] Successfully opened dynamic library libcudnn.so.7\n",
      "2021-12-23 23:52:20.472741: I tensorflow/stream_executor/cuda/cuda_gpu_executor.cc:941] successful NUMA node read from SysFS had negative value (-1), but there must be at least one NUMA node, so returning NUMA node zero\n",
      "2021-12-23 23:52:20.473128: I tensorflow/stream_executor/cuda/cuda_gpu_executor.cc:941] successful NUMA node read from SysFS had negative value (-1), but there must be at least one NUMA node, so returning NUMA node zero\n",
      "2021-12-23 23:52:20.473573: I tensorflow/core/common_runtime/gpu/gpu_device.cc:1862] Adding visible gpu devices: 0\n",
      "2021-12-23 23:52:20.473599: I tensorflow/stream_executor/platform/default/dso_loader.cc:49] Successfully opened dynamic library libcudart.so.10.1\n",
      "2021-12-23 23:52:20.810426: I tensorflow/core/common_runtime/gpu/gpu_device.cc:1261] Device interconnect StreamExecutor with strength 1 edge matrix:\n",
      "2021-12-23 23:52:20.810446: I tensorflow/core/common_runtime/gpu/gpu_device.cc:1267]      0 \n",
      "2021-12-23 23:52:20.810450: I tensorflow/core/common_runtime/gpu/gpu_device.cc:1280] 0:   N \n",
      "2021-12-23 23:52:20.810627: I tensorflow/stream_executor/cuda/cuda_gpu_executor.cc:941] successful NUMA node read from SysFS had negative value (-1), but there must be at least one NUMA node, so returning NUMA node zero\n",
      "2021-12-23 23:52:20.811029: I tensorflow/stream_executor/cuda/cuda_gpu_executor.cc:941] successful NUMA node read from SysFS had negative value (-1), but there must be at least one NUMA node, so returning NUMA node zero\n",
      "2021-12-23 23:52:20.811385: I tensorflow/stream_executor/cuda/cuda_gpu_executor.cc:941] successful NUMA node read from SysFS had negative value (-1), but there must be at least one NUMA node, so returning NUMA node zero\n",
      "2021-12-23 23:52:20.811746: I tensorflow/core/common_runtime/gpu/gpu_device.cc:1406] Created TensorFlow device (/job:localhost/replica:0/task:0/device:GPU:0 with 13966 MB memory) -> physical GPU (device: 0, name: Quadro RTX 5000 with Max-Q Design, pci bus id: 0000:01:00.0, compute capability: 7.5)\n",
      "2021-12-23 23:52:20.811860: I tensorflow/compiler/jit/xla_gpu_device.cc:99] Not creating XLA devices, tf_xla_enable_xla_devices not set\n",
      "2021-12-23 23:52:21.600309: I tensorflow/compiler/mlir/mlir_graph_optimization_pass.cc:116] None of the MLIR optimization passes are enabled (registered 2)\n",
      "2021-12-23 23:52:21.620174: I tensorflow/core/platform/profile_utils/cpu_utils.cc:112] CPU Frequency: 2699905000 Hz\n",
      "  0%|          | 0/301 [00:00<?, ?it/s]2021-12-23 23:52:21.656653: I tensorflow/stream_executor/platform/default/dso_loader.cc:49] Successfully opened dynamic library libcublas.so.10\n"
     ]
    },
    {
     "name": "stdout",
     "output_type": "stream",
     "text": [
      "0 [D loss: 0.655907, acc.: 99.22%] [G loss: 0.741741]\n"
     ]
    },
    {
     "name": "stderr",
     "output_type": "stream",
     "text": [
      "\n",
      "Synthetic data generation:   0%|          | 0/8 [00:00<?, ?it/s]\u001B[A\n",
      "Synthetic data generation:  38%|███▊      | 3/8 [00:00<00:00, 21.34it/s]\u001B[A\n",
      "Synthetic data generation: 100%|██████████| 8/8 [00:00<00:00, 21.37it/s]\u001B[A\n",
      "  1%|          | 2/301 [00:03<07:53,  1.58s/it]"
     ]
    },
    {
     "name": "stdout",
     "output_type": "stream",
     "text": [
      "1 [D loss: 0.451465, acc.: 99.61%] [G loss: 1.170604]\n"
     ]
    },
    {
     "name": "stderr",
     "output_type": "stream",
     "text": [
      "  1%|          | 3/301 [00:04<05:46,  1.16s/it]"
     ]
    },
    {
     "name": "stdout",
     "output_type": "stream",
     "text": [
      "2 [D loss: 0.162215, acc.: 99.22%] [G loss: 2.273936]\n"
     ]
    },
    {
     "name": "stderr",
     "output_type": "stream",
     "text": [
      "  1%|▏         | 4/301 [00:04<04:47,  1.03it/s]"
     ]
    },
    {
     "name": "stdout",
     "output_type": "stream",
     "text": [
      "3 [D loss: 0.036739, acc.: 100.00%] [G loss: 3.584677]\n"
     ]
    },
    {
     "name": "stderr",
     "output_type": "stream",
     "text": [
      "  2%|▏         | 5/301 [00:05<04:16,  1.15it/s]"
     ]
    },
    {
     "name": "stdout",
     "output_type": "stream",
     "text": [
      "4 [D loss: 0.014191, acc.: 100.00%] [G loss: 4.807055]\n"
     ]
    },
    {
     "name": "stderr",
     "output_type": "stream",
     "text": [
      "  2%|▏         | 6/301 [00:06<03:55,  1.25it/s]"
     ]
    },
    {
     "name": "stdout",
     "output_type": "stream",
     "text": [
      "5 [D loss: 0.004446, acc.: 100.00%] [G loss: 6.497498]\n"
     ]
    },
    {
     "name": "stderr",
     "output_type": "stream",
     "text": [
      "  2%|▏         | 7/301 [00:06<03:44,  1.31it/s]"
     ]
    },
    {
     "name": "stdout",
     "output_type": "stream",
     "text": [
      "6 [D loss: 0.001119, acc.: 100.00%] [G loss: 8.159185]\n"
     ]
    },
    {
     "name": "stderr",
     "output_type": "stream",
     "text": [
      "  3%|▎         | 8/301 [00:07<03:36,  1.36it/s]"
     ]
    },
    {
     "name": "stdout",
     "output_type": "stream",
     "text": [
      "7 [D loss: 0.000520, acc.: 100.00%] [G loss: 10.066328]\n"
     ]
    },
    {
     "name": "stderr",
     "output_type": "stream",
     "text": [
      "  3%|▎         | 9/301 [00:08<03:28,  1.40it/s]"
     ]
    },
    {
     "name": "stdout",
     "output_type": "stream",
     "text": [
      "8 [D loss: 0.001781, acc.: 100.00%] [G loss: 9.980767]\n"
     ]
    },
    {
     "name": "stderr",
     "output_type": "stream",
     "text": [
      "  3%|▎         | 10/301 [00:09<03:31,  1.38it/s]"
     ]
    },
    {
     "name": "stdout",
     "output_type": "stream",
     "text": [
      "9 [D loss: 0.002673, acc.: 100.00%] [G loss: 12.244883]\n"
     ]
    },
    {
     "name": "stderr",
     "output_type": "stream",
     "text": [
      "  4%|▎         | 11/301 [00:09<03:25,  1.41it/s]"
     ]
    },
    {
     "name": "stdout",
     "output_type": "stream",
     "text": [
      "10 [D loss: 0.000183, acc.: 100.00%] [G loss: 13.237000]\n"
     ]
    },
    {
     "name": "stderr",
     "output_type": "stream",
     "text": [
      "  4%|▍         | 12/301 [00:10<03:21,  1.44it/s]"
     ]
    },
    {
     "name": "stdout",
     "output_type": "stream",
     "text": [
      "11 [D loss: 0.000820, acc.: 100.00%] [G loss: 13.625892]\n"
     ]
    },
    {
     "name": "stderr",
     "output_type": "stream",
     "text": [
      "  4%|▍         | 13/301 [00:11<03:17,  1.46it/s]"
     ]
    },
    {
     "name": "stdout",
     "output_type": "stream",
     "text": [
      "12 [D loss: 0.000050, acc.: 100.00%] [G loss: 12.713737]\n"
     ]
    },
    {
     "name": "stderr",
     "output_type": "stream",
     "text": [
      "  5%|▍         | 14/301 [00:11<03:15,  1.47it/s]"
     ]
    },
    {
     "name": "stdout",
     "output_type": "stream",
     "text": [
      "13 [D loss: 0.000021, acc.: 100.00%] [G loss: 14.242548]\n"
     ]
    },
    {
     "name": "stderr",
     "output_type": "stream",
     "text": [
      "  5%|▍         | 15/301 [00:12<03:12,  1.49it/s]"
     ]
    },
    {
     "name": "stdout",
     "output_type": "stream",
     "text": [
      "14 [D loss: 0.002998, acc.: 99.61%] [G loss: 17.442102]\n"
     ]
    },
    {
     "name": "stderr",
     "output_type": "stream",
     "text": [
      "  5%|▌         | 16/301 [00:13<03:10,  1.50it/s]"
     ]
    },
    {
     "name": "stdout",
     "output_type": "stream",
     "text": [
      "15 [D loss: 0.000036, acc.: 100.00%] [G loss: 17.247448]\n"
     ]
    },
    {
     "name": "stderr",
     "output_type": "stream",
     "text": [
      "  6%|▌         | 17/301 [00:13<03:14,  1.46it/s]"
     ]
    },
    {
     "name": "stdout",
     "output_type": "stream",
     "text": [
      "16 [D loss: 0.000024, acc.: 100.00%] [G loss: 18.166237]\n"
     ]
    },
    {
     "name": "stderr",
     "output_type": "stream",
     "text": [
      "  6%|▌         | 18/301 [00:14<03:12,  1.47it/s]"
     ]
    },
    {
     "name": "stdout",
     "output_type": "stream",
     "text": [
      "17 [D loss: 0.001114, acc.: 100.00%] [G loss: 17.130838]\n"
     ]
    },
    {
     "name": "stderr",
     "output_type": "stream",
     "text": [
      "  6%|▋         | 19/301 [00:15<03:09,  1.49it/s]"
     ]
    },
    {
     "name": "stdout",
     "output_type": "stream",
     "text": [
      "18 [D loss: 0.000220, acc.: 100.00%] [G loss: 17.007950]\n"
     ]
    },
    {
     "name": "stderr",
     "output_type": "stream",
     "text": [
      "  7%|▋         | 20/301 [00:15<03:08,  1.49it/s]"
     ]
    },
    {
     "name": "stdout",
     "output_type": "stream",
     "text": [
      "19 [D loss: 0.000012, acc.: 100.00%] [G loss: 16.666927]\n"
     ]
    },
    {
     "name": "stderr",
     "output_type": "stream",
     "text": [
      "  7%|▋         | 21/301 [00:16<03:07,  1.49it/s]"
     ]
    },
    {
     "name": "stdout",
     "output_type": "stream",
     "text": [
      "20 [D loss: 0.001015, acc.: 100.00%] [G loss: 22.733418]\n"
     ]
    },
    {
     "name": "stderr",
     "output_type": "stream",
     "text": [
      "  7%|▋         | 22/301 [00:17<03:14,  1.43it/s]"
     ]
    },
    {
     "name": "stdout",
     "output_type": "stream",
     "text": [
      "21 [D loss: 0.000033, acc.: 100.00%] [G loss: 20.910519]\n"
     ]
    },
    {
     "name": "stderr",
     "output_type": "stream",
     "text": [
      "  8%|▊         | 23/301 [00:17<03:16,  1.41it/s]"
     ]
    },
    {
     "name": "stdout",
     "output_type": "stream",
     "text": [
      "22 [D loss: 0.000073, acc.: 100.00%] [G loss: 22.426533]\n"
     ]
    },
    {
     "name": "stderr",
     "output_type": "stream",
     "text": [
      "  8%|▊         | 24/301 [00:18<03:13,  1.43it/s]"
     ]
    },
    {
     "name": "stdout",
     "output_type": "stream",
     "text": [
      "23 [D loss: 0.000039, acc.: 100.00%] [G loss: 25.016211]\n"
     ]
    },
    {
     "name": "stderr",
     "output_type": "stream",
     "text": [
      "  8%|▊         | 25/301 [00:19<03:11,  1.44it/s]"
     ]
    },
    {
     "name": "stdout",
     "output_type": "stream",
     "text": [
      "24 [D loss: 0.006628, acc.: 99.61%] [G loss: 21.327402]\n"
     ]
    },
    {
     "name": "stderr",
     "output_type": "stream",
     "text": [
      "  9%|▊         | 26/301 [00:19<03:10,  1.45it/s]"
     ]
    },
    {
     "name": "stdout",
     "output_type": "stream",
     "text": [
      "25 [D loss: 0.000067, acc.: 100.00%] [G loss: 26.491461]\n"
     ]
    },
    {
     "name": "stderr",
     "output_type": "stream",
     "text": [
      "  9%|▉         | 27/301 [00:20<03:12,  1.42it/s]"
     ]
    },
    {
     "name": "stdout",
     "output_type": "stream",
     "text": [
      "26 [D loss: 0.012192, acc.: 99.61%] [G loss: 24.215912]\n"
     ]
    },
    {
     "name": "stderr",
     "output_type": "stream",
     "text": [
      "  9%|▉         | 28/301 [00:21<03:10,  1.43it/s]"
     ]
    },
    {
     "name": "stdout",
     "output_type": "stream",
     "text": [
      "27 [D loss: 0.006946, acc.: 99.61%] [G loss: 24.063051]\n"
     ]
    },
    {
     "name": "stderr",
     "output_type": "stream",
     "text": [
      " 10%|▉         | 29/301 [00:22<03:05,  1.46it/s]"
     ]
    },
    {
     "name": "stdout",
     "output_type": "stream",
     "text": [
      "28 [D loss: 0.000016, acc.: 100.00%] [G loss: 27.698441]\n"
     ]
    },
    {
     "name": "stderr",
     "output_type": "stream",
     "text": [
      " 10%|▉         | 30/301 [00:22<03:00,  1.50it/s]"
     ]
    },
    {
     "name": "stdout",
     "output_type": "stream",
     "text": [
      "29 [D loss: 0.000032, acc.: 100.00%] [G loss: 25.488211]\n"
     ]
    },
    {
     "name": "stderr",
     "output_type": "stream",
     "text": [
      " 10%|█         | 31/301 [00:23<02:58,  1.51it/s]"
     ]
    },
    {
     "name": "stdout",
     "output_type": "stream",
     "text": [
      "30 [D loss: 0.000021, acc.: 100.00%] [G loss: 19.518787]\n"
     ]
    },
    {
     "name": "stderr",
     "output_type": "stream",
     "text": [
      " 11%|█         | 32/301 [00:23<02:58,  1.51it/s]"
     ]
    },
    {
     "name": "stdout",
     "output_type": "stream",
     "text": [
      "31 [D loss: 0.000033, acc.: 100.00%] [G loss: 22.236423]\n"
     ]
    },
    {
     "name": "stderr",
     "output_type": "stream",
     "text": [
      " 11%|█         | 33/301 [00:24<03:00,  1.49it/s]"
     ]
    },
    {
     "name": "stdout",
     "output_type": "stream",
     "text": [
      "32 [D loss: 0.000010, acc.: 100.00%] [G loss: 28.336123]\n"
     ]
    },
    {
     "name": "stderr",
     "output_type": "stream",
     "text": [
      " 11%|█▏        | 34/301 [00:25<03:01,  1.47it/s]"
     ]
    },
    {
     "name": "stdout",
     "output_type": "stream",
     "text": [
      "33 [D loss: 0.000003, acc.: 100.00%] [G loss: 22.955685]\n"
     ]
    },
    {
     "name": "stderr",
     "output_type": "stream",
     "text": [
      " 12%|█▏        | 35/301 [00:26<03:02,  1.46it/s]"
     ]
    },
    {
     "name": "stdout",
     "output_type": "stream",
     "text": [
      "34 [D loss: 0.000004, acc.: 100.00%] [G loss: 29.896212]\n"
     ]
    },
    {
     "name": "stderr",
     "output_type": "stream",
     "text": [
      " 12%|█▏        | 36/301 [00:26<02:59,  1.47it/s]"
     ]
    },
    {
     "name": "stdout",
     "output_type": "stream",
     "text": [
      "35 [D loss: 0.000001, acc.: 100.00%] [G loss: 22.709183]\n"
     ]
    },
    {
     "name": "stderr",
     "output_type": "stream",
     "text": [
      " 12%|█▏        | 37/301 [00:27<02:57,  1.49it/s]"
     ]
    },
    {
     "name": "stdout",
     "output_type": "stream",
     "text": [
      "36 [D loss: 0.000019, acc.: 100.00%] [G loss: 27.817585]\n"
     ]
    },
    {
     "name": "stderr",
     "output_type": "stream",
     "text": [
      " 13%|█▎        | 38/301 [00:28<02:57,  1.48it/s]"
     ]
    },
    {
     "name": "stdout",
     "output_type": "stream",
     "text": [
      "37 [D loss: 0.000005, acc.: 100.00%] [G loss: 28.649330]\n"
     ]
    },
    {
     "name": "stderr",
     "output_type": "stream",
     "text": [
      " 13%|█▎        | 39/301 [00:28<03:03,  1.43it/s]"
     ]
    },
    {
     "name": "stdout",
     "output_type": "stream",
     "text": [
      "38 [D loss: 0.000023, acc.: 100.00%] [G loss: 32.750031]\n"
     ]
    },
    {
     "name": "stderr",
     "output_type": "stream",
     "text": [
      " 13%|█▎        | 40/301 [00:29<03:00,  1.45it/s]"
     ]
    },
    {
     "name": "stdout",
     "output_type": "stream",
     "text": [
      "39 [D loss: 0.000006, acc.: 100.00%] [G loss: 32.698315]\n"
     ]
    },
    {
     "name": "stderr",
     "output_type": "stream",
     "text": [
      " 14%|█▎        | 41/301 [00:30<02:59,  1.45it/s]"
     ]
    },
    {
     "name": "stdout",
     "output_type": "stream",
     "text": [
      "40 [D loss: 0.001053, acc.: 100.00%] [G loss: 32.069218]\n"
     ]
    },
    {
     "name": "stderr",
     "output_type": "stream",
     "text": [
      " 14%|█▍        | 42/301 [00:30<02:59,  1.45it/s]"
     ]
    },
    {
     "name": "stdout",
     "output_type": "stream",
     "text": [
      "41 [D loss: 0.000014, acc.: 100.00%] [G loss: 28.223373]\n"
     ]
    },
    {
     "name": "stderr",
     "output_type": "stream",
     "text": [
      " 14%|█▍        | 43/301 [00:31<02:58,  1.45it/s]"
     ]
    },
    {
     "name": "stdout",
     "output_type": "stream",
     "text": [
      "42 [D loss: 0.000431, acc.: 100.00%] [G loss: 29.030159]\n"
     ]
    },
    {
     "name": "stderr",
     "output_type": "stream",
     "text": [
      " 15%|█▍        | 44/301 [00:32<02:54,  1.47it/s]"
     ]
    },
    {
     "name": "stdout",
     "output_type": "stream",
     "text": [
      "43 [D loss: 0.000022, acc.: 100.00%] [G loss: 38.583542]\n"
     ]
    },
    {
     "name": "stderr",
     "output_type": "stream",
     "text": [
      " 15%|█▍        | 45/301 [00:32<02:59,  1.43it/s]"
     ]
    },
    {
     "name": "stdout",
     "output_type": "stream",
     "text": [
      "44 [D loss: 0.000026, acc.: 100.00%] [G loss: 39.059566]\n"
     ]
    },
    {
     "name": "stderr",
     "output_type": "stream",
     "text": [
      " 15%|█▌        | 46/301 [00:33<03:05,  1.38it/s]"
     ]
    },
    {
     "name": "stdout",
     "output_type": "stream",
     "text": [
      "45 [D loss: 0.000003, acc.: 100.00%] [G loss: 34.840302]\n"
     ]
    },
    {
     "name": "stderr",
     "output_type": "stream",
     "text": [
      " 16%|█▌        | 47/301 [00:34<02:59,  1.41it/s]"
     ]
    },
    {
     "name": "stdout",
     "output_type": "stream",
     "text": [
      "46 [D loss: 0.000001, acc.: 100.00%] [G loss: 28.980635]\n"
     ]
    },
    {
     "name": "stderr",
     "output_type": "stream",
     "text": [
      " 16%|█▌        | 48/301 [00:35<02:57,  1.43it/s]"
     ]
    },
    {
     "name": "stdout",
     "output_type": "stream",
     "text": [
      "47 [D loss: 0.000002, acc.: 100.00%] [G loss: 37.831657]\n"
     ]
    },
    {
     "name": "stderr",
     "output_type": "stream",
     "text": [
      " 16%|█▋        | 49/301 [00:35<02:55,  1.44it/s]"
     ]
    },
    {
     "name": "stdout",
     "output_type": "stream",
     "text": [
      "48 [D loss: 0.000001, acc.: 100.00%] [G loss: 33.337654]\n"
     ]
    },
    {
     "name": "stderr",
     "output_type": "stream",
     "text": [
      " 17%|█▋        | 50/301 [00:36<02:58,  1.40it/s]"
     ]
    },
    {
     "name": "stdout",
     "output_type": "stream",
     "text": [
      "49 [D loss: 0.000001, acc.: 100.00%] [G loss: 37.028282]\n"
     ]
    },
    {
     "name": "stderr",
     "output_type": "stream",
     "text": [
      " 17%|█▋        | 51/301 [00:37<02:57,  1.41it/s]"
     ]
    },
    {
     "name": "stdout",
     "output_type": "stream",
     "text": [
      "50 [D loss: 0.000005, acc.: 100.00%] [G loss: 38.236107]\n"
     ]
    },
    {
     "name": "stderr",
     "output_type": "stream",
     "text": [
      " 17%|█▋        | 52/301 [00:37<02:54,  1.43it/s]"
     ]
    },
    {
     "name": "stdout",
     "output_type": "stream",
     "text": [
      "51 [D loss: 0.000002, acc.: 100.00%] [G loss: 36.765236]\n"
     ]
    },
    {
     "name": "stderr",
     "output_type": "stream",
     "text": [
      " 18%|█▊        | 53/301 [00:38<02:53,  1.43it/s]"
     ]
    },
    {
     "name": "stdout",
     "output_type": "stream",
     "text": [
      "52 [D loss: 0.000004, acc.: 100.00%] [G loss: 32.958145]\n"
     ]
    },
    {
     "name": "stderr",
     "output_type": "stream",
     "text": [
      " 18%|█▊        | 54/301 [00:39<02:55,  1.40it/s]"
     ]
    },
    {
     "name": "stdout",
     "output_type": "stream",
     "text": [
      "53 [D loss: 0.000021, acc.: 100.00%] [G loss: 40.060196]\n"
     ]
    },
    {
     "name": "stderr",
     "output_type": "stream",
     "text": [
      " 18%|█▊        | 55/301 [00:40<02:53,  1.42it/s]"
     ]
    },
    {
     "name": "stdout",
     "output_type": "stream",
     "text": [
      "54 [D loss: 0.000029, acc.: 100.00%] [G loss: 37.856758]\n"
     ]
    },
    {
     "name": "stderr",
     "output_type": "stream",
     "text": [
      " 19%|█▊        | 56/301 [00:40<02:56,  1.39it/s]"
     ]
    },
    {
     "name": "stdout",
     "output_type": "stream",
     "text": [
      "55 [D loss: 0.000014, acc.: 100.00%] [G loss: 35.281784]\n"
     ]
    },
    {
     "name": "stderr",
     "output_type": "stream",
     "text": [
      " 19%|█▉        | 57/301 [00:41<02:54,  1.39it/s]"
     ]
    },
    {
     "name": "stdout",
     "output_type": "stream",
     "text": [
      "56 [D loss: 0.000004, acc.: 100.00%] [G loss: 35.956154]\n"
     ]
    },
    {
     "name": "stderr",
     "output_type": "stream",
     "text": [
      " 19%|█▉        | 58/301 [00:42<02:51,  1.42it/s]"
     ]
    },
    {
     "name": "stdout",
     "output_type": "stream",
     "text": [
      "57 [D loss: 0.000001, acc.: 100.00%] [G loss: 39.691204]\n"
     ]
    },
    {
     "name": "stderr",
     "output_type": "stream",
     "text": [
      " 20%|█▉        | 59/301 [00:42<02:48,  1.44it/s]"
     ]
    },
    {
     "name": "stdout",
     "output_type": "stream",
     "text": [
      "58 [D loss: 0.000923, acc.: 100.00%] [G loss: 36.712223]\n"
     ]
    },
    {
     "name": "stderr",
     "output_type": "stream",
     "text": [
      " 20%|█▉        | 60/301 [00:43<02:46,  1.45it/s]"
     ]
    },
    {
     "name": "stdout",
     "output_type": "stream",
     "text": [
      "59 [D loss: 0.000001, acc.: 100.00%] [G loss: 42.518978]\n"
     ]
    },
    {
     "name": "stderr",
     "output_type": "stream",
     "text": [
      " 20%|██        | 61/301 [00:44<02:43,  1.47it/s]"
     ]
    },
    {
     "name": "stdout",
     "output_type": "stream",
     "text": [
      "60 [D loss: 0.000002, acc.: 100.00%] [G loss: 43.006729]\n"
     ]
    },
    {
     "name": "stderr",
     "output_type": "stream",
     "text": [
      " 21%|██        | 62/301 [00:44<02:41,  1.48it/s]"
     ]
    },
    {
     "name": "stdout",
     "output_type": "stream",
     "text": [
      "61 [D loss: 0.000001, acc.: 100.00%] [G loss: 39.254230]\n"
     ]
    },
    {
     "name": "stderr",
     "output_type": "stream",
     "text": [
      " 21%|██        | 63/301 [00:45<02:40,  1.48it/s]"
     ]
    },
    {
     "name": "stdout",
     "output_type": "stream",
     "text": [
      "62 [D loss: 0.000001, acc.: 100.00%] [G loss: 46.336395]\n"
     ]
    },
    {
     "name": "stderr",
     "output_type": "stream",
     "text": [
      " 21%|██▏       | 64/301 [00:46<02:42,  1.46it/s]"
     ]
    },
    {
     "name": "stdout",
     "output_type": "stream",
     "text": [
      "63 [D loss: 0.000002, acc.: 100.00%] [G loss: 43.087036]\n"
     ]
    },
    {
     "name": "stderr",
     "output_type": "stream",
     "text": [
      " 22%|██▏       | 65/301 [00:46<02:42,  1.45it/s]"
     ]
    },
    {
     "name": "stdout",
     "output_type": "stream",
     "text": [
      "64 [D loss: 0.000001, acc.: 100.00%] [G loss: 42.454243]\n"
     ]
    },
    {
     "name": "stderr",
     "output_type": "stream",
     "text": [
      " 22%|██▏       | 66/301 [00:47<02:39,  1.48it/s]"
     ]
    },
    {
     "name": "stdout",
     "output_type": "stream",
     "text": [
      "65 [D loss: 0.000006, acc.: 100.00%] [G loss: 46.721634]\n"
     ]
    },
    {
     "name": "stderr",
     "output_type": "stream",
     "text": [
      " 22%|██▏       | 67/301 [00:48<02:37,  1.48it/s]"
     ]
    },
    {
     "name": "stdout",
     "output_type": "stream",
     "text": [
      "66 [D loss: 0.000002, acc.: 100.00%] [G loss: 46.870956]\n"
     ]
    },
    {
     "name": "stderr",
     "output_type": "stream",
     "text": [
      " 23%|██▎       | 68/301 [00:49<02:43,  1.43it/s]"
     ]
    },
    {
     "name": "stdout",
     "output_type": "stream",
     "text": [
      "67 [D loss: 0.000002, acc.: 100.00%] [G loss: 32.609280]\n"
     ]
    },
    {
     "name": "stderr",
     "output_type": "stream",
     "text": [
      " 23%|██▎       | 69/301 [00:49<02:44,  1.41it/s]"
     ]
    },
    {
     "name": "stdout",
     "output_type": "stream",
     "text": [
      "68 [D loss: 0.000031, acc.: 100.00%] [G loss: 47.922226]\n"
     ]
    },
    {
     "name": "stderr",
     "output_type": "stream",
     "text": [
      " 23%|██▎       | 70/301 [00:50<02:42,  1.43it/s]"
     ]
    },
    {
     "name": "stdout",
     "output_type": "stream",
     "text": [
      "69 [D loss: 0.000398, acc.: 100.00%] [G loss: 47.282150]\n"
     ]
    },
    {
     "name": "stderr",
     "output_type": "stream",
     "text": [
      " 24%|██▎       | 71/301 [00:51<02:39,  1.44it/s]"
     ]
    },
    {
     "name": "stdout",
     "output_type": "stream",
     "text": [
      "70 [D loss: 0.000002, acc.: 100.00%] [G loss: 45.533112]\n"
     ]
    },
    {
     "name": "stderr",
     "output_type": "stream",
     "text": [
      " 24%|██▍       | 72/301 [00:51<02:39,  1.43it/s]"
     ]
    },
    {
     "name": "stdout",
     "output_type": "stream",
     "text": [
      "71 [D loss: 0.000002, acc.: 100.00%] [G loss: 44.623528]\n"
     ]
    },
    {
     "name": "stderr",
     "output_type": "stream",
     "text": [
      " 24%|██▍       | 73/301 [00:52<02:40,  1.42it/s]"
     ]
    },
    {
     "name": "stdout",
     "output_type": "stream",
     "text": [
      "72 [D loss: 0.000001, acc.: 100.00%] [G loss: 44.239426]\n"
     ]
    },
    {
     "name": "stderr",
     "output_type": "stream",
     "text": [
      " 25%|██▍       | 74/301 [00:53<02:38,  1.43it/s]"
     ]
    },
    {
     "name": "stdout",
     "output_type": "stream",
     "text": [
      "73 [D loss: 0.000000, acc.: 100.00%] [G loss: 40.488823]\n"
     ]
    },
    {
     "name": "stderr",
     "output_type": "stream",
     "text": [
      " 25%|██▍       | 75/301 [00:53<02:35,  1.45it/s]"
     ]
    },
    {
     "name": "stdout",
     "output_type": "stream",
     "text": [
      "74 [D loss: 0.000001, acc.: 100.00%] [G loss: 45.274082]\n"
     ]
    },
    {
     "name": "stderr",
     "output_type": "stream",
     "text": [
      " 25%|██▌       | 76/301 [00:54<02:34,  1.45it/s]"
     ]
    },
    {
     "name": "stdout",
     "output_type": "stream",
     "text": [
      "75 [D loss: 0.000017, acc.: 100.00%] [G loss: 45.309071]\n"
     ]
    },
    {
     "name": "stderr",
     "output_type": "stream",
     "text": [
      " 26%|██▌       | 77/301 [00:55<02:32,  1.47it/s]"
     ]
    },
    {
     "name": "stdout",
     "output_type": "stream",
     "text": [
      "76 [D loss: 0.000012, acc.: 100.00%] [G loss: 42.933369]\n"
     ]
    },
    {
     "name": "stderr",
     "output_type": "stream",
     "text": [
      " 26%|██▌       | 78/301 [00:55<02:32,  1.46it/s]"
     ]
    },
    {
     "name": "stdout",
     "output_type": "stream",
     "text": [
      "77 [D loss: 0.000004, acc.: 100.00%] [G loss: 51.465816]\n"
     ]
    },
    {
     "name": "stderr",
     "output_type": "stream",
     "text": [
      " 26%|██▌       | 79/301 [00:56<02:32,  1.45it/s]"
     ]
    },
    {
     "name": "stdout",
     "output_type": "stream",
     "text": [
      "78 [D loss: 0.000001, acc.: 100.00%] [G loss: 49.269737]\n"
     ]
    },
    {
     "name": "stderr",
     "output_type": "stream",
     "text": [
      " 27%|██▋       | 80/301 [00:57<02:31,  1.46it/s]"
     ]
    },
    {
     "name": "stdout",
     "output_type": "stream",
     "text": [
      "79 [D loss: 0.000063, acc.: 100.00%] [G loss: 58.893871]\n"
     ]
    },
    {
     "name": "stderr",
     "output_type": "stream",
     "text": [
      " 27%|██▋       | 81/301 [00:58<02:32,  1.44it/s]"
     ]
    },
    {
     "name": "stdout",
     "output_type": "stream",
     "text": [
      "80 [D loss: 0.000001, acc.: 100.00%] [G loss: 51.981594]\n"
     ]
    },
    {
     "name": "stderr",
     "output_type": "stream",
     "text": [
      " 27%|██▋       | 82/301 [00:58<02:30,  1.45it/s]"
     ]
    },
    {
     "name": "stdout",
     "output_type": "stream",
     "text": [
      "81 [D loss: 0.000001, acc.: 100.00%] [G loss: 59.121742]\n"
     ]
    },
    {
     "name": "stderr",
     "output_type": "stream",
     "text": [
      " 28%|██▊       | 83/301 [00:59<02:29,  1.46it/s]"
     ]
    },
    {
     "name": "stdout",
     "output_type": "stream",
     "text": [
      "82 [D loss: 0.000003, acc.: 100.00%] [G loss: 52.048893]\n"
     ]
    },
    {
     "name": "stderr",
     "output_type": "stream",
     "text": [
      " 28%|██▊       | 84/301 [01:00<02:30,  1.44it/s]"
     ]
    },
    {
     "name": "stdout",
     "output_type": "stream",
     "text": [
      "83 [D loss: 0.000002, acc.: 100.00%] [G loss: 49.597603]\n"
     ]
    },
    {
     "name": "stderr",
     "output_type": "stream",
     "text": [
      " 28%|██▊       | 85/301 [01:00<02:33,  1.40it/s]"
     ]
    },
    {
     "name": "stdout",
     "output_type": "stream",
     "text": [
      "84 [D loss: 0.000138, acc.: 100.00%] [G loss: 47.387894]\n"
     ]
    },
    {
     "name": "stderr",
     "output_type": "stream",
     "text": [
      " 29%|██▊       | 86/301 [01:01<02:33,  1.40it/s]"
     ]
    },
    {
     "name": "stdout",
     "output_type": "stream",
     "text": [
      "85 [D loss: 0.000002, acc.: 100.00%] [G loss: 52.037743]\n"
     ]
    },
    {
     "name": "stderr",
     "output_type": "stream",
     "text": [
      " 29%|██▉       | 87/301 [01:02<02:29,  1.43it/s]"
     ]
    },
    {
     "name": "stdout",
     "output_type": "stream",
     "text": [
      "86 [D loss: 0.000001, acc.: 100.00%] [G loss: 54.911018]\n"
     ]
    },
    {
     "name": "stderr",
     "output_type": "stream",
     "text": [
      " 29%|██▉       | 88/301 [01:02<02:28,  1.44it/s]"
     ]
    },
    {
     "name": "stdout",
     "output_type": "stream",
     "text": [
      "87 [D loss: 0.000002, acc.: 100.00%] [G loss: 51.666309]\n"
     ]
    },
    {
     "name": "stderr",
     "output_type": "stream",
     "text": [
      " 30%|██▉       | 89/301 [01:03<02:25,  1.45it/s]"
     ]
    },
    {
     "name": "stdout",
     "output_type": "stream",
     "text": [
      "88 [D loss: 0.000091, acc.: 100.00%] [G loss: 55.100719]\n"
     ]
    },
    {
     "name": "stderr",
     "output_type": "stream",
     "text": [
      " 30%|██▉       | 90/301 [01:04<02:24,  1.46it/s]"
     ]
    },
    {
     "name": "stdout",
     "output_type": "stream",
     "text": [
      "89 [D loss: 0.000001, acc.: 100.00%] [G loss: 51.573845]\n"
     ]
    },
    {
     "name": "stderr",
     "output_type": "stream",
     "text": [
      " 30%|███       | 91/301 [01:04<02:23,  1.47it/s]"
     ]
    },
    {
     "name": "stdout",
     "output_type": "stream",
     "text": [
      "90 [D loss: 0.000002, acc.: 100.00%] [G loss: 53.539192]\n"
     ]
    },
    {
     "name": "stderr",
     "output_type": "stream",
     "text": [
      " 31%|███       | 92/301 [01:05<02:23,  1.46it/s]"
     ]
    },
    {
     "name": "stdout",
     "output_type": "stream",
     "text": [
      "91 [D loss: 0.000000, acc.: 100.00%] [G loss: 57.487507]\n"
     ]
    },
    {
     "name": "stderr",
     "output_type": "stream",
     "text": [
      " 31%|███       | 93/301 [01:06<02:24,  1.44it/s]"
     ]
    },
    {
     "name": "stdout",
     "output_type": "stream",
     "text": [
      "92 [D loss: 0.000001, acc.: 100.00%] [G loss: 56.037640]\n"
     ]
    },
    {
     "name": "stderr",
     "output_type": "stream",
     "text": [
      " 31%|███       | 94/301 [01:07<02:24,  1.43it/s]"
     ]
    },
    {
     "name": "stdout",
     "output_type": "stream",
     "text": [
      "93 [D loss: 0.000002, acc.: 100.00%] [G loss: 56.344791]\n"
     ]
    },
    {
     "name": "stderr",
     "output_type": "stream",
     "text": [
      " 32%|███▏      | 95/301 [01:07<02:23,  1.43it/s]"
     ]
    },
    {
     "name": "stdout",
     "output_type": "stream",
     "text": [
      "94 [D loss: 0.000001, acc.: 100.00%] [G loss: 52.400948]\n"
     ]
    },
    {
     "name": "stderr",
     "output_type": "stream",
     "text": [
      " 32%|███▏      | 96/301 [01:08<02:23,  1.43it/s]"
     ]
    },
    {
     "name": "stdout",
     "output_type": "stream",
     "text": [
      "95 [D loss: 0.000001, acc.: 100.00%] [G loss: 51.701004]\n"
     ]
    },
    {
     "name": "stderr",
     "output_type": "stream",
     "text": [
      " 32%|███▏      | 97/301 [01:09<02:22,  1.43it/s]"
     ]
    },
    {
     "name": "stdout",
     "output_type": "stream",
     "text": [
      "96 [D loss: 0.000017, acc.: 100.00%] [G loss: 48.868645]\n"
     ]
    },
    {
     "name": "stderr",
     "output_type": "stream",
     "text": [
      " 33%|███▎      | 98/301 [01:09<02:21,  1.44it/s]"
     ]
    },
    {
     "name": "stdout",
     "output_type": "stream",
     "text": [
      "97 [D loss: 0.000330, acc.: 100.00%] [G loss: 49.037273]\n"
     ]
    },
    {
     "name": "stderr",
     "output_type": "stream",
     "text": [
      " 33%|███▎      | 99/301 [01:10<02:19,  1.44it/s]"
     ]
    },
    {
     "name": "stdout",
     "output_type": "stream",
     "text": [
      "98 [D loss: 0.000025, acc.: 100.00%] [G loss: 60.615284]\n"
     ]
    },
    {
     "name": "stderr",
     "output_type": "stream",
     "text": [
      " 33%|███▎      | 100/301 [01:11<02:17,  1.46it/s]"
     ]
    },
    {
     "name": "stdout",
     "output_type": "stream",
     "text": [
      "99 [D loss: 0.000008, acc.: 100.00%] [G loss: 44.039680]\n",
      "100 [D loss: 0.000006, acc.: 100.00%] [G loss: 58.333115]\n"
     ]
    },
    {
     "name": "stderr",
     "output_type": "stream",
     "text": [
      "\n",
      "Synthetic data generation:   0%|          | 0/8 [00:00<?, ?it/s]\u001B[A\n",
      "Synthetic data generation:  25%|██▌       | 2/8 [00:00<00:00, 19.90it/s]\u001B[A\n",
      "Synthetic data generation:  62%|██████▎   | 5/8 [00:00<00:00, 20.95it/s]\u001B[A\n",
      "Synthetic data generation: 100%|██████████| 8/8 [00:00<00:00, 20.76it/s]\u001B[A\n",
      " 34%|███▍      | 102/301 [01:12<02:34,  1.28it/s]"
     ]
    },
    {
     "name": "stdout",
     "output_type": "stream",
     "text": [
      "101 [D loss: 0.000353, acc.: 100.00%] [G loss: 58.223011]\n"
     ]
    },
    {
     "name": "stderr",
     "output_type": "stream",
     "text": [
      " 34%|███▍      | 103/301 [01:13<02:30,  1.32it/s]"
     ]
    },
    {
     "name": "stdout",
     "output_type": "stream",
     "text": [
      "102 [D loss: 0.000005, acc.: 100.00%] [G loss: 62.671947]\n"
     ]
    },
    {
     "name": "stderr",
     "output_type": "stream",
     "text": [
      " 35%|███▍      | 104/301 [01:14<02:25,  1.36it/s]"
     ]
    },
    {
     "name": "stdout",
     "output_type": "stream",
     "text": [
      "103 [D loss: 0.000003, acc.: 100.00%] [G loss: 57.514793]\n"
     ]
    },
    {
     "name": "stderr",
     "output_type": "stream",
     "text": [
      " 35%|███▍      | 105/301 [01:15<02:22,  1.38it/s]"
     ]
    },
    {
     "name": "stdout",
     "output_type": "stream",
     "text": [
      "104 [D loss: 0.000003, acc.: 100.00%] [G loss: 58.898155]\n"
     ]
    },
    {
     "name": "stderr",
     "output_type": "stream",
     "text": [
      " 35%|███▌      | 106/301 [01:15<02:20,  1.39it/s]"
     ]
    },
    {
     "name": "stdout",
     "output_type": "stream",
     "text": [
      "105 [D loss: 0.000002, acc.: 100.00%] [G loss: 57.926384]\n"
     ]
    },
    {
     "name": "stderr",
     "output_type": "stream",
     "text": [
      " 36%|███▌      | 107/301 [01:16<02:17,  1.41it/s]"
     ]
    },
    {
     "name": "stdout",
     "output_type": "stream",
     "text": [
      "106 [D loss: 0.000043, acc.: 100.00%] [G loss: 70.821732]\n"
     ]
    },
    {
     "name": "stderr",
     "output_type": "stream",
     "text": [
      " 36%|███▌      | 108/301 [01:17<02:17,  1.41it/s]"
     ]
    },
    {
     "name": "stdout",
     "output_type": "stream",
     "text": [
      "107 [D loss: 0.000302, acc.: 100.00%] [G loss: 64.770645]\n"
     ]
    },
    {
     "name": "stderr",
     "output_type": "stream",
     "text": [
      " 36%|███▌      | 109/301 [01:17<02:15,  1.41it/s]"
     ]
    },
    {
     "name": "stdout",
     "output_type": "stream",
     "text": [
      "108 [D loss: 0.000029, acc.: 100.00%] [G loss: 62.730038]\n"
     ]
    },
    {
     "name": "stderr",
     "output_type": "stream",
     "text": [
      " 37%|███▋      | 110/301 [01:18<02:14,  1.42it/s]"
     ]
    },
    {
     "name": "stdout",
     "output_type": "stream",
     "text": [
      "109 [D loss: 0.014832, acc.: 99.61%] [G loss: 59.891304]\n"
     ]
    },
    {
     "name": "stderr",
     "output_type": "stream",
     "text": [
      " 37%|███▋      | 111/301 [01:19<02:11,  1.45it/s]"
     ]
    },
    {
     "name": "stdout",
     "output_type": "stream",
     "text": [
      "110 [D loss: 0.000004, acc.: 100.00%] [G loss: 69.098351]\n"
     ]
    },
    {
     "name": "stderr",
     "output_type": "stream",
     "text": [
      " 37%|███▋      | 112/301 [01:19<02:08,  1.47it/s]"
     ]
    },
    {
     "name": "stdout",
     "output_type": "stream",
     "text": [
      "111 [D loss: 0.000001, acc.: 100.00%] [G loss: 67.586250]\n"
     ]
    },
    {
     "name": "stderr",
     "output_type": "stream",
     "text": [
      " 38%|███▊      | 113/301 [01:20<02:07,  1.48it/s]"
     ]
    },
    {
     "name": "stdout",
     "output_type": "stream",
     "text": [
      "112 [D loss: 0.000001, acc.: 100.00%] [G loss: 65.556343]\n"
     ]
    },
    {
     "name": "stderr",
     "output_type": "stream",
     "text": [
      " 38%|███▊      | 114/301 [01:21<02:06,  1.48it/s]"
     ]
    },
    {
     "name": "stdout",
     "output_type": "stream",
     "text": [
      "113 [D loss: 0.000001, acc.: 100.00%] [G loss: 77.065514]\n"
     ]
    },
    {
     "name": "stderr",
     "output_type": "stream",
     "text": [
      " 38%|███▊      | 115/301 [01:21<02:04,  1.49it/s]"
     ]
    },
    {
     "name": "stdout",
     "output_type": "stream",
     "text": [
      "114 [D loss: 0.000004, acc.: 100.00%] [G loss: 66.813309]\n"
     ]
    },
    {
     "name": "stderr",
     "output_type": "stream",
     "text": [
      " 39%|███▊      | 116/301 [01:22<02:03,  1.50it/s]"
     ]
    },
    {
     "name": "stdout",
     "output_type": "stream",
     "text": [
      "115 [D loss: 0.019241, acc.: 99.61%] [G loss: 70.190674]\n"
     ]
    },
    {
     "name": "stderr",
     "output_type": "stream",
     "text": [
      " 39%|███▉      | 117/301 [01:23<02:03,  1.49it/s]"
     ]
    },
    {
     "name": "stdout",
     "output_type": "stream",
     "text": [
      "116 [D loss: 0.000015, acc.: 100.00%] [G loss: 63.202530]\n"
     ]
    },
    {
     "name": "stderr",
     "output_type": "stream",
     "text": [
      " 39%|███▉      | 118/301 [01:23<02:01,  1.50it/s]"
     ]
    },
    {
     "name": "stdout",
     "output_type": "stream",
     "text": [
      "117 [D loss: 0.000004, acc.: 100.00%] [G loss: 73.319183]\n"
     ]
    },
    {
     "name": "stderr",
     "output_type": "stream",
     "text": [
      " 40%|███▉      | 119/301 [01:24<02:00,  1.51it/s]"
     ]
    },
    {
     "name": "stdout",
     "output_type": "stream",
     "text": [
      "118 [D loss: 0.000041, acc.: 100.00%] [G loss: 74.217804]\n"
     ]
    },
    {
     "name": "stderr",
     "output_type": "stream",
     "text": [
      " 40%|███▉      | 120/301 [01:25<02:00,  1.51it/s]"
     ]
    },
    {
     "name": "stdout",
     "output_type": "stream",
     "text": [
      "119 [D loss: 0.000003, acc.: 100.00%] [G loss: 65.711159]\n"
     ]
    },
    {
     "name": "stderr",
     "output_type": "stream",
     "text": [
      " 40%|████      | 121/301 [01:25<01:59,  1.50it/s]"
     ]
    },
    {
     "name": "stdout",
     "output_type": "stream",
     "text": [
      "120 [D loss: 0.000003, acc.: 100.00%] [G loss: 54.197243]\n"
     ]
    },
    {
     "name": "stderr",
     "output_type": "stream",
     "text": [
      " 41%|████      | 122/301 [01:26<01:58,  1.50it/s]"
     ]
    },
    {
     "name": "stdout",
     "output_type": "stream",
     "text": [
      "121 [D loss: 0.000002, acc.: 100.00%] [G loss: 57.579002]\n"
     ]
    },
    {
     "name": "stderr",
     "output_type": "stream",
     "text": [
      " 41%|████      | 123/301 [01:27<01:58,  1.51it/s]"
     ]
    },
    {
     "name": "stdout",
     "output_type": "stream",
     "text": [
      "122 [D loss: 0.000001, acc.: 100.00%] [G loss: 61.504921]\n"
     ]
    },
    {
     "name": "stderr",
     "output_type": "stream",
     "text": [
      " 41%|████      | 124/301 [01:27<01:57,  1.51it/s]"
     ]
    },
    {
     "name": "stdout",
     "output_type": "stream",
     "text": [
      "123 [D loss: 0.000001, acc.: 100.00%] [G loss: 63.417923]\n"
     ]
    },
    {
     "name": "stderr",
     "output_type": "stream",
     "text": [
      " 42%|████▏     | 125/301 [01:28<01:56,  1.51it/s]"
     ]
    },
    {
     "name": "stdout",
     "output_type": "stream",
     "text": [
      "124 [D loss: 0.000000, acc.: 100.00%] [G loss: 74.957932]\n"
     ]
    },
    {
     "name": "stderr",
     "output_type": "stream",
     "text": [
      " 42%|████▏     | 126/301 [01:29<01:55,  1.51it/s]"
     ]
    },
    {
     "name": "stdout",
     "output_type": "stream",
     "text": [
      "125 [D loss: 0.000000, acc.: 100.00%] [G loss: 72.021965]\n"
     ]
    },
    {
     "name": "stderr",
     "output_type": "stream",
     "text": [
      " 42%|████▏     | 127/301 [01:29<01:54,  1.52it/s]"
     ]
    },
    {
     "name": "stdout",
     "output_type": "stream",
     "text": [
      "126 [D loss: 0.000174, acc.: 100.00%] [G loss: 71.971390]\n"
     ]
    },
    {
     "name": "stderr",
     "output_type": "stream",
     "text": [
      " 43%|████▎     | 128/301 [01:30<01:55,  1.50it/s]"
     ]
    },
    {
     "name": "stdout",
     "output_type": "stream",
     "text": [
      "127 [D loss: 0.000000, acc.: 100.00%] [G loss: 81.626038]\n"
     ]
    },
    {
     "name": "stderr",
     "output_type": "stream",
     "text": [
      " 43%|████▎     | 129/301 [01:31<01:54,  1.50it/s]"
     ]
    },
    {
     "name": "stdout",
     "output_type": "stream",
     "text": [
      "128 [D loss: 0.000000, acc.: 100.00%] [G loss: 64.771645]\n"
     ]
    },
    {
     "name": "stderr",
     "output_type": "stream",
     "text": [
      " 43%|████▎     | 130/301 [01:31<01:53,  1.50it/s]"
     ]
    },
    {
     "name": "stdout",
     "output_type": "stream",
     "text": [
      "129 [D loss: 0.000000, acc.: 100.00%] [G loss: 87.674232]\n"
     ]
    },
    {
     "name": "stderr",
     "output_type": "stream",
     "text": [
      " 44%|████▎     | 131/301 [01:32<01:52,  1.51it/s]"
     ]
    },
    {
     "name": "stdout",
     "output_type": "stream",
     "text": [
      "130 [D loss: 0.000012, acc.: 100.00%] [G loss: 84.214203]\n"
     ]
    },
    {
     "name": "stderr",
     "output_type": "stream",
     "text": [
      " 44%|████▍     | 132/301 [01:33<01:50,  1.53it/s]"
     ]
    },
    {
     "name": "stdout",
     "output_type": "stream",
     "text": [
      "131 [D loss: 0.000000, acc.: 100.00%] [G loss: 81.983887]\n"
     ]
    },
    {
     "name": "stderr",
     "output_type": "stream",
     "text": [
      " 44%|████▍     | 133/301 [01:33<01:50,  1.52it/s]"
     ]
    },
    {
     "name": "stdout",
     "output_type": "stream",
     "text": [
      "132 [D loss: 0.000001, acc.: 100.00%] [G loss: 72.166649]\n"
     ]
    },
    {
     "name": "stderr",
     "output_type": "stream",
     "text": [
      " 45%|████▍     | 134/301 [01:34<01:49,  1.52it/s]"
     ]
    },
    {
     "name": "stdout",
     "output_type": "stream",
     "text": [
      "133 [D loss: 0.000000, acc.: 100.00%] [G loss: 62.289757]\n"
     ]
    },
    {
     "name": "stderr",
     "output_type": "stream",
     "text": [
      " 45%|████▍     | 135/301 [01:35<01:49,  1.52it/s]"
     ]
    },
    {
     "name": "stdout",
     "output_type": "stream",
     "text": [
      "134 [D loss: 0.000057, acc.: 100.00%] [G loss: 76.531845]\n"
     ]
    },
    {
     "name": "stderr",
     "output_type": "stream",
     "text": [
      " 45%|████▌     | 136/301 [01:35<01:48,  1.52it/s]"
     ]
    },
    {
     "name": "stdout",
     "output_type": "stream",
     "text": [
      "135 [D loss: 0.000014, acc.: 100.00%] [G loss: 71.942757]\n"
     ]
    },
    {
     "name": "stderr",
     "output_type": "stream",
     "text": [
      " 46%|████▌     | 137/301 [01:36<01:47,  1.52it/s]"
     ]
    },
    {
     "name": "stdout",
     "output_type": "stream",
     "text": [
      "136 [D loss: 0.000006, acc.: 100.00%] [G loss: 70.233231]\n"
     ]
    },
    {
     "name": "stderr",
     "output_type": "stream",
     "text": [
      " 46%|████▌     | 138/301 [01:37<01:46,  1.53it/s]"
     ]
    },
    {
     "name": "stdout",
     "output_type": "stream",
     "text": [
      "137 [D loss: 0.000009, acc.: 100.00%] [G loss: 76.946312]\n"
     ]
    },
    {
     "name": "stderr",
     "output_type": "stream",
     "text": [
      " 46%|████▌     | 139/301 [01:37<01:45,  1.54it/s]"
     ]
    },
    {
     "name": "stdout",
     "output_type": "stream",
     "text": [
      "138 [D loss: 0.000002, acc.: 100.00%] [G loss: 62.738956]\n"
     ]
    },
    {
     "name": "stderr",
     "output_type": "stream",
     "text": [
      " 47%|████▋     | 140/301 [01:38<01:44,  1.54it/s]"
     ]
    },
    {
     "name": "stdout",
     "output_type": "stream",
     "text": [
      "139 [D loss: 0.000011, acc.: 100.00%] [G loss: 76.914124]\n"
     ]
    },
    {
     "name": "stderr",
     "output_type": "stream",
     "text": [
      " 47%|████▋     | 141/301 [01:39<01:44,  1.53it/s]"
     ]
    },
    {
     "name": "stdout",
     "output_type": "stream",
     "text": [
      "140 [D loss: 0.000003, acc.: 100.00%] [G loss: 73.722488]\n"
     ]
    },
    {
     "name": "stderr",
     "output_type": "stream",
     "text": [
      " 47%|████▋     | 142/301 [01:39<01:43,  1.54it/s]"
     ]
    },
    {
     "name": "stdout",
     "output_type": "stream",
     "text": [
      "141 [D loss: 0.000002, acc.: 100.00%] [G loss: 77.661209]\n"
     ]
    },
    {
     "name": "stderr",
     "output_type": "stream",
     "text": [
      " 48%|████▊     | 143/301 [01:40<01:42,  1.54it/s]"
     ]
    },
    {
     "name": "stdout",
     "output_type": "stream",
     "text": [
      "142 [D loss: 0.000002, acc.: 100.00%] [G loss: 87.014740]\n"
     ]
    },
    {
     "name": "stderr",
     "output_type": "stream",
     "text": [
      " 48%|████▊     | 144/301 [01:41<01:43,  1.52it/s]"
     ]
    },
    {
     "name": "stdout",
     "output_type": "stream",
     "text": [
      "143 [D loss: 0.000001, acc.: 100.00%] [G loss: 78.255524]\n"
     ]
    },
    {
     "name": "stderr",
     "output_type": "stream",
     "text": [
      " 48%|████▊     | 145/301 [01:41<01:42,  1.52it/s]"
     ]
    },
    {
     "name": "stdout",
     "output_type": "stream",
     "text": [
      "144 [D loss: 0.000001, acc.: 100.00%] [G loss: 83.433655]\n"
     ]
    },
    {
     "name": "stderr",
     "output_type": "stream",
     "text": [
      " 49%|████▊     | 146/301 [01:42<01:41,  1.53it/s]"
     ]
    },
    {
     "name": "stdout",
     "output_type": "stream",
     "text": [
      "145 [D loss: 0.000000, acc.: 100.00%] [G loss: 64.150047]\n"
     ]
    },
    {
     "name": "stderr",
     "output_type": "stream",
     "text": [
      " 49%|████▉     | 147/301 [01:42<01:40,  1.53it/s]"
     ]
    },
    {
     "name": "stdout",
     "output_type": "stream",
     "text": [
      "146 [D loss: 0.000003, acc.: 100.00%] [G loss: 89.905388]\n"
     ]
    },
    {
     "name": "stderr",
     "output_type": "stream",
     "text": [
      " 49%|████▉     | 148/301 [01:43<01:40,  1.53it/s]"
     ]
    },
    {
     "name": "stdout",
     "output_type": "stream",
     "text": [
      "147 [D loss: 0.000006, acc.: 100.00%] [G loss: 75.036888]\n"
     ]
    },
    {
     "name": "stderr",
     "output_type": "stream",
     "text": [
      " 50%|████▉     | 149/301 [01:44<01:39,  1.53it/s]"
     ]
    },
    {
     "name": "stdout",
     "output_type": "stream",
     "text": [
      "148 [D loss: 0.000000, acc.: 100.00%] [G loss: 82.094009]\n"
     ]
    },
    {
     "name": "stderr",
     "output_type": "stream",
     "text": [
      " 50%|████▉     | 150/301 [01:44<01:38,  1.53it/s]"
     ]
    },
    {
     "name": "stdout",
     "output_type": "stream",
     "text": [
      "149 [D loss: 0.000012, acc.: 100.00%] [G loss: 86.664352]\n"
     ]
    },
    {
     "name": "stderr",
     "output_type": "stream",
     "text": [
      " 50%|█████     | 151/301 [01:45<01:38,  1.52it/s]"
     ]
    },
    {
     "name": "stdout",
     "output_type": "stream",
     "text": [
      "150 [D loss: 0.000000, acc.: 100.00%] [G loss: 75.108276]\n"
     ]
    },
    {
     "name": "stderr",
     "output_type": "stream",
     "text": [
      " 50%|█████     | 152/301 [01:46<01:37,  1.53it/s]"
     ]
    },
    {
     "name": "stdout",
     "output_type": "stream",
     "text": [
      "151 [D loss: 0.000000, acc.: 100.00%] [G loss: 69.636162]\n"
     ]
    },
    {
     "name": "stderr",
     "output_type": "stream",
     "text": [
      " 51%|█████     | 153/301 [01:46<01:36,  1.53it/s]"
     ]
    },
    {
     "name": "stdout",
     "output_type": "stream",
     "text": [
      "152 [D loss: 0.000000, acc.: 100.00%] [G loss: 76.032394]\n"
     ]
    },
    {
     "name": "stderr",
     "output_type": "stream",
     "text": [
      " 51%|█████     | 154/301 [01:47<01:35,  1.53it/s]"
     ]
    },
    {
     "name": "stdout",
     "output_type": "stream",
     "text": [
      "153 [D loss: 0.000000, acc.: 100.00%] [G loss: 83.366333]\n"
     ]
    },
    {
     "name": "stderr",
     "output_type": "stream",
     "text": [
      " 51%|█████▏    | 155/301 [01:48<01:35,  1.53it/s]"
     ]
    },
    {
     "name": "stdout",
     "output_type": "stream",
     "text": [
      "154 [D loss: 0.000006, acc.: 100.00%] [G loss: 71.538132]\n"
     ]
    },
    {
     "name": "stderr",
     "output_type": "stream",
     "text": [
      " 52%|█████▏    | 156/301 [01:48<01:34,  1.53it/s]"
     ]
    },
    {
     "name": "stdout",
     "output_type": "stream",
     "text": [
      "155 [D loss: 0.000013, acc.: 100.00%] [G loss: 91.948517]\n"
     ]
    },
    {
     "name": "stderr",
     "output_type": "stream",
     "text": [
      " 52%|█████▏    | 157/301 [01:49<01:34,  1.53it/s]"
     ]
    },
    {
     "name": "stdout",
     "output_type": "stream",
     "text": [
      "156 [D loss: 0.000002, acc.: 100.00%] [G loss: 95.688141]\n"
     ]
    },
    {
     "name": "stderr",
     "output_type": "stream",
     "text": [
      " 52%|█████▏    | 158/301 [01:50<01:33,  1.52it/s]"
     ]
    },
    {
     "name": "stdout",
     "output_type": "stream",
     "text": [
      "157 [D loss: 0.000000, acc.: 100.00%] [G loss: 96.457748]\n"
     ]
    },
    {
     "name": "stderr",
     "output_type": "stream",
     "text": [
      " 53%|█████▎    | 159/301 [01:50<01:32,  1.53it/s]"
     ]
    },
    {
     "name": "stdout",
     "output_type": "stream",
     "text": [
      "158 [D loss: 0.000966, acc.: 100.00%] [G loss: 88.185997]\n"
     ]
    },
    {
     "name": "stderr",
     "output_type": "stream",
     "text": [
      " 53%|█████▎    | 160/301 [01:51<01:31,  1.53it/s]"
     ]
    },
    {
     "name": "stdout",
     "output_type": "stream",
     "text": [
      "159 [D loss: 0.000001, acc.: 100.00%] [G loss: 69.968224]\n"
     ]
    },
    {
     "name": "stderr",
     "output_type": "stream",
     "text": [
      " 53%|█████▎    | 161/301 [01:52<01:31,  1.52it/s]"
     ]
    },
    {
     "name": "stdout",
     "output_type": "stream",
     "text": [
      "160 [D loss: 0.000001, acc.: 100.00%] [G loss: 85.158821]\n"
     ]
    },
    {
     "name": "stderr",
     "output_type": "stream",
     "text": [
      " 54%|█████▍    | 162/301 [01:52<01:30,  1.53it/s]"
     ]
    },
    {
     "name": "stdout",
     "output_type": "stream",
     "text": [
      "161 [D loss: 0.000010, acc.: 100.00%] [G loss: 86.870956]\n"
     ]
    },
    {
     "name": "stderr",
     "output_type": "stream",
     "text": [
      " 54%|█████▍    | 163/301 [01:53<01:30,  1.53it/s]"
     ]
    },
    {
     "name": "stdout",
     "output_type": "stream",
     "text": [
      "162 [D loss: 0.000000, acc.: 100.00%] [G loss: 76.615852]\n"
     ]
    },
    {
     "name": "stderr",
     "output_type": "stream",
     "text": [
      " 54%|█████▍    | 164/301 [01:54<01:29,  1.54it/s]"
     ]
    },
    {
     "name": "stdout",
     "output_type": "stream",
     "text": [
      "163 [D loss: 0.000003, acc.: 100.00%] [G loss: 97.705566]\n"
     ]
    },
    {
     "name": "stderr",
     "output_type": "stream",
     "text": [
      " 55%|█████▍    | 165/301 [01:54<01:29,  1.53it/s]"
     ]
    },
    {
     "name": "stdout",
     "output_type": "stream",
     "text": [
      "164 [D loss: 0.000001, acc.: 100.00%] [G loss: 91.721756]\n"
     ]
    },
    {
     "name": "stderr",
     "output_type": "stream",
     "text": [
      " 55%|█████▌    | 166/301 [01:55<01:28,  1.53it/s]"
     ]
    },
    {
     "name": "stdout",
     "output_type": "stream",
     "text": [
      "165 [D loss: 0.000002, acc.: 100.00%] [G loss: 88.044632]\n"
     ]
    },
    {
     "name": "stderr",
     "output_type": "stream",
     "text": [
      " 55%|█████▌    | 167/301 [01:56<01:27,  1.53it/s]"
     ]
    },
    {
     "name": "stdout",
     "output_type": "stream",
     "text": [
      "166 [D loss: 0.000000, acc.: 100.00%] [G loss: 76.487770]\n"
     ]
    },
    {
     "name": "stderr",
     "output_type": "stream",
     "text": [
      " 56%|█████▌    | 168/301 [01:56<01:27,  1.52it/s]"
     ]
    },
    {
     "name": "stdout",
     "output_type": "stream",
     "text": [
      "167 [D loss: 0.000081, acc.: 100.00%] [G loss: 90.022736]\n"
     ]
    },
    {
     "name": "stderr",
     "output_type": "stream",
     "text": [
      " 56%|█████▌    | 169/301 [01:57<01:26,  1.53it/s]"
     ]
    },
    {
     "name": "stdout",
     "output_type": "stream",
     "text": [
      "168 [D loss: 0.000010, acc.: 100.00%] [G loss: 91.032013]\n"
     ]
    },
    {
     "name": "stderr",
     "output_type": "stream",
     "text": [
      " 56%|█████▋    | 170/301 [01:58<01:25,  1.53it/s]"
     ]
    },
    {
     "name": "stdout",
     "output_type": "stream",
     "text": [
      "169 [D loss: 0.000004, acc.: 100.00%] [G loss: 85.403427]\n"
     ]
    },
    {
     "name": "stderr",
     "output_type": "stream",
     "text": [
      " 57%|█████▋    | 171/301 [01:58<01:25,  1.53it/s]"
     ]
    },
    {
     "name": "stdout",
     "output_type": "stream",
     "text": [
      "170 [D loss: 0.000006, acc.: 100.00%] [G loss: 85.465614]\n"
     ]
    },
    {
     "name": "stderr",
     "output_type": "stream",
     "text": [
      " 57%|█████▋    | 172/301 [01:59<01:24,  1.52it/s]"
     ]
    },
    {
     "name": "stdout",
     "output_type": "stream",
     "text": [
      "171 [D loss: 0.000002, acc.: 100.00%] [G loss: 83.412460]\n"
     ]
    },
    {
     "name": "stderr",
     "output_type": "stream",
     "text": [
      " 57%|█████▋    | 173/301 [01:59<01:24,  1.52it/s]"
     ]
    },
    {
     "name": "stdout",
     "output_type": "stream",
     "text": [
      "172 [D loss: 0.000001, acc.: 100.00%] [G loss: 88.827362]\n"
     ]
    },
    {
     "name": "stderr",
     "output_type": "stream",
     "text": [
      " 58%|█████▊    | 174/301 [02:00<01:23,  1.52it/s]"
     ]
    },
    {
     "name": "stdout",
     "output_type": "stream",
     "text": [
      "173 [D loss: 0.000002, acc.: 100.00%] [G loss: 104.472908]\n"
     ]
    },
    {
     "name": "stderr",
     "output_type": "stream",
     "text": [
      " 58%|█████▊    | 175/301 [02:01<01:23,  1.51it/s]"
     ]
    },
    {
     "name": "stdout",
     "output_type": "stream",
     "text": [
      "174 [D loss: 0.000000, acc.: 100.00%] [G loss: 99.542130]\n"
     ]
    },
    {
     "name": "stderr",
     "output_type": "stream",
     "text": [
      " 58%|█████▊    | 176/301 [02:01<01:22,  1.52it/s]"
     ]
    },
    {
     "name": "stdout",
     "output_type": "stream",
     "text": [
      "175 [D loss: 0.000019, acc.: 100.00%] [G loss: 100.514877]\n"
     ]
    },
    {
     "name": "stderr",
     "output_type": "stream",
     "text": [
      " 59%|█████▉    | 177/301 [02:02<01:21,  1.53it/s]"
     ]
    },
    {
     "name": "stdout",
     "output_type": "stream",
     "text": [
      "176 [D loss: 0.000008, acc.: 100.00%] [G loss: 83.112976]\n"
     ]
    },
    {
     "name": "stderr",
     "output_type": "stream",
     "text": [
      " 59%|█████▉    | 178/301 [02:03<01:20,  1.53it/s]"
     ]
    },
    {
     "name": "stdout",
     "output_type": "stream",
     "text": [
      "177 [D loss: 0.000003, acc.: 100.00%] [G loss: 89.734581]\n"
     ]
    },
    {
     "name": "stderr",
     "output_type": "stream",
     "text": [
      " 59%|█████▉    | 179/301 [02:03<01:19,  1.53it/s]"
     ]
    },
    {
     "name": "stdout",
     "output_type": "stream",
     "text": [
      "178 [D loss: 0.000002, acc.: 100.00%] [G loss: 80.895653]\n"
     ]
    },
    {
     "name": "stderr",
     "output_type": "stream",
     "text": [
      " 60%|█████▉    | 180/301 [02:04<01:19,  1.53it/s]"
     ]
    },
    {
     "name": "stdout",
     "output_type": "stream",
     "text": [
      "179 [D loss: 0.000001, acc.: 100.00%] [G loss: 87.900925]\n"
     ]
    },
    {
     "name": "stderr",
     "output_type": "stream",
     "text": [
      " 60%|██████    | 181/301 [02:05<01:19,  1.52it/s]"
     ]
    },
    {
     "name": "stdout",
     "output_type": "stream",
     "text": [
      "180 [D loss: 0.000000, acc.: 100.00%] [G loss: 97.714043]\n"
     ]
    },
    {
     "name": "stderr",
     "output_type": "stream",
     "text": [
      " 60%|██████    | 182/301 [02:05<01:19,  1.50it/s]"
     ]
    },
    {
     "name": "stdout",
     "output_type": "stream",
     "text": [
      "181 [D loss: 0.000000, acc.: 100.00%] [G loss: 82.116302]\n"
     ]
    },
    {
     "name": "stderr",
     "output_type": "stream",
     "text": [
      " 61%|██████    | 183/301 [02:06<01:19,  1.49it/s]"
     ]
    },
    {
     "name": "stdout",
     "output_type": "stream",
     "text": [
      "182 [D loss: 0.000000, acc.: 100.00%] [G loss: 101.687309]\n"
     ]
    },
    {
     "name": "stderr",
     "output_type": "stream",
     "text": [
      " 61%|██████    | 184/301 [02:07<01:18,  1.48it/s]"
     ]
    },
    {
     "name": "stdout",
     "output_type": "stream",
     "text": [
      "183 [D loss: 0.000004, acc.: 100.00%] [G loss: 89.867195]\n"
     ]
    },
    {
     "name": "stderr",
     "output_type": "stream",
     "text": [
      " 61%|██████▏   | 185/301 [02:07<01:18,  1.48it/s]"
     ]
    },
    {
     "name": "stdout",
     "output_type": "stream",
     "text": [
      "184 [D loss: 0.000000, acc.: 100.00%] [G loss: 92.422745]\n"
     ]
    },
    {
     "name": "stderr",
     "output_type": "stream",
     "text": [
      " 62%|██████▏   | 186/301 [02:08<01:17,  1.48it/s]"
     ]
    },
    {
     "name": "stdout",
     "output_type": "stream",
     "text": [
      "185 [D loss: 0.000000, acc.: 100.00%] [G loss: 97.192101]\n"
     ]
    },
    {
     "name": "stderr",
     "output_type": "stream",
     "text": [
      " 62%|██████▏   | 187/301 [02:09<01:16,  1.49it/s]"
     ]
    },
    {
     "name": "stdout",
     "output_type": "stream",
     "text": [
      "186 [D loss: 0.000000, acc.: 100.00%] [G loss: 82.343399]\n"
     ]
    },
    {
     "name": "stderr",
     "output_type": "stream",
     "text": [
      " 62%|██████▏   | 188/301 [02:09<01:16,  1.49it/s]"
     ]
    },
    {
     "name": "stdout",
     "output_type": "stream",
     "text": [
      "187 [D loss: 0.000000, acc.: 100.00%] [G loss: 96.406960]\n"
     ]
    },
    {
     "name": "stderr",
     "output_type": "stream",
     "text": [
      " 63%|██████▎   | 189/301 [02:10<01:15,  1.48it/s]"
     ]
    },
    {
     "name": "stdout",
     "output_type": "stream",
     "text": [
      "188 [D loss: 0.000000, acc.: 100.00%] [G loss: 79.135529]\n"
     ]
    },
    {
     "name": "stderr",
     "output_type": "stream",
     "text": [
      " 63%|██████▎   | 190/301 [02:11<01:15,  1.47it/s]"
     ]
    },
    {
     "name": "stdout",
     "output_type": "stream",
     "text": [
      "189 [D loss: 0.000001, acc.: 100.00%] [G loss: 78.145370]\n"
     ]
    },
    {
     "name": "stderr",
     "output_type": "stream",
     "text": [
      " 63%|██████▎   | 191/301 [02:12<01:15,  1.45it/s]"
     ]
    },
    {
     "name": "stdout",
     "output_type": "stream",
     "text": [
      "190 [D loss: 0.000000, acc.: 100.00%] [G loss: 97.956894]\n"
     ]
    },
    {
     "name": "stderr",
     "output_type": "stream",
     "text": [
      " 64%|██████▍   | 192/301 [02:12<01:14,  1.46it/s]"
     ]
    },
    {
     "name": "stdout",
     "output_type": "stream",
     "text": [
      "191 [D loss: 0.000001, acc.: 100.00%] [G loss: 89.088959]\n"
     ]
    },
    {
     "name": "stderr",
     "output_type": "stream",
     "text": [
      " 64%|██████▍   | 193/301 [02:13<01:14,  1.46it/s]"
     ]
    },
    {
     "name": "stdout",
     "output_type": "stream",
     "text": [
      "192 [D loss: 0.000000, acc.: 100.00%] [G loss: 91.693932]\n"
     ]
    },
    {
     "name": "stderr",
     "output_type": "stream",
     "text": [
      " 64%|██████▍   | 194/301 [02:14<01:12,  1.47it/s]"
     ]
    },
    {
     "name": "stdout",
     "output_type": "stream",
     "text": [
      "193 [D loss: 0.000001, acc.: 100.00%] [G loss: 86.432373]\n"
     ]
    },
    {
     "name": "stderr",
     "output_type": "stream",
     "text": [
      " 65%|██████▍   | 195/301 [02:14<01:11,  1.48it/s]"
     ]
    },
    {
     "name": "stdout",
     "output_type": "stream",
     "text": [
      "194 [D loss: 0.000005, acc.: 100.00%] [G loss: 103.190079]\n"
     ]
    },
    {
     "name": "stderr",
     "output_type": "stream",
     "text": [
      " 65%|██████▌   | 196/301 [02:15<01:10,  1.48it/s]"
     ]
    },
    {
     "name": "stdout",
     "output_type": "stream",
     "text": [
      "195 [D loss: 0.000000, acc.: 100.00%] [G loss: 100.972542]\n"
     ]
    },
    {
     "name": "stderr",
     "output_type": "stream",
     "text": [
      " 65%|██████▌   | 197/301 [02:16<01:10,  1.48it/s]"
     ]
    },
    {
     "name": "stdout",
     "output_type": "stream",
     "text": [
      "196 [D loss: 0.000000, acc.: 100.00%] [G loss: 93.619278]\n"
     ]
    },
    {
     "name": "stderr",
     "output_type": "stream",
     "text": [
      " 66%|██████▌   | 198/301 [02:16<01:09,  1.48it/s]"
     ]
    },
    {
     "name": "stdout",
     "output_type": "stream",
     "text": [
      "197 [D loss: 0.000000, acc.: 100.00%] [G loss: 100.034431]\n"
     ]
    },
    {
     "name": "stderr",
     "output_type": "stream",
     "text": [
      " 66%|██████▌   | 199/301 [02:17<01:08,  1.49it/s]"
     ]
    },
    {
     "name": "stdout",
     "output_type": "stream",
     "text": [
      "198 [D loss: 0.000000, acc.: 100.00%] [G loss: 98.747002]\n"
     ]
    },
    {
     "name": "stderr",
     "output_type": "stream",
     "text": [
      " 66%|██████▋   | 200/301 [02:18<01:07,  1.49it/s]"
     ]
    },
    {
     "name": "stdout",
     "output_type": "stream",
     "text": [
      "199 [D loss: 0.000000, acc.: 100.00%] [G loss: 98.896614]\n",
      "200 [D loss: 0.000000, acc.: 100.00%] [G loss: 103.599380]\n"
     ]
    },
    {
     "name": "stderr",
     "output_type": "stream",
     "text": [
      "\n",
      "Synthetic data generation:   0%|          | 0/8 [00:00<?, ?it/s]\u001B[A\n",
      "Synthetic data generation:  38%|███▊      | 3/8 [00:00<00:00, 21.51it/s]\u001B[A\n",
      "Synthetic data generation: 100%|██████████| 8/8 [00:00<00:00, 21.69it/s]\u001B[A\n",
      " 67%|██████▋   | 202/301 [02:19<01:15,  1.32it/s]"
     ]
    },
    {
     "name": "stdout",
     "output_type": "stream",
     "text": [
      "201 [D loss: 0.000003, acc.: 100.00%] [G loss: 96.537979]\n"
     ]
    },
    {
     "name": "stderr",
     "output_type": "stream",
     "text": [
      " 67%|██████▋   | 203/301 [02:20<01:11,  1.36it/s]"
     ]
    },
    {
     "name": "stdout",
     "output_type": "stream",
     "text": [
      "202 [D loss: 0.000001, acc.: 100.00%] [G loss: 104.996582]\n"
     ]
    },
    {
     "name": "stderr",
     "output_type": "stream",
     "text": [
      " 68%|██████▊   | 204/301 [02:21<01:09,  1.40it/s]"
     ]
    },
    {
     "name": "stdout",
     "output_type": "stream",
     "text": [
      "203 [D loss: 0.000000, acc.: 100.00%] [G loss: 109.729561]\n"
     ]
    },
    {
     "name": "stderr",
     "output_type": "stream",
     "text": [
      " 68%|██████▊   | 205/301 [02:21<01:07,  1.41it/s]"
     ]
    },
    {
     "name": "stdout",
     "output_type": "stream",
     "text": [
      "204 [D loss: 0.000000, acc.: 100.00%] [G loss: 101.852821]\n"
     ]
    },
    {
     "name": "stderr",
     "output_type": "stream",
     "text": [
      " 68%|██████▊   | 206/301 [02:22<01:06,  1.43it/s]"
     ]
    },
    {
     "name": "stdout",
     "output_type": "stream",
     "text": [
      "205 [D loss: 0.000000, acc.: 100.00%] [G loss: 93.435181]\n"
     ]
    },
    {
     "name": "stderr",
     "output_type": "stream",
     "text": [
      " 69%|██████▉   | 207/301 [02:23<01:04,  1.45it/s]"
     ]
    },
    {
     "name": "stdout",
     "output_type": "stream",
     "text": [
      "206 [D loss: 0.000000, acc.: 100.00%] [G loss: 93.326187]\n"
     ]
    },
    {
     "name": "stderr",
     "output_type": "stream",
     "text": [
      " 69%|██████▉   | 208/301 [02:23<01:04,  1.45it/s]"
     ]
    },
    {
     "name": "stdout",
     "output_type": "stream",
     "text": [
      "207 [D loss: 0.000039, acc.: 100.00%] [G loss: 105.139450]\n"
     ]
    },
    {
     "name": "stderr",
     "output_type": "stream",
     "text": [
      " 69%|██████▉   | 209/301 [02:24<01:02,  1.46it/s]"
     ]
    },
    {
     "name": "stdout",
     "output_type": "stream",
     "text": [
      "208 [D loss: 0.000010, acc.: 100.00%] [G loss: 114.328979]\n"
     ]
    },
    {
     "name": "stderr",
     "output_type": "stream",
     "text": [
      " 70%|██████▉   | 210/301 [02:25<01:01,  1.48it/s]"
     ]
    },
    {
     "name": "stdout",
     "output_type": "stream",
     "text": [
      "209 [D loss: 0.000001, acc.: 100.00%] [G loss: 112.062332]\n"
     ]
    },
    {
     "name": "stderr",
     "output_type": "stream",
     "text": [
      " 70%|███████   | 211/301 [02:25<01:00,  1.49it/s]"
     ]
    },
    {
     "name": "stdout",
     "output_type": "stream",
     "text": [
      "210 [D loss: 0.000001, acc.: 100.00%] [G loss: 100.643387]\n"
     ]
    },
    {
     "name": "stderr",
     "output_type": "stream",
     "text": [
      " 70%|███████   | 212/301 [02:26<00:59,  1.49it/s]"
     ]
    },
    {
     "name": "stdout",
     "output_type": "stream",
     "text": [
      "211 [D loss: 0.000000, acc.: 100.00%] [G loss: 96.978531]\n"
     ]
    },
    {
     "name": "stderr",
     "output_type": "stream",
     "text": [
      " 71%|███████   | 213/301 [02:27<00:58,  1.49it/s]"
     ]
    },
    {
     "name": "stdout",
     "output_type": "stream",
     "text": [
      "212 [D loss: 0.001249, acc.: 100.00%] [G loss: 108.365311]\n"
     ]
    },
    {
     "name": "stderr",
     "output_type": "stream",
     "text": [
      " 71%|███████   | 214/301 [02:27<00:57,  1.51it/s]"
     ]
    },
    {
     "name": "stdout",
     "output_type": "stream",
     "text": [
      "213 [D loss: 0.000002, acc.: 100.00%] [G loss: 81.129173]\n"
     ]
    },
    {
     "name": "stderr",
     "output_type": "stream",
     "text": [
      " 71%|███████▏  | 215/301 [02:28<00:57,  1.50it/s]"
     ]
    },
    {
     "name": "stdout",
     "output_type": "stream",
     "text": [
      "214 [D loss: 0.000012, acc.: 100.00%] [G loss: 101.037994]\n"
     ]
    },
    {
     "name": "stderr",
     "output_type": "stream",
     "text": [
      " 72%|███████▏  | 216/301 [02:29<00:56,  1.50it/s]"
     ]
    },
    {
     "name": "stdout",
     "output_type": "stream",
     "text": [
      "215 [D loss: 0.000024, acc.: 100.00%] [G loss: 99.971611]\n"
     ]
    },
    {
     "name": "stderr",
     "output_type": "stream",
     "text": [
      " 72%|███████▏  | 217/301 [02:29<00:56,  1.49it/s]"
     ]
    },
    {
     "name": "stdout",
     "output_type": "stream",
     "text": [
      "216 [D loss: 0.000012, acc.: 100.00%] [G loss: 106.014465]\n"
     ]
    },
    {
     "name": "stderr",
     "output_type": "stream",
     "text": [
      " 72%|███████▏  | 218/301 [02:30<00:57,  1.45it/s]"
     ]
    },
    {
     "name": "stdout",
     "output_type": "stream",
     "text": [
      "217 [D loss: 0.000618, acc.: 100.00%] [G loss: 96.657249]\n"
     ]
    },
    {
     "name": "stderr",
     "output_type": "stream",
     "text": [
      " 73%|███████▎  | 219/301 [02:31<00:58,  1.39it/s]"
     ]
    },
    {
     "name": "stdout",
     "output_type": "stream",
     "text": [
      "218 [D loss: 0.000024, acc.: 100.00%] [G loss: 93.520172]\n"
     ]
    },
    {
     "name": "stderr",
     "output_type": "stream",
     "text": [
      " 73%|███████▎  | 220/301 [02:32<00:56,  1.43it/s]"
     ]
    },
    {
     "name": "stdout",
     "output_type": "stream",
     "text": [
      "219 [D loss: 0.000011, acc.: 100.00%] [G loss: 102.494743]\n"
     ]
    },
    {
     "name": "stderr",
     "output_type": "stream",
     "text": [
      " 73%|███████▎  | 221/301 [02:32<00:54,  1.46it/s]"
     ]
    },
    {
     "name": "stdout",
     "output_type": "stream",
     "text": [
      "220 [D loss: 0.000008, acc.: 100.00%] [G loss: 112.620056]\n"
     ]
    },
    {
     "name": "stderr",
     "output_type": "stream",
     "text": [
      " 74%|███████▍  | 222/301 [02:33<00:53,  1.48it/s]"
     ]
    },
    {
     "name": "stdout",
     "output_type": "stream",
     "text": [
      "221 [D loss: 0.000002, acc.: 100.00%] [G loss: 97.852753]\n"
     ]
    },
    {
     "name": "stderr",
     "output_type": "stream",
     "text": [
      " 74%|███████▍  | 223/301 [02:34<00:53,  1.46it/s]"
     ]
    },
    {
     "name": "stdout",
     "output_type": "stream",
     "text": [
      "222 [D loss: 0.000002, acc.: 100.00%] [G loss: 107.323097]\n"
     ]
    },
    {
     "name": "stderr",
     "output_type": "stream",
     "text": [
      " 74%|███████▍  | 224/301 [02:34<00:52,  1.46it/s]"
     ]
    },
    {
     "name": "stdout",
     "output_type": "stream",
     "text": [
      "223 [D loss: 0.000001, acc.: 100.00%] [G loss: 113.929382]\n"
     ]
    },
    {
     "name": "stderr",
     "output_type": "stream",
     "text": [
      " 75%|███████▍  | 225/301 [02:35<00:54,  1.40it/s]"
     ]
    },
    {
     "name": "stdout",
     "output_type": "stream",
     "text": [
      "224 [D loss: 0.000000, acc.: 100.00%] [G loss: 108.205994]\n"
     ]
    },
    {
     "name": "stderr",
     "output_type": "stream",
     "text": [
      " 75%|███████▌  | 226/301 [02:36<00:54,  1.38it/s]"
     ]
    },
    {
     "name": "stdout",
     "output_type": "stream",
     "text": [
      "225 [D loss: 0.000000, acc.: 100.00%] [G loss: 122.245880]\n"
     ]
    },
    {
     "name": "stderr",
     "output_type": "stream",
     "text": [
      " 75%|███████▌  | 227/301 [02:37<00:52,  1.41it/s]"
     ]
    },
    {
     "name": "stdout",
     "output_type": "stream",
     "text": [
      "226 [D loss: 0.000000, acc.: 100.00%] [G loss: 116.943550]\n"
     ]
    },
    {
     "name": "stderr",
     "output_type": "stream",
     "text": [
      " 76%|███████▌  | 228/301 [02:37<00:52,  1.40it/s]"
     ]
    },
    {
     "name": "stdout",
     "output_type": "stream",
     "text": [
      "227 [D loss: 0.000000, acc.: 100.00%] [G loss: 99.121979]\n"
     ]
    },
    {
     "name": "stderr",
     "output_type": "stream",
     "text": [
      " 76%|███████▌  | 229/301 [02:38<00:50,  1.42it/s]"
     ]
    },
    {
     "name": "stdout",
     "output_type": "stream",
     "text": [
      "228 [D loss: 0.000018, acc.: 100.00%] [G loss: 118.369087]\n"
     ]
    },
    {
     "name": "stderr",
     "output_type": "stream",
     "text": [
      " 76%|███████▋  | 230/301 [02:39<00:49,  1.45it/s]"
     ]
    },
    {
     "name": "stdout",
     "output_type": "stream",
     "text": [
      "229 [D loss: 0.000003, acc.: 100.00%] [G loss: 110.919609]\n"
     ]
    },
    {
     "name": "stderr",
     "output_type": "stream",
     "text": [
      " 77%|███████▋  | 231/301 [02:39<00:48,  1.45it/s]"
     ]
    },
    {
     "name": "stdout",
     "output_type": "stream",
     "text": [
      "230 [D loss: 0.000000, acc.: 100.00%] [G loss: 112.256088]\n"
     ]
    },
    {
     "name": "stderr",
     "output_type": "stream",
     "text": [
      " 77%|███████▋  | 232/301 [02:40<00:47,  1.46it/s]"
     ]
    },
    {
     "name": "stdout",
     "output_type": "stream",
     "text": [
      "231 [D loss: 0.000000, acc.: 100.00%] [G loss: 107.637901]\n"
     ]
    },
    {
     "name": "stderr",
     "output_type": "stream",
     "text": [
      " 77%|███████▋  | 233/301 [02:41<00:46,  1.46it/s]"
     ]
    },
    {
     "name": "stdout",
     "output_type": "stream",
     "text": [
      "232 [D loss: 0.000000, acc.: 100.00%] [G loss: 115.031891]\n"
     ]
    },
    {
     "name": "stderr",
     "output_type": "stream",
     "text": [
      " 78%|███████▊  | 234/301 [02:41<00:45,  1.46it/s]"
     ]
    },
    {
     "name": "stdout",
     "output_type": "stream",
     "text": [
      "233 [D loss: 0.000000, acc.: 100.00%] [G loss: 105.847061]\n"
     ]
    },
    {
     "name": "stderr",
     "output_type": "stream",
     "text": [
      " 78%|███████▊  | 235/301 [02:42<00:44,  1.48it/s]"
     ]
    },
    {
     "name": "stdout",
     "output_type": "stream",
     "text": [
      "234 [D loss: 0.000000, acc.: 100.00%] [G loss: 130.179306]\n"
     ]
    },
    {
     "name": "stderr",
     "output_type": "stream",
     "text": [
      " 78%|███████▊  | 236/301 [02:43<00:43,  1.48it/s]"
     ]
    },
    {
     "name": "stdout",
     "output_type": "stream",
     "text": [
      "235 [D loss: 0.000000, acc.: 100.00%] [G loss: 112.536171]\n"
     ]
    },
    {
     "name": "stderr",
     "output_type": "stream",
     "text": [
      " 79%|███████▊  | 237/301 [02:43<00:44,  1.45it/s]"
     ]
    },
    {
     "name": "stdout",
     "output_type": "stream",
     "text": [
      "236 [D loss: 0.000000, acc.: 100.00%] [G loss: 119.861496]\n"
     ]
    },
    {
     "name": "stderr",
     "output_type": "stream",
     "text": [
      " 79%|███████▉  | 238/301 [02:44<00:43,  1.46it/s]"
     ]
    },
    {
     "name": "stdout",
     "output_type": "stream",
     "text": [
      "237 [D loss: 0.000004, acc.: 100.00%] [G loss: 116.836670]\n"
     ]
    },
    {
     "name": "stderr",
     "output_type": "stream",
     "text": [
      " 79%|███████▉  | 239/301 [02:45<00:42,  1.47it/s]"
     ]
    },
    {
     "name": "stdout",
     "output_type": "stream",
     "text": [
      "238 [D loss: 0.000000, acc.: 100.00%] [G loss: 109.152405]\n"
     ]
    },
    {
     "name": "stderr",
     "output_type": "stream",
     "text": [
      " 80%|███████▉  | 240/301 [02:45<00:41,  1.48it/s]"
     ]
    },
    {
     "name": "stdout",
     "output_type": "stream",
     "text": [
      "239 [D loss: 0.000000, acc.: 100.00%] [G loss: 119.347145]\n"
     ]
    },
    {
     "name": "stderr",
     "output_type": "stream",
     "text": [
      " 80%|████████  | 241/301 [02:46<00:40,  1.48it/s]"
     ]
    },
    {
     "name": "stdout",
     "output_type": "stream",
     "text": [
      "240 [D loss: 0.000000, acc.: 100.00%] [G loss: 115.965942]\n"
     ]
    },
    {
     "name": "stderr",
     "output_type": "stream",
     "text": [
      " 80%|████████  | 242/301 [02:47<00:39,  1.49it/s]"
     ]
    },
    {
     "name": "stdout",
     "output_type": "stream",
     "text": [
      "241 [D loss: 0.000000, acc.: 100.00%] [G loss: 107.233589]\n"
     ]
    },
    {
     "name": "stderr",
     "output_type": "stream",
     "text": [
      " 81%|████████  | 243/301 [02:48<00:41,  1.38it/s]"
     ]
    },
    {
     "name": "stdout",
     "output_type": "stream",
     "text": [
      "242 [D loss: 0.000000, acc.: 100.00%] [G loss: 105.024117]\n"
     ]
    },
    {
     "name": "stderr",
     "output_type": "stream",
     "text": [
      " 81%|████████  | 244/301 [02:48<00:41,  1.38it/s]"
     ]
    },
    {
     "name": "stdout",
     "output_type": "stream",
     "text": [
      "243 [D loss: 0.000000, acc.: 100.00%] [G loss: 130.175385]\n"
     ]
    },
    {
     "name": "stderr",
     "output_type": "stream",
     "text": [
      " 81%|████████▏ | 245/301 [02:49<00:40,  1.38it/s]"
     ]
    },
    {
     "name": "stdout",
     "output_type": "stream",
     "text": [
      "244 [D loss: 0.000000, acc.: 100.00%] [G loss: 119.914703]\n"
     ]
    },
    {
     "name": "stderr",
     "output_type": "stream",
     "text": [
      " 82%|████████▏ | 246/301 [02:50<00:40,  1.37it/s]"
     ]
    },
    {
     "name": "stdout",
     "output_type": "stream",
     "text": [
      "245 [D loss: 0.000000, acc.: 100.00%] [G loss: 124.638672]\n"
     ]
    },
    {
     "name": "stderr",
     "output_type": "stream",
     "text": [
      " 82%|████████▏ | 247/301 [02:50<00:38,  1.39it/s]"
     ]
    },
    {
     "name": "stdout",
     "output_type": "stream",
     "text": [
      "246 [D loss: 0.000000, acc.: 100.00%] [G loss: 114.369354]\n"
     ]
    },
    {
     "name": "stderr",
     "output_type": "stream",
     "text": [
      " 82%|████████▏ | 248/301 [02:51<00:38,  1.39it/s]"
     ]
    },
    {
     "name": "stdout",
     "output_type": "stream",
     "text": [
      "247 [D loss: 0.000000, acc.: 100.00%] [G loss: 113.388435]\n"
     ]
    },
    {
     "name": "stderr",
     "output_type": "stream",
     "text": [
      " 83%|████████▎ | 249/301 [02:52<00:37,  1.39it/s]"
     ]
    },
    {
     "name": "stdout",
     "output_type": "stream",
     "text": [
      "248 [D loss: 0.000000, acc.: 100.00%] [G loss: 131.024490]\n"
     ]
    },
    {
     "name": "stderr",
     "output_type": "stream",
     "text": [
      " 83%|████████▎ | 250/301 [02:53<00:36,  1.41it/s]"
     ]
    },
    {
     "name": "stdout",
     "output_type": "stream",
     "text": [
      "249 [D loss: 0.000000, acc.: 100.00%] [G loss: 126.157951]\n"
     ]
    },
    {
     "name": "stderr",
     "output_type": "stream",
     "text": [
      " 83%|████████▎ | 251/301 [02:53<00:35,  1.43it/s]"
     ]
    },
    {
     "name": "stdout",
     "output_type": "stream",
     "text": [
      "250 [D loss: 0.000000, acc.: 100.00%] [G loss: 114.554611]\n"
     ]
    },
    {
     "name": "stderr",
     "output_type": "stream",
     "text": [
      " 84%|████████▎ | 252/301 [02:54<00:35,  1.39it/s]"
     ]
    },
    {
     "name": "stdout",
     "output_type": "stream",
     "text": [
      "251 [D loss: 0.000000, acc.: 100.00%] [G loss: 119.822800]\n"
     ]
    },
    {
     "name": "stderr",
     "output_type": "stream",
     "text": [
      " 84%|████████▍ | 253/301 [02:55<00:34,  1.39it/s]"
     ]
    },
    {
     "name": "stdout",
     "output_type": "stream",
     "text": [
      "252 [D loss: 0.000000, acc.: 100.00%] [G loss: 140.456604]\n"
     ]
    },
    {
     "name": "stderr",
     "output_type": "stream",
     "text": [
      " 84%|████████▍ | 254/301 [02:55<00:33,  1.39it/s]"
     ]
    },
    {
     "name": "stdout",
     "output_type": "stream",
     "text": [
      "253 [D loss: 0.000000, acc.: 100.00%] [G loss: 133.545822]\n"
     ]
    },
    {
     "name": "stderr",
     "output_type": "stream",
     "text": [
      " 85%|████████▍ | 255/301 [02:56<00:33,  1.39it/s]"
     ]
    },
    {
     "name": "stdout",
     "output_type": "stream",
     "text": [
      "254 [D loss: 0.000000, acc.: 100.00%] [G loss: 136.500916]\n"
     ]
    },
    {
     "name": "stderr",
     "output_type": "stream",
     "text": [
      " 85%|████████▌ | 256/301 [02:57<00:32,  1.39it/s]"
     ]
    },
    {
     "name": "stdout",
     "output_type": "stream",
     "text": [
      "255 [D loss: 0.000013, acc.: 100.00%] [G loss: 159.759232]\n"
     ]
    },
    {
     "name": "stderr",
     "output_type": "stream",
     "text": [
      " 85%|████████▌ | 257/301 [02:58<00:33,  1.30it/s]"
     ]
    },
    {
     "name": "stdout",
     "output_type": "stream",
     "text": [
      "256 [D loss: 0.000000, acc.: 100.00%] [G loss: 144.358093]\n"
     ]
    },
    {
     "name": "stderr",
     "output_type": "stream",
     "text": [
      " 86%|████████▌ | 258/301 [02:59<00:32,  1.31it/s]"
     ]
    },
    {
     "name": "stdout",
     "output_type": "stream",
     "text": [
      "257 [D loss: 0.000000, acc.: 100.00%] [G loss: 138.134750]\n"
     ]
    },
    {
     "name": "stderr",
     "output_type": "stream",
     "text": [
      " 86%|████████▌ | 259/301 [02:59<00:31,  1.34it/s]"
     ]
    },
    {
     "name": "stdout",
     "output_type": "stream",
     "text": [
      "258 [D loss: 0.000000, acc.: 100.00%] [G loss: 122.468704]\n"
     ]
    },
    {
     "name": "stderr",
     "output_type": "stream",
     "text": [
      " 86%|████████▋ | 260/301 [03:00<00:31,  1.29it/s]"
     ]
    },
    {
     "name": "stdout",
     "output_type": "stream",
     "text": [
      "259 [D loss: 0.000000, acc.: 100.00%] [G loss: 124.327827]\n"
     ]
    },
    {
     "name": "stderr",
     "output_type": "stream",
     "text": [
      " 87%|████████▋ | 261/301 [03:01<00:30,  1.30it/s]"
     ]
    },
    {
     "name": "stdout",
     "output_type": "stream",
     "text": [
      "260 [D loss: 0.000000, acc.: 100.00%] [G loss: 124.390228]\n"
     ]
    },
    {
     "name": "stderr",
     "output_type": "stream",
     "text": [
      " 87%|████████▋ | 262/301 [03:02<00:29,  1.33it/s]"
     ]
    },
    {
     "name": "stdout",
     "output_type": "stream",
     "text": [
      "261 [D loss: 0.000002, acc.: 100.00%] [G loss: 137.893799]\n"
     ]
    },
    {
     "name": "stderr",
     "output_type": "stream",
     "text": [
      " 87%|████████▋ | 263/301 [03:02<00:28,  1.35it/s]"
     ]
    },
    {
     "name": "stdout",
     "output_type": "stream",
     "text": [
      "262 [D loss: 0.000000, acc.: 100.00%] [G loss: 132.524841]\n"
     ]
    },
    {
     "name": "stderr",
     "output_type": "stream",
     "text": [
      " 88%|████████▊ | 264/301 [03:03<00:26,  1.37it/s]"
     ]
    },
    {
     "name": "stdout",
     "output_type": "stream",
     "text": [
      "263 [D loss: 0.000000, acc.: 100.00%] [G loss: 132.774597]\n"
     ]
    },
    {
     "name": "stderr",
     "output_type": "stream",
     "text": [
      " 88%|████████▊ | 265/301 [03:04<00:25,  1.39it/s]"
     ]
    },
    {
     "name": "stdout",
     "output_type": "stream",
     "text": [
      "264 [D loss: 0.000000, acc.: 100.00%] [G loss: 131.204681]\n"
     ]
    },
    {
     "name": "stderr",
     "output_type": "stream",
     "text": [
      " 88%|████████▊ | 266/301 [03:04<00:25,  1.39it/s]"
     ]
    },
    {
     "name": "stdout",
     "output_type": "stream",
     "text": [
      "265 [D loss: 0.000000, acc.: 100.00%] [G loss: 134.541672]\n"
     ]
    },
    {
     "name": "stderr",
     "output_type": "stream",
     "text": [
      " 89%|████████▊ | 267/301 [03:05<00:24,  1.40it/s]"
     ]
    },
    {
     "name": "stdout",
     "output_type": "stream",
     "text": [
      "266 [D loss: 0.000000, acc.: 100.00%] [G loss: 128.816711]\n"
     ]
    },
    {
     "name": "stderr",
     "output_type": "stream",
     "text": [
      " 89%|████████▉ | 268/301 [03:06<00:23,  1.42it/s]"
     ]
    },
    {
     "name": "stdout",
     "output_type": "stream",
     "text": [
      "267 [D loss: 0.000000, acc.: 100.00%] [G loss: 119.419373]\n"
     ]
    },
    {
     "name": "stderr",
     "output_type": "stream",
     "text": [
      " 89%|████████▉ | 269/301 [03:06<00:22,  1.44it/s]"
     ]
    },
    {
     "name": "stdout",
     "output_type": "stream",
     "text": [
      "268 [D loss: 0.000000, acc.: 100.00%] [G loss: 126.503807]\n"
     ]
    },
    {
     "name": "stderr",
     "output_type": "stream",
     "text": [
      " 90%|████████▉ | 270/301 [03:07<00:21,  1.44it/s]"
     ]
    },
    {
     "name": "stdout",
     "output_type": "stream",
     "text": [
      "269 [D loss: 0.000038, acc.: 100.00%] [G loss: 141.864578]\n"
     ]
    },
    {
     "name": "stderr",
     "output_type": "stream",
     "text": [
      " 90%|█████████ | 271/301 [03:08<00:20,  1.44it/s]"
     ]
    },
    {
     "name": "stdout",
     "output_type": "stream",
     "text": [
      "270 [D loss: 0.000000, acc.: 100.00%] [G loss: 146.622131]\n"
     ]
    },
    {
     "name": "stderr",
     "output_type": "stream",
     "text": [
      " 90%|█████████ | 272/301 [03:09<00:20,  1.45it/s]"
     ]
    },
    {
     "name": "stdout",
     "output_type": "stream",
     "text": [
      "271 [D loss: 0.000000, acc.: 100.00%] [G loss: 140.217911]\n"
     ]
    },
    {
     "name": "stderr",
     "output_type": "stream",
     "text": [
      " 91%|█████████ | 273/301 [03:09<00:19,  1.44it/s]"
     ]
    },
    {
     "name": "stdout",
     "output_type": "stream",
     "text": [
      "272 [D loss: 0.000000, acc.: 100.00%] [G loss: 138.792191]\n"
     ]
    },
    {
     "name": "stderr",
     "output_type": "stream",
     "text": [
      " 91%|█████████ | 274/301 [03:10<00:18,  1.43it/s]"
     ]
    },
    {
     "name": "stdout",
     "output_type": "stream",
     "text": [
      "273 [D loss: 0.000003, acc.: 100.00%] [G loss: 133.968063]\n"
     ]
    },
    {
     "name": "stderr",
     "output_type": "stream",
     "text": [
      " 91%|█████████▏| 275/301 [03:11<00:18,  1.43it/s]"
     ]
    },
    {
     "name": "stdout",
     "output_type": "stream",
     "text": [
      "274 [D loss: 0.000000, acc.: 100.00%] [G loss: 167.073456]\n"
     ]
    },
    {
     "name": "stderr",
     "output_type": "stream",
     "text": [
      " 92%|█████████▏| 276/301 [03:11<00:17,  1.43it/s]"
     ]
    },
    {
     "name": "stdout",
     "output_type": "stream",
     "text": [
      "275 [D loss: 0.000000, acc.: 100.00%] [G loss: 123.450180]\n"
     ]
    },
    {
     "name": "stderr",
     "output_type": "stream",
     "text": [
      " 92%|█████████▏| 277/301 [03:12<00:16,  1.45it/s]"
     ]
    },
    {
     "name": "stdout",
     "output_type": "stream",
     "text": [
      "276 [D loss: 0.000000, acc.: 100.00%] [G loss: 136.671600]\n"
     ]
    },
    {
     "name": "stderr",
     "output_type": "stream",
     "text": [
      " 92%|█████████▏| 278/301 [03:13<00:15,  1.47it/s]"
     ]
    },
    {
     "name": "stdout",
     "output_type": "stream",
     "text": [
      "277 [D loss: 0.000000, acc.: 100.00%] [G loss: 133.496582]\n"
     ]
    },
    {
     "name": "stderr",
     "output_type": "stream",
     "text": [
      " 93%|█████████▎| 279/301 [03:13<00:15,  1.44it/s]"
     ]
    },
    {
     "name": "stdout",
     "output_type": "stream",
     "text": [
      "278 [D loss: 0.000000, acc.: 100.00%] [G loss: 144.610428]\n"
     ]
    },
    {
     "name": "stderr",
     "output_type": "stream",
     "text": [
      " 93%|█████████▎| 280/301 [03:14<00:14,  1.44it/s]"
     ]
    },
    {
     "name": "stdout",
     "output_type": "stream",
     "text": [
      "279 [D loss: 0.000001, acc.: 100.00%] [G loss: 127.951569]\n"
     ]
    },
    {
     "name": "stderr",
     "output_type": "stream",
     "text": [
      " 93%|█████████▎| 281/301 [03:15<00:13,  1.45it/s]"
     ]
    },
    {
     "name": "stdout",
     "output_type": "stream",
     "text": [
      "280 [D loss: 0.000000, acc.: 100.00%] [G loss: 127.831299]\n"
     ]
    },
    {
     "name": "stderr",
     "output_type": "stream",
     "text": [
      " 94%|█████████▎| 282/301 [03:15<00:13,  1.44it/s]"
     ]
    },
    {
     "name": "stdout",
     "output_type": "stream",
     "text": [
      "281 [D loss: 0.000001, acc.: 100.00%] [G loss: 140.781067]\n"
     ]
    },
    {
     "name": "stderr",
     "output_type": "stream",
     "text": [
      " 94%|█████████▍| 283/301 [03:16<00:12,  1.45it/s]"
     ]
    },
    {
     "name": "stdout",
     "output_type": "stream",
     "text": [
      "282 [D loss: 0.000000, acc.: 100.00%] [G loss: 137.062408]\n"
     ]
    },
    {
     "name": "stderr",
     "output_type": "stream",
     "text": [
      " 94%|█████████▍| 284/301 [03:17<00:11,  1.45it/s]"
     ]
    },
    {
     "name": "stdout",
     "output_type": "stream",
     "text": [
      "283 [D loss: 0.000000, acc.: 100.00%] [G loss: 136.003448]\n"
     ]
    },
    {
     "name": "stderr",
     "output_type": "stream",
     "text": [
      " 95%|█████████▍| 285/301 [03:18<00:11,  1.43it/s]"
     ]
    },
    {
     "name": "stdout",
     "output_type": "stream",
     "text": [
      "284 [D loss: 0.000000, acc.: 100.00%] [G loss: 132.767242]\n"
     ]
    },
    {
     "name": "stderr",
     "output_type": "stream",
     "text": [
      " 95%|█████████▌| 286/301 [03:18<00:10,  1.43it/s]"
     ]
    },
    {
     "name": "stdout",
     "output_type": "stream",
     "text": [
      "285 [D loss: 0.000000, acc.: 100.00%] [G loss: 160.367538]\n"
     ]
    },
    {
     "name": "stderr",
     "output_type": "stream",
     "text": [
      " 95%|█████████▌| 287/301 [03:19<00:09,  1.46it/s]"
     ]
    },
    {
     "name": "stdout",
     "output_type": "stream",
     "text": [
      "286 [D loss: 0.000000, acc.: 100.00%] [G loss: 148.029327]\n"
     ]
    },
    {
     "name": "stderr",
     "output_type": "stream",
     "text": [
      " 96%|█████████▌| 288/301 [03:20<00:08,  1.47it/s]"
     ]
    },
    {
     "name": "stdout",
     "output_type": "stream",
     "text": [
      "287 [D loss: 0.000000, acc.: 100.00%] [G loss: 148.749374]\n"
     ]
    },
    {
     "name": "stderr",
     "output_type": "stream",
     "text": [
      " 96%|█████████▌| 289/301 [03:20<00:08,  1.46it/s]"
     ]
    },
    {
     "name": "stdout",
     "output_type": "stream",
     "text": [
      "288 [D loss: 0.000000, acc.: 100.00%] [G loss: 155.584625]\n"
     ]
    },
    {
     "name": "stderr",
     "output_type": "stream",
     "text": [
      " 96%|█████████▋| 290/301 [03:21<00:07,  1.45it/s]"
     ]
    },
    {
     "name": "stdout",
     "output_type": "stream",
     "text": [
      "289 [D loss: 0.000000, acc.: 100.00%] [G loss: 133.463959]\n"
     ]
    },
    {
     "name": "stderr",
     "output_type": "stream",
     "text": [
      " 97%|█████████▋| 291/301 [03:22<00:06,  1.45it/s]"
     ]
    },
    {
     "name": "stdout",
     "output_type": "stream",
     "text": [
      "290 [D loss: 0.000001, acc.: 100.00%] [G loss: 126.928299]\n"
     ]
    },
    {
     "name": "stderr",
     "output_type": "stream",
     "text": [
      " 97%|█████████▋| 292/301 [03:22<00:06,  1.46it/s]"
     ]
    },
    {
     "name": "stdout",
     "output_type": "stream",
     "text": [
      "291 [D loss: 0.000000, acc.: 100.00%] [G loss: 164.912949]\n"
     ]
    },
    {
     "name": "stderr",
     "output_type": "stream",
     "text": [
      " 97%|█████████▋| 293/301 [03:23<00:05,  1.47it/s]"
     ]
    },
    {
     "name": "stdout",
     "output_type": "stream",
     "text": [
      "292 [D loss: 0.000000, acc.: 100.00%] [G loss: 145.814117]\n"
     ]
    },
    {
     "name": "stderr",
     "output_type": "stream",
     "text": [
      " 98%|█████████▊| 294/301 [03:24<00:04,  1.46it/s]"
     ]
    },
    {
     "name": "stdout",
     "output_type": "stream",
     "text": [
      "293 [D loss: 0.000000, acc.: 100.00%] [G loss: 120.278221]\n"
     ]
    },
    {
     "name": "stderr",
     "output_type": "stream",
     "text": [
      " 98%|█████████▊| 295/301 [03:24<00:04,  1.44it/s]"
     ]
    },
    {
     "name": "stdout",
     "output_type": "stream",
     "text": [
      "294 [D loss: 0.000000, acc.: 100.00%] [G loss: 124.398689]\n"
     ]
    },
    {
     "name": "stderr",
     "output_type": "stream",
     "text": [
      " 98%|█████████▊| 296/301 [03:25<00:03,  1.45it/s]"
     ]
    },
    {
     "name": "stdout",
     "output_type": "stream",
     "text": [
      "295 [D loss: 0.000000, acc.: 100.00%] [G loss: 136.368958]\n"
     ]
    },
    {
     "name": "stderr",
     "output_type": "stream",
     "text": [
      " 99%|█████████▊| 297/301 [03:26<00:02,  1.45it/s]"
     ]
    },
    {
     "name": "stdout",
     "output_type": "stream",
     "text": [
      "296 [D loss: 0.000000, acc.: 100.00%] [G loss: 140.569763]\n"
     ]
    },
    {
     "name": "stderr",
     "output_type": "stream",
     "text": [
      " 99%|█████████▉| 298/301 [03:26<00:02,  1.46it/s]"
     ]
    },
    {
     "name": "stdout",
     "output_type": "stream",
     "text": [
      "297 [D loss: 0.000000, acc.: 100.00%] [G loss: 139.812469]\n"
     ]
    },
    {
     "name": "stderr",
     "output_type": "stream",
     "text": [
      " 99%|█████████▉| 299/301 [03:27<00:01,  1.46it/s]"
     ]
    },
    {
     "name": "stdout",
     "output_type": "stream",
     "text": [
      "298 [D loss: 0.000000, acc.: 100.00%] [G loss: 142.208038]\n"
     ]
    },
    {
     "name": "stderr",
     "output_type": "stream",
     "text": [
      "100%|█████████▉| 300/301 [03:28<00:00,  1.45it/s]"
     ]
    },
    {
     "name": "stdout",
     "output_type": "stream",
     "text": [
      "299 [D loss: 0.000000, acc.: 100.00%] [G loss: 160.800430]\n",
      "300 [D loss: 0.000000, acc.: 100.00%] [G loss: 167.239441]\n"
     ]
    },
    {
     "name": "stderr",
     "output_type": "stream",
     "text": [
      "\n",
      "Synthetic data generation:   0%|          | 0/8 [00:00<?, ?it/s]\u001B[A\n",
      "Synthetic data generation:  38%|███▊      | 3/8 [00:00<00:00, 21.89it/s]\u001B[A\n",
      "Synthetic data generation: 100%|██████████| 8/8 [00:00<00:00, 22.16it/s]\u001B[A\n",
      "100%|██████████| 301/301 [03:29<00:00,  1.44it/s]\n"
     ]
    }
   ],
   "source": [
    "#----------------------------\n",
    "#    GAN Training\n",
    "#----------------------------\n",
    "\n",
    "#Training the Conditional GAN\n",
    "synthesizer.train(data=train_sample, label_col=label_col, train_arguments=train_args,\n",
    "                 num_cols=numeric_cols, cat_cols=cat_cols )\n",
    "\n",
    "#Saving the synthesizer\n",
    "if to_save:\n",
    "    synthesizer.save(GERMAN_CREDIT_GEN_CGAN_MODEL_PATH)"
   ]
  },
  {
   "cell_type": "markdown",
   "source": [
    "# Save the model"
   ],
   "metadata": {
    "collapsed": false,
    "pycharm": {
     "name": "#%% md\n"
    }
   }
  },
  {
   "cell_type": "code",
   "execution_count": 11,
   "outputs": [],
   "source": [
    "lock = True\n",
    "if lock:\n",
    "    synthesizer.save(GERMAN_CREDIT_GEN_CGAN_MODEL_PATH)"
   ],
   "metadata": {
    "collapsed": false,
    "pycharm": {
     "name": "#%%\n"
    }
   }
  },
  {
   "cell_type": "markdown",
   "source": [
    "# Synthesize samples based on the trained CGAN:"
   ],
   "metadata": {
    "collapsed": false,
    "pycharm": {
     "name": "#%% md\n"
    }
   }
  },
  {
   "cell_type": "code",
   "execution_count": 73,
   "outputs": [
    {
     "name": "stderr",
     "output_type": "stream",
     "text": [
      "Synthetic data generation: 100%|██████████| 1/1 [00:00<00:00, 18.97it/s]\n"
     ]
    },
    {
     "data": {
      "text/plain": "(128, 52)"
     },
     "execution_count": 73,
     "metadata": {},
     "output_type": "execute_result"
    }
   ],
   "source": [
    "synthesizer.sample(condition=np.array([1]), n_samples=2).shape"
   ],
   "metadata": {
    "collapsed": false,
    "pycharm": {
     "name": "#%%\n"
    }
   }
  },
  {
   "cell_type": "code",
   "execution_count": 3,
   "metadata": {
    "id": "rgDV0YPv504b"
   },
   "outputs": [
    {
     "ename": "NameError",
     "evalue": "name 'CGAN' is not defined",
     "output_type": "error",
     "traceback": [
      "\u001B[0;31m---------------------------------------------------------------------------\u001B[0m",
      "\u001B[0;31mNameError\u001B[0m                                 Traceback (most recent call last)",
      "\u001B[0;32m/tmp/ipykernel_153454/3526043571.py\u001B[0m in \u001B[0;36m<module>\u001B[0;34m\u001B[0m\n\u001B[0;32m----> 1\u001B[0;31m \u001B[0msynthesizer\u001B[0m \u001B[0;34m=\u001B[0m \u001B[0mCGAN\u001B[0m\u001B[0;34m.\u001B[0m\u001B[0mload\u001B[0m\u001B[0;34m(\u001B[0m\u001B[0mGERMAN_CREDIT_GEN_CGAN_MODEL_PATH\u001B[0m\u001B[0;34m)\u001B[0m\u001B[0;34m\u001B[0m\u001B[0;34m\u001B[0m\u001B[0m\n\u001B[0m",
      "\u001B[0;31mNameError\u001B[0m: name 'CGAN' is not defined"
     ]
    }
   ],
   "source": [
    "synthesizer = CGAN.load(GERMAN_CREDIT_GEN_CGAN_MODEL_PATH)"
   ]
  },
  {
   "cell_type": "markdown",
   "metadata": {
    "id": "wreSLP2DxjHi"
   },
   "source": [
    "# Generate Samples"
   ]
  },
  {
   "cell_type": "code",
   "execution_count": 13,
   "metadata": {
    "id": "KT0rf9AIMsz3"
   },
   "outputs": [
    {
     "name": "stdout",
     "output_type": "stream",
     "text": [
      "Model: \"model\"\n",
      "__________________________________________________________________________________________________\n",
      "Layer (type)                    Output Shape         Param #     Connected to                     \n",
      "==================================================================================================\n",
      "input_2 (InputLayer)            [(128, 1)]           0                                            \n",
      "__________________________________________________________________________________________________\n",
      "embedding (Embedding)           (128, 1, 1)          2           input_2[0][0]                    \n",
      "__________________________________________________________________________________________________\n",
      "input_1 (InputLayer)            [(128, 32)]          0                                            \n",
      "__________________________________________________________________________________________________\n",
      "flatten (Flatten)               (128, 1)             0           embedding[0][0]                  \n",
      "__________________________________________________________________________________________________\n",
      "multiply (Multiply)             (128, 32)            0           input_1[0][0]                    \n",
      "                                                                 flatten[0][0]                    \n",
      "__________________________________________________________________________________________________\n",
      "dense (Dense)                   (128, 128)           4224        multiply[0][0]                   \n",
      "__________________________________________________________________________________________________\n",
      "dense_1 (Dense)                 (128, 256)           33024       dense[0][0]                      \n",
      "__________________________________________________________________________________________________\n",
      "dense_2 (Dense)                 (128, 512)           131584      dense_1[0][0]                    \n",
      "__________________________________________________________________________________________________\n",
      "dense_3 (Dense)                 (128, 115)           58995       dense_2[0][0]                    \n",
      "__________________________________________________________________________________________________\n",
      "tf.split (TFOpLambda)           [(128, 7), (128, 108 0           dense_3[0][0]                    \n",
      "__________________________________________________________________________________________________\n",
      "tf.split_1 (TFOpLambda)         [(128, 2), (128, 2), 0           tf.split[0][1]                   \n",
      "__________________________________________________________________________________________________\n",
      "num_cols_activation (Activation (128, 7)             0           tf.split[0][0]                   \n",
      "__________________________________________________________________________________________________\n",
      "existingchecking_A11 (GumbelSof ((128, 2), (128, 2)) 0           tf.split_1[0][0]                 \n",
      "__________________________________________________________________________________________________\n",
      "existingchecking_A12 (GumbelSof ((128, 2), (128, 2)) 0           tf.split_1[0][1]                 \n",
      "__________________________________________________________________________________________________\n",
      "existingchecking_A13 (GumbelSof ((128, 2), (128, 2)) 0           tf.split_1[0][2]                 \n",
      "__________________________________________________________________________________________________\n",
      "existingchecking_A14 (GumbelSof ((128, 2), (128, 2)) 0           tf.split_1[0][3]                 \n",
      "__________________________________________________________________________________________________\n",
      "credithistory_A30 (GumbelSoftma ((128, 2), (128, 2)) 0           tf.split_1[0][4]                 \n",
      "__________________________________________________________________________________________________\n",
      "credithistory_A31 (GumbelSoftma ((128, 2), (128, 2)) 0           tf.split_1[0][5]                 \n",
      "__________________________________________________________________________________________________\n",
      "credithistory_A32 (GumbelSoftma ((128, 2), (128, 2)) 0           tf.split_1[0][6]                 \n",
      "__________________________________________________________________________________________________\n",
      "credithistory_A33 (GumbelSoftma ((128, 2), (128, 2)) 0           tf.split_1[0][7]                 \n",
      "__________________________________________________________________________________________________\n",
      "credithistory_A34 (GumbelSoftma ((128, 2), (128, 2)) 0           tf.split_1[0][8]                 \n",
      "__________________________________________________________________________________________________\n",
      "purpose_A40 (GumbelSoftmaxLayer ((128, 2), (128, 2)) 0           tf.split_1[0][9]                 \n",
      "__________________________________________________________________________________________________\n",
      "purpose_A41 (GumbelSoftmaxLayer ((128, 2), (128, 2)) 0           tf.split_1[0][10]                \n",
      "__________________________________________________________________________________________________\n",
      "purpose_A410 (GumbelSoftmaxLaye ((128, 2), (128, 2)) 0           tf.split_1[0][11]                \n",
      "__________________________________________________________________________________________________\n",
      "purpose_A42 (GumbelSoftmaxLayer ((128, 2), (128, 2)) 0           tf.split_1[0][12]                \n",
      "__________________________________________________________________________________________________\n",
      "purpose_A43 (GumbelSoftmaxLayer ((128, 2), (128, 2)) 0           tf.split_1[0][13]                \n",
      "__________________________________________________________________________________________________\n",
      "purpose_A44 (GumbelSoftmaxLayer ((128, 2), (128, 2)) 0           tf.split_1[0][14]                \n",
      "__________________________________________________________________________________________________\n",
      "purpose_A45 (GumbelSoftmaxLayer ((128, 2), (128, 2)) 0           tf.split_1[0][15]                \n",
      "__________________________________________________________________________________________________\n",
      "purpose_A46 (GumbelSoftmaxLayer ((128, 2), (128, 2)) 0           tf.split_1[0][16]                \n",
      "__________________________________________________________________________________________________\n",
      "purpose_A48 (GumbelSoftmaxLayer ((128, 2), (128, 2)) 0           tf.split_1[0][17]                \n",
      "__________________________________________________________________________________________________\n",
      "purpose_A49 (GumbelSoftmaxLayer ((128, 2), (128, 2)) 0           tf.split_1[0][18]                \n",
      "__________________________________________________________________________________________________\n",
      "savings_A61 (GumbelSoftmaxLayer ((128, 2), (128, 2)) 0           tf.split_1[0][19]                \n",
      "__________________________________________________________________________________________________\n",
      "savings_A62 (GumbelSoftmaxLayer ((128, 2), (128, 2)) 0           tf.split_1[0][20]                \n",
      "__________________________________________________________________________________________________\n",
      "savings_A63 (GumbelSoftmaxLayer ((128, 2), (128, 2)) 0           tf.split_1[0][21]                \n",
      "__________________________________________________________________________________________________\n",
      "savings_A64 (GumbelSoftmaxLayer ((128, 2), (128, 2)) 0           tf.split_1[0][22]                \n",
      "__________________________________________________________________________________________________\n",
      "savings_A65 (GumbelSoftmaxLayer ((128, 2), (128, 2)) 0           tf.split_1[0][23]                \n",
      "__________________________________________________________________________________________________\n",
      "employmentsince_A71 (GumbelSoft ((128, 2), (128, 2)) 0           tf.split_1[0][24]                \n",
      "__________________________________________________________________________________________________\n",
      "employmentsince_A72 (GumbelSoft ((128, 2), (128, 2)) 0           tf.split_1[0][25]                \n",
      "__________________________________________________________________________________________________\n",
      "employmentsince_A73 (GumbelSoft ((128, 2), (128, 2)) 0           tf.split_1[0][26]                \n",
      "__________________________________________________________________________________________________\n",
      "employmentsince_A74 (GumbelSoft ((128, 2), (128, 2)) 0           tf.split_1[0][27]                \n",
      "__________________________________________________________________________________________________\n",
      "employmentsince_A75 (GumbelSoft ((128, 2), (128, 2)) 0           tf.split_1[0][28]                \n",
      "__________________________________________________________________________________________________\n",
      "statussex_A91 (GumbelSoftmaxLay ((128, 2), (128, 2)) 0           tf.split_1[0][29]                \n",
      "__________________________________________________________________________________________________\n",
      "statussex_A92 (GumbelSoftmaxLay ((128, 2), (128, 2)) 0           tf.split_1[0][30]                \n",
      "__________________________________________________________________________________________________\n",
      "statussex_A93 (GumbelSoftmaxLay ((128, 2), (128, 2)) 0           tf.split_1[0][31]                \n",
      "__________________________________________________________________________________________________\n",
      "statussex_A94 (GumbelSoftmaxLay ((128, 2), (128, 2)) 0           tf.split_1[0][32]                \n",
      "__________________________________________________________________________________________________\n",
      "otherdebtors_A101 (GumbelSoftma ((128, 2), (128, 2)) 0           tf.split_1[0][33]                \n",
      "__________________________________________________________________________________________________\n",
      "otherdebtors_A102 (GumbelSoftma ((128, 2), (128, 2)) 0           tf.split_1[0][34]                \n",
      "__________________________________________________________________________________________________\n",
      "otherdebtors_A103 (GumbelSoftma ((128, 2), (128, 2)) 0           tf.split_1[0][35]                \n",
      "__________________________________________________________________________________________________\n",
      "property_A121 (GumbelSoftmaxLay ((128, 2), (128, 2)) 0           tf.split_1[0][36]                \n",
      "__________________________________________________________________________________________________\n",
      "property_A122 (GumbelSoftmaxLay ((128, 2), (128, 2)) 0           tf.split_1[0][37]                \n",
      "__________________________________________________________________________________________________\n",
      "property_A123 (GumbelSoftmaxLay ((128, 2), (128, 2)) 0           tf.split_1[0][38]                \n",
      "__________________________________________________________________________________________________\n",
      "property_A124 (GumbelSoftmaxLay ((128, 2), (128, 2)) 0           tf.split_1[0][39]                \n",
      "__________________________________________________________________________________________________\n",
      "otherinstallmentplans_A141 (Gum ((128, 2), (128, 2)) 0           tf.split_1[0][40]                \n",
      "__________________________________________________________________________________________________\n",
      "otherinstallmentplans_A142 (Gum ((128, 2), (128, 2)) 0           tf.split_1[0][41]                \n",
      "__________________________________________________________________________________________________\n",
      "otherinstallmentplans_A143 (Gum ((128, 2), (128, 2)) 0           tf.split_1[0][42]                \n",
      "__________________________________________________________________________________________________\n",
      "housing_A151 (GumbelSoftmaxLaye ((128, 2), (128, 2)) 0           tf.split_1[0][43]                \n",
      "__________________________________________________________________________________________________\n",
      "housing_A152 (GumbelSoftmaxLaye ((128, 2), (128, 2)) 0           tf.split_1[0][44]                \n",
      "__________________________________________________________________________________________________\n",
      "housing_A153 (GumbelSoftmaxLaye ((128, 2), (128, 2)) 0           tf.split_1[0][45]                \n",
      "__________________________________________________________________________________________________\n",
      "job_A171 (GumbelSoftmaxLayer)   ((128, 2), (128, 2)) 0           tf.split_1[0][46]                \n",
      "__________________________________________________________________________________________________\n",
      "job_A172 (GumbelSoftmaxLayer)   ((128, 2), (128, 2)) 0           tf.split_1[0][47]                \n",
      "__________________________________________________________________________________________________\n",
      "job_A173 (GumbelSoftmaxLayer)   ((128, 2), (128, 2)) 0           tf.split_1[0][48]                \n",
      "__________________________________________________________________________________________________\n",
      "job_A174 (GumbelSoftmaxLayer)   ((128, 2), (128, 2)) 0           tf.split_1[0][49]                \n",
      "__________________________________________________________________________________________________\n",
      "telephone_A191 (GumbelSoftmaxLa ((128, 2), (128, 2)) 0           tf.split_1[0][50]                \n",
      "__________________________________________________________________________________________________\n",
      "telephone_A192 (GumbelSoftmaxLa ((128, 2), (128, 2)) 0           tf.split_1[0][51]                \n",
      "__________________________________________________________________________________________________\n",
      "foreignworker_A201 (GumbelSoftm ((128, 2), (128, 2)) 0           tf.split_1[0][52]                \n",
      "__________________________________________________________________________________________________\n",
      "foreignworker_A202 (GumbelSoftm ((128, 2), (128, 2)) 0           tf.split_1[0][53]                \n",
      "__________________________________________________________________________________________________\n",
      "tf.concat (TFOpLambda)          (128, 115)           0           num_cols_activation[0][0]        \n",
      "                                                                 existingchecking_A11[0][0]       \n",
      "                                                                 existingchecking_A12[0][0]       \n",
      "                                                                 existingchecking_A13[0][0]       \n",
      "                                                                 existingchecking_A14[0][0]       \n",
      "                                                                 credithistory_A30[0][0]          \n",
      "                                                                 credithistory_A31[0][0]          \n",
      "                                                                 credithistory_A32[0][0]          \n",
      "                                                                 credithistory_A33[0][0]          \n",
      "                                                                 credithistory_A34[0][0]          \n",
      "                                                                 purpose_A40[0][0]                \n",
      "                                                                 purpose_A41[0][0]                \n",
      "                                                                 purpose_A410[0][0]               \n",
      "                                                                 purpose_A42[0][0]                \n",
      "                                                                 purpose_A43[0][0]                \n",
      "                                                                 purpose_A44[0][0]                \n",
      "                                                                 purpose_A45[0][0]                \n",
      "                                                                 purpose_A46[0][0]                \n",
      "                                                                 purpose_A48[0][0]                \n",
      "                                                                 purpose_A49[0][0]                \n",
      "                                                                 savings_A61[0][0]                \n",
      "                                                                 savings_A62[0][0]                \n",
      "                                                                 savings_A63[0][0]                \n",
      "                                                                 savings_A64[0][0]                \n",
      "                                                                 savings_A65[0][0]                \n",
      "                                                                 employmentsince_A71[0][0]        \n",
      "                                                                 employmentsince_A72[0][0]        \n",
      "                                                                 employmentsince_A73[0][0]        \n",
      "                                                                 employmentsince_A74[0][0]        \n",
      "                                                                 employmentsince_A75[0][0]        \n",
      "                                                                 statussex_A91[0][0]              \n",
      "                                                                 statussex_A92[0][0]              \n",
      "                                                                 statussex_A93[0][0]              \n",
      "                                                                 statussex_A94[0][0]              \n",
      "                                                                 otherdebtors_A101[0][0]          \n",
      "                                                                 otherdebtors_A102[0][0]          \n",
      "                                                                 otherdebtors_A103[0][0]          \n",
      "                                                                 property_A121[0][0]              \n",
      "                                                                 property_A122[0][0]              \n",
      "                                                                 property_A123[0][0]              \n",
      "                                                                 property_A124[0][0]              \n",
      "                                                                 otherinstallmentplans_A141[0][0] \n",
      "                                                                 otherinstallmentplans_A142[0][0] \n",
      "                                                                 otherinstallmentplans_A143[0][0] \n",
      "                                                                 housing_A151[0][0]               \n",
      "                                                                 housing_A152[0][0]               \n",
      "                                                                 housing_A153[0][0]               \n",
      "                                                                 job_A171[0][0]                   \n",
      "                                                                 job_A172[0][0]                   \n",
      "                                                                 job_A173[0][0]                   \n",
      "                                                                 job_A174[0][0]                   \n",
      "                                                                 telephone_A191[0][0]             \n",
      "                                                                 telephone_A192[0][0]             \n",
      "                                                                 foreignworker_A201[0][0]         \n",
      "                                                                 foreignworker_A202[0][0]         \n",
      "==================================================================================================\n",
      "Total params: 227,829\n",
      "Trainable params: 227,829\n",
      "Non-trainable params: 0\n",
      "__________________________________________________________________________________________________\n"
     ]
    }
   ],
   "source": [
    "synthesizer.generator.summary()\n"
   ]
  },
  {
   "cell_type": "code",
   "execution_count": 12,
   "outputs": [
    {
     "name": "stdout",
     "output_type": "stream",
     "text": [
      "Model: \"model_1\"\n",
      "__________________________________________________________________________________________________\n",
      "Layer (type)                    Output Shape         Param #     Connected to                     \n",
      "==================================================================================================\n",
      "input_4 (InputLayer)            [(128, 1)]           0                                            \n",
      "__________________________________________________________________________________________________\n",
      "input_3 (InputLayer)            [(128, 115)]         0                                            \n",
      "__________________________________________________________________________________________________\n",
      "embedding_1 (Embedding)         (128, 1, 1)          2           input_4[0][0]                    \n",
      "__________________________________________________________________________________________________\n",
      "flatten_2 (Flatten)             (128, 115)           0           input_3[0][0]                    \n",
      "__________________________________________________________________________________________________\n",
      "flatten_1 (Flatten)             (128, 1)             0           embedding_1[0][0]                \n",
      "__________________________________________________________________________________________________\n",
      "multiply_1 (Multiply)           (128, 115)           0           flatten_2[0][0]                  \n",
      "                                                                 flatten_1[0][0]                  \n",
      "__________________________________________________________________________________________________\n",
      "dense_4 (Dense)                 (128, 512)           59392       multiply_1[0][0]                 \n",
      "__________________________________________________________________________________________________\n",
      "dropout (Dropout)               (128, 512)           0           dense_4[0][0]                    \n",
      "__________________________________________________________________________________________________\n",
      "dense_5 (Dense)                 (128, 256)           131328      dropout[0][0]                    \n",
      "__________________________________________________________________________________________________\n",
      "dropout_1 (Dropout)             (128, 256)           0           dense_5[0][0]                    \n",
      "__________________________________________________________________________________________________\n",
      "dense_6 (Dense)                 (128, 128)           32896       dropout_1[0][0]                  \n",
      "__________________________________________________________________________________________________\n",
      "dense_7 (Dense)                 (128, 1)             129         dense_6[0][0]                    \n",
      "==================================================================================================\n",
      "Total params: 223,747\n",
      "Trainable params: 0\n",
      "Non-trainable params: 223,747\n",
      "__________________________________________________________________________________________________\n"
     ]
    }
   ],
   "source": [
    "synthesizer.discriminator.summary()"
   ],
   "metadata": {
    "collapsed": false,
    "pycharm": {
     "name": "#%%\n"
    }
   }
  },
  {
   "cell_type": "markdown",
   "source": [
    "# Load Trained Model"
   ],
   "metadata": {
    "collapsed": false
   }
  },
  {
   "cell_type": "code",
   "execution_count": 7,
   "outputs": [
    {
     "name": "stdout",
     "output_type": "stream",
     "text": [
      "WARNING:tensorflow:AutoGraph could not transform <bound method GumbelSoftmaxLayer.call of <ydata_synthetic.utils.gumbel_softmax.GumbelSoftmaxLayer object at 0x7efcbfdcfe20>> and will run it as-is.\n",
      "Please report this to the TensorFlow team. When filing the bug, set the verbosity to 10 (on Linux, `export AUTOGRAPH_VERBOSITY=10`) and attach the full output.\n",
      "Cause: module 'gast' has no attribute 'Index'\n",
      "To silence this warning, decorate the function with @tf.autograph.experimental.do_not_convert\n",
      "WARNING: AutoGraph could not transform <bound method GumbelSoftmaxLayer.call of <ydata_synthetic.utils.gumbel_softmax.GumbelSoftmaxLayer object at 0x7efcbfdcfe20>> and will run it as-is.\n",
      "Please report this to the TensorFlow team. When filing the bug, set the verbosity to 10 (on Linux, `export AUTOGRAPH_VERBOSITY=10`) and attach the full output.\n",
      "Cause: module 'gast' has no attribute 'Index'\n",
      "To silence this warning, decorate the function with @tf.autograph.experimental.do_not_convert\n"
     ]
    },
    {
     "name": "stderr",
     "output_type": "stream",
     "text": [
      "2021-12-25 11:19:07.241876: I tensorflow/compiler/jit/xla_cpu_device.cc:41] Not creating XLA devices, tf_xla_enable_xla_devices not set\n",
      "2021-12-25 11:19:07.242590: I tensorflow/stream_executor/platform/default/dso_loader.cc:49] Successfully opened dynamic library libcuda.so.1\n",
      "2021-12-25 11:19:07.267683: E tensorflow/stream_executor/cuda/cuda_driver.cc:328] failed call to cuInit: CUDA_ERROR_UNKNOWN: unknown error\n",
      "2021-12-25 11:19:07.267708: I tensorflow/stream_executor/cuda/cuda_diagnostics.cc:169] retrieving CUDA diagnostic information for host: data-science-l-danielle\n",
      "2021-12-25 11:19:07.267714: I tensorflow/stream_executor/cuda/cuda_diagnostics.cc:176] hostname: data-science-l-danielle\n",
      "2021-12-25 11:19:07.267783: I tensorflow/stream_executor/cuda/cuda_diagnostics.cc:200] libcuda reported version is: 470.86.0\n",
      "2021-12-25 11:19:07.267802: I tensorflow/stream_executor/cuda/cuda_diagnostics.cc:204] kernel reported version is: 470.86.0\n",
      "2021-12-25 11:19:07.267807: I tensorflow/stream_executor/cuda/cuda_diagnostics.cc:310] kernel version seems to match DSO: 470.86.0\n",
      "2021-12-25 11:19:07.389407: I tensorflow/core/platform/cpu_feature_guard.cc:142] This TensorFlow binary is optimized with oneAPI Deep Neural Network Library (oneDNN) to use the following CPU instructions in performance-critical operations:  SSE4.1 SSE4.2 AVX AVX2 FMA\n",
      "To enable them in other operations, rebuild TensorFlow with the appropriate compiler flags.\n",
      "2021-12-25 11:19:07.390228: I tensorflow/compiler/jit/xla_gpu_device.cc:99] Not creating XLA devices, tf_xla_enable_xla_devices not set\n"
     ]
    }
   ],
   "source": [
    "synthesizer = CGAN.load(GERMAN_CREDIT_GEN_CGAN_MODEL_PATH)"
   ],
   "metadata": {
    "collapsed": false,
    "pycharm": {
     "name": "#%%\n"
    }
   }
  },
  {
   "cell_type": "code",
   "execution_count": 29,
   "outputs": [
    {
     "data": {
      "text/plain": "2.0"
     },
     "execution_count": 29,
     "metadata": {},
     "output_type": "execute_result"
    }
   ],
   "source": [
    "np.ceil(200/128)"
   ],
   "metadata": {
    "collapsed": false,
    "pycharm": {
     "name": "#%%\n"
    }
   }
  },
  {
   "cell_type": "code",
   "execution_count": 48,
   "outputs": [
    {
     "name": "stderr",
     "output_type": "stream",
     "text": [
      "Synthetic data generation: 100%|██████████| 1/1 [00:00<00:00, 14.20it/s]\n"
     ]
    },
    {
     "data": {
      "text/plain": "     duration  creditamount  installmentrate  residencesince  age  \\\n0           8          1055                1               1   22   \n1           8          1107                1               1   22   \n2           8          1082                1               1   22   \n3           8          1091                1               1   22   \n4           8          1100                1               1   22   \n..        ...           ...              ...             ...  ...   \n123         8          1072                1               1   22   \n124         8          1110                1               1   22   \n125         8          1119                1               1   22   \n126         8          1073                1               1   22   \n127         8          1101                1               1   22   \n\n     existingcredits  peopleliable  existingchecking_A11  \\\n0                  1             1                     1   \n1                  1             1                     1   \n2                  1             1                     1   \n3                  1             1                     1   \n4                  1             1                     0   \n..               ...           ...                   ...   \n123                1             1                     0   \n124                1             1                     1   \n125                1             1                     1   \n126                1             1                     1   \n127                1             1                     0   \n\n     existingchecking_A12  existingchecking_A13  ...  housing_A153  job_A171  \\\n0                       1                     0  ...             0         0   \n1                       0                     0  ...             0         1   \n2                       1                     1  ...             1         0   \n3                       1                     0  ...             1         0   \n4                       1                     0  ...             1         1   \n..                    ...                   ...  ...           ...       ...   \n123                     0                     1  ...             0         1   \n124                     1                     0  ...             0         0   \n125                     0                     1  ...             0         0   \n126                     1                     0  ...             0         1   \n127                     1                     0  ...             1         0   \n\n     job_A172  job_A173  job_A174  telephone_A191  telephone_A192  \\\n0           1         0         1               1               0   \n1           1         0         1               0               0   \n2           0         1         0               1               1   \n3           1         0         1               0               1   \n4           1         0         0               1               1   \n..        ...       ...       ...             ...             ...   \n123         0         1         1               1               0   \n124         1         1         1               1               1   \n125         1         1         1               1               0   \n126         0         0         1               1               1   \n127         0         1         1               0               0   \n\n     foreignworker_A201  foreignworker_A202  NaN  \n0                     0                   0  1.0  \n1                     0                   1  1.0  \n2                     0                   1  1.0  \n3                     0                   1  1.0  \n4                     0                   1  1.0  \n..                  ...                 ...  ...  \n123                   1                   0  1.0  \n124                   1                   0  1.0  \n125                   0                   0  1.0  \n126                   1                   0  1.0  \n127                   1                   1  1.0  \n\n[128 rows x 62 columns]",
      "text/html": "<div>\n<style scoped>\n    .dataframe tbody tr th:only-of-type {\n        vertical-align: middle;\n    }\n\n    .dataframe tbody tr th {\n        vertical-align: top;\n    }\n\n    .dataframe thead th {\n        text-align: right;\n    }\n</style>\n<table border=\"1\" class=\"dataframe\">\n  <thead>\n    <tr style=\"text-align: right;\">\n      <th></th>\n      <th>duration</th>\n      <th>creditamount</th>\n      <th>installmentrate</th>\n      <th>residencesince</th>\n      <th>age</th>\n      <th>existingcredits</th>\n      <th>peopleliable</th>\n      <th>existingchecking_A11</th>\n      <th>existingchecking_A12</th>\n      <th>existingchecking_A13</th>\n      <th>...</th>\n      <th>housing_A153</th>\n      <th>job_A171</th>\n      <th>job_A172</th>\n      <th>job_A173</th>\n      <th>job_A174</th>\n      <th>telephone_A191</th>\n      <th>telephone_A192</th>\n      <th>foreignworker_A201</th>\n      <th>foreignworker_A202</th>\n      <th>NaN</th>\n    </tr>\n  </thead>\n  <tbody>\n    <tr>\n      <th>0</th>\n      <td>8</td>\n      <td>1055</td>\n      <td>1</td>\n      <td>1</td>\n      <td>22</td>\n      <td>1</td>\n      <td>1</td>\n      <td>1</td>\n      <td>1</td>\n      <td>0</td>\n      <td>...</td>\n      <td>0</td>\n      <td>0</td>\n      <td>1</td>\n      <td>0</td>\n      <td>1</td>\n      <td>1</td>\n      <td>0</td>\n      <td>0</td>\n      <td>0</td>\n      <td>1.0</td>\n    </tr>\n    <tr>\n      <th>1</th>\n      <td>8</td>\n      <td>1107</td>\n      <td>1</td>\n      <td>1</td>\n      <td>22</td>\n      <td>1</td>\n      <td>1</td>\n      <td>1</td>\n      <td>0</td>\n      <td>0</td>\n      <td>...</td>\n      <td>0</td>\n      <td>1</td>\n      <td>1</td>\n      <td>0</td>\n      <td>1</td>\n      <td>0</td>\n      <td>0</td>\n      <td>0</td>\n      <td>1</td>\n      <td>1.0</td>\n    </tr>\n    <tr>\n      <th>2</th>\n      <td>8</td>\n      <td>1082</td>\n      <td>1</td>\n      <td>1</td>\n      <td>22</td>\n      <td>1</td>\n      <td>1</td>\n      <td>1</td>\n      <td>1</td>\n      <td>1</td>\n      <td>...</td>\n      <td>1</td>\n      <td>0</td>\n      <td>0</td>\n      <td>1</td>\n      <td>0</td>\n      <td>1</td>\n      <td>1</td>\n      <td>0</td>\n      <td>1</td>\n      <td>1.0</td>\n    </tr>\n    <tr>\n      <th>3</th>\n      <td>8</td>\n      <td>1091</td>\n      <td>1</td>\n      <td>1</td>\n      <td>22</td>\n      <td>1</td>\n      <td>1</td>\n      <td>1</td>\n      <td>1</td>\n      <td>0</td>\n      <td>...</td>\n      <td>1</td>\n      <td>0</td>\n      <td>1</td>\n      <td>0</td>\n      <td>1</td>\n      <td>0</td>\n      <td>1</td>\n      <td>0</td>\n      <td>1</td>\n      <td>1.0</td>\n    </tr>\n    <tr>\n      <th>4</th>\n      <td>8</td>\n      <td>1100</td>\n      <td>1</td>\n      <td>1</td>\n      <td>22</td>\n      <td>1</td>\n      <td>1</td>\n      <td>0</td>\n      <td>1</td>\n      <td>0</td>\n      <td>...</td>\n      <td>1</td>\n      <td>1</td>\n      <td>1</td>\n      <td>0</td>\n      <td>0</td>\n      <td>1</td>\n      <td>1</td>\n      <td>0</td>\n      <td>1</td>\n      <td>1.0</td>\n    </tr>\n    <tr>\n      <th>...</th>\n      <td>...</td>\n      <td>...</td>\n      <td>...</td>\n      <td>...</td>\n      <td>...</td>\n      <td>...</td>\n      <td>...</td>\n      <td>...</td>\n      <td>...</td>\n      <td>...</td>\n      <td>...</td>\n      <td>...</td>\n      <td>...</td>\n      <td>...</td>\n      <td>...</td>\n      <td>...</td>\n      <td>...</td>\n      <td>...</td>\n      <td>...</td>\n      <td>...</td>\n      <td>...</td>\n    </tr>\n    <tr>\n      <th>123</th>\n      <td>8</td>\n      <td>1072</td>\n      <td>1</td>\n      <td>1</td>\n      <td>22</td>\n      <td>1</td>\n      <td>1</td>\n      <td>0</td>\n      <td>0</td>\n      <td>1</td>\n      <td>...</td>\n      <td>0</td>\n      <td>1</td>\n      <td>0</td>\n      <td>1</td>\n      <td>1</td>\n      <td>1</td>\n      <td>0</td>\n      <td>1</td>\n      <td>0</td>\n      <td>1.0</td>\n    </tr>\n    <tr>\n      <th>124</th>\n      <td>8</td>\n      <td>1110</td>\n      <td>1</td>\n      <td>1</td>\n      <td>22</td>\n      <td>1</td>\n      <td>1</td>\n      <td>1</td>\n      <td>1</td>\n      <td>0</td>\n      <td>...</td>\n      <td>0</td>\n      <td>0</td>\n      <td>1</td>\n      <td>1</td>\n      <td>1</td>\n      <td>1</td>\n      <td>1</td>\n      <td>1</td>\n      <td>0</td>\n      <td>1.0</td>\n    </tr>\n    <tr>\n      <th>125</th>\n      <td>8</td>\n      <td>1119</td>\n      <td>1</td>\n      <td>1</td>\n      <td>22</td>\n      <td>1</td>\n      <td>1</td>\n      <td>1</td>\n      <td>0</td>\n      <td>1</td>\n      <td>...</td>\n      <td>0</td>\n      <td>0</td>\n      <td>1</td>\n      <td>1</td>\n      <td>1</td>\n      <td>1</td>\n      <td>0</td>\n      <td>0</td>\n      <td>0</td>\n      <td>1.0</td>\n    </tr>\n    <tr>\n      <th>126</th>\n      <td>8</td>\n      <td>1073</td>\n      <td>1</td>\n      <td>1</td>\n      <td>22</td>\n      <td>1</td>\n      <td>1</td>\n      <td>1</td>\n      <td>1</td>\n      <td>0</td>\n      <td>...</td>\n      <td>0</td>\n      <td>1</td>\n      <td>0</td>\n      <td>0</td>\n      <td>1</td>\n      <td>1</td>\n      <td>1</td>\n      <td>1</td>\n      <td>0</td>\n      <td>1.0</td>\n    </tr>\n    <tr>\n      <th>127</th>\n      <td>8</td>\n      <td>1101</td>\n      <td>1</td>\n      <td>1</td>\n      <td>22</td>\n      <td>1</td>\n      <td>1</td>\n      <td>0</td>\n      <td>1</td>\n      <td>0</td>\n      <td>...</td>\n      <td>1</td>\n      <td>0</td>\n      <td>0</td>\n      <td>1</td>\n      <td>1</td>\n      <td>0</td>\n      <td>0</td>\n      <td>1</td>\n      <td>1</td>\n      <td>1.0</td>\n    </tr>\n  </tbody>\n</table>\n<p>128 rows × 62 columns</p>\n</div>"
     },
     "execution_count": 48,
     "metadata": {},
     "output_type": "execute_result"
    }
   ],
   "source": [
    "generated_df_class_true = synthesizer.sample(condition=np.array([1]), n_samples=1)#batch_size*100)\n",
    "generated_df_class_true"
   ],
   "metadata": {
    "collapsed": false,
    "pycharm": {
     "name": "#%%\n"
    }
   }
  },
  {
   "cell_type": "code",
   "execution_count": 49,
   "outputs": [
    {
     "name": "stderr",
     "output_type": "stream",
     "text": [
      "Synthetic data generation: 100%|██████████| 1/1 [00:00<00:00, 14.05it/s]\n"
     ]
    },
    {
     "data": {
      "text/plain": "     duration  creditamount  installmentrate  residencesince  age  \\\n0           8          1087                1               1   22   \n1           8          1085                1               1   22   \n2           8          1083                1               1   22   \n3           8          1085                1               1   22   \n4           8          1082                1               1   22   \n..        ...           ...              ...             ...  ...   \n123         8          1086                1               1   22   \n124         8          1084                1               1   22   \n125         8          1081                1               1   22   \n126         8          1084                1               1   22   \n127         8          1082                1               1   22   \n\n     existingcredits  peopleliable  existingchecking_A11  \\\n0                  1             1                     0   \n1                  1             1                     0   \n2                  1             1                     1   \n3                  1             1                     0   \n4                  1             1                     0   \n..               ...           ...                   ...   \n123                1             1                     1   \n124                1             1                     1   \n125                1             1                     1   \n126                1             1                     1   \n127                1             1                     0   \n\n     existingchecking_A12  existingchecking_A13  ...  housing_A153  job_A171  \\\n0                       1                     1  ...             1         0   \n1                       1                     1  ...             1         0   \n2                       0                     1  ...             0         0   \n3                       1                     1  ...             0         0   \n4                       1                     1  ...             0         1   \n..                    ...                   ...  ...           ...       ...   \n123                     1                     0  ...             0         1   \n124                     0                     1  ...             1         0   \n125                     0                     0  ...             0         0   \n126                     1                     0  ...             0         1   \n127                     1                     1  ...             0         0   \n\n     job_A172  job_A173  job_A174  telephone_A191  telephone_A192  \\\n0           1         1         0               0               1   \n1           1         1         1               1               1   \n2           1         1         0               0               0   \n3           1         0         1               0               0   \n4           0         1         0               1               1   \n..        ...       ...       ...             ...             ...   \n123         0         1         1               0               0   \n124         0         0         0               0               1   \n125         1         1         1               0               0   \n126         1         1         0               1               0   \n127         0         0         1               0               0   \n\n     foreignworker_A201  foreignworker_A202  NaN  \n0                     1                   0  0.0  \n1                     0                   0  0.0  \n2                     1                   0  0.0  \n3                     1                   0  0.0  \n4                     0                   0  0.0  \n..                  ...                 ...  ...  \n123                   0                   0  0.0  \n124                   1                   1  0.0  \n125                   0                   0  0.0  \n126                   0                   0  0.0  \n127                   1                   1  0.0  \n\n[128 rows x 62 columns]",
      "text/html": "<div>\n<style scoped>\n    .dataframe tbody tr th:only-of-type {\n        vertical-align: middle;\n    }\n\n    .dataframe tbody tr th {\n        vertical-align: top;\n    }\n\n    .dataframe thead th {\n        text-align: right;\n    }\n</style>\n<table border=\"1\" class=\"dataframe\">\n  <thead>\n    <tr style=\"text-align: right;\">\n      <th></th>\n      <th>duration</th>\n      <th>creditamount</th>\n      <th>installmentrate</th>\n      <th>residencesince</th>\n      <th>age</th>\n      <th>existingcredits</th>\n      <th>peopleliable</th>\n      <th>existingchecking_A11</th>\n      <th>existingchecking_A12</th>\n      <th>existingchecking_A13</th>\n      <th>...</th>\n      <th>housing_A153</th>\n      <th>job_A171</th>\n      <th>job_A172</th>\n      <th>job_A173</th>\n      <th>job_A174</th>\n      <th>telephone_A191</th>\n      <th>telephone_A192</th>\n      <th>foreignworker_A201</th>\n      <th>foreignworker_A202</th>\n      <th>NaN</th>\n    </tr>\n  </thead>\n  <tbody>\n    <tr>\n      <th>0</th>\n      <td>8</td>\n      <td>1087</td>\n      <td>1</td>\n      <td>1</td>\n      <td>22</td>\n      <td>1</td>\n      <td>1</td>\n      <td>0</td>\n      <td>1</td>\n      <td>1</td>\n      <td>...</td>\n      <td>1</td>\n      <td>0</td>\n      <td>1</td>\n      <td>1</td>\n      <td>0</td>\n      <td>0</td>\n      <td>1</td>\n      <td>1</td>\n      <td>0</td>\n      <td>0.0</td>\n    </tr>\n    <tr>\n      <th>1</th>\n      <td>8</td>\n      <td>1085</td>\n      <td>1</td>\n      <td>1</td>\n      <td>22</td>\n      <td>1</td>\n      <td>1</td>\n      <td>0</td>\n      <td>1</td>\n      <td>1</td>\n      <td>...</td>\n      <td>1</td>\n      <td>0</td>\n      <td>1</td>\n      <td>1</td>\n      <td>1</td>\n      <td>1</td>\n      <td>1</td>\n      <td>0</td>\n      <td>0</td>\n      <td>0.0</td>\n    </tr>\n    <tr>\n      <th>2</th>\n      <td>8</td>\n      <td>1083</td>\n      <td>1</td>\n      <td>1</td>\n      <td>22</td>\n      <td>1</td>\n      <td>1</td>\n      <td>1</td>\n      <td>0</td>\n      <td>1</td>\n      <td>...</td>\n      <td>0</td>\n      <td>0</td>\n      <td>1</td>\n      <td>1</td>\n      <td>0</td>\n      <td>0</td>\n      <td>0</td>\n      <td>1</td>\n      <td>0</td>\n      <td>0.0</td>\n    </tr>\n    <tr>\n      <th>3</th>\n      <td>8</td>\n      <td>1085</td>\n      <td>1</td>\n      <td>1</td>\n      <td>22</td>\n      <td>1</td>\n      <td>1</td>\n      <td>0</td>\n      <td>1</td>\n      <td>1</td>\n      <td>...</td>\n      <td>0</td>\n      <td>0</td>\n      <td>1</td>\n      <td>0</td>\n      <td>1</td>\n      <td>0</td>\n      <td>0</td>\n      <td>1</td>\n      <td>0</td>\n      <td>0.0</td>\n    </tr>\n    <tr>\n      <th>4</th>\n      <td>8</td>\n      <td>1082</td>\n      <td>1</td>\n      <td>1</td>\n      <td>22</td>\n      <td>1</td>\n      <td>1</td>\n      <td>0</td>\n      <td>1</td>\n      <td>1</td>\n      <td>...</td>\n      <td>0</td>\n      <td>1</td>\n      <td>0</td>\n      <td>1</td>\n      <td>0</td>\n      <td>1</td>\n      <td>1</td>\n      <td>0</td>\n      <td>0</td>\n      <td>0.0</td>\n    </tr>\n    <tr>\n      <th>...</th>\n      <td>...</td>\n      <td>...</td>\n      <td>...</td>\n      <td>...</td>\n      <td>...</td>\n      <td>...</td>\n      <td>...</td>\n      <td>...</td>\n      <td>...</td>\n      <td>...</td>\n      <td>...</td>\n      <td>...</td>\n      <td>...</td>\n      <td>...</td>\n      <td>...</td>\n      <td>...</td>\n      <td>...</td>\n      <td>...</td>\n      <td>...</td>\n      <td>...</td>\n      <td>...</td>\n    </tr>\n    <tr>\n      <th>123</th>\n      <td>8</td>\n      <td>1086</td>\n      <td>1</td>\n      <td>1</td>\n      <td>22</td>\n      <td>1</td>\n      <td>1</td>\n      <td>1</td>\n      <td>1</td>\n      <td>0</td>\n      <td>...</td>\n      <td>0</td>\n      <td>1</td>\n      <td>0</td>\n      <td>1</td>\n      <td>1</td>\n      <td>0</td>\n      <td>0</td>\n      <td>0</td>\n      <td>0</td>\n      <td>0.0</td>\n    </tr>\n    <tr>\n      <th>124</th>\n      <td>8</td>\n      <td>1084</td>\n      <td>1</td>\n      <td>1</td>\n      <td>22</td>\n      <td>1</td>\n      <td>1</td>\n      <td>1</td>\n      <td>0</td>\n      <td>1</td>\n      <td>...</td>\n      <td>1</td>\n      <td>0</td>\n      <td>0</td>\n      <td>0</td>\n      <td>0</td>\n      <td>0</td>\n      <td>1</td>\n      <td>1</td>\n      <td>1</td>\n      <td>0.0</td>\n    </tr>\n    <tr>\n      <th>125</th>\n      <td>8</td>\n      <td>1081</td>\n      <td>1</td>\n      <td>1</td>\n      <td>22</td>\n      <td>1</td>\n      <td>1</td>\n      <td>1</td>\n      <td>0</td>\n      <td>0</td>\n      <td>...</td>\n      <td>0</td>\n      <td>0</td>\n      <td>1</td>\n      <td>1</td>\n      <td>1</td>\n      <td>0</td>\n      <td>0</td>\n      <td>0</td>\n      <td>0</td>\n      <td>0.0</td>\n    </tr>\n    <tr>\n      <th>126</th>\n      <td>8</td>\n      <td>1084</td>\n      <td>1</td>\n      <td>1</td>\n      <td>22</td>\n      <td>1</td>\n      <td>1</td>\n      <td>1</td>\n      <td>1</td>\n      <td>0</td>\n      <td>...</td>\n      <td>0</td>\n      <td>1</td>\n      <td>1</td>\n      <td>1</td>\n      <td>0</td>\n      <td>1</td>\n      <td>0</td>\n      <td>0</td>\n      <td>0</td>\n      <td>0.0</td>\n    </tr>\n    <tr>\n      <th>127</th>\n      <td>8</td>\n      <td>1082</td>\n      <td>1</td>\n      <td>1</td>\n      <td>22</td>\n      <td>1</td>\n      <td>1</td>\n      <td>0</td>\n      <td>1</td>\n      <td>1</td>\n      <td>...</td>\n      <td>0</td>\n      <td>0</td>\n      <td>0</td>\n      <td>0</td>\n      <td>1</td>\n      <td>0</td>\n      <td>0</td>\n      <td>1</td>\n      <td>1</td>\n      <td>0.0</td>\n    </tr>\n  </tbody>\n</table>\n<p>128 rows × 62 columns</p>\n</div>"
     },
     "execution_count": 49,
     "metadata": {},
     "output_type": "execute_result"
    }
   ],
   "source": [
    "generated_df_class_false = synthesizer.sample(condition=np.array([0]), n_samples=1) #n_samples=batch_size*10)\n",
    "generated_df_class_false"
   ],
   "metadata": {
    "collapsed": false,
    "pycharm": {
     "name": "#%%\n"
    }
   }
  },
  {
   "cell_type": "code",
   "execution_count": 51,
   "outputs": [
    {
     "data": {
      "text/plain": "     duration  creditamount  installmentrate  residencesince  age  \\\n97          8          1038                1               1   22   \n94          8          1082                1               1   22   \n44          8          1086                1               1   22   \n42          8          1126                1               1   22   \n3           8          1085                1               1   22   \n124         8          1084                1               1   22   \n2           8          1083                1               1   22   \n23          8          1078                1               1   22   \n45          8          1119                1               1   22   \n84          8          1100                1               1   22   \n\n     existingcredits  peopleliable  existingchecking_A11  \\\n97                 1             1                     1   \n94                 1             1                     1   \n44                 1             1                     1   \n42                 1             1                     1   \n3                  1             1                     0   \n124                1             1                     1   \n2                  1             1                     1   \n23                 1             1                     1   \n45                 1             1                     1   \n84                 1             1                     1   \n\n     existingchecking_A12  existingchecking_A13  ...  housing_A153  job_A171  \\\n97                      0                     0  ...             0         0   \n94                      1                     1  ...             1         1   \n44                      1                     0  ...             0         0   \n42                      0                     0  ...             0         1   \n3                       1                     1  ...             0         0   \n124                     0                     1  ...             1         0   \n2                       0                     1  ...             0         0   \n23                      1                     1  ...             1         1   \n45                      1                     0  ...             0         1   \n84                      0                     1  ...             0         1   \n\n     job_A172  job_A173  job_A174  telephone_A191  telephone_A192  \\\n97          1         0         0               0               1   \n94          1         1         1               0               1   \n44          0         0         0               0               1   \n42          1         0         0               0               1   \n3           1         0         1               0               0   \n124         0         0         0               0               1   \n2           1         1         0               0               0   \n23          0         1         0               0               1   \n45          0         1         1               0               1   \n84          0         1         1               1               1   \n\n     foreignworker_A201  foreignworker_A202  NaN  \n97                    1                   1  1.0  \n94                    0                   1  0.0  \n44                    0                   0  0.0  \n42                    0                   0  1.0  \n3                     1                   0  0.0  \n124                   1                   1  0.0  \n2                     1                   0  0.0  \n23                    1                   0  0.0  \n45                    0                   0  1.0  \n84                    1                   0  1.0  \n\n[10 rows x 62 columns]",
      "text/html": "<div>\n<style scoped>\n    .dataframe tbody tr th:only-of-type {\n        vertical-align: middle;\n    }\n\n    .dataframe tbody tr th {\n        vertical-align: top;\n    }\n\n    .dataframe thead th {\n        text-align: right;\n    }\n</style>\n<table border=\"1\" class=\"dataframe\">\n  <thead>\n    <tr style=\"text-align: right;\">\n      <th></th>\n      <th>duration</th>\n      <th>creditamount</th>\n      <th>installmentrate</th>\n      <th>residencesince</th>\n      <th>age</th>\n      <th>existingcredits</th>\n      <th>peopleliable</th>\n      <th>existingchecking_A11</th>\n      <th>existingchecking_A12</th>\n      <th>existingchecking_A13</th>\n      <th>...</th>\n      <th>housing_A153</th>\n      <th>job_A171</th>\n      <th>job_A172</th>\n      <th>job_A173</th>\n      <th>job_A174</th>\n      <th>telephone_A191</th>\n      <th>telephone_A192</th>\n      <th>foreignworker_A201</th>\n      <th>foreignworker_A202</th>\n      <th>NaN</th>\n    </tr>\n  </thead>\n  <tbody>\n    <tr>\n      <th>97</th>\n      <td>8</td>\n      <td>1038</td>\n      <td>1</td>\n      <td>1</td>\n      <td>22</td>\n      <td>1</td>\n      <td>1</td>\n      <td>1</td>\n      <td>0</td>\n      <td>0</td>\n      <td>...</td>\n      <td>0</td>\n      <td>0</td>\n      <td>1</td>\n      <td>0</td>\n      <td>0</td>\n      <td>0</td>\n      <td>1</td>\n      <td>1</td>\n      <td>1</td>\n      <td>1.0</td>\n    </tr>\n    <tr>\n      <th>94</th>\n      <td>8</td>\n      <td>1082</td>\n      <td>1</td>\n      <td>1</td>\n      <td>22</td>\n      <td>1</td>\n      <td>1</td>\n      <td>1</td>\n      <td>1</td>\n      <td>1</td>\n      <td>...</td>\n      <td>1</td>\n      <td>1</td>\n      <td>1</td>\n      <td>1</td>\n      <td>1</td>\n      <td>0</td>\n      <td>1</td>\n      <td>0</td>\n      <td>1</td>\n      <td>0.0</td>\n    </tr>\n    <tr>\n      <th>44</th>\n      <td>8</td>\n      <td>1086</td>\n      <td>1</td>\n      <td>1</td>\n      <td>22</td>\n      <td>1</td>\n      <td>1</td>\n      <td>1</td>\n      <td>1</td>\n      <td>0</td>\n      <td>...</td>\n      <td>0</td>\n      <td>0</td>\n      <td>0</td>\n      <td>0</td>\n      <td>0</td>\n      <td>0</td>\n      <td>1</td>\n      <td>0</td>\n      <td>0</td>\n      <td>0.0</td>\n    </tr>\n    <tr>\n      <th>42</th>\n      <td>8</td>\n      <td>1126</td>\n      <td>1</td>\n      <td>1</td>\n      <td>22</td>\n      <td>1</td>\n      <td>1</td>\n      <td>1</td>\n      <td>0</td>\n      <td>0</td>\n      <td>...</td>\n      <td>0</td>\n      <td>1</td>\n      <td>1</td>\n      <td>0</td>\n      <td>0</td>\n      <td>0</td>\n      <td>1</td>\n      <td>0</td>\n      <td>0</td>\n      <td>1.0</td>\n    </tr>\n    <tr>\n      <th>3</th>\n      <td>8</td>\n      <td>1085</td>\n      <td>1</td>\n      <td>1</td>\n      <td>22</td>\n      <td>1</td>\n      <td>1</td>\n      <td>0</td>\n      <td>1</td>\n      <td>1</td>\n      <td>...</td>\n      <td>0</td>\n      <td>0</td>\n      <td>1</td>\n      <td>0</td>\n      <td>1</td>\n      <td>0</td>\n      <td>0</td>\n      <td>1</td>\n      <td>0</td>\n      <td>0.0</td>\n    </tr>\n    <tr>\n      <th>124</th>\n      <td>8</td>\n      <td>1084</td>\n      <td>1</td>\n      <td>1</td>\n      <td>22</td>\n      <td>1</td>\n      <td>1</td>\n      <td>1</td>\n      <td>0</td>\n      <td>1</td>\n      <td>...</td>\n      <td>1</td>\n      <td>0</td>\n      <td>0</td>\n      <td>0</td>\n      <td>0</td>\n      <td>0</td>\n      <td>1</td>\n      <td>1</td>\n      <td>1</td>\n      <td>0.0</td>\n    </tr>\n    <tr>\n      <th>2</th>\n      <td>8</td>\n      <td>1083</td>\n      <td>1</td>\n      <td>1</td>\n      <td>22</td>\n      <td>1</td>\n      <td>1</td>\n      <td>1</td>\n      <td>0</td>\n      <td>1</td>\n      <td>...</td>\n      <td>0</td>\n      <td>0</td>\n      <td>1</td>\n      <td>1</td>\n      <td>0</td>\n      <td>0</td>\n      <td>0</td>\n      <td>1</td>\n      <td>0</td>\n      <td>0.0</td>\n    </tr>\n    <tr>\n      <th>23</th>\n      <td>8</td>\n      <td>1078</td>\n      <td>1</td>\n      <td>1</td>\n      <td>22</td>\n      <td>1</td>\n      <td>1</td>\n      <td>1</td>\n      <td>1</td>\n      <td>1</td>\n      <td>...</td>\n      <td>1</td>\n      <td>1</td>\n      <td>0</td>\n      <td>1</td>\n      <td>0</td>\n      <td>0</td>\n      <td>1</td>\n      <td>1</td>\n      <td>0</td>\n      <td>0.0</td>\n    </tr>\n    <tr>\n      <th>45</th>\n      <td>8</td>\n      <td>1119</td>\n      <td>1</td>\n      <td>1</td>\n      <td>22</td>\n      <td>1</td>\n      <td>1</td>\n      <td>1</td>\n      <td>1</td>\n      <td>0</td>\n      <td>...</td>\n      <td>0</td>\n      <td>1</td>\n      <td>0</td>\n      <td>1</td>\n      <td>1</td>\n      <td>0</td>\n      <td>1</td>\n      <td>0</td>\n      <td>0</td>\n      <td>1.0</td>\n    </tr>\n    <tr>\n      <th>84</th>\n      <td>8</td>\n      <td>1100</td>\n      <td>1</td>\n      <td>1</td>\n      <td>22</td>\n      <td>1</td>\n      <td>1</td>\n      <td>1</td>\n      <td>0</td>\n      <td>1</td>\n      <td>...</td>\n      <td>0</td>\n      <td>1</td>\n      <td>0</td>\n      <td>1</td>\n      <td>1</td>\n      <td>1</td>\n      <td>1</td>\n      <td>1</td>\n      <td>0</td>\n      <td>1.0</td>\n    </tr>\n  </tbody>\n</table>\n<p>10 rows × 62 columns</p>\n</div>"
     },
     "execution_count": 51,
     "metadata": {},
     "output_type": "execute_result"
    }
   ],
   "source": [
    "pd.concat([generated_df_class_false, generated_df_class_true]).sample(10)"
   ],
   "metadata": {
    "collapsed": false,
    "pycharm": {
     "name": "#%%\n"
    }
   }
  },
  {
   "cell_type": "code",
   "execution_count": 41,
   "outputs": [
    {
     "data": {
      "text/plain": "       duration  creditamount  installmentrate  residencesince    age  \\\ncount     128.0    128.000000            128.0           128.0  128.0   \nmean        8.0   1101.078125              1.0             1.0   22.0   \nstd         0.0     27.126885              0.0             0.0    0.0   \nmin         8.0   1043.000000              1.0             1.0   22.0   \n25%         8.0   1081.750000              1.0             1.0   22.0   \n50%         8.0   1102.000000              1.0             1.0   22.0   \n75%         8.0   1118.000000              1.0             1.0   22.0   \nmax         8.0   1174.000000              1.0             1.0   22.0   \n\n       existingcredits  peopleliable  existingchecking_A11  \\\ncount            128.0         128.0            128.000000   \nmean               1.0           1.0              0.539062   \nstd                0.0           0.0              0.500430   \nmin                1.0           1.0              0.000000   \n25%                1.0           1.0              0.000000   \n50%                1.0           1.0              1.000000   \n75%                1.0           1.0              1.000000   \nmax                1.0           1.0              1.000000   \n\n       existingchecking_A12  existingchecking_A13  ...  housing_A153  \\\ncount            128.000000            128.000000  ...    128.000000   \nmean               0.445312              0.562500  ...      0.531250   \nstd                0.498953              0.498028  ...      0.500983   \nmin                0.000000              0.000000  ...      0.000000   \n25%                0.000000              0.000000  ...      0.000000   \n50%                0.000000              1.000000  ...      1.000000   \n75%                1.000000              1.000000  ...      1.000000   \nmax                1.000000              1.000000  ...      1.000000   \n\n         job_A171    job_A172    job_A173    job_A174  telephone_A191  \\\ncount  128.000000  128.000000  128.000000  128.000000      128.000000   \nmean     0.468750    0.445312    0.476562    0.570312        0.406250   \nstd      0.500983    0.498953    0.501413    0.496977        0.493062   \nmin      0.000000    0.000000    0.000000    0.000000        0.000000   \n25%      0.000000    0.000000    0.000000    0.000000        0.000000   \n50%      0.000000    0.000000    0.000000    1.000000        0.000000   \n75%      1.000000    1.000000    1.000000    1.000000        1.000000   \nmax      1.000000    1.000000    1.000000    1.000000        1.000000   \n\n       telephone_A192  foreignworker_A201  foreignworker_A202    NaN  \ncount      128.000000          128.000000          128.000000  128.0  \nmean         0.484375            0.515625            0.484375    1.0  \nstd          0.501719            0.501719            0.501719    0.0  \nmin          0.000000            0.000000            0.000000    1.0  \n25%          0.000000            0.000000            0.000000    1.0  \n50%          0.000000            1.000000            0.000000    1.0  \n75%          1.000000            1.000000            1.000000    1.0  \nmax          1.000000            1.000000            1.000000    1.0  \n\n[8 rows x 62 columns]",
      "text/html": "<div>\n<style scoped>\n    .dataframe tbody tr th:only-of-type {\n        vertical-align: middle;\n    }\n\n    .dataframe tbody tr th {\n        vertical-align: top;\n    }\n\n    .dataframe thead th {\n        text-align: right;\n    }\n</style>\n<table border=\"1\" class=\"dataframe\">\n  <thead>\n    <tr style=\"text-align: right;\">\n      <th></th>\n      <th>duration</th>\n      <th>creditamount</th>\n      <th>installmentrate</th>\n      <th>residencesince</th>\n      <th>age</th>\n      <th>existingcredits</th>\n      <th>peopleliable</th>\n      <th>existingchecking_A11</th>\n      <th>existingchecking_A12</th>\n      <th>existingchecking_A13</th>\n      <th>...</th>\n      <th>housing_A153</th>\n      <th>job_A171</th>\n      <th>job_A172</th>\n      <th>job_A173</th>\n      <th>job_A174</th>\n      <th>telephone_A191</th>\n      <th>telephone_A192</th>\n      <th>foreignworker_A201</th>\n      <th>foreignworker_A202</th>\n      <th>NaN</th>\n    </tr>\n  </thead>\n  <tbody>\n    <tr>\n      <th>count</th>\n      <td>128.0</td>\n      <td>128.000000</td>\n      <td>128.0</td>\n      <td>128.0</td>\n      <td>128.0</td>\n      <td>128.0</td>\n      <td>128.0</td>\n      <td>128.000000</td>\n      <td>128.000000</td>\n      <td>128.000000</td>\n      <td>...</td>\n      <td>128.000000</td>\n      <td>128.000000</td>\n      <td>128.000000</td>\n      <td>128.000000</td>\n      <td>128.000000</td>\n      <td>128.000000</td>\n      <td>128.000000</td>\n      <td>128.000000</td>\n      <td>128.000000</td>\n      <td>128.0</td>\n    </tr>\n    <tr>\n      <th>mean</th>\n      <td>8.0</td>\n      <td>1101.078125</td>\n      <td>1.0</td>\n      <td>1.0</td>\n      <td>22.0</td>\n      <td>1.0</td>\n      <td>1.0</td>\n      <td>0.539062</td>\n      <td>0.445312</td>\n      <td>0.562500</td>\n      <td>...</td>\n      <td>0.531250</td>\n      <td>0.468750</td>\n      <td>0.445312</td>\n      <td>0.476562</td>\n      <td>0.570312</td>\n      <td>0.406250</td>\n      <td>0.484375</td>\n      <td>0.515625</td>\n      <td>0.484375</td>\n      <td>1.0</td>\n    </tr>\n    <tr>\n      <th>std</th>\n      <td>0.0</td>\n      <td>27.126885</td>\n      <td>0.0</td>\n      <td>0.0</td>\n      <td>0.0</td>\n      <td>0.0</td>\n      <td>0.0</td>\n      <td>0.500430</td>\n      <td>0.498953</td>\n      <td>0.498028</td>\n      <td>...</td>\n      <td>0.500983</td>\n      <td>0.500983</td>\n      <td>0.498953</td>\n      <td>0.501413</td>\n      <td>0.496977</td>\n      <td>0.493062</td>\n      <td>0.501719</td>\n      <td>0.501719</td>\n      <td>0.501719</td>\n      <td>0.0</td>\n    </tr>\n    <tr>\n      <th>min</th>\n      <td>8.0</td>\n      <td>1043.000000</td>\n      <td>1.0</td>\n      <td>1.0</td>\n      <td>22.0</td>\n      <td>1.0</td>\n      <td>1.0</td>\n      <td>0.000000</td>\n      <td>0.000000</td>\n      <td>0.000000</td>\n      <td>...</td>\n      <td>0.000000</td>\n      <td>0.000000</td>\n      <td>0.000000</td>\n      <td>0.000000</td>\n      <td>0.000000</td>\n      <td>0.000000</td>\n      <td>0.000000</td>\n      <td>0.000000</td>\n      <td>0.000000</td>\n      <td>1.0</td>\n    </tr>\n    <tr>\n      <th>25%</th>\n      <td>8.0</td>\n      <td>1081.750000</td>\n      <td>1.0</td>\n      <td>1.0</td>\n      <td>22.0</td>\n      <td>1.0</td>\n      <td>1.0</td>\n      <td>0.000000</td>\n      <td>0.000000</td>\n      <td>0.000000</td>\n      <td>...</td>\n      <td>0.000000</td>\n      <td>0.000000</td>\n      <td>0.000000</td>\n      <td>0.000000</td>\n      <td>0.000000</td>\n      <td>0.000000</td>\n      <td>0.000000</td>\n      <td>0.000000</td>\n      <td>0.000000</td>\n      <td>1.0</td>\n    </tr>\n    <tr>\n      <th>50%</th>\n      <td>8.0</td>\n      <td>1102.000000</td>\n      <td>1.0</td>\n      <td>1.0</td>\n      <td>22.0</td>\n      <td>1.0</td>\n      <td>1.0</td>\n      <td>1.000000</td>\n      <td>0.000000</td>\n      <td>1.000000</td>\n      <td>...</td>\n      <td>1.000000</td>\n      <td>0.000000</td>\n      <td>0.000000</td>\n      <td>0.000000</td>\n      <td>1.000000</td>\n      <td>0.000000</td>\n      <td>0.000000</td>\n      <td>1.000000</td>\n      <td>0.000000</td>\n      <td>1.0</td>\n    </tr>\n    <tr>\n      <th>75%</th>\n      <td>8.0</td>\n      <td>1118.000000</td>\n      <td>1.0</td>\n      <td>1.0</td>\n      <td>22.0</td>\n      <td>1.0</td>\n      <td>1.0</td>\n      <td>1.000000</td>\n      <td>1.000000</td>\n      <td>1.000000</td>\n      <td>...</td>\n      <td>1.000000</td>\n      <td>1.000000</td>\n      <td>1.000000</td>\n      <td>1.000000</td>\n      <td>1.000000</td>\n      <td>1.000000</td>\n      <td>1.000000</td>\n      <td>1.000000</td>\n      <td>1.000000</td>\n      <td>1.0</td>\n    </tr>\n    <tr>\n      <th>max</th>\n      <td>8.0</td>\n      <td>1174.000000</td>\n      <td>1.0</td>\n      <td>1.0</td>\n      <td>22.0</td>\n      <td>1.0</td>\n      <td>1.0</td>\n      <td>1.000000</td>\n      <td>1.000000</td>\n      <td>1.000000</td>\n      <td>...</td>\n      <td>1.000000</td>\n      <td>1.000000</td>\n      <td>1.000000</td>\n      <td>1.000000</td>\n      <td>1.000000</td>\n      <td>1.000000</td>\n      <td>1.000000</td>\n      <td>1.000000</td>\n      <td>1.000000</td>\n      <td>1.0</td>\n    </tr>\n  </tbody>\n</table>\n<p>8 rows × 62 columns</p>\n</div>"
     },
     "execution_count": 41,
     "metadata": {},
     "output_type": "execute_result"
    }
   ],
   "source": [
    "generated_df_class_true.describe()"
   ],
   "metadata": {
    "collapsed": false,
    "pycharm": {
     "name": "#%%\n"
    }
   }
  },
  {
   "cell_type": "code",
   "execution_count": 22,
   "outputs": [
    {
     "data": {
      "text/plain": "         duration  creditamount  installmentrate  residencesince         age  \\\ncount  300.000000    300.000000       300.000000      300.000000  300.000000   \nmean    24.860000   3938.126667         3.096667        2.850000   33.963333   \nstd     13.282639   3535.818955         1.088395        1.094605   11.222379   \nmin      6.000000    433.000000         1.000000        1.000000   19.000000   \n25%     12.000000   1352.500000         2.000000        2.000000   25.000000   \n50%     24.000000   2574.500000         4.000000        3.000000   31.000000   \n75%     36.000000   5141.500000         4.000000        4.000000   40.000000   \nmax     72.000000  18424.000000         4.000000        4.000000   74.000000   \n\n       existingcredits  peopleliable  classification  existingchecking_A11  \\\ncount       300.000000    300.000000           300.0            300.000000   \nmean          1.366667      1.153333             1.0              0.450000   \nstd           0.559702      0.360911             0.0              0.498325   \nmin           1.000000      1.000000             1.0              0.000000   \n25%           1.000000      1.000000             1.0              0.000000   \n50%           1.000000      1.000000             1.0              0.000000   \n75%           2.000000      1.000000             1.0              1.000000   \nmax           4.000000      2.000000             1.0              1.000000   \n\n       existingchecking_A12  ...  housing_A152  housing_A153    job_A171  \\\ncount            300.000000  ...    300.000000    300.000000  300.000000   \nmean               0.350000  ...      0.620000      0.146667    0.023333   \nstd                0.477767  ...      0.486197      0.354364    0.151212   \nmin                0.000000  ...      0.000000      0.000000    0.000000   \n25%                0.000000  ...      0.000000      0.000000    0.000000   \n50%                0.000000  ...      1.000000      0.000000    0.000000   \n75%                1.000000  ...      1.000000      0.000000    0.000000   \nmax                1.000000  ...      1.000000      1.000000    1.000000   \n\n         job_A172    job_A173   job_A174  telephone_A191  telephone_A192  \\\ncount  300.000000  300.000000  300.00000      300.000000      300.000000   \nmean     0.186667    0.620000    0.17000        0.623333        0.376667   \nstd      0.390295    0.486197    0.37626        0.485360        0.485360   \nmin      0.000000    0.000000    0.00000        0.000000        0.000000   \n25%      0.000000    0.000000    0.00000        0.000000        0.000000   \n50%      0.000000    1.000000    0.00000        1.000000        0.000000   \n75%      0.000000    1.000000    0.00000        1.000000        1.000000   \nmax      1.000000    1.000000    1.00000        1.000000        1.000000   \n\n       foreignworker_A201  foreignworker_A202  \ncount          300.000000          300.000000  \nmean             0.986667            0.013333  \nstd              0.114889            0.114889  \nmin              0.000000            0.000000  \n25%              1.000000            0.000000  \n50%              1.000000            0.000000  \n75%              1.000000            0.000000  \nmax              1.000000            1.000000  \n\n[8 rows x 62 columns]",
      "text/html": "<div>\n<style scoped>\n    .dataframe tbody tr th:only-of-type {\n        vertical-align: middle;\n    }\n\n    .dataframe tbody tr th {\n        vertical-align: top;\n    }\n\n    .dataframe thead th {\n        text-align: right;\n    }\n</style>\n<table border=\"1\" class=\"dataframe\">\n  <thead>\n    <tr style=\"text-align: right;\">\n      <th></th>\n      <th>duration</th>\n      <th>creditamount</th>\n      <th>installmentrate</th>\n      <th>residencesince</th>\n      <th>age</th>\n      <th>existingcredits</th>\n      <th>peopleliable</th>\n      <th>classification</th>\n      <th>existingchecking_A11</th>\n      <th>existingchecking_A12</th>\n      <th>...</th>\n      <th>housing_A152</th>\n      <th>housing_A153</th>\n      <th>job_A171</th>\n      <th>job_A172</th>\n      <th>job_A173</th>\n      <th>job_A174</th>\n      <th>telephone_A191</th>\n      <th>telephone_A192</th>\n      <th>foreignworker_A201</th>\n      <th>foreignworker_A202</th>\n    </tr>\n  </thead>\n  <tbody>\n    <tr>\n      <th>count</th>\n      <td>300.000000</td>\n      <td>300.000000</td>\n      <td>300.000000</td>\n      <td>300.000000</td>\n      <td>300.000000</td>\n      <td>300.000000</td>\n      <td>300.000000</td>\n      <td>300.0</td>\n      <td>300.000000</td>\n      <td>300.000000</td>\n      <td>...</td>\n      <td>300.000000</td>\n      <td>300.000000</td>\n      <td>300.000000</td>\n      <td>300.000000</td>\n      <td>300.000000</td>\n      <td>300.00000</td>\n      <td>300.000000</td>\n      <td>300.000000</td>\n      <td>300.000000</td>\n      <td>300.000000</td>\n    </tr>\n    <tr>\n      <th>mean</th>\n      <td>24.860000</td>\n      <td>3938.126667</td>\n      <td>3.096667</td>\n      <td>2.850000</td>\n      <td>33.963333</td>\n      <td>1.366667</td>\n      <td>1.153333</td>\n      <td>1.0</td>\n      <td>0.450000</td>\n      <td>0.350000</td>\n      <td>...</td>\n      <td>0.620000</td>\n      <td>0.146667</td>\n      <td>0.023333</td>\n      <td>0.186667</td>\n      <td>0.620000</td>\n      <td>0.17000</td>\n      <td>0.623333</td>\n      <td>0.376667</td>\n      <td>0.986667</td>\n      <td>0.013333</td>\n    </tr>\n    <tr>\n      <th>std</th>\n      <td>13.282639</td>\n      <td>3535.818955</td>\n      <td>1.088395</td>\n      <td>1.094605</td>\n      <td>11.222379</td>\n      <td>0.559702</td>\n      <td>0.360911</td>\n      <td>0.0</td>\n      <td>0.498325</td>\n      <td>0.477767</td>\n      <td>...</td>\n      <td>0.486197</td>\n      <td>0.354364</td>\n      <td>0.151212</td>\n      <td>0.390295</td>\n      <td>0.486197</td>\n      <td>0.37626</td>\n      <td>0.485360</td>\n      <td>0.485360</td>\n      <td>0.114889</td>\n      <td>0.114889</td>\n    </tr>\n    <tr>\n      <th>min</th>\n      <td>6.000000</td>\n      <td>433.000000</td>\n      <td>1.000000</td>\n      <td>1.000000</td>\n      <td>19.000000</td>\n      <td>1.000000</td>\n      <td>1.000000</td>\n      <td>1.0</td>\n      <td>0.000000</td>\n      <td>0.000000</td>\n      <td>...</td>\n      <td>0.000000</td>\n      <td>0.000000</td>\n      <td>0.000000</td>\n      <td>0.000000</td>\n      <td>0.000000</td>\n      <td>0.00000</td>\n      <td>0.000000</td>\n      <td>0.000000</td>\n      <td>0.000000</td>\n      <td>0.000000</td>\n    </tr>\n    <tr>\n      <th>25%</th>\n      <td>12.000000</td>\n      <td>1352.500000</td>\n      <td>2.000000</td>\n      <td>2.000000</td>\n      <td>25.000000</td>\n      <td>1.000000</td>\n      <td>1.000000</td>\n      <td>1.0</td>\n      <td>0.000000</td>\n      <td>0.000000</td>\n      <td>...</td>\n      <td>0.000000</td>\n      <td>0.000000</td>\n      <td>0.000000</td>\n      <td>0.000000</td>\n      <td>0.000000</td>\n      <td>0.00000</td>\n      <td>0.000000</td>\n      <td>0.000000</td>\n      <td>1.000000</td>\n      <td>0.000000</td>\n    </tr>\n    <tr>\n      <th>50%</th>\n      <td>24.000000</td>\n      <td>2574.500000</td>\n      <td>4.000000</td>\n      <td>3.000000</td>\n      <td>31.000000</td>\n      <td>1.000000</td>\n      <td>1.000000</td>\n      <td>1.0</td>\n      <td>0.000000</td>\n      <td>0.000000</td>\n      <td>...</td>\n      <td>1.000000</td>\n      <td>0.000000</td>\n      <td>0.000000</td>\n      <td>0.000000</td>\n      <td>1.000000</td>\n      <td>0.00000</td>\n      <td>1.000000</td>\n      <td>0.000000</td>\n      <td>1.000000</td>\n      <td>0.000000</td>\n    </tr>\n    <tr>\n      <th>75%</th>\n      <td>36.000000</td>\n      <td>5141.500000</td>\n      <td>4.000000</td>\n      <td>4.000000</td>\n      <td>40.000000</td>\n      <td>2.000000</td>\n      <td>1.000000</td>\n      <td>1.0</td>\n      <td>1.000000</td>\n      <td>1.000000</td>\n      <td>...</td>\n      <td>1.000000</td>\n      <td>0.000000</td>\n      <td>0.000000</td>\n      <td>0.000000</td>\n      <td>1.000000</td>\n      <td>0.00000</td>\n      <td>1.000000</td>\n      <td>1.000000</td>\n      <td>1.000000</td>\n      <td>0.000000</td>\n    </tr>\n    <tr>\n      <th>max</th>\n      <td>72.000000</td>\n      <td>18424.000000</td>\n      <td>4.000000</td>\n      <td>4.000000</td>\n      <td>74.000000</td>\n      <td>4.000000</td>\n      <td>2.000000</td>\n      <td>1.0</td>\n      <td>1.000000</td>\n      <td>1.000000</td>\n      <td>...</td>\n      <td>1.000000</td>\n      <td>1.000000</td>\n      <td>1.000000</td>\n      <td>1.000000</td>\n      <td>1.000000</td>\n      <td>1.00000</td>\n      <td>1.000000</td>\n      <td>1.000000</td>\n      <td>1.000000</td>\n      <td>1.000000</td>\n    </tr>\n  </tbody>\n</table>\n<p>8 rows × 62 columns</p>\n</div>"
     },
     "execution_count": 22,
     "metadata": {},
     "output_type": "execute_result"
    }
   ],
   "source": [
    "real_df_class_true = df[df[label_col]==1]#.sample(128)\n",
    "real_df_class_true.describe()"
   ],
   "metadata": {
    "collapsed": false,
    "pycharm": {
     "name": "#%%\n"
    }
   }
  },
  {
   "cell_type": "code",
   "execution_count": 18,
   "outputs": [
    {
     "data": {
      "text/plain": "         duration  creditamount  installmentrate  residencesince         age  \\\ncount  128.000000    128.000000       128.000000      128.000000  128.000000   \nmean    20.062500   2831.937500         2.968750        2.890625   36.507812   \nstd     10.979401   2346.876379         1.107864        1.081224   11.478152   \nmin      4.000000    250.000000         1.000000        1.000000   20.000000   \n25%     12.000000   1436.250000         2.000000        2.000000   27.750000   \n50%     18.000000   2227.500000         3.000000        3.000000   35.000000   \n75%     24.000000   3390.500000         4.000000        4.000000   40.250000   \nmax     60.000000  13756.000000         4.000000        4.000000   74.000000   \n\n       existingcredits  peopleliable  classification  existingchecking_A11  \\\ncount       128.000000    128.000000           128.0            128.000000   \nmean          1.484375      1.140625             0.0              0.203125   \nstd           0.651882      0.349000             0.0              0.403906   \nmin           1.000000      1.000000             0.0              0.000000   \n25%           1.000000      1.000000             0.0              0.000000   \n50%           1.000000      1.000000             0.0              0.000000   \n75%           2.000000      1.000000             0.0              0.000000   \nmax           4.000000      2.000000             0.0              1.000000   \n\n       existingchecking_A12  ...  housing_A152  housing_A153    job_A171  \\\ncount            128.000000  ...    128.000000    128.000000  128.000000   \nmean               0.257812  ...      0.796875      0.070312    0.039062   \nstd                0.439149  ...      0.403906      0.256678    0.194505   \nmin                0.000000  ...      0.000000      0.000000    0.000000   \n25%                0.000000  ...      1.000000      0.000000    0.000000   \n50%                0.000000  ...      1.000000      0.000000    0.000000   \n75%                1.000000  ...      1.000000      0.000000    0.000000   \nmax                1.000000  ...      1.000000      1.000000    1.000000   \n\n         job_A172    job_A173    job_A174  telephone_A191  telephone_A192  \\\ncount  128.000000  128.000000  128.000000      128.000000      128.000000   \nmean     0.140625    0.664062    0.156250        0.585938        0.414062   \nstd      0.349000    0.474173    0.364519        0.494495        0.494495   \nmin      0.000000    0.000000    0.000000        0.000000        0.000000   \n25%      0.000000    0.000000    0.000000        0.000000        0.000000   \n50%      0.000000    1.000000    0.000000        1.000000        0.000000   \n75%      0.000000    1.000000    0.000000        1.000000        1.000000   \nmax      1.000000    1.000000    1.000000        1.000000        1.000000   \n\n       foreignworker_A201  foreignworker_A202  \ncount          128.000000          128.000000  \nmean             0.945312            0.054688  \nstd              0.228263            0.228263  \nmin              0.000000            0.000000  \n25%              1.000000            0.000000  \n50%              1.000000            0.000000  \n75%              1.000000            0.000000  \nmax              1.000000            1.000000  \n\n[8 rows x 62 columns]",
      "text/html": "<div>\n<style scoped>\n    .dataframe tbody tr th:only-of-type {\n        vertical-align: middle;\n    }\n\n    .dataframe tbody tr th {\n        vertical-align: top;\n    }\n\n    .dataframe thead th {\n        text-align: right;\n    }\n</style>\n<table border=\"1\" class=\"dataframe\">\n  <thead>\n    <tr style=\"text-align: right;\">\n      <th></th>\n      <th>duration</th>\n      <th>creditamount</th>\n      <th>installmentrate</th>\n      <th>residencesince</th>\n      <th>age</th>\n      <th>existingcredits</th>\n      <th>peopleliable</th>\n      <th>classification</th>\n      <th>existingchecking_A11</th>\n      <th>existingchecking_A12</th>\n      <th>...</th>\n      <th>housing_A152</th>\n      <th>housing_A153</th>\n      <th>job_A171</th>\n      <th>job_A172</th>\n      <th>job_A173</th>\n      <th>job_A174</th>\n      <th>telephone_A191</th>\n      <th>telephone_A192</th>\n      <th>foreignworker_A201</th>\n      <th>foreignworker_A202</th>\n    </tr>\n  </thead>\n  <tbody>\n    <tr>\n      <th>count</th>\n      <td>128.000000</td>\n      <td>128.000000</td>\n      <td>128.000000</td>\n      <td>128.000000</td>\n      <td>128.000000</td>\n      <td>128.000000</td>\n      <td>128.000000</td>\n      <td>128.0</td>\n      <td>128.000000</td>\n      <td>128.000000</td>\n      <td>...</td>\n      <td>128.000000</td>\n      <td>128.000000</td>\n      <td>128.000000</td>\n      <td>128.000000</td>\n      <td>128.000000</td>\n      <td>128.000000</td>\n      <td>128.000000</td>\n      <td>128.000000</td>\n      <td>128.000000</td>\n      <td>128.000000</td>\n    </tr>\n    <tr>\n      <th>mean</th>\n      <td>20.062500</td>\n      <td>2831.937500</td>\n      <td>2.968750</td>\n      <td>2.890625</td>\n      <td>36.507812</td>\n      <td>1.484375</td>\n      <td>1.140625</td>\n      <td>0.0</td>\n      <td>0.203125</td>\n      <td>0.257812</td>\n      <td>...</td>\n      <td>0.796875</td>\n      <td>0.070312</td>\n      <td>0.039062</td>\n      <td>0.140625</td>\n      <td>0.664062</td>\n      <td>0.156250</td>\n      <td>0.585938</td>\n      <td>0.414062</td>\n      <td>0.945312</td>\n      <td>0.054688</td>\n    </tr>\n    <tr>\n      <th>std</th>\n      <td>10.979401</td>\n      <td>2346.876379</td>\n      <td>1.107864</td>\n      <td>1.081224</td>\n      <td>11.478152</td>\n      <td>0.651882</td>\n      <td>0.349000</td>\n      <td>0.0</td>\n      <td>0.403906</td>\n      <td>0.439149</td>\n      <td>...</td>\n      <td>0.403906</td>\n      <td>0.256678</td>\n      <td>0.194505</td>\n      <td>0.349000</td>\n      <td>0.474173</td>\n      <td>0.364519</td>\n      <td>0.494495</td>\n      <td>0.494495</td>\n      <td>0.228263</td>\n      <td>0.228263</td>\n    </tr>\n    <tr>\n      <th>min</th>\n      <td>4.000000</td>\n      <td>250.000000</td>\n      <td>1.000000</td>\n      <td>1.000000</td>\n      <td>20.000000</td>\n      <td>1.000000</td>\n      <td>1.000000</td>\n      <td>0.0</td>\n      <td>0.000000</td>\n      <td>0.000000</td>\n      <td>...</td>\n      <td>0.000000</td>\n      <td>0.000000</td>\n      <td>0.000000</td>\n      <td>0.000000</td>\n      <td>0.000000</td>\n      <td>0.000000</td>\n      <td>0.000000</td>\n      <td>0.000000</td>\n      <td>0.000000</td>\n      <td>0.000000</td>\n    </tr>\n    <tr>\n      <th>25%</th>\n      <td>12.000000</td>\n      <td>1436.250000</td>\n      <td>2.000000</td>\n      <td>2.000000</td>\n      <td>27.750000</td>\n      <td>1.000000</td>\n      <td>1.000000</td>\n      <td>0.0</td>\n      <td>0.000000</td>\n      <td>0.000000</td>\n      <td>...</td>\n      <td>1.000000</td>\n      <td>0.000000</td>\n      <td>0.000000</td>\n      <td>0.000000</td>\n      <td>0.000000</td>\n      <td>0.000000</td>\n      <td>0.000000</td>\n      <td>0.000000</td>\n      <td>1.000000</td>\n      <td>0.000000</td>\n    </tr>\n    <tr>\n      <th>50%</th>\n      <td>18.000000</td>\n      <td>2227.500000</td>\n      <td>3.000000</td>\n      <td>3.000000</td>\n      <td>35.000000</td>\n      <td>1.000000</td>\n      <td>1.000000</td>\n      <td>0.0</td>\n      <td>0.000000</td>\n      <td>0.000000</td>\n      <td>...</td>\n      <td>1.000000</td>\n      <td>0.000000</td>\n      <td>0.000000</td>\n      <td>0.000000</td>\n      <td>1.000000</td>\n      <td>0.000000</td>\n      <td>1.000000</td>\n      <td>0.000000</td>\n      <td>1.000000</td>\n      <td>0.000000</td>\n    </tr>\n    <tr>\n      <th>75%</th>\n      <td>24.000000</td>\n      <td>3390.500000</td>\n      <td>4.000000</td>\n      <td>4.000000</td>\n      <td>40.250000</td>\n      <td>2.000000</td>\n      <td>1.000000</td>\n      <td>0.0</td>\n      <td>0.000000</td>\n      <td>1.000000</td>\n      <td>...</td>\n      <td>1.000000</td>\n      <td>0.000000</td>\n      <td>0.000000</td>\n      <td>0.000000</td>\n      <td>1.000000</td>\n      <td>0.000000</td>\n      <td>1.000000</td>\n      <td>1.000000</td>\n      <td>1.000000</td>\n      <td>0.000000</td>\n    </tr>\n    <tr>\n      <th>max</th>\n      <td>60.000000</td>\n      <td>13756.000000</td>\n      <td>4.000000</td>\n      <td>4.000000</td>\n      <td>74.000000</td>\n      <td>4.000000</td>\n      <td>2.000000</td>\n      <td>0.0</td>\n      <td>1.000000</td>\n      <td>1.000000</td>\n      <td>...</td>\n      <td>1.000000</td>\n      <td>1.000000</td>\n      <td>1.000000</td>\n      <td>1.000000</td>\n      <td>1.000000</td>\n      <td>1.000000</td>\n      <td>1.000000</td>\n      <td>1.000000</td>\n      <td>1.000000</td>\n      <td>1.000000</td>\n    </tr>\n  </tbody>\n</table>\n<p>8 rows × 62 columns</p>\n</div>"
     },
     "execution_count": 18,
     "metadata": {},
     "output_type": "execute_result"
    }
   ],
   "source": [
    "real_df_class_false = df[df[label_col]==0].sample(128)\n",
    "real_df_class_false.describe()"
   ],
   "metadata": {
    "collapsed": false,
    "pycharm": {
     "name": "#%%\n"
    }
   }
  },
  {
   "cell_type": "code",
   "execution_count": null,
   "metadata": {
    "id": "S14gv_faB_M8"
   },
   "outputs": [],
   "source": [
    "gan_generator = GANDataGenerator(dataset=origin_dataset, model_class=CGAN, trained_model_path=)"
   ]
  }
 ],
 "metadata": {
  "colab": {
   "collapsed_sections": [],
   "name": "generative_model_training.ipynb",
   "provenance": []
  },
  "kernelspec": {
   "display_name": "Python 3 (ipykernel)",
   "language": "python",
   "name": "python3"
  },
  "language_info": {
   "codemirror_mode": {
    "name": "ipython",
    "version": 3
   },
   "file_extension": ".py",
   "mimetype": "text/x-python",
   "name": "python",
   "nbconvert_exporter": "python",
   "pygments_lexer": "ipython3",
   "version": "3.8.12"
  }
 },
 "nbformat": 4,
 "nbformat_minor": 1
}