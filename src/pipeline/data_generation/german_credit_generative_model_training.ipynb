{
 "cells": [
  {
   "cell_type": "markdown",
   "source": [
    "# German Credit Dataset"
   ],
   "metadata": {
    "collapsed": false,
    "pycharm": {
     "name": "#%% md\n"
    }
   }
  },
  {
   "cell_type": "markdown",
   "source": [
    "# CGAN Training for synthesize datasets\n",
    "\n",
    "\n",
    "CGAN: A conditional generative adversarial network (CGAN) is a type of GAN that also takes advantage of labels during the training process. Generator — Given a label and random array as input, this network generates data with the same structure as the training data observations corresponding to the same label.\n",
    "\n",
    "Then, we save the CGAN models for the data generation pipeline."
   ],
   "metadata": {
    "collapsed": false
   }
  },
  {
   "cell_type": "markdown",
   "source": [
    "## Imports"
   ],
   "metadata": {
    "collapsed": false
   }
  },
  {
   "cell_type": "code",
   "execution_count": 2,
   "outputs": [],
   "source": [
    "import os\n",
    "import pandas as pd\n",
    "import numpy as np\n",
    "from ydata_synthetic.synthesizers.regular import CGAN\n",
    "from ydata_synthetic.synthesizers import ModelParameters, TrainParameters\n",
    "import matplotlib.pyplot as plt\n",
    "from sklearn.preprocessing import PowerTransformer\n",
    "from sklearn.pipeline import Pipeline\n",
    "from sklearn.compose import ColumnTransformer\n",
    "\n",
    "# from src.pipeline.data_generation.data_generator import GANDataGenerator\n",
    "from src.pipeline.datasets.training_datasets import GermanCreditDataset\n",
    "from src.pipeline.preprocessing.label_preprocessor import LabelProcessor\n",
    "from src.pipeline.preprocessing.paths import GERMAN_CREDIT_LABEL_ENCODER_PATH\n",
    "from src.pipeline.model.paths import GERMAN_CREDIT_GEN_CGAN_MODEL_PATH\n"
   ],
   "metadata": {
    "collapsed": false,
    "pycharm": {
     "name": "#%%\n"
    }
   }
  },
  {
   "cell_type": "code",
   "execution_count": 3,
   "outputs": [],
   "source": [
    "from IPython.core.interactiveshell import InteractiveShell\n",
    "InteractiveShell.ast_node_interactivity = \"all\""
   ],
   "metadata": {
    "collapsed": false,
    "pycharm": {
     "name": "#%%\n"
    }
   }
  },
  {
   "cell_type": "markdown",
   "source": [
    "# Load Preprocessed Data"
   ],
   "metadata": {
    "collapsed": false
   }
  },
  {
   "cell_type": "code",
   "execution_count": 4,
   "metadata": {},
   "outputs": [
    {
     "name": "stdout",
     "output_type": "stream",
     "text": [
      "German Credit dataset\n",
      "\n",
      "loading dataset\n"
     ]
    },
    {
     "name": "stderr",
     "output_type": "stream",
     "text": [
      "/home/user/code/data_drift_detctor/src/pipeline/config.py:21: UnsafeLoaderWarning: \n",
      "The default 'Loader' for 'load(stream)' without further arguments can be unsafe.\n",
      "Use 'load(stream, Loader=ruamel.yaml.Loader)' explicitly if that is OK.\n",
      "Alternatively include the following in your code:\n",
      "\n",
      "  import warnings\n",
      "  warnings.simplefilter('ignore', ruamel.yaml.error.UnsafeLoaderWarning)\n",
      "\n",
      "In most other cases you should consider using 'safe_load(stream)'\n",
      "  cfg = ryaml.load(f)\n"
     ]
    },
    {
     "data": {
      "text/plain": "   existingchecking  duration  credithistory  purpose  creditamount  savings  \\\n0                 0         6              4        4          1169        4   \n1                 1        48              2        4          5951        0   \n2                 3        12              4        7          2096        0   \n3                 0        42              2        3          7882        0   \n4                 0        24              3        0          4870        0   \n\n   employmentsince  installmentrate  statussex  otherdebtors  ...  property  \\\n0                4                4          2             0  ...         0   \n1                2                2          1             0  ...         0   \n2                3                2          2             0  ...         0   \n3                3                2          2             2  ...         1   \n4                2                3          2             0  ...         3   \n\n   age  otherinstallmentplans  housing  existingcredits  job  peopleliable  \\\n0   67                      2        1                2    2             1   \n1   22                      2        1                1    2             1   \n2   49                      2        1                1    1             2   \n3   45                      2        2                1    2             2   \n4   53                      2        2                2    2             2   \n\n   telephone  foreignworker  classification  \n0          1              0               0  \n1          0              0               1  \n2          0              0               0  \n3          0              0               0  \n4          0              0               1  \n\n[5 rows x 21 columns]",
      "text/html": "<div>\n<style scoped>\n    .dataframe tbody tr th:only-of-type {\n        vertical-align: middle;\n    }\n\n    .dataframe tbody tr th {\n        vertical-align: top;\n    }\n\n    .dataframe thead th {\n        text-align: right;\n    }\n</style>\n<table border=\"1\" class=\"dataframe\">\n  <thead>\n    <tr style=\"text-align: right;\">\n      <th></th>\n      <th>existingchecking</th>\n      <th>duration</th>\n      <th>credithistory</th>\n      <th>purpose</th>\n      <th>creditamount</th>\n      <th>savings</th>\n      <th>employmentsince</th>\n      <th>installmentrate</th>\n      <th>statussex</th>\n      <th>otherdebtors</th>\n      <th>...</th>\n      <th>property</th>\n      <th>age</th>\n      <th>otherinstallmentplans</th>\n      <th>housing</th>\n      <th>existingcredits</th>\n      <th>job</th>\n      <th>peopleliable</th>\n      <th>telephone</th>\n      <th>foreignworker</th>\n      <th>classification</th>\n    </tr>\n  </thead>\n  <tbody>\n    <tr>\n      <th>0</th>\n      <td>0</td>\n      <td>6</td>\n      <td>4</td>\n      <td>4</td>\n      <td>1169</td>\n      <td>4</td>\n      <td>4</td>\n      <td>4</td>\n      <td>2</td>\n      <td>0</td>\n      <td>...</td>\n      <td>0</td>\n      <td>67</td>\n      <td>2</td>\n      <td>1</td>\n      <td>2</td>\n      <td>2</td>\n      <td>1</td>\n      <td>1</td>\n      <td>0</td>\n      <td>0</td>\n    </tr>\n    <tr>\n      <th>1</th>\n      <td>1</td>\n      <td>48</td>\n      <td>2</td>\n      <td>4</td>\n      <td>5951</td>\n      <td>0</td>\n      <td>2</td>\n      <td>2</td>\n      <td>1</td>\n      <td>0</td>\n      <td>...</td>\n      <td>0</td>\n      <td>22</td>\n      <td>2</td>\n      <td>1</td>\n      <td>1</td>\n      <td>2</td>\n      <td>1</td>\n      <td>0</td>\n      <td>0</td>\n      <td>1</td>\n    </tr>\n    <tr>\n      <th>2</th>\n      <td>3</td>\n      <td>12</td>\n      <td>4</td>\n      <td>7</td>\n      <td>2096</td>\n      <td>0</td>\n      <td>3</td>\n      <td>2</td>\n      <td>2</td>\n      <td>0</td>\n      <td>...</td>\n      <td>0</td>\n      <td>49</td>\n      <td>2</td>\n      <td>1</td>\n      <td>1</td>\n      <td>1</td>\n      <td>2</td>\n      <td>0</td>\n      <td>0</td>\n      <td>0</td>\n    </tr>\n    <tr>\n      <th>3</th>\n      <td>0</td>\n      <td>42</td>\n      <td>2</td>\n      <td>3</td>\n      <td>7882</td>\n      <td>0</td>\n      <td>3</td>\n      <td>2</td>\n      <td>2</td>\n      <td>2</td>\n      <td>...</td>\n      <td>1</td>\n      <td>45</td>\n      <td>2</td>\n      <td>2</td>\n      <td>1</td>\n      <td>2</td>\n      <td>2</td>\n      <td>0</td>\n      <td>0</td>\n      <td>0</td>\n    </tr>\n    <tr>\n      <th>4</th>\n      <td>0</td>\n      <td>24</td>\n      <td>3</td>\n      <td>0</td>\n      <td>4870</td>\n      <td>0</td>\n      <td>2</td>\n      <td>3</td>\n      <td>2</td>\n      <td>0</td>\n      <td>...</td>\n      <td>3</td>\n      <td>53</td>\n      <td>2</td>\n      <td>2</td>\n      <td>2</td>\n      <td>2</td>\n      <td>2</td>\n      <td>0</td>\n      <td>0</td>\n      <td>1</td>\n    </tr>\n  </tbody>\n</table>\n<p>5 rows × 21 columns</p>\n</div>"
     },
     "execution_count": 4,
     "metadata": {},
     "output_type": "execute_result"
    },
    {
     "data": {
      "text/plain": "(1000, 21)"
     },
     "execution_count": 4,
     "metadata": {},
     "output_type": "execute_result"
    },
    {
     "name": "stdout",
     "output_type": "stream",
     "text": [
      "Label columns name is: classification. With 2 unique values.([0 1])\n"
     ]
    }
   ],
   "source": [
    "# init GANDataGenerator\n",
    "print('German Credit dataset\\n')\n",
    "\n",
    "dataset = GermanCreditDataset()\n",
    "processor = LabelProcessor(dataset, GERMAN_CREDIT_LABEL_ENCODER_PATH)\n",
    "df = processor.preprocessed_data(dataset.raw_df)\n",
    "label_col = dataset.label_column_name\n",
    "\n",
    "df.head()\n",
    "df.shape\n",
    "\n",
    "print(f'Label columns name is: {label_col}. With {df[label_col].nunique()} unique values.'\n",
    "      f'({df[label_col].unique()})')\n",
    "\n"
   ]
  },
  {
   "cell_type": "markdown",
   "metadata": {
    "id": "g96nVpRYxWFy"
   },
   "source": [
    "# EDA and Preprocessing"
   ]
  },
  {
   "cell_type": "code",
   "execution_count": 5,
   "outputs": [
    {
     "data": {
      "text/plain": "(1000, 21)"
     },
     "execution_count": 5,
     "metadata": {},
     "output_type": "execute_result"
    }
   ],
   "source": [
    "df.shape"
   ],
   "metadata": {
    "collapsed": false,
    "pycharm": {
     "name": "#%%\n"
    }
   }
  },
  {
   "cell_type": "code",
   "execution_count": 6,
   "metadata": {},
   "outputs": [],
   "source": [
    "train_sample = df"
   ]
  },
  {
   "cell_type": "markdown",
   "metadata": {},
   "source": [
    "# Init the GAN"
   ]
  },
  {
   "cell_type": "code",
   "execution_count": 7,
   "metadata": {
    "id": "avDWHsCKhMXS"
   },
   "outputs": [
    {
     "name": "stderr",
     "output_type": "stream",
     "text": [
      "2021-12-25 21:38:21.011413: I tensorflow/compiler/jit/xla_cpu_device.cc:41] Not creating XLA devices, tf_xla_enable_xla_devices not set\n",
      "2021-12-25 21:38:21.011978: I tensorflow/stream_executor/platform/default/dso_loader.cc:49] Successfully opened dynamic library libcuda.so.1\n",
      "2021-12-25 21:38:21.057770: I tensorflow/stream_executor/cuda/cuda_gpu_executor.cc:941] successful NUMA node read from SysFS had negative value (-1), but there must be at least one NUMA node, so returning NUMA node zero\n",
      "2021-12-25 21:38:21.058183: I tensorflow/core/common_runtime/gpu/gpu_device.cc:1720] Found device 0 with properties: \n",
      "pciBusID: 0000:01:00.0 name: Quadro RTX 5000 with Max-Q Design computeCapability: 7.5\n",
      "coreClock: 1.35GHz coreCount: 48 deviceMemorySize: 15.75GiB deviceMemoryBandwidth: 357.69GiB/s\n",
      "2021-12-25 21:38:21.058218: I tensorflow/stream_executor/platform/default/dso_loader.cc:49] Successfully opened dynamic library libcudart.so.10.1\n",
      "2021-12-25 21:38:21.059305: I tensorflow/stream_executor/platform/default/dso_loader.cc:49] Successfully opened dynamic library libcublas.so.10\n",
      "2021-12-25 21:38:21.059328: I tensorflow/stream_executor/platform/default/dso_loader.cc:49] Successfully opened dynamic library libcublasLt.so.10\n",
      "2021-12-25 21:38:21.060266: I tensorflow/stream_executor/platform/default/dso_loader.cc:49] Successfully opened dynamic library libcufft.so.10\n",
      "2021-12-25 21:38:21.060418: I tensorflow/stream_executor/platform/default/dso_loader.cc:49] Successfully opened dynamic library libcurand.so.10\n",
      "2021-12-25 21:38:21.061418: I tensorflow/stream_executor/platform/default/dso_loader.cc:49] Successfully opened dynamic library libcusolver.so.10\n",
      "2021-12-25 21:38:21.061981: I tensorflow/stream_executor/platform/default/dso_loader.cc:49] Successfully opened dynamic library libcusparse.so.10\n",
      "2021-12-25 21:38:21.064061: I tensorflow/stream_executor/platform/default/dso_loader.cc:49] Successfully opened dynamic library libcudnn.so.7\n",
      "2021-12-25 21:38:21.064153: I tensorflow/stream_executor/cuda/cuda_gpu_executor.cc:941] successful NUMA node read from SysFS had negative value (-1), but there must be at least one NUMA node, so returning NUMA node zero\n",
      "2021-12-25 21:38:21.064564: I tensorflow/stream_executor/cuda/cuda_gpu_executor.cc:941] successful NUMA node read from SysFS had negative value (-1), but there must be at least one NUMA node, so returning NUMA node zero\n",
      "2021-12-25 21:38:21.064886: I tensorflow/core/common_runtime/gpu/gpu_device.cc:1862] Adding visible gpu devices: 0\n"
     ]
    }
   ],
   "source": [
    "\n",
    "to_save = False\n",
    "\n",
    "#Define the Conditional GAN and training parameters\n",
    "\n",
    "noise_dim = 32\n",
    "dim = 128\n",
    "batch_size = 128\n",
    "beta_1 = 0.5\n",
    "beta_2 = 0.9\n",
    "\n",
    "log_step = 100\n",
    "epochs = 300 + 1\n",
    "learning_rate = 5e-4\n",
    "\n",
    "\n",
    "gan_args = ModelParameters(batch_size=batch_size,\n",
    "                           lr=learning_rate,\n",
    "                           betas=(beta_1, beta_2),\n",
    "                           noise_dim=noise_dim,\n",
    "                           n_cols=train_sample.shape[1] - 1,  # Don't count the label columns here\n",
    "                           layers_dim=dim)\n",
    "\n",
    "train_args = TrainParameters(epochs=epochs,\n",
    "                             cache_prefix='',\n",
    "                             sample_interval=log_step,\n",
    "                             label_dim=-1,\n",
    "                             labels=[0,1])\n",
    "\n",
    "num_classes = df[label_col].nunique()\n",
    "\n",
    "#Init the Conditional GAN providing the index of the label column as one of the arguments\n",
    "synthesizer = CGAN(model_parameters=gan_args, num_classes=num_classes)\n",
    "\n",
    "\n"
   ]
  },
  {
   "cell_type": "markdown",
   "metadata": {},
   "source": [
    "# Training\n"
   ]
  },
  {
   "cell_type": "code",
   "execution_count": 9,
   "metadata": {},
   "outputs": [
    {
     "name": "stdout",
     "output_type": "stream",
     "text": [
      "WARNING:tensorflow:AutoGraph could not transform <bound method GumbelSoftmaxLayer.call of <ydata_synthetic.utils.gumbel_softmax.GumbelSoftmaxLayer object at 0x7fb21c19cb80>> and will run it as-is.\n",
      "Please report this to the TensorFlow team. When filing the bug, set the verbosity to 10 (on Linux, `export AUTOGRAPH_VERBOSITY=10`) and attach the full output.\n",
      "Cause: module 'gast' has no attribute 'Index'\n",
      "To silence this warning, decorate the function with @tf.autograph.experimental.do_not_convert\n",
      "WARNING: AutoGraph could not transform <bound method GumbelSoftmaxLayer.call of <ydata_synthetic.utils.gumbel_softmax.GumbelSoftmaxLayer object at 0x7fb21c19cb80>> and will run it as-is.\n",
      "Please report this to the TensorFlow team. When filing the bug, set the verbosity to 10 (on Linux, `export AUTOGRAPH_VERBOSITY=10`) and attach the full output.\n",
      "Cause: module 'gast' has no attribute 'Index'\n",
      "To silence this warning, decorate the function with @tf.autograph.experimental.do_not_convert\n"
     ]
    },
    {
     "name": "stderr",
     "output_type": "stream",
     "text": [
      "2021-12-25 21:38:37.601935: I tensorflow/core/platform/cpu_feature_guard.cc:142] This TensorFlow binary is optimized with oneAPI Deep Neural Network Library (oneDNN) to use the following CPU instructions in performance-critical operations:  SSE4.1 SSE4.2 AVX AVX2 FMA\n",
      "To enable them in other operations, rebuild TensorFlow with the appropriate compiler flags.\n",
      "2021-12-25 21:38:37.603123: I tensorflow/stream_executor/cuda/cuda_gpu_executor.cc:941] successful NUMA node read from SysFS had negative value (-1), but there must be at least one NUMA node, so returning NUMA node zero\n",
      "2021-12-25 21:38:37.603761: I tensorflow/core/common_runtime/gpu/gpu_device.cc:1720] Found device 0 with properties: \n",
      "pciBusID: 0000:01:00.0 name: Quadro RTX 5000 with Max-Q Design computeCapability: 7.5\n",
      "coreClock: 1.35GHz coreCount: 48 deviceMemorySize: 15.75GiB deviceMemoryBandwidth: 357.69GiB/s\n",
      "2021-12-25 21:38:37.603794: I tensorflow/stream_executor/platform/default/dso_loader.cc:49] Successfully opened dynamic library libcudart.so.10.1\n",
      "2021-12-25 21:38:37.603828: I tensorflow/stream_executor/platform/default/dso_loader.cc:49] Successfully opened dynamic library libcublas.so.10\n",
      "2021-12-25 21:38:37.603847: I tensorflow/stream_executor/platform/default/dso_loader.cc:49] Successfully opened dynamic library libcublasLt.so.10\n",
      "2021-12-25 21:38:37.603866: I tensorflow/stream_executor/platform/default/dso_loader.cc:49] Successfully opened dynamic library libcufft.so.10\n",
      "2021-12-25 21:38:37.603884: I tensorflow/stream_executor/platform/default/dso_loader.cc:49] Successfully opened dynamic library libcurand.so.10\n",
      "2021-12-25 21:38:37.603903: I tensorflow/stream_executor/platform/default/dso_loader.cc:49] Successfully opened dynamic library libcusolver.so.10\n",
      "2021-12-25 21:38:37.603921: I tensorflow/stream_executor/platform/default/dso_loader.cc:49] Successfully opened dynamic library libcusparse.so.10\n",
      "2021-12-25 21:38:37.603940: I tensorflow/stream_executor/platform/default/dso_loader.cc:49] Successfully opened dynamic library libcudnn.so.7\n",
      "2021-12-25 21:38:37.604006: I tensorflow/stream_executor/cuda/cuda_gpu_executor.cc:941] successful NUMA node read from SysFS had negative value (-1), but there must be at least one NUMA node, so returning NUMA node zero\n",
      "2021-12-25 21:38:37.604669: I tensorflow/stream_executor/cuda/cuda_gpu_executor.cc:941] successful NUMA node read from SysFS had negative value (-1), but there must be at least one NUMA node, so returning NUMA node zero\n",
      "2021-12-25 21:38:37.605197: I tensorflow/core/common_runtime/gpu/gpu_device.cc:1862] Adding visible gpu devices: 0\n",
      "2021-12-25 21:38:37.605225: I tensorflow/stream_executor/platform/default/dso_loader.cc:49] Successfully opened dynamic library libcudart.so.10.1\n",
      "2021-12-25 21:38:37.975917: I tensorflow/core/common_runtime/gpu/gpu_device.cc:1261] Device interconnect StreamExecutor with strength 1 edge matrix:\n",
      "2021-12-25 21:38:37.975945: I tensorflow/core/common_runtime/gpu/gpu_device.cc:1267]      0 \n",
      "2021-12-25 21:38:37.975951: I tensorflow/core/common_runtime/gpu/gpu_device.cc:1280] 0:   N \n",
      "2021-12-25 21:38:37.976156: I tensorflow/stream_executor/cuda/cuda_gpu_executor.cc:941] successful NUMA node read from SysFS had negative value (-1), but there must be at least one NUMA node, so returning NUMA node zero\n",
      "2021-12-25 21:38:37.976596: I tensorflow/stream_executor/cuda/cuda_gpu_executor.cc:941] successful NUMA node read from SysFS had negative value (-1), but there must be at least one NUMA node, so returning NUMA node zero\n",
      "2021-12-25 21:38:37.976955: I tensorflow/stream_executor/cuda/cuda_gpu_executor.cc:941] successful NUMA node read from SysFS had negative value (-1), but there must be at least one NUMA node, so returning NUMA node zero\n",
      "2021-12-25 21:38:37.977296: I tensorflow/core/common_runtime/gpu/gpu_device.cc:1406] Created TensorFlow device (/job:localhost/replica:0/task:0/device:GPU:0 with 13977 MB memory) -> physical GPU (device: 0, name: Quadro RTX 5000 with Max-Q Design, pci bus id: 0000:01:00.0, compute capability: 7.5)\n",
      "2021-12-25 21:38:37.977499: I tensorflow/compiler/jit/xla_gpu_device.cc:99] Not creating XLA devices, tf_xla_enable_xla_devices not set\n",
      "2021-12-25 21:38:38.326931: I tensorflow/compiler/mlir/mlir_graph_optimization_pass.cc:116] None of the MLIR optimization passes are enabled (registered 2)\n",
      "2021-12-25 21:38:38.345922: I tensorflow/core/platform/profile_utils/cpu_utils.cc:112] CPU Frequency: 2699905000 Hz\n",
      "  0%|          | 0/301 [00:00<?, ?it/s]2021-12-25 21:38:38.390209: I tensorflow/stream_executor/platform/default/dso_loader.cc:49] Successfully opened dynamic library libcublas.so.10\n"
     ]
    },
    {
     "name": "stdout",
     "output_type": "stream",
     "text": [
      "0 [D loss: 0.688936, acc.: 83.59%] [G loss: 0.701787]\n"
     ]
    },
    {
     "name": "stderr",
     "output_type": "stream",
     "text": [
      "\n",
      "Synthetic data generation:   0%|          | 0/8 [00:00<?, ?it/s]\u001B[A\n",
      "Synthetic data generation:  50%|█████     | 4/8 [00:00<00:00, 37.89it/s]\u001B[A\n",
      "Synthetic data generation: 100%|██████████| 8/8 [00:00<00:00, 37.27it/s]\u001B[A\n",
      "  1%|          | 2/301 [00:02<05:43,  1.15s/it]"
     ]
    },
    {
     "name": "stdout",
     "output_type": "stream",
     "text": [
      "1 [D loss: 0.661413, acc.: 87.89%] [G loss: 0.755089]\n"
     ]
    },
    {
     "name": "stderr",
     "output_type": "stream",
     "text": [
      "  1%|          | 3/301 [00:03<04:09,  1.19it/s]"
     ]
    },
    {
     "name": "stdout",
     "output_type": "stream",
     "text": [
      "2 [D loss: 0.587366, acc.: 88.28%] [G loss: 0.916563]\n"
     ]
    },
    {
     "name": "stderr",
     "output_type": "stream",
     "text": [
      "  1%|▏         | 4/301 [00:03<03:26,  1.44it/s]"
     ]
    },
    {
     "name": "stdout",
     "output_type": "stream",
     "text": [
      "3 [D loss: 0.458059, acc.: 91.02%] [G loss: 1.259096]\n"
     ]
    },
    {
     "name": "stderr",
     "output_type": "stream",
     "text": [
      "  2%|▏         | 5/301 [00:04<03:04,  1.61it/s]"
     ]
    },
    {
     "name": "stdout",
     "output_type": "stream",
     "text": [
      "4 [D loss: 0.291217, acc.: 93.36%] [G loss: 1.973037]\n"
     ]
    },
    {
     "name": "stderr",
     "output_type": "stream",
     "text": [
      "  2%|▏         | 6/301 [00:04<02:52,  1.72it/s]"
     ]
    },
    {
     "name": "stdout",
     "output_type": "stream",
     "text": [
      "5 [D loss: 0.188526, acc.: 96.09%] [G loss: 2.723346]\n"
     ]
    },
    {
     "name": "stderr",
     "output_type": "stream",
     "text": [
      "  2%|▏         | 7/301 [00:05<02:44,  1.79it/s]"
     ]
    },
    {
     "name": "stdout",
     "output_type": "stream",
     "text": [
      "6 [D loss: 0.132619, acc.: 96.48%] [G loss: 3.871590]\n"
     ]
    },
    {
     "name": "stderr",
     "output_type": "stream",
     "text": [
      "  3%|▎         | 8/301 [00:05<02:35,  1.88it/s]"
     ]
    },
    {
     "name": "stdout",
     "output_type": "stream",
     "text": [
      "7 [D loss: 0.114412, acc.: 96.48%] [G loss: 4.555542]\n"
     ]
    },
    {
     "name": "stderr",
     "output_type": "stream",
     "text": [
      "  3%|▎         | 9/301 [00:06<02:33,  1.91it/s]"
     ]
    },
    {
     "name": "stdout",
     "output_type": "stream",
     "text": [
      "8 [D loss: 0.104516, acc.: 95.70%] [G loss: 5.054727]\n"
     ]
    },
    {
     "name": "stderr",
     "output_type": "stream",
     "text": [
      "  3%|▎         | 10/301 [00:06<02:31,  1.92it/s]"
     ]
    },
    {
     "name": "stdout",
     "output_type": "stream",
     "text": [
      "9 [D loss: 0.100276, acc.: 97.66%] [G loss: 5.705204]\n"
     ]
    },
    {
     "name": "stderr",
     "output_type": "stream",
     "text": [
      "  4%|▎         | 11/301 [00:07<02:29,  1.94it/s]"
     ]
    },
    {
     "name": "stdout",
     "output_type": "stream",
     "text": [
      "10 [D loss: 0.118532, acc.: 97.66%] [G loss: 6.592162]\n"
     ]
    },
    {
     "name": "stderr",
     "output_type": "stream",
     "text": [
      "  4%|▍         | 12/301 [00:07<02:25,  1.99it/s]"
     ]
    },
    {
     "name": "stdout",
     "output_type": "stream",
     "text": [
      "11 [D loss: 0.066277, acc.: 98.44%] [G loss: 6.938903]\n"
     ]
    },
    {
     "name": "stderr",
     "output_type": "stream",
     "text": [
      "  4%|▍         | 13/301 [00:07<02:21,  2.03it/s]"
     ]
    },
    {
     "name": "stdout",
     "output_type": "stream",
     "text": [
      "12 [D loss: 0.080949, acc.: 98.05%] [G loss: 7.410701]\n"
     ]
    },
    {
     "name": "stderr",
     "output_type": "stream",
     "text": [
      "  5%|▍         | 14/301 [00:08<02:21,  2.03it/s]"
     ]
    },
    {
     "name": "stdout",
     "output_type": "stream",
     "text": [
      "13 [D loss: 0.058619, acc.: 98.44%] [G loss: 7.911785]\n"
     ]
    },
    {
     "name": "stderr",
     "output_type": "stream",
     "text": [
      "  5%|▍         | 15/301 [00:08<02:21,  2.03it/s]"
     ]
    },
    {
     "name": "stdout",
     "output_type": "stream",
     "text": [
      "14 [D loss: 0.045519, acc.: 99.22%] [G loss: 8.443690]\n"
     ]
    },
    {
     "name": "stderr",
     "output_type": "stream",
     "text": [
      "  5%|▌         | 16/301 [00:09<02:23,  1.99it/s]"
     ]
    },
    {
     "name": "stdout",
     "output_type": "stream",
     "text": [
      "15 [D loss: 0.097820, acc.: 96.88%] [G loss: 9.553577]\n"
     ]
    },
    {
     "name": "stderr",
     "output_type": "stream",
     "text": [
      "  6%|▌         | 17/301 [00:09<02:23,  1.98it/s]"
     ]
    },
    {
     "name": "stdout",
     "output_type": "stream",
     "text": [
      "16 [D loss: 0.026731, acc.: 99.61%] [G loss: 9.414185]\n"
     ]
    },
    {
     "name": "stderr",
     "output_type": "stream",
     "text": [
      "  6%|▌         | 18/301 [00:10<02:21,  2.00it/s]"
     ]
    },
    {
     "name": "stdout",
     "output_type": "stream",
     "text": [
      "17 [D loss: 0.055098, acc.: 98.05%] [G loss: 10.700357]\n"
     ]
    },
    {
     "name": "stderr",
     "output_type": "stream",
     "text": [
      "  6%|▋         | 19/301 [00:10<02:18,  2.03it/s]"
     ]
    },
    {
     "name": "stdout",
     "output_type": "stream",
     "text": [
      "18 [D loss: 0.075511, acc.: 98.44%] [G loss: 10.795837]\n"
     ]
    },
    {
     "name": "stderr",
     "output_type": "stream",
     "text": [
      "  7%|▋         | 20/301 [00:11<02:16,  2.06it/s]"
     ]
    },
    {
     "name": "stdout",
     "output_type": "stream",
     "text": [
      "19 [D loss: 0.053461, acc.: 98.05%] [G loss: 11.788927]\n"
     ]
    },
    {
     "name": "stderr",
     "output_type": "stream",
     "text": [
      "  7%|▋         | 21/301 [00:11<02:16,  2.05it/s]"
     ]
    },
    {
     "name": "stdout",
     "output_type": "stream",
     "text": [
      "20 [D loss: 0.034323, acc.: 99.22%] [G loss: 12.242023]\n"
     ]
    },
    {
     "name": "stderr",
     "output_type": "stream",
     "text": [
      "  7%|▋         | 22/301 [00:12<02:18,  2.01it/s]"
     ]
    },
    {
     "name": "stdout",
     "output_type": "stream",
     "text": [
      "21 [D loss: 0.062767, acc.: 98.44%] [G loss: 13.451066]\n"
     ]
    },
    {
     "name": "stderr",
     "output_type": "stream",
     "text": [
      "  8%|▊         | 23/301 [00:12<02:18,  2.01it/s]"
     ]
    },
    {
     "name": "stdout",
     "output_type": "stream",
     "text": [
      "22 [D loss: 0.032933, acc.: 99.22%] [G loss: 13.090549]\n"
     ]
    },
    {
     "name": "stderr",
     "output_type": "stream",
     "text": [
      "  8%|▊         | 24/301 [00:13<02:17,  2.02it/s]"
     ]
    },
    {
     "name": "stdout",
     "output_type": "stream",
     "text": [
      "23 [D loss: 0.040014, acc.: 98.44%] [G loss: 14.178961]\n"
     ]
    },
    {
     "name": "stderr",
     "output_type": "stream",
     "text": [
      "  8%|▊         | 25/301 [00:13<02:20,  1.96it/s]"
     ]
    },
    {
     "name": "stdout",
     "output_type": "stream",
     "text": [
      "24 [D loss: 0.046823, acc.: 98.83%] [G loss: 15.447836]\n"
     ]
    },
    {
     "name": "stderr",
     "output_type": "stream",
     "text": [
      "  9%|▊         | 26/301 [00:14<02:19,  1.97it/s]"
     ]
    },
    {
     "name": "stdout",
     "output_type": "stream",
     "text": [
      "25 [D loss: 0.056883, acc.: 98.83%] [G loss: 16.292055]\n"
     ]
    },
    {
     "name": "stderr",
     "output_type": "stream",
     "text": [
      "  9%|▉         | 27/301 [00:15<02:28,  1.84it/s]"
     ]
    },
    {
     "name": "stdout",
     "output_type": "stream",
     "text": [
      "26 [D loss: 0.034296, acc.: 99.22%] [G loss: 17.150007]\n"
     ]
    },
    {
     "name": "stderr",
     "output_type": "stream",
     "text": [
      "  9%|▉         | 28/301 [00:15<02:34,  1.76it/s]"
     ]
    },
    {
     "name": "stdout",
     "output_type": "stream",
     "text": [
      "27 [D loss: 0.068366, acc.: 98.83%] [G loss: 17.668159]\n"
     ]
    },
    {
     "name": "stderr",
     "output_type": "stream",
     "text": [
      " 10%|▉         | 29/301 [00:16<02:33,  1.77it/s]"
     ]
    },
    {
     "name": "stdout",
     "output_type": "stream",
     "text": [
      "28 [D loss: 0.062040, acc.: 98.83%] [G loss: 18.342129]\n"
     ]
    },
    {
     "name": "stderr",
     "output_type": "stream",
     "text": [
      " 10%|▉         | 30/301 [00:16<02:28,  1.83it/s]"
     ]
    },
    {
     "name": "stdout",
     "output_type": "stream",
     "text": [
      "29 [D loss: 0.020018, acc.: 99.22%] [G loss: 18.405548]\n"
     ]
    },
    {
     "name": "stderr",
     "output_type": "stream",
     "text": [
      " 10%|█         | 31/301 [00:17<02:24,  1.87it/s]"
     ]
    },
    {
     "name": "stdout",
     "output_type": "stream",
     "text": [
      "30 [D loss: 0.031191, acc.: 99.22%] [G loss: 17.851107]\n"
     ]
    },
    {
     "name": "stderr",
     "output_type": "stream",
     "text": [
      " 11%|█         | 32/301 [00:17<02:26,  1.84it/s]"
     ]
    },
    {
     "name": "stdout",
     "output_type": "stream",
     "text": [
      "31 [D loss: 0.043673, acc.: 98.83%] [G loss: 20.744110]\n"
     ]
    },
    {
     "name": "stderr",
     "output_type": "stream",
     "text": [
      " 11%|█         | 33/301 [00:18<02:29,  1.79it/s]"
     ]
    },
    {
     "name": "stdout",
     "output_type": "stream",
     "text": [
      "32 [D loss: 0.017808, acc.: 99.61%] [G loss: 19.718399]\n"
     ]
    },
    {
     "name": "stderr",
     "output_type": "stream",
     "text": [
      " 11%|█▏        | 34/301 [00:18<02:28,  1.80it/s]"
     ]
    },
    {
     "name": "stdout",
     "output_type": "stream",
     "text": [
      "33 [D loss: 0.006334, acc.: 100.00%] [G loss: 19.866421]\n"
     ]
    },
    {
     "name": "stderr",
     "output_type": "stream",
     "text": [
      " 12%|█▏        | 35/301 [00:19<02:28,  1.79it/s]"
     ]
    },
    {
     "name": "stdout",
     "output_type": "stream",
     "text": [
      "34 [D loss: 0.005622, acc.: 100.00%] [G loss: 21.600979]\n"
     ]
    },
    {
     "name": "stderr",
     "output_type": "stream",
     "text": [
      " 12%|█▏        | 36/301 [00:20<02:22,  1.87it/s]"
     ]
    },
    {
     "name": "stdout",
     "output_type": "stream",
     "text": [
      "35 [D loss: 0.024264, acc.: 99.22%] [G loss: 20.680111]\n"
     ]
    },
    {
     "name": "stderr",
     "output_type": "stream",
     "text": [
      " 12%|█▏        | 37/301 [00:20<02:23,  1.84it/s]"
     ]
    },
    {
     "name": "stdout",
     "output_type": "stream",
     "text": [
      "36 [D loss: 0.027258, acc.: 99.61%] [G loss: 20.882782]\n"
     ]
    },
    {
     "name": "stderr",
     "output_type": "stream",
     "text": [
      " 13%|█▎        | 38/301 [00:21<02:22,  1.84it/s]"
     ]
    },
    {
     "name": "stdout",
     "output_type": "stream",
     "text": [
      "37 [D loss: 0.008501, acc.: 99.61%] [G loss: 22.112175]\n"
     ]
    },
    {
     "name": "stderr",
     "output_type": "stream",
     "text": [
      " 13%|█▎        | 39/301 [00:21<02:24,  1.81it/s]"
     ]
    },
    {
     "name": "stdout",
     "output_type": "stream",
     "text": [
      "38 [D loss: 0.020564, acc.: 99.61%] [G loss: 25.214973]\n"
     ]
    },
    {
     "name": "stderr",
     "output_type": "stream",
     "text": [
      " 13%|█▎        | 40/301 [00:22<02:23,  1.82it/s]"
     ]
    },
    {
     "name": "stdout",
     "output_type": "stream",
     "text": [
      "39 [D loss: 0.011335, acc.: 99.61%] [G loss: 23.589066]\n"
     ]
    },
    {
     "name": "stderr",
     "output_type": "stream",
     "text": [
      " 14%|█▎        | 41/301 [00:22<02:18,  1.88it/s]"
     ]
    },
    {
     "name": "stdout",
     "output_type": "stream",
     "text": [
      "40 [D loss: 0.009559, acc.: 99.61%] [G loss: 23.286880]\n"
     ]
    },
    {
     "name": "stderr",
     "output_type": "stream",
     "text": [
      " 14%|█▍        | 42/301 [00:23<02:16,  1.89it/s]"
     ]
    },
    {
     "name": "stdout",
     "output_type": "stream",
     "text": [
      "41 [D loss: 0.026374, acc.: 99.61%] [G loss: 23.747631]\n"
     ]
    },
    {
     "name": "stderr",
     "output_type": "stream",
     "text": [
      " 14%|█▍        | 43/301 [00:23<02:16,  1.90it/s]"
     ]
    },
    {
     "name": "stdout",
     "output_type": "stream",
     "text": [
      "42 [D loss: 0.028208, acc.: 99.61%] [G loss: 23.951706]\n"
     ]
    },
    {
     "name": "stderr",
     "output_type": "stream",
     "text": [
      " 15%|█▍        | 44/301 [00:24<02:14,  1.92it/s]"
     ]
    },
    {
     "name": "stdout",
     "output_type": "stream",
     "text": [
      "43 [D loss: 0.029591, acc.: 99.22%] [G loss: 24.878860]\n"
     ]
    },
    {
     "name": "stderr",
     "output_type": "stream",
     "text": [
      " 15%|█▍        | 45/301 [00:24<02:11,  1.94it/s]"
     ]
    },
    {
     "name": "stdout",
     "output_type": "stream",
     "text": [
      "44 [D loss: 0.014577, acc.: 99.61%] [G loss: 24.647476]\n"
     ]
    },
    {
     "name": "stderr",
     "output_type": "stream",
     "text": [
      " 15%|█▌        | 46/301 [00:25<02:21,  1.80it/s]"
     ]
    },
    {
     "name": "stdout",
     "output_type": "stream",
     "text": [
      "45 [D loss: 0.006028, acc.: 100.00%] [G loss: 24.675394]\n"
     ]
    },
    {
     "name": "stderr",
     "output_type": "stream",
     "text": [
      " 16%|█▌        | 47/301 [00:26<02:23,  1.77it/s]"
     ]
    },
    {
     "name": "stdout",
     "output_type": "stream",
     "text": [
      "46 [D loss: 0.001211, acc.: 100.00%] [G loss: 23.070480]\n"
     ]
    },
    {
     "name": "stderr",
     "output_type": "stream",
     "text": [
      " 16%|█▌        | 48/301 [00:26<02:22,  1.77it/s]"
     ]
    },
    {
     "name": "stdout",
     "output_type": "stream",
     "text": [
      "47 [D loss: 0.002443, acc.: 100.00%] [G loss: 25.322035]\n"
     ]
    },
    {
     "name": "stderr",
     "output_type": "stream",
     "text": [
      " 16%|█▋        | 49/301 [00:27<02:22,  1.76it/s]"
     ]
    },
    {
     "name": "stdout",
     "output_type": "stream",
     "text": [
      "48 [D loss: 0.004103, acc.: 100.00%] [G loss: 25.662930]\n"
     ]
    },
    {
     "name": "stderr",
     "output_type": "stream",
     "text": [
      " 17%|█▋        | 50/301 [00:27<02:16,  1.84it/s]"
     ]
    },
    {
     "name": "stdout",
     "output_type": "stream",
     "text": [
      "49 [D loss: 0.044915, acc.: 98.83%] [G loss: 24.702751]\n"
     ]
    },
    {
     "name": "stderr",
     "output_type": "stream",
     "text": [
      " 17%|█▋        | 51/301 [00:28<02:14,  1.86it/s]"
     ]
    },
    {
     "name": "stdout",
     "output_type": "stream",
     "text": [
      "50 [D loss: 0.006293, acc.: 99.61%] [G loss: 25.705502]\n"
     ]
    },
    {
     "name": "stderr",
     "output_type": "stream",
     "text": [
      " 17%|█▋        | 52/301 [00:28<02:11,  1.89it/s]"
     ]
    },
    {
     "name": "stdout",
     "output_type": "stream",
     "text": [
      "51 [D loss: 0.014359, acc.: 99.22%] [G loss: 24.516684]\n"
     ]
    },
    {
     "name": "stderr",
     "output_type": "stream",
     "text": [
      " 18%|█▊        | 53/301 [00:29<02:11,  1.89it/s]"
     ]
    },
    {
     "name": "stdout",
     "output_type": "stream",
     "text": [
      "52 [D loss: 0.005109, acc.: 99.61%] [G loss: 27.229218]\n"
     ]
    },
    {
     "name": "stderr",
     "output_type": "stream",
     "text": [
      " 18%|█▊        | 54/301 [00:29<02:11,  1.88it/s]"
     ]
    },
    {
     "name": "stdout",
     "output_type": "stream",
     "text": [
      "53 [D loss: 0.005298, acc.: 100.00%] [G loss: 26.032200]\n"
     ]
    },
    {
     "name": "stderr",
     "output_type": "stream",
     "text": [
      " 18%|█▊        | 55/301 [00:30<02:17,  1.79it/s]"
     ]
    },
    {
     "name": "stdout",
     "output_type": "stream",
     "text": [
      "54 [D loss: 0.001671, acc.: 100.00%] [G loss: 24.259106]\n"
     ]
    },
    {
     "name": "stderr",
     "output_type": "stream",
     "text": [
      " 19%|█▊        | 56/301 [00:30<02:19,  1.75it/s]"
     ]
    },
    {
     "name": "stdout",
     "output_type": "stream",
     "text": [
      "55 [D loss: 0.003897, acc.: 99.61%] [G loss: 26.211435]\n"
     ]
    },
    {
     "name": "stderr",
     "output_type": "stream",
     "text": [
      " 19%|█▉        | 57/301 [00:31<02:20,  1.73it/s]"
     ]
    },
    {
     "name": "stdout",
     "output_type": "stream",
     "text": [
      "56 [D loss: 0.015810, acc.: 99.61%] [G loss: 27.104549]\n"
     ]
    },
    {
     "name": "stderr",
     "output_type": "stream",
     "text": [
      " 19%|█▉        | 58/301 [00:32<02:13,  1.82it/s]"
     ]
    },
    {
     "name": "stdout",
     "output_type": "stream",
     "text": [
      "57 [D loss: 0.008252, acc.: 99.61%] [G loss: 24.817478]\n"
     ]
    },
    {
     "name": "stderr",
     "output_type": "stream",
     "text": [
      " 20%|█▉        | 59/301 [00:32<02:09,  1.86it/s]"
     ]
    },
    {
     "name": "stdout",
     "output_type": "stream",
     "text": [
      "58 [D loss: 0.002471, acc.: 100.00%] [G loss: 27.193722]\n"
     ]
    },
    {
     "name": "stderr",
     "output_type": "stream",
     "text": [
      " 20%|█▉        | 60/301 [00:33<02:15,  1.78it/s]"
     ]
    },
    {
     "name": "stdout",
     "output_type": "stream",
     "text": [
      "59 [D loss: 0.001841, acc.: 100.00%] [G loss: 26.766253]\n"
     ]
    },
    {
     "name": "stderr",
     "output_type": "stream",
     "text": [
      " 20%|██        | 61/301 [00:33<02:13,  1.80it/s]"
     ]
    },
    {
     "name": "stdout",
     "output_type": "stream",
     "text": [
      "60 [D loss: 0.002544, acc.: 100.00%] [G loss: 27.472256]\n"
     ]
    },
    {
     "name": "stderr",
     "output_type": "stream",
     "text": [
      " 21%|██        | 62/301 [00:34<02:12,  1.81it/s]"
     ]
    },
    {
     "name": "stdout",
     "output_type": "stream",
     "text": [
      "61 [D loss: 0.010198, acc.: 99.61%] [G loss: 28.801056]\n"
     ]
    },
    {
     "name": "stderr",
     "output_type": "stream",
     "text": [
      " 21%|██        | 63/301 [00:34<02:10,  1.83it/s]"
     ]
    },
    {
     "name": "stdout",
     "output_type": "stream",
     "text": [
      "62 [D loss: 0.002387, acc.: 100.00%] [G loss: 29.142262]\n"
     ]
    },
    {
     "name": "stderr",
     "output_type": "stream",
     "text": [
      " 21%|██▏       | 64/301 [00:35<02:08,  1.85it/s]"
     ]
    },
    {
     "name": "stdout",
     "output_type": "stream",
     "text": [
      "63 [D loss: 0.006064, acc.: 99.61%] [G loss: 27.916941]\n"
     ]
    },
    {
     "name": "stderr",
     "output_type": "stream",
     "text": [
      " 22%|██▏       | 65/301 [00:35<02:03,  1.91it/s]"
     ]
    },
    {
     "name": "stdout",
     "output_type": "stream",
     "text": [
      "64 [D loss: 0.080647, acc.: 98.83%] [G loss: 29.561188]\n"
     ]
    },
    {
     "name": "stderr",
     "output_type": "stream",
     "text": [
      " 22%|██▏       | 66/301 [00:36<02:06,  1.86it/s]"
     ]
    },
    {
     "name": "stdout",
     "output_type": "stream",
     "text": [
      "65 [D loss: 0.005294, acc.: 100.00%] [G loss: 31.348248]\n"
     ]
    },
    {
     "name": "stderr",
     "output_type": "stream",
     "text": [
      " 22%|██▏       | 67/301 [00:36<02:07,  1.84it/s]"
     ]
    },
    {
     "name": "stdout",
     "output_type": "stream",
     "text": [
      "66 [D loss: 0.008392, acc.: 99.22%] [G loss: 33.378979]\n"
     ]
    },
    {
     "name": "stderr",
     "output_type": "stream",
     "text": [
      " 23%|██▎       | 68/301 [00:37<02:06,  1.84it/s]"
     ]
    },
    {
     "name": "stdout",
     "output_type": "stream",
     "text": [
      "67 [D loss: 0.002740, acc.: 100.00%] [G loss: 29.779556]\n"
     ]
    },
    {
     "name": "stderr",
     "output_type": "stream",
     "text": [
      " 23%|██▎       | 69/301 [00:38<02:03,  1.88it/s]"
     ]
    },
    {
     "name": "stdout",
     "output_type": "stream",
     "text": [
      "68 [D loss: 0.002149, acc.: 100.00%] [G loss: 29.358948]\n"
     ]
    },
    {
     "name": "stderr",
     "output_type": "stream",
     "text": [
      " 23%|██▎       | 70/301 [00:38<02:01,  1.90it/s]"
     ]
    },
    {
     "name": "stdout",
     "output_type": "stream",
     "text": [
      "69 [D loss: 0.015064, acc.: 99.61%] [G loss: 29.668758]\n"
     ]
    },
    {
     "name": "stderr",
     "output_type": "stream",
     "text": [
      " 24%|██▎       | 71/301 [00:39<01:59,  1.92it/s]"
     ]
    },
    {
     "name": "stdout",
     "output_type": "stream",
     "text": [
      "70 [D loss: 0.016546, acc.: 99.61%] [G loss: 30.865082]\n"
     ]
    },
    {
     "name": "stderr",
     "output_type": "stream",
     "text": [
      " 24%|██▍       | 72/301 [00:39<01:57,  1.96it/s]"
     ]
    },
    {
     "name": "stdout",
     "output_type": "stream",
     "text": [
      "71 [D loss: 0.001551, acc.: 100.00%] [G loss: 31.190918]\n"
     ]
    },
    {
     "name": "stderr",
     "output_type": "stream",
     "text": [
      " 24%|██▍       | 73/301 [00:40<01:56,  1.96it/s]"
     ]
    },
    {
     "name": "stdout",
     "output_type": "stream",
     "text": [
      "72 [D loss: 0.000600, acc.: 100.00%] [G loss: 31.773300]\n"
     ]
    },
    {
     "name": "stderr",
     "output_type": "stream",
     "text": [
      " 25%|██▍       | 74/301 [00:40<01:57,  1.93it/s]"
     ]
    },
    {
     "name": "stdout",
     "output_type": "stream",
     "text": [
      "73 [D loss: 0.005025, acc.: 100.00%] [G loss: 31.324907]\n"
     ]
    },
    {
     "name": "stderr",
     "output_type": "stream",
     "text": [
      " 25%|██▍       | 75/301 [00:41<01:57,  1.92it/s]"
     ]
    },
    {
     "name": "stdout",
     "output_type": "stream",
     "text": [
      "74 [D loss: 0.003639, acc.: 100.00%] [G loss: 36.216225]\n"
     ]
    },
    {
     "name": "stderr",
     "output_type": "stream",
     "text": [
      " 25%|██▌       | 76/301 [00:41<01:54,  1.97it/s]"
     ]
    },
    {
     "name": "stdout",
     "output_type": "stream",
     "text": [
      "75 [D loss: 0.003254, acc.: 100.00%] [G loss: 30.907433]\n"
     ]
    },
    {
     "name": "stderr",
     "output_type": "stream",
     "text": [
      " 26%|██▌       | 77/301 [00:42<01:53,  1.98it/s]"
     ]
    },
    {
     "name": "stdout",
     "output_type": "stream",
     "text": [
      "76 [D loss: 0.000540, acc.: 100.00%] [G loss: 32.964428]\n"
     ]
    },
    {
     "name": "stderr",
     "output_type": "stream",
     "text": [
      " 26%|██▌       | 78/301 [00:42<01:51,  1.99it/s]"
     ]
    },
    {
     "name": "stdout",
     "output_type": "stream",
     "text": [
      "77 [D loss: 0.000580, acc.: 100.00%] [G loss: 33.805172]\n"
     ]
    },
    {
     "name": "stderr",
     "output_type": "stream",
     "text": [
      " 26%|██▌       | 79/301 [00:43<01:50,  2.02it/s]"
     ]
    },
    {
     "name": "stdout",
     "output_type": "stream",
     "text": [
      "78 [D loss: 0.053032, acc.: 99.22%] [G loss: 36.693577]\n"
     ]
    },
    {
     "name": "stderr",
     "output_type": "stream",
     "text": [
      " 27%|██▋       | 80/301 [00:43<01:49,  2.02it/s]"
     ]
    },
    {
     "name": "stdout",
     "output_type": "stream",
     "text": [
      "79 [D loss: 0.024620, acc.: 99.61%] [G loss: 34.128677]\n"
     ]
    },
    {
     "name": "stderr",
     "output_type": "stream",
     "text": [
      " 27%|██▋       | 81/301 [00:44<01:51,  1.98it/s]"
     ]
    },
    {
     "name": "stdout",
     "output_type": "stream",
     "text": [
      "80 [D loss: 0.000711, acc.: 100.00%] [G loss: 31.321465]\n"
     ]
    },
    {
     "name": "stderr",
     "output_type": "stream",
     "text": [
      " 27%|██▋       | 82/301 [00:44<01:52,  1.95it/s]"
     ]
    },
    {
     "name": "stdout",
     "output_type": "stream",
     "text": [
      "81 [D loss: 0.025990, acc.: 99.22%] [G loss: 33.425919]\n"
     ]
    },
    {
     "name": "stderr",
     "output_type": "stream",
     "text": [
      " 28%|██▊       | 83/301 [00:45<01:52,  1.95it/s]"
     ]
    },
    {
     "name": "stdout",
     "output_type": "stream",
     "text": [
      "82 [D loss: 0.001456, acc.: 100.00%] [G loss: 33.865852]\n"
     ]
    },
    {
     "name": "stderr",
     "output_type": "stream",
     "text": [
      " 28%|██▊       | 84/301 [00:45<01:51,  1.95it/s]"
     ]
    },
    {
     "name": "stdout",
     "output_type": "stream",
     "text": [
      "83 [D loss: 0.017592, acc.: 99.61%] [G loss: 35.823944]\n"
     ]
    },
    {
     "name": "stderr",
     "output_type": "stream",
     "text": [
      " 28%|██▊       | 85/301 [00:46<01:48,  1.99it/s]"
     ]
    },
    {
     "name": "stdout",
     "output_type": "stream",
     "text": [
      "84 [D loss: 0.008404, acc.: 99.61%] [G loss: 31.035589]\n"
     ]
    },
    {
     "name": "stderr",
     "output_type": "stream",
     "text": [
      " 29%|██▊       | 86/301 [00:46<01:46,  2.03it/s]"
     ]
    },
    {
     "name": "stdout",
     "output_type": "stream",
     "text": [
      "85 [D loss: 0.001332, acc.: 100.00%] [G loss: 34.312405]\n"
     ]
    },
    {
     "name": "stderr",
     "output_type": "stream",
     "text": [
      " 29%|██▉       | 87/301 [00:47<01:45,  2.04it/s]"
     ]
    },
    {
     "name": "stdout",
     "output_type": "stream",
     "text": [
      "86 [D loss: 0.000480, acc.: 100.00%] [G loss: 33.528297]\n"
     ]
    },
    {
     "name": "stderr",
     "output_type": "stream",
     "text": [
      " 29%|██▉       | 88/301 [00:47<01:47,  1.98it/s]"
     ]
    },
    {
     "name": "stdout",
     "output_type": "stream",
     "text": [
      "87 [D loss: 0.001569, acc.: 100.00%] [G loss: 38.325016]\n"
     ]
    },
    {
     "name": "stderr",
     "output_type": "stream",
     "text": [
      " 30%|██▉       | 89/301 [00:48<01:49,  1.94it/s]"
     ]
    },
    {
     "name": "stdout",
     "output_type": "stream",
     "text": [
      "88 [D loss: 0.007471, acc.: 100.00%] [G loss: 34.345528]\n"
     ]
    },
    {
     "name": "stderr",
     "output_type": "stream",
     "text": [
      " 30%|██▉       | 90/301 [00:48<01:51,  1.88it/s]"
     ]
    },
    {
     "name": "stdout",
     "output_type": "stream",
     "text": [
      "89 [D loss: 0.001483, acc.: 100.00%] [G loss: 36.351540]\n"
     ]
    },
    {
     "name": "stderr",
     "output_type": "stream",
     "text": [
      " 30%|███       | 91/301 [00:49<01:55,  1.81it/s]"
     ]
    },
    {
     "name": "stdout",
     "output_type": "stream",
     "text": [
      "90 [D loss: 0.003587, acc.: 99.61%] [G loss: 39.914375]\n"
     ]
    },
    {
     "name": "stderr",
     "output_type": "stream",
     "text": [
      " 31%|███       | 92/301 [00:49<01:58,  1.76it/s]"
     ]
    },
    {
     "name": "stdout",
     "output_type": "stream",
     "text": [
      "91 [D loss: 0.004675, acc.: 100.00%] [G loss: 36.918594]\n"
     ]
    },
    {
     "name": "stderr",
     "output_type": "stream",
     "text": [
      " 31%|███       | 93/301 [00:50<02:03,  1.69it/s]"
     ]
    },
    {
     "name": "stdout",
     "output_type": "stream",
     "text": [
      "92 [D loss: 0.000588, acc.: 100.00%] [G loss: 38.887535]\n"
     ]
    },
    {
     "name": "stderr",
     "output_type": "stream",
     "text": [
      " 31%|███       | 94/301 [00:51<01:59,  1.74it/s]"
     ]
    },
    {
     "name": "stdout",
     "output_type": "stream",
     "text": [
      "93 [D loss: 0.000197, acc.: 100.00%] [G loss: 37.461132]\n"
     ]
    },
    {
     "name": "stderr",
     "output_type": "stream",
     "text": [
      " 32%|███▏      | 95/301 [00:51<01:55,  1.78it/s]"
     ]
    },
    {
     "name": "stdout",
     "output_type": "stream",
     "text": [
      "94 [D loss: 0.003424, acc.: 100.00%] [G loss: 36.470367]\n"
     ]
    },
    {
     "name": "stderr",
     "output_type": "stream",
     "text": [
      " 32%|███▏      | 96/301 [00:52<01:54,  1.79it/s]"
     ]
    },
    {
     "name": "stdout",
     "output_type": "stream",
     "text": [
      "95 [D loss: 0.000152, acc.: 100.00%] [G loss: 37.137188]\n"
     ]
    },
    {
     "name": "stderr",
     "output_type": "stream",
     "text": [
      " 32%|███▏      | 97/301 [00:52<01:52,  1.82it/s]"
     ]
    },
    {
     "name": "stdout",
     "output_type": "stream",
     "text": [
      "96 [D loss: 0.001409, acc.: 100.00%] [G loss: 41.166000]\n"
     ]
    },
    {
     "name": "stderr",
     "output_type": "stream",
     "text": [
      " 33%|███▎      | 98/301 [00:53<01:49,  1.85it/s]"
     ]
    },
    {
     "name": "stdout",
     "output_type": "stream",
     "text": [
      "97 [D loss: 0.001779, acc.: 100.00%] [G loss: 42.974014]\n"
     ]
    },
    {
     "name": "stderr",
     "output_type": "stream",
     "text": [
      " 33%|███▎      | 99/301 [00:53<01:49,  1.85it/s]"
     ]
    },
    {
     "name": "stdout",
     "output_type": "stream",
     "text": [
      "98 [D loss: 0.017545, acc.: 99.61%] [G loss: 40.769997]\n"
     ]
    },
    {
     "name": "stderr",
     "output_type": "stream",
     "text": [
      " 33%|███▎      | 100/301 [00:54<01:50,  1.83it/s]"
     ]
    },
    {
     "name": "stdout",
     "output_type": "stream",
     "text": [
      "99 [D loss: 0.011567, acc.: 99.61%] [G loss: 42.077156]\n",
      "100 [D loss: 0.005196, acc.: 100.00%] [G loss: 42.223072]\n"
     ]
    },
    {
     "name": "stderr",
     "output_type": "stream",
     "text": [
      "\n",
      "Synthetic data generation:   0%|          | 0/8 [00:00<?, ?it/s]\u001B[A\n",
      "Synthetic data generation:  50%|█████     | 4/8 [00:00<00:00, 37.31it/s]\u001B[A\n",
      "Synthetic data generation: 100%|██████████| 8/8 [00:00<00:00, 37.65it/s]\u001B[A\n",
      " 34%|███▍      | 102/301 [00:55<02:08,  1.55it/s]"
     ]
    },
    {
     "name": "stdout",
     "output_type": "stream",
     "text": [
      "101 [D loss: 0.000715, acc.: 100.00%] [G loss: 40.945129]\n"
     ]
    },
    {
     "name": "stderr",
     "output_type": "stream",
     "text": [
      " 34%|███▍      | 103/301 [00:56<02:01,  1.63it/s]"
     ]
    },
    {
     "name": "stdout",
     "output_type": "stream",
     "text": [
      "102 [D loss: 0.000743, acc.: 100.00%] [G loss: 39.776093]\n"
     ]
    },
    {
     "name": "stderr",
     "output_type": "stream",
     "text": [
      " 35%|███▍      | 104/301 [00:56<01:54,  1.73it/s]"
     ]
    },
    {
     "name": "stdout",
     "output_type": "stream",
     "text": [
      "103 [D loss: 0.004570, acc.: 99.61%] [G loss: 43.445045]\n"
     ]
    },
    {
     "name": "stderr",
     "output_type": "stream",
     "text": [
      " 35%|███▍      | 105/301 [00:57<01:49,  1.78it/s]"
     ]
    },
    {
     "name": "stdout",
     "output_type": "stream",
     "text": [
      "104 [D loss: 0.000144, acc.: 100.00%] [G loss: 47.464005]\n"
     ]
    },
    {
     "name": "stderr",
     "output_type": "stream",
     "text": [
      " 35%|███▌      | 106/301 [00:57<01:45,  1.85it/s]"
     ]
    },
    {
     "name": "stdout",
     "output_type": "stream",
     "text": [
      "105 [D loss: 0.008155, acc.: 100.00%] [G loss: 45.142464]\n"
     ]
    },
    {
     "name": "stderr",
     "output_type": "stream",
     "text": [
      " 36%|███▌      | 107/301 [00:58<01:43,  1.88it/s]"
     ]
    },
    {
     "name": "stdout",
     "output_type": "stream",
     "text": [
      "106 [D loss: 0.003172, acc.: 100.00%] [G loss: 47.525467]\n"
     ]
    },
    {
     "name": "stderr",
     "output_type": "stream",
     "text": [
      " 36%|███▌      | 108/301 [00:58<01:41,  1.91it/s]"
     ]
    },
    {
     "name": "stdout",
     "output_type": "stream",
     "text": [
      "107 [D loss: 0.000777, acc.: 100.00%] [G loss: 43.201767]\n"
     ]
    },
    {
     "name": "stderr",
     "output_type": "stream",
     "text": [
      " 36%|███▌      | 109/301 [00:59<01:38,  1.95it/s]"
     ]
    },
    {
     "name": "stdout",
     "output_type": "stream",
     "text": [
      "108 [D loss: 0.001846, acc.: 100.00%] [G loss: 44.118843]\n"
     ]
    },
    {
     "name": "stderr",
     "output_type": "stream",
     "text": [
      " 37%|███▋      | 110/301 [00:59<01:37,  1.96it/s]"
     ]
    },
    {
     "name": "stdout",
     "output_type": "stream",
     "text": [
      "109 [D loss: 0.001907, acc.: 100.00%] [G loss: 45.787754]\n"
     ]
    },
    {
     "name": "stderr",
     "output_type": "stream",
     "text": [
      " 37%|███▋      | 111/301 [01:00<01:37,  1.94it/s]"
     ]
    },
    {
     "name": "stdout",
     "output_type": "stream",
     "text": [
      "110 [D loss: 0.000372, acc.: 100.00%] [G loss: 41.246140]\n"
     ]
    },
    {
     "name": "stderr",
     "output_type": "stream",
     "text": [
      " 37%|███▋      | 112/301 [01:00<01:36,  1.95it/s]"
     ]
    },
    {
     "name": "stdout",
     "output_type": "stream",
     "text": [
      "111 [D loss: 0.001608, acc.: 100.00%] [G loss: 49.433990]\n"
     ]
    },
    {
     "name": "stderr",
     "output_type": "stream",
     "text": [
      " 38%|███▊      | 113/301 [01:01<01:36,  1.94it/s]"
     ]
    },
    {
     "name": "stdout",
     "output_type": "stream",
     "text": [
      "112 [D loss: 0.000146, acc.: 100.00%] [G loss: 46.640953]\n"
     ]
    },
    {
     "name": "stderr",
     "output_type": "stream",
     "text": [
      " 38%|███▊      | 114/301 [01:01<01:35,  1.96it/s]"
     ]
    },
    {
     "name": "stdout",
     "output_type": "stream",
     "text": [
      "113 [D loss: 0.003553, acc.: 99.61%] [G loss: 51.625530]\n"
     ]
    },
    {
     "name": "stderr",
     "output_type": "stream",
     "text": [
      " 38%|███▊      | 115/301 [01:02<01:37,  1.90it/s]"
     ]
    },
    {
     "name": "stdout",
     "output_type": "stream",
     "text": [
      "114 [D loss: 0.001515, acc.: 100.00%] [G loss: 50.367836]\n"
     ]
    },
    {
     "name": "stderr",
     "output_type": "stream",
     "text": [
      " 39%|███▊      | 116/301 [01:03<01:41,  1.83it/s]"
     ]
    },
    {
     "name": "stdout",
     "output_type": "stream",
     "text": [
      "115 [D loss: 0.000190, acc.: 100.00%] [G loss: 48.907539]\n"
     ]
    },
    {
     "name": "stderr",
     "output_type": "stream",
     "text": [
      " 39%|███▉      | 117/301 [01:03<01:44,  1.76it/s]"
     ]
    },
    {
     "name": "stdout",
     "output_type": "stream",
     "text": [
      "116 [D loss: 0.009307, acc.: 99.61%] [G loss: 51.802902]\n"
     ]
    },
    {
     "name": "stderr",
     "output_type": "stream",
     "text": [
      " 39%|███▉      | 118/301 [01:04<01:43,  1.77it/s]"
     ]
    },
    {
     "name": "stdout",
     "output_type": "stream",
     "text": [
      "117 [D loss: 0.001226, acc.: 100.00%] [G loss: 50.611237]\n"
     ]
    },
    {
     "name": "stderr",
     "output_type": "stream",
     "text": [
      " 40%|███▉      | 119/301 [01:04<01:46,  1.71it/s]"
     ]
    },
    {
     "name": "stdout",
     "output_type": "stream",
     "text": [
      "118 [D loss: 0.033387, acc.: 99.61%] [G loss: 55.382668]\n"
     ]
    },
    {
     "name": "stderr",
     "output_type": "stream",
     "text": [
      " 40%|███▉      | 120/301 [01:05<01:43,  1.74it/s]"
     ]
    },
    {
     "name": "stdout",
     "output_type": "stream",
     "text": [
      "119 [D loss: 0.000206, acc.: 100.00%] [G loss: 47.020008]\n"
     ]
    },
    {
     "name": "stderr",
     "output_type": "stream",
     "text": [
      " 40%|████      | 121/301 [01:05<01:38,  1.82it/s]"
     ]
    },
    {
     "name": "stdout",
     "output_type": "stream",
     "text": [
      "120 [D loss: 0.000303, acc.: 100.00%] [G loss: 52.693539]\n"
     ]
    },
    {
     "name": "stderr",
     "output_type": "stream",
     "text": [
      " 41%|████      | 122/301 [01:06<01:35,  1.88it/s]"
     ]
    },
    {
     "name": "stdout",
     "output_type": "stream",
     "text": [
      "121 [D loss: 0.012940, acc.: 99.61%] [G loss: 54.521992]\n"
     ]
    },
    {
     "name": "stderr",
     "output_type": "stream",
     "text": [
      " 41%|████      | 123/301 [01:06<01:32,  1.92it/s]"
     ]
    },
    {
     "name": "stdout",
     "output_type": "stream",
     "text": [
      "122 [D loss: 0.000127, acc.: 100.00%] [G loss: 49.641056]\n"
     ]
    },
    {
     "name": "stderr",
     "output_type": "stream",
     "text": [
      " 41%|████      | 124/301 [01:07<01:35,  1.85it/s]"
     ]
    },
    {
     "name": "stdout",
     "output_type": "stream",
     "text": [
      "123 [D loss: 0.000065, acc.: 100.00%] [G loss: 54.568264]\n"
     ]
    },
    {
     "name": "stderr",
     "output_type": "stream",
     "text": [
      " 42%|████▏     | 125/301 [01:08<01:36,  1.82it/s]"
     ]
    },
    {
     "name": "stdout",
     "output_type": "stream",
     "text": [
      "124 [D loss: 0.010448, acc.: 99.61%] [G loss: 61.296021]\n"
     ]
    },
    {
     "name": "stderr",
     "output_type": "stream",
     "text": [
      " 42%|████▏     | 126/301 [01:08<01:33,  1.87it/s]"
     ]
    },
    {
     "name": "stdout",
     "output_type": "stream",
     "text": [
      "125 [D loss: 0.001719, acc.: 100.00%] [G loss: 54.561726]\n"
     ]
    },
    {
     "name": "stderr",
     "output_type": "stream",
     "text": [
      " 42%|████▏     | 127/301 [01:09<01:29,  1.94it/s]"
     ]
    },
    {
     "name": "stdout",
     "output_type": "stream",
     "text": [
      "126 [D loss: 0.000078, acc.: 100.00%] [G loss: 57.612286]\n"
     ]
    },
    {
     "name": "stderr",
     "output_type": "stream",
     "text": [
      " 43%|████▎     | 128/301 [01:09<01:35,  1.82it/s]"
     ]
    },
    {
     "name": "stdout",
     "output_type": "stream",
     "text": [
      "127 [D loss: 0.000051, acc.: 100.00%] [G loss: 53.233913]\n"
     ]
    },
    {
     "name": "stderr",
     "output_type": "stream",
     "text": [
      " 43%|████▎     | 129/301 [01:10<01:33,  1.84it/s]"
     ]
    },
    {
     "name": "stdout",
     "output_type": "stream",
     "text": [
      "128 [D loss: 0.004211, acc.: 100.00%] [G loss: 53.955883]\n"
     ]
    },
    {
     "name": "stderr",
     "output_type": "stream",
     "text": [
      " 43%|████▎     | 130/301 [01:10<01:32,  1.84it/s]"
     ]
    },
    {
     "name": "stdout",
     "output_type": "stream",
     "text": [
      "129 [D loss: 0.000074, acc.: 100.00%] [G loss: 53.376270]\n"
     ]
    },
    {
     "name": "stderr",
     "output_type": "stream",
     "text": [
      " 44%|████▎     | 131/301 [01:11<01:33,  1.81it/s]"
     ]
    },
    {
     "name": "stdout",
     "output_type": "stream",
     "text": [
      "130 [D loss: 0.006437, acc.: 99.61%] [G loss: 58.517921]\n"
     ]
    },
    {
     "name": "stderr",
     "output_type": "stream",
     "text": [
      " 44%|████▍     | 132/301 [01:11<01:31,  1.86it/s]"
     ]
    },
    {
     "name": "stdout",
     "output_type": "stream",
     "text": [
      "131 [D loss: 0.016578, acc.: 99.61%] [G loss: 62.560818]\n"
     ]
    },
    {
     "name": "stderr",
     "output_type": "stream",
     "text": [
      " 44%|████▍     | 133/301 [01:12<01:28,  1.90it/s]"
     ]
    },
    {
     "name": "stdout",
     "output_type": "stream",
     "text": [
      "132 [D loss: 0.007614, acc.: 100.00%] [G loss: 56.355450]\n"
     ]
    },
    {
     "name": "stderr",
     "output_type": "stream",
     "text": [
      " 45%|████▍     | 134/301 [01:12<01:25,  1.95it/s]"
     ]
    },
    {
     "name": "stdout",
     "output_type": "stream",
     "text": [
      "133 [D loss: 0.001222, acc.: 100.00%] [G loss: 58.376125]\n"
     ]
    },
    {
     "name": "stderr",
     "output_type": "stream",
     "text": [
      " 45%|████▍     | 135/301 [01:13<01:25,  1.95it/s]"
     ]
    },
    {
     "name": "stdout",
     "output_type": "stream",
     "text": [
      "134 [D loss: 0.000735, acc.: 100.00%] [G loss: 57.613373]\n"
     ]
    },
    {
     "name": "stderr",
     "output_type": "stream",
     "text": [
      " 45%|████▌     | 136/301 [01:13<01:23,  1.97it/s]"
     ]
    },
    {
     "name": "stdout",
     "output_type": "stream",
     "text": [
      "135 [D loss: 0.001855, acc.: 100.00%] [G loss: 55.434387]\n"
     ]
    },
    {
     "name": "stderr",
     "output_type": "stream",
     "text": [
      " 46%|████▌     | 137/301 [01:14<01:22,  1.98it/s]"
     ]
    },
    {
     "name": "stdout",
     "output_type": "stream",
     "text": [
      "136 [D loss: 0.000064, acc.: 100.00%] [G loss: 58.309116]\n"
     ]
    },
    {
     "name": "stderr",
     "output_type": "stream",
     "text": [
      " 46%|████▌     | 138/301 [01:14<01:21,  2.01it/s]"
     ]
    },
    {
     "name": "stdout",
     "output_type": "stream",
     "text": [
      "137 [D loss: 0.000517, acc.: 100.00%] [G loss: 58.753380]\n"
     ]
    },
    {
     "name": "stderr",
     "output_type": "stream",
     "text": [
      " 46%|████▌     | 139/301 [01:15<01:22,  1.97it/s]"
     ]
    },
    {
     "name": "stdout",
     "output_type": "stream",
     "text": [
      "138 [D loss: 0.000057, acc.: 100.00%] [G loss: 58.859055]\n"
     ]
    },
    {
     "name": "stderr",
     "output_type": "stream",
     "text": [
      " 47%|████▋     | 140/301 [01:15<01:20,  2.00it/s]"
     ]
    },
    {
     "name": "stdout",
     "output_type": "stream",
     "text": [
      "139 [D loss: 0.000071, acc.: 100.00%] [G loss: 60.441589]\n"
     ]
    },
    {
     "name": "stderr",
     "output_type": "stream",
     "text": [
      " 47%|████▋     | 141/301 [01:16<01:18,  2.04it/s]"
     ]
    },
    {
     "name": "stdout",
     "output_type": "stream",
     "text": [
      "140 [D loss: 0.000256, acc.: 100.00%] [G loss: 64.125015]\n"
     ]
    },
    {
     "name": "stderr",
     "output_type": "stream",
     "text": [
      " 47%|████▋     | 142/301 [01:16<01:18,  2.01it/s]"
     ]
    },
    {
     "name": "stdout",
     "output_type": "stream",
     "text": [
      "141 [D loss: 0.000653, acc.: 100.00%] [G loss: 66.085022]\n"
     ]
    },
    {
     "name": "stderr",
     "output_type": "stream",
     "text": [
      " 48%|████▊     | 143/301 [01:17<01:19,  1.98it/s]"
     ]
    },
    {
     "name": "stdout",
     "output_type": "stream",
     "text": [
      "142 [D loss: 0.000153, acc.: 100.00%] [G loss: 67.779442]\n"
     ]
    },
    {
     "name": "stderr",
     "output_type": "stream",
     "text": [
      " 48%|████▊     | 144/301 [01:17<01:19,  1.98it/s]"
     ]
    },
    {
     "name": "stdout",
     "output_type": "stream",
     "text": [
      "143 [D loss: 0.000032, acc.: 100.00%] [G loss: 63.477089]\n"
     ]
    },
    {
     "name": "stderr",
     "output_type": "stream",
     "text": [
      " 48%|████▊     | 145/301 [01:18<01:18,  1.99it/s]"
     ]
    },
    {
     "name": "stdout",
     "output_type": "stream",
     "text": [
      "144 [D loss: 0.000023, acc.: 100.00%] [G loss: 67.035759]\n"
     ]
    },
    {
     "name": "stderr",
     "output_type": "stream",
     "text": [
      " 49%|████▊     | 146/301 [01:18<01:17,  2.01it/s]"
     ]
    },
    {
     "name": "stdout",
     "output_type": "stream",
     "text": [
      "145 [D loss: 0.000086, acc.: 100.00%] [G loss: 62.395592]\n"
     ]
    },
    {
     "name": "stderr",
     "output_type": "stream",
     "text": [
      " 49%|████▉     | 147/301 [01:19<01:17,  1.99it/s]"
     ]
    },
    {
     "name": "stdout",
     "output_type": "stream",
     "text": [
      "146 [D loss: 0.000057, acc.: 100.00%] [G loss: 72.073853]\n"
     ]
    },
    {
     "name": "stderr",
     "output_type": "stream",
     "text": [
      " 49%|████▉     | 148/301 [01:19<01:16,  2.00it/s]"
     ]
    },
    {
     "name": "stdout",
     "output_type": "stream",
     "text": [
      "147 [D loss: 0.001047, acc.: 100.00%] [G loss: 64.188965]\n"
     ]
    },
    {
     "name": "stderr",
     "output_type": "stream",
     "text": [
      " 50%|████▉     | 149/301 [01:20<01:15,  2.00it/s]"
     ]
    },
    {
     "name": "stdout",
     "output_type": "stream",
     "text": [
      "148 [D loss: 0.000115, acc.: 100.00%] [G loss: 70.632462]\n"
     ]
    },
    {
     "name": "stderr",
     "output_type": "stream",
     "text": [
      " 50%|████▉     | 150/301 [01:20<01:19,  1.90it/s]"
     ]
    },
    {
     "name": "stdout",
     "output_type": "stream",
     "text": [
      "149 [D loss: 0.000870, acc.: 100.00%] [G loss: 69.086411]\n"
     ]
    },
    {
     "name": "stderr",
     "output_type": "stream",
     "text": [
      " 50%|█████     | 151/301 [01:21<01:17,  1.95it/s]"
     ]
    },
    {
     "name": "stdout",
     "output_type": "stream",
     "text": [
      "150 [D loss: 0.000088, acc.: 100.00%] [G loss: 65.193497]\n"
     ]
    },
    {
     "name": "stderr",
     "output_type": "stream",
     "text": [
      " 50%|█████     | 152/301 [01:21<01:18,  1.90it/s]"
     ]
    },
    {
     "name": "stdout",
     "output_type": "stream",
     "text": [
      "151 [D loss: 0.000303, acc.: 100.00%] [G loss: 70.580414]\n"
     ]
    },
    {
     "name": "stderr",
     "output_type": "stream",
     "text": [
      " 51%|█████     | 153/301 [01:22<01:19,  1.86it/s]"
     ]
    },
    {
     "name": "stdout",
     "output_type": "stream",
     "text": [
      "152 [D loss: 0.000098, acc.: 100.00%] [G loss: 68.752563]\n"
     ]
    },
    {
     "name": "stderr",
     "output_type": "stream",
     "text": [
      " 51%|█████     | 154/301 [01:23<01:18,  1.88it/s]"
     ]
    },
    {
     "name": "stdout",
     "output_type": "stream",
     "text": [
      "153 [D loss: 0.000050, acc.: 100.00%] [G loss: 66.102760]\n"
     ]
    },
    {
     "name": "stderr",
     "output_type": "stream",
     "text": [
      " 51%|█████▏    | 155/301 [01:23<01:20,  1.82it/s]"
     ]
    },
    {
     "name": "stdout",
     "output_type": "stream",
     "text": [
      "154 [D loss: 0.001178, acc.: 100.00%] [G loss: 66.449745]\n"
     ]
    },
    {
     "name": "stderr",
     "output_type": "stream",
     "text": [
      " 52%|█████▏    | 156/301 [01:24<01:24,  1.72it/s]"
     ]
    },
    {
     "name": "stdout",
     "output_type": "stream",
     "text": [
      "155 [D loss: 0.000161, acc.: 100.00%] [G loss: 71.181541]\n"
     ]
    },
    {
     "name": "stderr",
     "output_type": "stream",
     "text": [
      " 52%|█████▏    | 157/301 [01:24<01:20,  1.79it/s]"
     ]
    },
    {
     "name": "stdout",
     "output_type": "stream",
     "text": [
      "156 [D loss: 0.000111, acc.: 100.00%] [G loss: 74.585236]\n"
     ]
    },
    {
     "name": "stderr",
     "output_type": "stream",
     "text": [
      " 52%|█████▏    | 158/301 [01:25<01:16,  1.87it/s]"
     ]
    },
    {
     "name": "stdout",
     "output_type": "stream",
     "text": [
      "157 [D loss: 0.008292, acc.: 99.61%] [G loss: 69.518417]\n"
     ]
    },
    {
     "name": "stderr",
     "output_type": "stream",
     "text": [
      " 53%|█████▎    | 159/301 [01:25<01:13,  1.92it/s]"
     ]
    },
    {
     "name": "stdout",
     "output_type": "stream",
     "text": [
      "158 [D loss: 0.000144, acc.: 100.00%] [G loss: 74.519577]\n"
     ]
    },
    {
     "name": "stderr",
     "output_type": "stream",
     "text": [
      " 53%|█████▎    | 160/301 [01:26<01:12,  1.94it/s]"
     ]
    },
    {
     "name": "stdout",
     "output_type": "stream",
     "text": [
      "159 [D loss: 0.000533, acc.: 100.00%] [G loss: 70.448944]\n"
     ]
    },
    {
     "name": "stderr",
     "output_type": "stream",
     "text": [
      " 53%|█████▎    | 161/301 [01:26<01:12,  1.92it/s]"
     ]
    },
    {
     "name": "stdout",
     "output_type": "stream",
     "text": [
      "160 [D loss: 0.000081, acc.: 100.00%] [G loss: 80.328903]\n"
     ]
    },
    {
     "name": "stderr",
     "output_type": "stream",
     "text": [
      " 54%|█████▍    | 162/301 [01:27<01:11,  1.94it/s]"
     ]
    },
    {
     "name": "stdout",
     "output_type": "stream",
     "text": [
      "161 [D loss: 0.000155, acc.: 100.00%] [G loss: 71.561584]\n"
     ]
    },
    {
     "name": "stderr",
     "output_type": "stream",
     "text": [
      " 54%|█████▍    | 163/301 [01:27<01:14,  1.86it/s]"
     ]
    },
    {
     "name": "stdout",
     "output_type": "stream",
     "text": [
      "162 [D loss: 0.000049, acc.: 100.00%] [G loss: 77.345047]\n"
     ]
    },
    {
     "name": "stderr",
     "output_type": "stream",
     "text": [
      " 54%|█████▍    | 164/301 [01:28<01:13,  1.87it/s]"
     ]
    },
    {
     "name": "stdout",
     "output_type": "stream",
     "text": [
      "163 [D loss: 0.000015, acc.: 100.00%] [G loss: 77.494934]\n"
     ]
    },
    {
     "name": "stderr",
     "output_type": "stream",
     "text": [
      " 55%|█████▍    | 165/301 [01:28<01:11,  1.89it/s]"
     ]
    },
    {
     "name": "stdout",
     "output_type": "stream",
     "text": [
      "164 [D loss: 0.000016, acc.: 100.00%] [G loss: 77.683228]\n"
     ]
    },
    {
     "name": "stderr",
     "output_type": "stream",
     "text": [
      " 55%|█████▌    | 166/301 [01:29<01:10,  1.91it/s]"
     ]
    },
    {
     "name": "stdout",
     "output_type": "stream",
     "text": [
      "165 [D loss: 0.005063, acc.: 100.00%] [G loss: 71.440277]\n"
     ]
    },
    {
     "name": "stderr",
     "output_type": "stream",
     "text": [
      " 55%|█████▌    | 167/301 [01:30<01:12,  1.84it/s]"
     ]
    },
    {
     "name": "stdout",
     "output_type": "stream",
     "text": [
      "166 [D loss: 0.000891, acc.: 100.00%] [G loss: 72.080795]\n"
     ]
    },
    {
     "name": "stderr",
     "output_type": "stream",
     "text": [
      " 56%|█████▌    | 168/301 [01:30<01:12,  1.82it/s]"
     ]
    },
    {
     "name": "stdout",
     "output_type": "stream",
     "text": [
      "167 [D loss: 0.000729, acc.: 100.00%] [G loss: 77.460358]\n"
     ]
    },
    {
     "name": "stderr",
     "output_type": "stream",
     "text": [
      " 56%|█████▌    | 169/301 [01:31<01:14,  1.78it/s]"
     ]
    },
    {
     "name": "stdout",
     "output_type": "stream",
     "text": [
      "168 [D loss: 0.000181, acc.: 100.00%] [G loss: 79.951965]\n"
     ]
    },
    {
     "name": "stderr",
     "output_type": "stream",
     "text": [
      " 56%|█████▋    | 170/301 [01:31<01:17,  1.68it/s]"
     ]
    },
    {
     "name": "stdout",
     "output_type": "stream",
     "text": [
      "169 [D loss: 0.030550, acc.: 99.22%] [G loss: 81.042274]\n"
     ]
    },
    {
     "name": "stderr",
     "output_type": "stream",
     "text": [
      " 57%|█████▋    | 171/301 [01:32<01:14,  1.74it/s]"
     ]
    },
    {
     "name": "stdout",
     "output_type": "stream",
     "text": [
      "170 [D loss: 0.000060, acc.: 100.00%] [G loss: 74.310852]\n"
     ]
    },
    {
     "name": "stderr",
     "output_type": "stream",
     "text": [
      " 57%|█████▋    | 172/301 [01:32<01:11,  1.80it/s]"
     ]
    },
    {
     "name": "stdout",
     "output_type": "stream",
     "text": [
      "171 [D loss: 0.000131, acc.: 100.00%] [G loss: 73.205437]\n"
     ]
    },
    {
     "name": "stderr",
     "output_type": "stream",
     "text": [
      " 57%|█████▋    | 173/301 [01:33<01:11,  1.79it/s]"
     ]
    },
    {
     "name": "stdout",
     "output_type": "stream",
     "text": [
      "172 [D loss: 0.000129, acc.: 100.00%] [G loss: 77.802536]\n"
     ]
    },
    {
     "name": "stderr",
     "output_type": "stream",
     "text": [
      " 58%|█████▊    | 174/301 [01:34<01:11,  1.78it/s]"
     ]
    },
    {
     "name": "stdout",
     "output_type": "stream",
     "text": [
      "173 [D loss: 0.000564, acc.: 100.00%] [G loss: 75.445206]\n"
     ]
    },
    {
     "name": "stderr",
     "output_type": "stream",
     "text": [
      " 58%|█████▊    | 175/301 [01:34<01:14,  1.69it/s]"
     ]
    },
    {
     "name": "stdout",
     "output_type": "stream",
     "text": [
      "174 [D loss: 0.000016, acc.: 100.00%] [G loss: 77.953522]\n"
     ]
    },
    {
     "name": "stderr",
     "output_type": "stream",
     "text": [
      " 58%|█████▊    | 176/301 [01:35<01:11,  1.75it/s]"
     ]
    },
    {
     "name": "stdout",
     "output_type": "stream",
     "text": [
      "175 [D loss: 0.000018, acc.: 100.00%] [G loss: 76.308426]\n"
     ]
    },
    {
     "name": "stderr",
     "output_type": "stream",
     "text": [
      " 59%|█████▉    | 177/301 [01:35<01:08,  1.82it/s]"
     ]
    },
    {
     "name": "stdout",
     "output_type": "stream",
     "text": [
      "176 [D loss: 0.000691, acc.: 100.00%] [G loss: 90.065857]\n"
     ]
    },
    {
     "name": "stderr",
     "output_type": "stream",
     "text": [
      " 59%|█████▉    | 178/301 [01:36<01:08,  1.80it/s]"
     ]
    },
    {
     "name": "stdout",
     "output_type": "stream",
     "text": [
      "177 [D loss: 0.000121, acc.: 100.00%] [G loss: 80.844452]\n"
     ]
    },
    {
     "name": "stderr",
     "output_type": "stream",
     "text": [
      " 59%|█████▉    | 179/301 [01:36<01:09,  1.75it/s]"
     ]
    },
    {
     "name": "stdout",
     "output_type": "stream",
     "text": [
      "178 [D loss: 0.000006, acc.: 100.00%] [G loss: 72.068520]\n"
     ]
    },
    {
     "name": "stderr",
     "output_type": "stream",
     "text": [
      " 60%|█████▉    | 180/301 [01:37<01:08,  1.77it/s]"
     ]
    },
    {
     "name": "stdout",
     "output_type": "stream",
     "text": [
      "179 [D loss: 0.000450, acc.: 100.00%] [G loss: 75.944389]\n"
     ]
    },
    {
     "name": "stderr",
     "output_type": "stream",
     "text": [
      " 60%|██████    | 181/301 [01:37<01:05,  1.83it/s]"
     ]
    },
    {
     "name": "stdout",
     "output_type": "stream",
     "text": [
      "180 [D loss: 0.000088, acc.: 100.00%] [G loss: 75.819832]\n"
     ]
    },
    {
     "name": "stderr",
     "output_type": "stream",
     "text": [
      " 60%|██████    | 182/301 [01:38<01:02,  1.90it/s]"
     ]
    },
    {
     "name": "stdout",
     "output_type": "stream",
     "text": [
      "181 [D loss: 0.000013, acc.: 100.00%] [G loss: 79.819252]\n"
     ]
    },
    {
     "name": "stderr",
     "output_type": "stream",
     "text": [
      " 61%|██████    | 183/301 [01:38<01:00,  1.95it/s]"
     ]
    },
    {
     "name": "stdout",
     "output_type": "stream",
     "text": [
      "182 [D loss: 0.000581, acc.: 100.00%] [G loss: 90.142853]\n"
     ]
    },
    {
     "name": "stderr",
     "output_type": "stream",
     "text": [
      " 61%|██████    | 184/301 [01:39<00:59,  1.97it/s]"
     ]
    },
    {
     "name": "stdout",
     "output_type": "stream",
     "text": [
      "183 [D loss: 0.000302, acc.: 100.00%] [G loss: 76.325470]\n"
     ]
    },
    {
     "name": "stderr",
     "output_type": "stream",
     "text": [
      " 61%|██████▏   | 185/301 [01:39<00:58,  1.97it/s]"
     ]
    },
    {
     "name": "stdout",
     "output_type": "stream",
     "text": [
      "184 [D loss: 0.000091, acc.: 100.00%] [G loss: 77.843735]\n"
     ]
    },
    {
     "name": "stderr",
     "output_type": "stream",
     "text": [
      " 62%|██████▏   | 186/301 [01:40<00:58,  1.98it/s]"
     ]
    },
    {
     "name": "stdout",
     "output_type": "stream",
     "text": [
      "185 [D loss: 0.000049, acc.: 100.00%] [G loss: 86.998276]\n"
     ]
    },
    {
     "name": "stderr",
     "output_type": "stream",
     "text": [
      " 62%|██████▏   | 187/301 [01:40<00:58,  1.94it/s]"
     ]
    },
    {
     "name": "stdout",
     "output_type": "stream",
     "text": [
      "186 [D loss: 0.000250, acc.: 100.00%] [G loss: 77.830338]\n"
     ]
    },
    {
     "name": "stderr",
     "output_type": "stream",
     "text": [
      " 62%|██████▏   | 188/301 [01:41<00:57,  1.97it/s]"
     ]
    },
    {
     "name": "stdout",
     "output_type": "stream",
     "text": [
      "187 [D loss: 0.000019, acc.: 100.00%] [G loss: 83.090546]\n"
     ]
    },
    {
     "name": "stderr",
     "output_type": "stream",
     "text": [
      " 63%|██████▎   | 189/301 [01:41<00:56,  1.98it/s]"
     ]
    },
    {
     "name": "stdout",
     "output_type": "stream",
     "text": [
      "188 [D loss: 0.001028, acc.: 100.00%] [G loss: 80.415863]\n"
     ]
    },
    {
     "name": "stderr",
     "output_type": "stream",
     "text": [
      " 63%|██████▎   | 190/301 [01:42<00:56,  1.98it/s]"
     ]
    },
    {
     "name": "stdout",
     "output_type": "stream",
     "text": [
      "189 [D loss: 0.000013, acc.: 100.00%] [G loss: 85.960014]\n"
     ]
    },
    {
     "name": "stderr",
     "output_type": "stream",
     "text": [
      " 63%|██████▎   | 191/301 [01:42<00:55,  1.98it/s]"
     ]
    },
    {
     "name": "stdout",
     "output_type": "stream",
     "text": [
      "190 [D loss: 0.001042, acc.: 100.00%] [G loss: 93.729546]\n"
     ]
    },
    {
     "name": "stderr",
     "output_type": "stream",
     "text": [
      " 64%|██████▍   | 192/301 [01:43<00:54,  1.99it/s]"
     ]
    },
    {
     "name": "stdout",
     "output_type": "stream",
     "text": [
      "191 [D loss: 0.000072, acc.: 100.00%] [G loss: 82.107147]\n"
     ]
    },
    {
     "name": "stderr",
     "output_type": "stream",
     "text": [
      " 64%|██████▍   | 193/301 [01:43<00:53,  2.00it/s]"
     ]
    },
    {
     "name": "stdout",
     "output_type": "stream",
     "text": [
      "192 [D loss: 0.000537, acc.: 100.00%] [G loss: 87.210205]\n"
     ]
    },
    {
     "name": "stderr",
     "output_type": "stream",
     "text": [
      " 64%|██████▍   | 194/301 [01:44<00:53,  2.01it/s]"
     ]
    },
    {
     "name": "stdout",
     "output_type": "stream",
     "text": [
      "193 [D loss: 0.000061, acc.: 100.00%] [G loss: 79.962494]\n"
     ]
    },
    {
     "name": "stderr",
     "output_type": "stream",
     "text": [
      " 65%|██████▍   | 195/301 [01:44<00:53,  1.98it/s]"
     ]
    },
    {
     "name": "stdout",
     "output_type": "stream",
     "text": [
      "194 [D loss: 0.001710, acc.: 100.00%] [G loss: 81.271133]\n"
     ]
    },
    {
     "name": "stderr",
     "output_type": "stream",
     "text": [
      " 65%|██████▌   | 196/301 [01:45<00:52,  1.98it/s]"
     ]
    },
    {
     "name": "stdout",
     "output_type": "stream",
     "text": [
      "195 [D loss: 0.000448, acc.: 100.00%] [G loss: 84.963638]\n"
     ]
    },
    {
     "name": "stderr",
     "output_type": "stream",
     "text": [
      " 65%|██████▌   | 197/301 [01:45<00:52,  1.96it/s]"
     ]
    },
    {
     "name": "stdout",
     "output_type": "stream",
     "text": [
      "196 [D loss: 0.000229, acc.: 100.00%] [G loss: 86.876572]\n"
     ]
    },
    {
     "name": "stderr",
     "output_type": "stream",
     "text": [
      " 66%|██████▌   | 198/301 [01:46<00:51,  1.98it/s]"
     ]
    },
    {
     "name": "stdout",
     "output_type": "stream",
     "text": [
      "197 [D loss: 0.000076, acc.: 100.00%] [G loss: 86.051094]\n"
     ]
    },
    {
     "name": "stderr",
     "output_type": "stream",
     "text": [
      " 66%|██████▌   | 199/301 [01:46<00:51,  1.99it/s]"
     ]
    },
    {
     "name": "stdout",
     "output_type": "stream",
     "text": [
      "198 [D loss: 0.000036, acc.: 100.00%] [G loss: 86.979614]\n"
     ]
    },
    {
     "name": "stderr",
     "output_type": "stream",
     "text": [
      " 66%|██████▋   | 200/301 [01:47<00:49,  2.02it/s]"
     ]
    },
    {
     "name": "stdout",
     "output_type": "stream",
     "text": [
      "199 [D loss: 0.000074, acc.: 100.00%] [G loss: 94.840668]\n",
      "200 [D loss: 0.000004, acc.: 100.00%] [G loss: 99.093971]\n"
     ]
    },
    {
     "name": "stderr",
     "output_type": "stream",
     "text": [
      "\n",
      "Synthetic data generation:   0%|          | 0/8 [00:00<?, ?it/s]\u001B[A\n",
      "Synthetic data generation:  50%|█████     | 4/8 [00:00<00:00, 36.75it/s]\u001B[A\n",
      "Synthetic data generation: 100%|██████████| 8/8 [00:00<00:00, 33.38it/s]\u001B[A\n",
      " 67%|██████▋   | 202/301 [01:48<00:58,  1.69it/s]"
     ]
    },
    {
     "name": "stdout",
     "output_type": "stream",
     "text": [
      "201 [D loss: 0.000005, acc.: 100.00%] [G loss: 92.868134]\n"
     ]
    },
    {
     "name": "stderr",
     "output_type": "stream",
     "text": [
      " 67%|██████▋   | 203/301 [01:49<00:55,  1.77it/s]"
     ]
    },
    {
     "name": "stdout",
     "output_type": "stream",
     "text": [
      "202 [D loss: 0.000002, acc.: 100.00%] [G loss: 87.961700]\n"
     ]
    },
    {
     "name": "stderr",
     "output_type": "stream",
     "text": [
      " 68%|██████▊   | 204/301 [01:49<00:52,  1.83it/s]"
     ]
    },
    {
     "name": "stdout",
     "output_type": "stream",
     "text": [
      "203 [D loss: 0.000226, acc.: 100.00%] [G loss: 87.390625]\n"
     ]
    },
    {
     "name": "stderr",
     "output_type": "stream",
     "text": [
      " 68%|██████▊   | 205/301 [01:50<00:50,  1.89it/s]"
     ]
    },
    {
     "name": "stdout",
     "output_type": "stream",
     "text": [
      "204 [D loss: 0.000037, acc.: 100.00%] [G loss: 95.560036]\n"
     ]
    },
    {
     "name": "stderr",
     "output_type": "stream",
     "text": [
      " 68%|██████▊   | 206/301 [01:50<00:48,  1.95it/s]"
     ]
    },
    {
     "name": "stdout",
     "output_type": "stream",
     "text": [
      "205 [D loss: 0.000039, acc.: 100.00%] [G loss: 98.460106]\n"
     ]
    },
    {
     "name": "stderr",
     "output_type": "stream",
     "text": [
      " 69%|██████▉   | 207/301 [01:51<00:47,  1.97it/s]"
     ]
    },
    {
     "name": "stdout",
     "output_type": "stream",
     "text": [
      "206 [D loss: 0.000011, acc.: 100.00%] [G loss: 88.994423]\n"
     ]
    },
    {
     "name": "stderr",
     "output_type": "stream",
     "text": [
      " 69%|██████▉   | 208/301 [01:51<00:47,  1.98it/s]"
     ]
    },
    {
     "name": "stdout",
     "output_type": "stream",
     "text": [
      "207 [D loss: 0.000046, acc.: 100.00%] [G loss: 93.561386]\n"
     ]
    },
    {
     "name": "stderr",
     "output_type": "stream",
     "text": [
      " 69%|██████▉   | 209/301 [01:52<00:46,  2.00it/s]"
     ]
    },
    {
     "name": "stdout",
     "output_type": "stream",
     "text": [
      "208 [D loss: 0.001440, acc.: 100.00%] [G loss: 101.288101]\n"
     ]
    },
    {
     "name": "stderr",
     "output_type": "stream",
     "text": [
      " 70%|██████▉   | 210/301 [01:52<00:44,  2.03it/s]"
     ]
    },
    {
     "name": "stdout",
     "output_type": "stream",
     "text": [
      "209 [D loss: 0.000035, acc.: 100.00%] [G loss: 80.763901]\n"
     ]
    },
    {
     "name": "stderr",
     "output_type": "stream",
     "text": [
      " 70%|███████   | 211/301 [01:53<00:44,  2.02it/s]"
     ]
    },
    {
     "name": "stdout",
     "output_type": "stream",
     "text": [
      "210 [D loss: 0.000049, acc.: 100.00%] [G loss: 90.727486]\n"
     ]
    },
    {
     "name": "stderr",
     "output_type": "stream",
     "text": [
      " 70%|███████   | 212/301 [01:53<00:44,  2.01it/s]"
     ]
    },
    {
     "name": "stdout",
     "output_type": "stream",
     "text": [
      "211 [D loss: 0.000040, acc.: 100.00%] [G loss: 92.864365]\n"
     ]
    },
    {
     "name": "stderr",
     "output_type": "stream",
     "text": [
      " 71%|███████   | 213/301 [01:54<00:43,  2.01it/s]"
     ]
    },
    {
     "name": "stdout",
     "output_type": "stream",
     "text": [
      "212 [D loss: 0.000128, acc.: 100.00%] [G loss: 102.689438]\n"
     ]
    },
    {
     "name": "stderr",
     "output_type": "stream",
     "text": [
      " 71%|███████   | 214/301 [01:54<00:43,  2.01it/s]"
     ]
    },
    {
     "name": "stdout",
     "output_type": "stream",
     "text": [
      "213 [D loss: 0.002392, acc.: 100.00%] [G loss: 89.673492]\n"
     ]
    },
    {
     "name": "stderr",
     "output_type": "stream",
     "text": [
      " 71%|███████▏  | 215/301 [01:55<00:42,  2.01it/s]"
     ]
    },
    {
     "name": "stdout",
     "output_type": "stream",
     "text": [
      "214 [D loss: 0.000007, acc.: 100.00%] [G loss: 94.754639]\n"
     ]
    },
    {
     "name": "stderr",
     "output_type": "stream",
     "text": [
      " 72%|███████▏  | 216/301 [01:55<00:42,  2.02it/s]"
     ]
    },
    {
     "name": "stdout",
     "output_type": "stream",
     "text": [
      "215 [D loss: 0.000007, acc.: 100.00%] [G loss: 94.244598]\n"
     ]
    },
    {
     "name": "stderr",
     "output_type": "stream",
     "text": [
      " 72%|███████▏  | 217/301 [01:56<00:41,  2.01it/s]"
     ]
    },
    {
     "name": "stdout",
     "output_type": "stream",
     "text": [
      "216 [D loss: 0.000037, acc.: 100.00%] [G loss: 91.354164]\n"
     ]
    },
    {
     "name": "stderr",
     "output_type": "stream",
     "text": [
      " 72%|███████▏  | 218/301 [01:56<00:42,  1.94it/s]"
     ]
    },
    {
     "name": "stdout",
     "output_type": "stream",
     "text": [
      "217 [D loss: 0.000092, acc.: 100.00%] [G loss: 96.177635]\n"
     ]
    },
    {
     "name": "stderr",
     "output_type": "stream",
     "text": [
      " 73%|███████▎  | 219/301 [01:57<00:42,  1.95it/s]"
     ]
    },
    {
     "name": "stdout",
     "output_type": "stream",
     "text": [
      "218 [D loss: 0.000006, acc.: 100.00%] [G loss: 88.512451]\n"
     ]
    },
    {
     "name": "stderr",
     "output_type": "stream",
     "text": [
      " 73%|███████▎  | 220/301 [01:57<00:41,  1.97it/s]"
     ]
    },
    {
     "name": "stdout",
     "output_type": "stream",
     "text": [
      "219 [D loss: 0.000009, acc.: 100.00%] [G loss: 94.941101]\n"
     ]
    },
    {
     "name": "stderr",
     "output_type": "stream",
     "text": [
      " 73%|███████▎  | 221/301 [01:58<00:40,  1.98it/s]"
     ]
    },
    {
     "name": "stdout",
     "output_type": "stream",
     "text": [
      "220 [D loss: 0.005038, acc.: 100.00%] [G loss: 89.888458]\n"
     ]
    },
    {
     "name": "stderr",
     "output_type": "stream",
     "text": [
      " 74%|███████▍  | 222/301 [01:58<00:39,  1.99it/s]"
     ]
    },
    {
     "name": "stdout",
     "output_type": "stream",
     "text": [
      "221 [D loss: 0.000010, acc.: 100.00%] [G loss: 92.679657]\n"
     ]
    },
    {
     "name": "stderr",
     "output_type": "stream",
     "text": [
      " 74%|███████▍  | 223/301 [01:59<00:41,  1.90it/s]"
     ]
    },
    {
     "name": "stdout",
     "output_type": "stream",
     "text": [
      "222 [D loss: 0.000309, acc.: 100.00%] [G loss: 117.191162]\n"
     ]
    },
    {
     "name": "stderr",
     "output_type": "stream",
     "text": [
      " 74%|███████▍  | 224/301 [01:59<00:40,  1.90it/s]"
     ]
    },
    {
     "name": "stdout",
     "output_type": "stream",
     "text": [
      "223 [D loss: 0.000019, acc.: 100.00%] [G loss: 96.459061]\n"
     ]
    },
    {
     "name": "stderr",
     "output_type": "stream",
     "text": [
      " 75%|███████▍  | 225/301 [02:00<00:40,  1.88it/s]"
     ]
    },
    {
     "name": "stdout",
     "output_type": "stream",
     "text": [
      "224 [D loss: 0.000018, acc.: 100.00%] [G loss: 104.184509]\n"
     ]
    },
    {
     "name": "stderr",
     "output_type": "stream",
     "text": [
      " 75%|███████▌  | 226/301 [02:01<00:39,  1.89it/s]"
     ]
    },
    {
     "name": "stdout",
     "output_type": "stream",
     "text": [
      "225 [D loss: 0.001864, acc.: 100.00%] [G loss: 92.805328]\n"
     ]
    },
    {
     "name": "stderr",
     "output_type": "stream",
     "text": [
      " 75%|███████▌  | 227/301 [02:01<00:40,  1.84it/s]"
     ]
    },
    {
     "name": "stdout",
     "output_type": "stream",
     "text": [
      "226 [D loss: 0.000020, acc.: 100.00%] [G loss: 101.300186]\n"
     ]
    },
    {
     "name": "stderr",
     "output_type": "stream",
     "text": [
      " 76%|███████▌  | 228/301 [02:02<00:39,  1.87it/s]"
     ]
    },
    {
     "name": "stdout",
     "output_type": "stream",
     "text": [
      "227 [D loss: 0.000030, acc.: 100.00%] [G loss: 98.877357]\n"
     ]
    },
    {
     "name": "stderr",
     "output_type": "stream",
     "text": [
      " 76%|███████▌  | 229/301 [02:02<00:38,  1.89it/s]"
     ]
    },
    {
     "name": "stdout",
     "output_type": "stream",
     "text": [
      "228 [D loss: 0.001524, acc.: 100.00%] [G loss: 98.079758]\n"
     ]
    },
    {
     "name": "stderr",
     "output_type": "stream",
     "text": [
      " 76%|███████▋  | 230/301 [02:03<00:37,  1.92it/s]"
     ]
    },
    {
     "name": "stdout",
     "output_type": "stream",
     "text": [
      "229 [D loss: 0.000048, acc.: 100.00%] [G loss: 96.884583]\n"
     ]
    },
    {
     "name": "stderr",
     "output_type": "stream",
     "text": [
      " 77%|███████▋  | 231/301 [02:03<00:37,  1.88it/s]"
     ]
    },
    {
     "name": "stdout",
     "output_type": "stream",
     "text": [
      "230 [D loss: 0.000054, acc.: 100.00%] [G loss: 94.687370]\n"
     ]
    },
    {
     "name": "stderr",
     "output_type": "stream",
     "text": [
      " 77%|███████▋  | 232/301 [02:04<00:36,  1.88it/s]"
     ]
    },
    {
     "name": "stdout",
     "output_type": "stream",
     "text": [
      "231 [D loss: 0.000009, acc.: 100.00%] [G loss: 89.948509]\n"
     ]
    },
    {
     "name": "stderr",
     "output_type": "stream",
     "text": [
      " 77%|███████▋  | 233/301 [02:04<00:37,  1.83it/s]"
     ]
    },
    {
     "name": "stdout",
     "output_type": "stream",
     "text": [
      "232 [D loss: 0.000007, acc.: 100.00%] [G loss: 98.293900]\n"
     ]
    },
    {
     "name": "stderr",
     "output_type": "stream",
     "text": [
      " 78%|███████▊  | 234/301 [02:05<00:37,  1.80it/s]"
     ]
    },
    {
     "name": "stdout",
     "output_type": "stream",
     "text": [
      "233 [D loss: 0.000078, acc.: 100.00%] [G loss: 98.628281]\n"
     ]
    },
    {
     "name": "stderr",
     "output_type": "stream",
     "text": [
      " 78%|███████▊  | 235/301 [02:05<00:36,  1.82it/s]"
     ]
    },
    {
     "name": "stdout",
     "output_type": "stream",
     "text": [
      "234 [D loss: 0.000041, acc.: 100.00%] [G loss: 92.275177]\n"
     ]
    },
    {
     "name": "stderr",
     "output_type": "stream",
     "text": [
      " 78%|███████▊  | 236/301 [02:06<00:37,  1.75it/s]"
     ]
    },
    {
     "name": "stdout",
     "output_type": "stream",
     "text": [
      "235 [D loss: 0.000039, acc.: 100.00%] [G loss: 95.030472]\n"
     ]
    },
    {
     "name": "stderr",
     "output_type": "stream",
     "text": [
      " 79%|███████▊  | 237/301 [02:07<00:35,  1.80it/s]"
     ]
    },
    {
     "name": "stdout",
     "output_type": "stream",
     "text": [
      "236 [D loss: 0.000165, acc.: 100.00%] [G loss: 96.830536]\n"
     ]
    },
    {
     "name": "stderr",
     "output_type": "stream",
     "text": [
      " 79%|███████▉  | 238/301 [02:07<00:35,  1.80it/s]"
     ]
    },
    {
     "name": "stdout",
     "output_type": "stream",
     "text": [
      "237 [D loss: 0.000026, acc.: 100.00%] [G loss: 88.060562]\n"
     ]
    },
    {
     "name": "stderr",
     "output_type": "stream",
     "text": [
      " 79%|███████▉  | 239/301 [02:08<00:33,  1.85it/s]"
     ]
    },
    {
     "name": "stdout",
     "output_type": "stream",
     "text": [
      "238 [D loss: 0.000028, acc.: 100.00%] [G loss: 99.557617]\n"
     ]
    },
    {
     "name": "stderr",
     "output_type": "stream",
     "text": [
      " 80%|███████▉  | 240/301 [02:08<00:33,  1.82it/s]"
     ]
    },
    {
     "name": "stdout",
     "output_type": "stream",
     "text": [
      "239 [D loss: 0.000135, acc.: 100.00%] [G loss: 104.085770]\n"
     ]
    },
    {
     "name": "stderr",
     "output_type": "stream",
     "text": [
      " 80%|████████  | 241/301 [02:09<00:33,  1.82it/s]"
     ]
    },
    {
     "name": "stdout",
     "output_type": "stream",
     "text": [
      "240 [D loss: 0.000109, acc.: 100.00%] [G loss: 92.324425]\n"
     ]
    },
    {
     "name": "stderr",
     "output_type": "stream",
     "text": [
      " 80%|████████  | 242/301 [02:09<00:32,  1.84it/s]"
     ]
    },
    {
     "name": "stdout",
     "output_type": "stream",
     "text": [
      "241 [D loss: 0.000149, acc.: 100.00%] [G loss: 98.118210]\n"
     ]
    },
    {
     "name": "stderr",
     "output_type": "stream",
     "text": [
      " 81%|████████  | 243/301 [02:10<00:30,  1.88it/s]"
     ]
    },
    {
     "name": "stdout",
     "output_type": "stream",
     "text": [
      "242 [D loss: 0.000051, acc.: 100.00%] [G loss: 96.559998]\n"
     ]
    },
    {
     "name": "stderr",
     "output_type": "stream",
     "text": [
      " 81%|████████  | 244/301 [02:10<00:29,  1.90it/s]"
     ]
    },
    {
     "name": "stdout",
     "output_type": "stream",
     "text": [
      "243 [D loss: 0.000014, acc.: 100.00%] [G loss: 98.859146]\n"
     ]
    },
    {
     "name": "stderr",
     "output_type": "stream",
     "text": [
      " 81%|████████▏ | 245/301 [02:11<00:29,  1.88it/s]"
     ]
    },
    {
     "name": "stdout",
     "output_type": "stream",
     "text": [
      "244 [D loss: 0.002107, acc.: 100.00%] [G loss: 101.480759]\n"
     ]
    },
    {
     "name": "stderr",
     "output_type": "stream",
     "text": [
      " 82%|████████▏ | 246/301 [02:11<00:28,  1.90it/s]"
     ]
    },
    {
     "name": "stdout",
     "output_type": "stream",
     "text": [
      "245 [D loss: 0.000035, acc.: 100.00%] [G loss: 105.151398]\n"
     ]
    },
    {
     "name": "stderr",
     "output_type": "stream",
     "text": [
      " 82%|████████▏ | 247/301 [02:12<00:27,  1.97it/s]"
     ]
    },
    {
     "name": "stdout",
     "output_type": "stream",
     "text": [
      "246 [D loss: 0.000011, acc.: 100.00%] [G loss: 103.942276]\n"
     ]
    },
    {
     "name": "stderr",
     "output_type": "stream",
     "text": [
      " 82%|████████▏ | 248/301 [02:12<00:27,  1.96it/s]"
     ]
    },
    {
     "name": "stdout",
     "output_type": "stream",
     "text": [
      "247 [D loss: 0.000008, acc.: 100.00%] [G loss: 102.151855]\n"
     ]
    },
    {
     "name": "stderr",
     "output_type": "stream",
     "text": [
      " 83%|████████▎ | 249/301 [02:13<00:26,  1.98it/s]"
     ]
    },
    {
     "name": "stdout",
     "output_type": "stream",
     "text": [
      "248 [D loss: 0.000287, acc.: 100.00%] [G loss: 107.454765]\n"
     ]
    },
    {
     "name": "stderr",
     "output_type": "stream",
     "text": [
      " 83%|████████▎ | 250/301 [02:13<00:25,  1.96it/s]"
     ]
    },
    {
     "name": "stdout",
     "output_type": "stream",
     "text": [
      "249 [D loss: 0.000095, acc.: 100.00%] [G loss: 105.263336]\n"
     ]
    },
    {
     "name": "stderr",
     "output_type": "stream",
     "text": [
      " 83%|████████▎ | 251/301 [02:14<00:26,  1.90it/s]"
     ]
    },
    {
     "name": "stdout",
     "output_type": "stream",
     "text": [
      "250 [D loss: 0.000013, acc.: 100.00%] [G loss: 98.219711]\n"
     ]
    },
    {
     "name": "stderr",
     "output_type": "stream",
     "text": [
      " 84%|████████▎ | 252/301 [02:15<00:26,  1.82it/s]"
     ]
    },
    {
     "name": "stdout",
     "output_type": "stream",
     "text": [
      "251 [D loss: 0.000886, acc.: 100.00%] [G loss: 106.327240]\n"
     ]
    },
    {
     "name": "stderr",
     "output_type": "stream",
     "text": [
      " 84%|████████▍ | 253/301 [02:15<00:25,  1.87it/s]"
     ]
    },
    {
     "name": "stdout",
     "output_type": "stream",
     "text": [
      "252 [D loss: 0.000167, acc.: 100.00%] [G loss: 97.779427]\n"
     ]
    },
    {
     "name": "stderr",
     "output_type": "stream",
     "text": [
      " 84%|████████▍ | 254/301 [02:16<00:24,  1.93it/s]"
     ]
    },
    {
     "name": "stdout",
     "output_type": "stream",
     "text": [
      "253 [D loss: 0.020072, acc.: 99.61%] [G loss: 113.024780]\n"
     ]
    },
    {
     "name": "stderr",
     "output_type": "stream",
     "text": [
      " 85%|████████▍ | 255/301 [02:16<00:23,  1.95it/s]"
     ]
    },
    {
     "name": "stdout",
     "output_type": "stream",
     "text": [
      "254 [D loss: 0.000072, acc.: 100.00%] [G loss: 115.708160]\n"
     ]
    },
    {
     "name": "stderr",
     "output_type": "stream",
     "text": [
      " 85%|████████▌ | 256/301 [02:17<00:23,  1.93it/s]"
     ]
    },
    {
     "name": "stdout",
     "output_type": "stream",
     "text": [
      "255 [D loss: 0.000110, acc.: 100.00%] [G loss: 104.147713]\n"
     ]
    },
    {
     "name": "stderr",
     "output_type": "stream",
     "text": [
      " 85%|████████▌ | 257/301 [02:17<00:22,  1.94it/s]"
     ]
    },
    {
     "name": "stdout",
     "output_type": "stream",
     "text": [
      "256 [D loss: 0.000035, acc.: 100.00%] [G loss: 113.007866]\n"
     ]
    },
    {
     "name": "stderr",
     "output_type": "stream",
     "text": [
      " 86%|████████▌ | 258/301 [02:18<00:22,  1.95it/s]"
     ]
    },
    {
     "name": "stdout",
     "output_type": "stream",
     "text": [
      "257 [D loss: 0.000080, acc.: 100.00%] [G loss: 98.944176]\n"
     ]
    },
    {
     "name": "stderr",
     "output_type": "stream",
     "text": [
      " 86%|████████▌ | 259/301 [02:18<00:21,  1.97it/s]"
     ]
    },
    {
     "name": "stdout",
     "output_type": "stream",
     "text": [
      "258 [D loss: 0.000035, acc.: 100.00%] [G loss: 104.286606]\n"
     ]
    },
    {
     "name": "stderr",
     "output_type": "stream",
     "text": [
      " 86%|████████▋ | 260/301 [02:19<00:22,  1.84it/s]"
     ]
    },
    {
     "name": "stdout",
     "output_type": "stream",
     "text": [
      "259 [D loss: 0.000022, acc.: 100.00%] [G loss: 97.927902]\n"
     ]
    },
    {
     "name": "stderr",
     "output_type": "stream",
     "text": [
      " 87%|████████▋ | 261/301 [02:19<00:22,  1.77it/s]"
     ]
    },
    {
     "name": "stdout",
     "output_type": "stream",
     "text": [
      "260 [D loss: 0.000025, acc.: 100.00%] [G loss: 95.187790]\n"
     ]
    },
    {
     "name": "stderr",
     "output_type": "stream",
     "text": [
      " 87%|████████▋ | 262/301 [02:20<00:21,  1.78it/s]"
     ]
    },
    {
     "name": "stdout",
     "output_type": "stream",
     "text": [
      "261 [D loss: 0.000023, acc.: 100.00%] [G loss: 96.801895]\n"
     ]
    },
    {
     "name": "stderr",
     "output_type": "stream",
     "text": [
      " 87%|████████▋ | 263/301 [02:20<00:20,  1.85it/s]"
     ]
    },
    {
     "name": "stdout",
     "output_type": "stream",
     "text": [
      "262 [D loss: 0.000486, acc.: 100.00%] [G loss: 96.760300]\n"
     ]
    },
    {
     "name": "stderr",
     "output_type": "stream",
     "text": [
      " 88%|████████▊ | 264/301 [02:21<00:19,  1.85it/s]"
     ]
    },
    {
     "name": "stdout",
     "output_type": "stream",
     "text": [
      "263 [D loss: 0.000033, acc.: 100.00%] [G loss: 111.686249]\n"
     ]
    },
    {
     "name": "stderr",
     "output_type": "stream",
     "text": [
      " 88%|████████▊ | 265/301 [02:21<00:19,  1.89it/s]"
     ]
    },
    {
     "name": "stdout",
     "output_type": "stream",
     "text": [
      "264 [D loss: 0.000004, acc.: 100.00%] [G loss: 100.949020]\n"
     ]
    },
    {
     "name": "stderr",
     "output_type": "stream",
     "text": [
      " 88%|████████▊ | 266/301 [02:22<00:19,  1.78it/s]"
     ]
    },
    {
     "name": "stdout",
     "output_type": "stream",
     "text": [
      "265 [D loss: 0.000003, acc.: 100.00%] [G loss: 106.692596]\n"
     ]
    },
    {
     "name": "stderr",
     "output_type": "stream",
     "text": [
      " 89%|████████▊ | 267/301 [02:23<00:19,  1.78it/s]"
     ]
    },
    {
     "name": "stdout",
     "output_type": "stream",
     "text": [
      "266 [D loss: 0.000120, acc.: 100.00%] [G loss: 102.252487]\n"
     ]
    },
    {
     "name": "stderr",
     "output_type": "stream",
     "text": [
      " 89%|████████▉ | 268/301 [02:23<00:18,  1.81it/s]"
     ]
    },
    {
     "name": "stdout",
     "output_type": "stream",
     "text": [
      "267 [D loss: 0.000014, acc.: 100.00%] [G loss: 98.639145]\n"
     ]
    },
    {
     "name": "stderr",
     "output_type": "stream",
     "text": [
      " 89%|████████▉ | 269/301 [02:24<00:17,  1.87it/s]"
     ]
    },
    {
     "name": "stdout",
     "output_type": "stream",
     "text": [
      "268 [D loss: 0.000011, acc.: 100.00%] [G loss: 105.302376]\n"
     ]
    },
    {
     "name": "stderr",
     "output_type": "stream",
     "text": [
      " 90%|████████▉ | 270/301 [02:24<00:16,  1.91it/s]"
     ]
    },
    {
     "name": "stdout",
     "output_type": "stream",
     "text": [
      "269 [D loss: 0.000187, acc.: 100.00%] [G loss: 105.628708]\n"
     ]
    },
    {
     "name": "stderr",
     "output_type": "stream",
     "text": [
      " 90%|█████████ | 271/301 [02:25<00:15,  1.95it/s]"
     ]
    },
    {
     "name": "stdout",
     "output_type": "stream",
     "text": [
      "270 [D loss: 0.000022, acc.: 100.00%] [G loss: 102.927147]\n"
     ]
    },
    {
     "name": "stderr",
     "output_type": "stream",
     "text": [
      " 90%|█████████ | 272/301 [02:25<00:14,  1.96it/s]"
     ]
    },
    {
     "name": "stdout",
     "output_type": "stream",
     "text": [
      "271 [D loss: 0.000015, acc.: 100.00%] [G loss: 110.521858]\n"
     ]
    },
    {
     "name": "stderr",
     "output_type": "stream",
     "text": [
      " 91%|█████████ | 273/301 [02:26<00:14,  1.97it/s]"
     ]
    },
    {
     "name": "stdout",
     "output_type": "stream",
     "text": [
      "272 [D loss: 0.000004, acc.: 100.00%] [G loss: 104.693848]\n"
     ]
    },
    {
     "name": "stderr",
     "output_type": "stream",
     "text": [
      " 91%|█████████ | 274/301 [02:26<00:13,  1.98it/s]"
     ]
    },
    {
     "name": "stdout",
     "output_type": "stream",
     "text": [
      "273 [D loss: 0.000003, acc.: 100.00%] [G loss: 104.646240]\n"
     ]
    },
    {
     "name": "stderr",
     "output_type": "stream",
     "text": [
      " 91%|█████████▏| 275/301 [02:27<00:13,  1.86it/s]"
     ]
    },
    {
     "name": "stdout",
     "output_type": "stream",
     "text": [
      "274 [D loss: 0.000078, acc.: 100.00%] [G loss: 110.663063]\n"
     ]
    },
    {
     "name": "stderr",
     "output_type": "stream",
     "text": [
      " 92%|█████████▏| 276/301 [02:27<00:13,  1.89it/s]"
     ]
    },
    {
     "name": "stdout",
     "output_type": "stream",
     "text": [
      "275 [D loss: 0.000011, acc.: 100.00%] [G loss: 113.719849]\n"
     ]
    },
    {
     "name": "stderr",
     "output_type": "stream",
     "text": [
      " 92%|█████████▏| 277/301 [02:28<00:12,  1.92it/s]"
     ]
    },
    {
     "name": "stdout",
     "output_type": "stream",
     "text": [
      "276 [D loss: 0.000027, acc.: 100.00%] [G loss: 116.365089]\n"
     ]
    },
    {
     "name": "stderr",
     "output_type": "stream",
     "text": [
      " 92%|█████████▏| 278/301 [02:28<00:11,  1.94it/s]"
     ]
    },
    {
     "name": "stdout",
     "output_type": "stream",
     "text": [
      "277 [D loss: 0.001025, acc.: 100.00%] [G loss: 112.547394]\n"
     ]
    },
    {
     "name": "stderr",
     "output_type": "stream",
     "text": [
      " 93%|█████████▎| 279/301 [02:29<00:11,  1.85it/s]"
     ]
    },
    {
     "name": "stdout",
     "output_type": "stream",
     "text": [
      "278 [D loss: 0.000075, acc.: 100.00%] [G loss: 115.817963]\n"
     ]
    },
    {
     "name": "stderr",
     "output_type": "stream",
     "text": [
      " 93%|█████████▎| 280/301 [02:29<00:11,  1.81it/s]"
     ]
    },
    {
     "name": "stdout",
     "output_type": "stream",
     "text": [
      "279 [D loss: 0.000300, acc.: 100.00%] [G loss: 99.246552]\n"
     ]
    },
    {
     "name": "stderr",
     "output_type": "stream",
     "text": [
      " 93%|█████████▎| 281/301 [02:30<00:10,  1.85it/s]"
     ]
    },
    {
     "name": "stdout",
     "output_type": "stream",
     "text": [
      "280 [D loss: 0.000134, acc.: 100.00%] [G loss: 104.932785]\n"
     ]
    },
    {
     "name": "stderr",
     "output_type": "stream",
     "text": [
      " 94%|█████████▎| 282/301 [02:30<00:10,  1.89it/s]"
     ]
    },
    {
     "name": "stdout",
     "output_type": "stream",
     "text": [
      "281 [D loss: 0.000007, acc.: 100.00%] [G loss: 109.900558]\n"
     ]
    },
    {
     "name": "stderr",
     "output_type": "stream",
     "text": [
      " 94%|█████████▍| 283/301 [02:31<00:09,  1.92it/s]"
     ]
    },
    {
     "name": "stdout",
     "output_type": "stream",
     "text": [
      "282 [D loss: 0.000026, acc.: 100.00%] [G loss: 108.102219]\n"
     ]
    },
    {
     "name": "stderr",
     "output_type": "stream",
     "text": [
      " 94%|█████████▍| 284/301 [02:32<00:09,  1.86it/s]"
     ]
    },
    {
     "name": "stdout",
     "output_type": "stream",
     "text": [
      "283 [D loss: 0.007907, acc.: 99.61%] [G loss: 119.580734]\n"
     ]
    },
    {
     "name": "stderr",
     "output_type": "stream",
     "text": [
      " 95%|█████████▍| 285/301 [02:32<00:08,  1.80it/s]"
     ]
    },
    {
     "name": "stdout",
     "output_type": "stream",
     "text": [
      "284 [D loss: 0.000011, acc.: 100.00%] [G loss: 107.264420]\n"
     ]
    },
    {
     "name": "stderr",
     "output_type": "stream",
     "text": [
      " 95%|█████████▌| 286/301 [02:33<00:08,  1.81it/s]"
     ]
    },
    {
     "name": "stdout",
     "output_type": "stream",
     "text": [
      "285 [D loss: 0.000008, acc.: 100.00%] [G loss: 110.643524]\n"
     ]
    },
    {
     "name": "stderr",
     "output_type": "stream",
     "text": [
      " 95%|█████████▌| 287/301 [02:33<00:07,  1.86it/s]"
     ]
    },
    {
     "name": "stdout",
     "output_type": "stream",
     "text": [
      "286 [D loss: 0.000017, acc.: 100.00%] [G loss: 114.215111]\n"
     ]
    },
    {
     "name": "stderr",
     "output_type": "stream",
     "text": [
      " 96%|█████████▌| 288/301 [02:34<00:06,  1.91it/s]"
     ]
    },
    {
     "name": "stdout",
     "output_type": "stream",
     "text": [
      "287 [D loss: 0.000001, acc.: 100.00%] [G loss: 115.469971]\n"
     ]
    },
    {
     "name": "stderr",
     "output_type": "stream",
     "text": [
      " 96%|█████████▌| 289/301 [02:34<00:06,  1.93it/s]"
     ]
    },
    {
     "name": "stdout",
     "output_type": "stream",
     "text": [
      "288 [D loss: 0.000001, acc.: 100.00%] [G loss: 121.989594]\n"
     ]
    },
    {
     "name": "stderr",
     "output_type": "stream",
     "text": [
      " 96%|█████████▋| 290/301 [02:35<00:05,  1.92it/s]"
     ]
    },
    {
     "name": "stdout",
     "output_type": "stream",
     "text": [
      "289 [D loss: 0.000045, acc.: 100.00%] [G loss: 120.420494]\n"
     ]
    },
    {
     "name": "stderr",
     "output_type": "stream",
     "text": [
      " 97%|█████████▋| 291/301 [02:35<00:05,  1.93it/s]"
     ]
    },
    {
     "name": "stdout",
     "output_type": "stream",
     "text": [
      "290 [D loss: 0.000006, acc.: 100.00%] [G loss: 113.241768]\n"
     ]
    },
    {
     "name": "stderr",
     "output_type": "stream",
     "text": [
      " 97%|█████████▋| 292/301 [02:36<00:04,  1.90it/s]"
     ]
    },
    {
     "name": "stdout",
     "output_type": "stream",
     "text": [
      "291 [D loss: 0.000020, acc.: 100.00%] [G loss: 123.806366]\n"
     ]
    },
    {
     "name": "stderr",
     "output_type": "stream",
     "text": [
      " 97%|█████████▋| 293/301 [02:36<00:04,  1.90it/s]"
     ]
    },
    {
     "name": "stdout",
     "output_type": "stream",
     "text": [
      "292 [D loss: 0.000006, acc.: 100.00%] [G loss: 120.427444]\n"
     ]
    },
    {
     "name": "stderr",
     "output_type": "stream",
     "text": [
      " 98%|█████████▊| 294/301 [02:37<00:03,  1.91it/s]"
     ]
    },
    {
     "name": "stdout",
     "output_type": "stream",
     "text": [
      "293 [D loss: 0.000001, acc.: 100.00%] [G loss: 126.925262]\n"
     ]
    },
    {
     "name": "stderr",
     "output_type": "stream",
     "text": [
      " 98%|█████████▊| 295/301 [02:37<00:03,  1.95it/s]"
     ]
    },
    {
     "name": "stdout",
     "output_type": "stream",
     "text": [
      "294 [D loss: 0.000001, acc.: 100.00%] [G loss: 120.551514]\n"
     ]
    },
    {
     "name": "stderr",
     "output_type": "stream",
     "text": [
      " 98%|█████████▊| 296/301 [02:38<00:02,  1.95it/s]"
     ]
    },
    {
     "name": "stdout",
     "output_type": "stream",
     "text": [
      "295 [D loss: 0.000000, acc.: 100.00%] [G loss: 126.292389]\n"
     ]
    },
    {
     "name": "stderr",
     "output_type": "stream",
     "text": [
      " 99%|█████████▊| 297/301 [02:38<00:02,  1.98it/s]"
     ]
    },
    {
     "name": "stdout",
     "output_type": "stream",
     "text": [
      "296 [D loss: 0.000000, acc.: 100.00%] [G loss: 106.424141]\n"
     ]
    },
    {
     "name": "stderr",
     "output_type": "stream",
     "text": [
      " 99%|█████████▉| 298/301 [02:39<00:01,  1.82it/s]"
     ]
    },
    {
     "name": "stdout",
     "output_type": "stream",
     "text": [
      "297 [D loss: 0.000265, acc.: 100.00%] [G loss: 112.338150]\n"
     ]
    },
    {
     "name": "stderr",
     "output_type": "stream",
     "text": [
      " 99%|█████████▉| 299/301 [02:39<00:01,  1.89it/s]"
     ]
    },
    {
     "name": "stdout",
     "output_type": "stream",
     "text": [
      "298 [D loss: 0.000009, acc.: 100.00%] [G loss: 116.679039]\n"
     ]
    },
    {
     "name": "stderr",
     "output_type": "stream",
     "text": [
      "100%|█████████▉| 300/301 [02:40<00:00,  1.91it/s]"
     ]
    },
    {
     "name": "stdout",
     "output_type": "stream",
     "text": [
      "299 [D loss: 0.000001, acc.: 100.00%] [G loss: 114.558273]\n",
      "300 [D loss: 0.000001, acc.: 100.00%] [G loss: 129.603546]\n"
     ]
    },
    {
     "name": "stderr",
     "output_type": "stream",
     "text": [
      "\n",
      "Synthetic data generation:   0%|          | 0/8 [00:00<?, ?it/s]\u001B[A\n",
      "Synthetic data generation:  50%|█████     | 4/8 [00:00<00:00, 34.33it/s]\u001B[A\n",
      "Synthetic data generation: 100%|██████████| 8/8 [00:00<00:00, 33.12it/s]\u001B[A\n",
      "100%|██████████| 301/301 [02:41<00:00,  1.86it/s]\n"
     ]
    }
   ],
   "source": [
    "#----------------------------\n",
    "#    GAN Training\n",
    "#----------------------------\n",
    "\n",
    "#Training the Conditional GAN\n",
    "synthesizer.train(data=train_sample, label_col=label_col, train_arguments=train_args,\n",
    "                 num_cols=dataset.numeric_feature_names, cat_cols=dataset.categorical_feature_names )\n",
    "\n"
   ]
  },
  {
   "cell_type": "markdown",
   "source": [
    "# Save the model"
   ],
   "metadata": {
    "collapsed": false,
    "pycharm": {
     "name": "#%% md\n"
    }
   }
  },
  {
   "cell_type": "code",
   "execution_count": 11,
   "outputs": [],
   "source": [
    "lock = True\n",
    "if lock:\n",
    "    synthesizer.save(GERMAN_CREDIT_GEN_CGAN_MODEL_PATH)"
   ],
   "metadata": {
    "collapsed": false,
    "pycharm": {
     "name": "#%%\n"
    }
   }
  },
  {
   "cell_type": "markdown",
   "source": [
    "# Synthesize samples based on the trained CGAN:"
   ],
   "metadata": {
    "collapsed": false,
    "pycharm": {
     "name": "#%% md\n"
    }
   }
  },
  {
   "cell_type": "code",
   "execution_count": 73,
   "outputs": [
    {
     "name": "stderr",
     "output_type": "stream",
     "text": [
      "Synthetic data generation: 100%|██████████| 1/1 [00:00<00:00, 18.97it/s]\n"
     ]
    },
    {
     "data": {
      "text/plain": "(128, 52)"
     },
     "execution_count": 73,
     "metadata": {},
     "output_type": "execute_result"
    }
   ],
   "source": [
    "synthesizer.sample(condition=np.array([1]), n_samples=2).shape"
   ],
   "metadata": {
    "collapsed": false,
    "pycharm": {
     "name": "#%%\n"
    }
   }
  },
  {
   "cell_type": "code",
   "execution_count": 3,
   "metadata": {
    "id": "rgDV0YPv504b"
   },
   "outputs": [
    {
     "ename": "NameError",
     "evalue": "name 'CGAN' is not defined",
     "output_type": "error",
     "traceback": [
      "\u001B[0;31m---------------------------------------------------------------------------\u001B[0m",
      "\u001B[0;31mNameError\u001B[0m                                 Traceback (most recent call last)",
      "\u001B[0;32m/tmp/ipykernel_153454/3526043571.py\u001B[0m in \u001B[0;36m<module>\u001B[0;34m\u001B[0m\n\u001B[0;32m----> 1\u001B[0;31m \u001B[0msynthesizer\u001B[0m \u001B[0;34m=\u001B[0m \u001B[0mCGAN\u001B[0m\u001B[0;34m.\u001B[0m\u001B[0mload\u001B[0m\u001B[0;34m(\u001B[0m\u001B[0mGERMAN_CREDIT_GEN_CGAN_MODEL_PATH\u001B[0m\u001B[0;34m)\u001B[0m\u001B[0;34m\u001B[0m\u001B[0;34m\u001B[0m\u001B[0m\n\u001B[0m",
      "\u001B[0;31mNameError\u001B[0m: name 'CGAN' is not defined"
     ]
    }
   ],
   "source": [
    "synthesizer = CGAN.load(GERMAN_CREDIT_GEN_CGAN_MODEL_PATH)"
   ]
  },
  {
   "cell_type": "markdown",
   "metadata": {
    "id": "wreSLP2DxjHi"
   },
   "source": [
    "# Generate Samples"
   ]
  },
  {
   "cell_type": "code",
   "execution_count": 13,
   "metadata": {
    "id": "KT0rf9AIMsz3"
   },
   "outputs": [
    {
     "name": "stdout",
     "output_type": "stream",
     "text": [
      "Model: \"model\"\n",
      "__________________________________________________________________________________________________\n",
      "Layer (type)                    Output Shape         Param #     Connected to                     \n",
      "==================================================================================================\n",
      "input_2 (InputLayer)            [(128, 1)]           0                                            \n",
      "__________________________________________________________________________________________________\n",
      "embedding (Embedding)           (128, 1, 1)          2           input_2[0][0]                    \n",
      "__________________________________________________________________________________________________\n",
      "input_1 (InputLayer)            [(128, 32)]          0                                            \n",
      "__________________________________________________________________________________________________\n",
      "flatten (Flatten)               (128, 1)             0           embedding[0][0]                  \n",
      "__________________________________________________________________________________________________\n",
      "multiply (Multiply)             (128, 32)            0           input_1[0][0]                    \n",
      "                                                                 flatten[0][0]                    \n",
      "__________________________________________________________________________________________________\n",
      "dense (Dense)                   (128, 128)           4224        multiply[0][0]                   \n",
      "__________________________________________________________________________________________________\n",
      "dense_1 (Dense)                 (128, 256)           33024       dense[0][0]                      \n",
      "__________________________________________________________________________________________________\n",
      "dense_2 (Dense)                 (128, 512)           131584      dense_1[0][0]                    \n",
      "__________________________________________________________________________________________________\n",
      "dense_3 (Dense)                 (128, 115)           58995       dense_2[0][0]                    \n",
      "__________________________________________________________________________________________________\n",
      "tf.split (TFOpLambda)           [(128, 7), (128, 108 0           dense_3[0][0]                    \n",
      "__________________________________________________________________________________________________\n",
      "tf.split_1 (TFOpLambda)         [(128, 2), (128, 2), 0           tf.split[0][1]                   \n",
      "__________________________________________________________________________________________________\n",
      "num_cols_activation (Activation (128, 7)             0           tf.split[0][0]                   \n",
      "__________________________________________________________________________________________________\n",
      "existingchecking_A11 (GumbelSof ((128, 2), (128, 2)) 0           tf.split_1[0][0]                 \n",
      "__________________________________________________________________________________________________\n",
      "existingchecking_A12 (GumbelSof ((128, 2), (128, 2)) 0           tf.split_1[0][1]                 \n",
      "__________________________________________________________________________________________________\n",
      "existingchecking_A13 (GumbelSof ((128, 2), (128, 2)) 0           tf.split_1[0][2]                 \n",
      "__________________________________________________________________________________________________\n",
      "existingchecking_A14 (GumbelSof ((128, 2), (128, 2)) 0           tf.split_1[0][3]                 \n",
      "__________________________________________________________________________________________________\n",
      "credithistory_A30 (GumbelSoftma ((128, 2), (128, 2)) 0           tf.split_1[0][4]                 \n",
      "__________________________________________________________________________________________________\n",
      "credithistory_A31 (GumbelSoftma ((128, 2), (128, 2)) 0           tf.split_1[0][5]                 \n",
      "__________________________________________________________________________________________________\n",
      "credithistory_A32 (GumbelSoftma ((128, 2), (128, 2)) 0           tf.split_1[0][6]                 \n",
      "__________________________________________________________________________________________________\n",
      "credithistory_A33 (GumbelSoftma ((128, 2), (128, 2)) 0           tf.split_1[0][7]                 \n",
      "__________________________________________________________________________________________________\n",
      "credithistory_A34 (GumbelSoftma ((128, 2), (128, 2)) 0           tf.split_1[0][8]                 \n",
      "__________________________________________________________________________________________________\n",
      "purpose_A40 (GumbelSoftmaxLayer ((128, 2), (128, 2)) 0           tf.split_1[0][9]                 \n",
      "__________________________________________________________________________________________________\n",
      "purpose_A41 (GumbelSoftmaxLayer ((128, 2), (128, 2)) 0           tf.split_1[0][10]                \n",
      "__________________________________________________________________________________________________\n",
      "purpose_A410 (GumbelSoftmaxLaye ((128, 2), (128, 2)) 0           tf.split_1[0][11]                \n",
      "__________________________________________________________________________________________________\n",
      "purpose_A42 (GumbelSoftmaxLayer ((128, 2), (128, 2)) 0           tf.split_1[0][12]                \n",
      "__________________________________________________________________________________________________\n",
      "purpose_A43 (GumbelSoftmaxLayer ((128, 2), (128, 2)) 0           tf.split_1[0][13]                \n",
      "__________________________________________________________________________________________________\n",
      "purpose_A44 (GumbelSoftmaxLayer ((128, 2), (128, 2)) 0           tf.split_1[0][14]                \n",
      "__________________________________________________________________________________________________\n",
      "purpose_A45 (GumbelSoftmaxLayer ((128, 2), (128, 2)) 0           tf.split_1[0][15]                \n",
      "__________________________________________________________________________________________________\n",
      "purpose_A46 (GumbelSoftmaxLayer ((128, 2), (128, 2)) 0           tf.split_1[0][16]                \n",
      "__________________________________________________________________________________________________\n",
      "purpose_A48 (GumbelSoftmaxLayer ((128, 2), (128, 2)) 0           tf.split_1[0][17]                \n",
      "__________________________________________________________________________________________________\n",
      "purpose_A49 (GumbelSoftmaxLayer ((128, 2), (128, 2)) 0           tf.split_1[0][18]                \n",
      "__________________________________________________________________________________________________\n",
      "savings_A61 (GumbelSoftmaxLayer ((128, 2), (128, 2)) 0           tf.split_1[0][19]                \n",
      "__________________________________________________________________________________________________\n",
      "savings_A62 (GumbelSoftmaxLayer ((128, 2), (128, 2)) 0           tf.split_1[0][20]                \n",
      "__________________________________________________________________________________________________\n",
      "savings_A63 (GumbelSoftmaxLayer ((128, 2), (128, 2)) 0           tf.split_1[0][21]                \n",
      "__________________________________________________________________________________________________\n",
      "savings_A64 (GumbelSoftmaxLayer ((128, 2), (128, 2)) 0           tf.split_1[0][22]                \n",
      "__________________________________________________________________________________________________\n",
      "savings_A65 (GumbelSoftmaxLayer ((128, 2), (128, 2)) 0           tf.split_1[0][23]                \n",
      "__________________________________________________________________________________________________\n",
      "employmentsince_A71 (GumbelSoft ((128, 2), (128, 2)) 0           tf.split_1[0][24]                \n",
      "__________________________________________________________________________________________________\n",
      "employmentsince_A72 (GumbelSoft ((128, 2), (128, 2)) 0           tf.split_1[0][25]                \n",
      "__________________________________________________________________________________________________\n",
      "employmentsince_A73 (GumbelSoft ((128, 2), (128, 2)) 0           tf.split_1[0][26]                \n",
      "__________________________________________________________________________________________________\n",
      "employmentsince_A74 (GumbelSoft ((128, 2), (128, 2)) 0           tf.split_1[0][27]                \n",
      "__________________________________________________________________________________________________\n",
      "employmentsince_A75 (GumbelSoft ((128, 2), (128, 2)) 0           tf.split_1[0][28]                \n",
      "__________________________________________________________________________________________________\n",
      "statussex_A91 (GumbelSoftmaxLay ((128, 2), (128, 2)) 0           tf.split_1[0][29]                \n",
      "__________________________________________________________________________________________________\n",
      "statussex_A92 (GumbelSoftmaxLay ((128, 2), (128, 2)) 0           tf.split_1[0][30]                \n",
      "__________________________________________________________________________________________________\n",
      "statussex_A93 (GumbelSoftmaxLay ((128, 2), (128, 2)) 0           tf.split_1[0][31]                \n",
      "__________________________________________________________________________________________________\n",
      "statussex_A94 (GumbelSoftmaxLay ((128, 2), (128, 2)) 0           tf.split_1[0][32]                \n",
      "__________________________________________________________________________________________________\n",
      "otherdebtors_A101 (GumbelSoftma ((128, 2), (128, 2)) 0           tf.split_1[0][33]                \n",
      "__________________________________________________________________________________________________\n",
      "otherdebtors_A102 (GumbelSoftma ((128, 2), (128, 2)) 0           tf.split_1[0][34]                \n",
      "__________________________________________________________________________________________________\n",
      "otherdebtors_A103 (GumbelSoftma ((128, 2), (128, 2)) 0           tf.split_1[0][35]                \n",
      "__________________________________________________________________________________________________\n",
      "property_A121 (GumbelSoftmaxLay ((128, 2), (128, 2)) 0           tf.split_1[0][36]                \n",
      "__________________________________________________________________________________________________\n",
      "property_A122 (GumbelSoftmaxLay ((128, 2), (128, 2)) 0           tf.split_1[0][37]                \n",
      "__________________________________________________________________________________________________\n",
      "property_A123 (GumbelSoftmaxLay ((128, 2), (128, 2)) 0           tf.split_1[0][38]                \n",
      "__________________________________________________________________________________________________\n",
      "property_A124 (GumbelSoftmaxLay ((128, 2), (128, 2)) 0           tf.split_1[0][39]                \n",
      "__________________________________________________________________________________________________\n",
      "otherinstallmentplans_A141 (Gum ((128, 2), (128, 2)) 0           tf.split_1[0][40]                \n",
      "__________________________________________________________________________________________________\n",
      "otherinstallmentplans_A142 (Gum ((128, 2), (128, 2)) 0           tf.split_1[0][41]                \n",
      "__________________________________________________________________________________________________\n",
      "otherinstallmentplans_A143 (Gum ((128, 2), (128, 2)) 0           tf.split_1[0][42]                \n",
      "__________________________________________________________________________________________________\n",
      "housing_A151 (GumbelSoftmaxLaye ((128, 2), (128, 2)) 0           tf.split_1[0][43]                \n",
      "__________________________________________________________________________________________________\n",
      "housing_A152 (GumbelSoftmaxLaye ((128, 2), (128, 2)) 0           tf.split_1[0][44]                \n",
      "__________________________________________________________________________________________________\n",
      "housing_A153 (GumbelSoftmaxLaye ((128, 2), (128, 2)) 0           tf.split_1[0][45]                \n",
      "__________________________________________________________________________________________________\n",
      "job_A171 (GumbelSoftmaxLayer)   ((128, 2), (128, 2)) 0           tf.split_1[0][46]                \n",
      "__________________________________________________________________________________________________\n",
      "job_A172 (GumbelSoftmaxLayer)   ((128, 2), (128, 2)) 0           tf.split_1[0][47]                \n",
      "__________________________________________________________________________________________________\n",
      "job_A173 (GumbelSoftmaxLayer)   ((128, 2), (128, 2)) 0           tf.split_1[0][48]                \n",
      "__________________________________________________________________________________________________\n",
      "job_A174 (GumbelSoftmaxLayer)   ((128, 2), (128, 2)) 0           tf.split_1[0][49]                \n",
      "__________________________________________________________________________________________________\n",
      "telephone_A191 (GumbelSoftmaxLa ((128, 2), (128, 2)) 0           tf.split_1[0][50]                \n",
      "__________________________________________________________________________________________________\n",
      "telephone_A192 (GumbelSoftmaxLa ((128, 2), (128, 2)) 0           tf.split_1[0][51]                \n",
      "__________________________________________________________________________________________________\n",
      "foreignworker_A201 (GumbelSoftm ((128, 2), (128, 2)) 0           tf.split_1[0][52]                \n",
      "__________________________________________________________________________________________________\n",
      "foreignworker_A202 (GumbelSoftm ((128, 2), (128, 2)) 0           tf.split_1[0][53]                \n",
      "__________________________________________________________________________________________________\n",
      "tf.concat (TFOpLambda)          (128, 115)           0           num_cols_activation[0][0]        \n",
      "                                                                 existingchecking_A11[0][0]       \n",
      "                                                                 existingchecking_A12[0][0]       \n",
      "                                                                 existingchecking_A13[0][0]       \n",
      "                                                                 existingchecking_A14[0][0]       \n",
      "                                                                 credithistory_A30[0][0]          \n",
      "                                                                 credithistory_A31[0][0]          \n",
      "                                                                 credithistory_A32[0][0]          \n",
      "                                                                 credithistory_A33[0][0]          \n",
      "                                                                 credithistory_A34[0][0]          \n",
      "                                                                 purpose_A40[0][0]                \n",
      "                                                                 purpose_A41[0][0]                \n",
      "                                                                 purpose_A410[0][0]               \n",
      "                                                                 purpose_A42[0][0]                \n",
      "                                                                 purpose_A43[0][0]                \n",
      "                                                                 purpose_A44[0][0]                \n",
      "                                                                 purpose_A45[0][0]                \n",
      "                                                                 purpose_A46[0][0]                \n",
      "                                                                 purpose_A48[0][0]                \n",
      "                                                                 purpose_A49[0][0]                \n",
      "                                                                 savings_A61[0][0]                \n",
      "                                                                 savings_A62[0][0]                \n",
      "                                                                 savings_A63[0][0]                \n",
      "                                                                 savings_A64[0][0]                \n",
      "                                                                 savings_A65[0][0]                \n",
      "                                                                 employmentsince_A71[0][0]        \n",
      "                                                                 employmentsince_A72[0][0]        \n",
      "                                                                 employmentsince_A73[0][0]        \n",
      "                                                                 employmentsince_A74[0][0]        \n",
      "                                                                 employmentsince_A75[0][0]        \n",
      "                                                                 statussex_A91[0][0]              \n",
      "                                                                 statussex_A92[0][0]              \n",
      "                                                                 statussex_A93[0][0]              \n",
      "                                                                 statussex_A94[0][0]              \n",
      "                                                                 otherdebtors_A101[0][0]          \n",
      "                                                                 otherdebtors_A102[0][0]          \n",
      "                                                                 otherdebtors_A103[0][0]          \n",
      "                                                                 property_A121[0][0]              \n",
      "                                                                 property_A122[0][0]              \n",
      "                                                                 property_A123[0][0]              \n",
      "                                                                 property_A124[0][0]              \n",
      "                                                                 otherinstallmentplans_A141[0][0] \n",
      "                                                                 otherinstallmentplans_A142[0][0] \n",
      "                                                                 otherinstallmentplans_A143[0][0] \n",
      "                                                                 housing_A151[0][0]               \n",
      "                                                                 housing_A152[0][0]               \n",
      "                                                                 housing_A153[0][0]               \n",
      "                                                                 job_A171[0][0]                   \n",
      "                                                                 job_A172[0][0]                   \n",
      "                                                                 job_A173[0][0]                   \n",
      "                                                                 job_A174[0][0]                   \n",
      "                                                                 telephone_A191[0][0]             \n",
      "                                                                 telephone_A192[0][0]             \n",
      "                                                                 foreignworker_A201[0][0]         \n",
      "                                                                 foreignworker_A202[0][0]         \n",
      "==================================================================================================\n",
      "Total params: 227,829\n",
      "Trainable params: 227,829\n",
      "Non-trainable params: 0\n",
      "__________________________________________________________________________________________________\n"
     ]
    }
   ],
   "source": [
    "synthesizer.generator.summary()\n"
   ]
  },
  {
   "cell_type": "code",
   "execution_count": 12,
   "outputs": [
    {
     "name": "stdout",
     "output_type": "stream",
     "text": [
      "Model: \"model_1\"\n",
      "__________________________________________________________________________________________________\n",
      "Layer (type)                    Output Shape         Param #     Connected to                     \n",
      "==================================================================================================\n",
      "input_4 (InputLayer)            [(128, 1)]           0                                            \n",
      "__________________________________________________________________________________________________\n",
      "input_3 (InputLayer)            [(128, 115)]         0                                            \n",
      "__________________________________________________________________________________________________\n",
      "embedding_1 (Embedding)         (128, 1, 1)          2           input_4[0][0]                    \n",
      "__________________________________________________________________________________________________\n",
      "flatten_2 (Flatten)             (128, 115)           0           input_3[0][0]                    \n",
      "__________________________________________________________________________________________________\n",
      "flatten_1 (Flatten)             (128, 1)             0           embedding_1[0][0]                \n",
      "__________________________________________________________________________________________________\n",
      "multiply_1 (Multiply)           (128, 115)           0           flatten_2[0][0]                  \n",
      "                                                                 flatten_1[0][0]                  \n",
      "__________________________________________________________________________________________________\n",
      "dense_4 (Dense)                 (128, 512)           59392       multiply_1[0][0]                 \n",
      "__________________________________________________________________________________________________\n",
      "dropout (Dropout)               (128, 512)           0           dense_4[0][0]                    \n",
      "__________________________________________________________________________________________________\n",
      "dense_5 (Dense)                 (128, 256)           131328      dropout[0][0]                    \n",
      "__________________________________________________________________________________________________\n",
      "dropout_1 (Dropout)             (128, 256)           0           dense_5[0][0]                    \n",
      "__________________________________________________________________________________________________\n",
      "dense_6 (Dense)                 (128, 128)           32896       dropout_1[0][0]                  \n",
      "__________________________________________________________________________________________________\n",
      "dense_7 (Dense)                 (128, 1)             129         dense_6[0][0]                    \n",
      "==================================================================================================\n",
      "Total params: 223,747\n",
      "Trainable params: 0\n",
      "Non-trainable params: 223,747\n",
      "__________________________________________________________________________________________________\n"
     ]
    }
   ],
   "source": [
    "synthesizer.discriminator.summary()"
   ],
   "metadata": {
    "collapsed": false,
    "pycharm": {
     "name": "#%%\n"
    }
   }
  },
  {
   "cell_type": "markdown",
   "source": [
    "# Load Trained Model"
   ],
   "metadata": {
    "collapsed": false
   }
  },
  {
   "cell_type": "code",
   "execution_count": 7,
   "outputs": [
    {
     "name": "stdout",
     "output_type": "stream",
     "text": [
      "WARNING:tensorflow:AutoGraph could not transform <bound method GumbelSoftmaxLayer.call of <ydata_synthetic.utils.gumbel_softmax.GumbelSoftmaxLayer object at 0x7efcbfdcfe20>> and will run it as-is.\n",
      "Please report this to the TensorFlow team. When filing the bug, set the verbosity to 10 (on Linux, `export AUTOGRAPH_VERBOSITY=10`) and attach the full output.\n",
      "Cause: module 'gast' has no attribute 'Index'\n",
      "To silence this warning, decorate the function with @tf.autograph.experimental.do_not_convert\n",
      "WARNING: AutoGraph could not transform <bound method GumbelSoftmaxLayer.call of <ydata_synthetic.utils.gumbel_softmax.GumbelSoftmaxLayer object at 0x7efcbfdcfe20>> and will run it as-is.\n",
      "Please report this to the TensorFlow team. When filing the bug, set the verbosity to 10 (on Linux, `export AUTOGRAPH_VERBOSITY=10`) and attach the full output.\n",
      "Cause: module 'gast' has no attribute 'Index'\n",
      "To silence this warning, decorate the function with @tf.autograph.experimental.do_not_convert\n"
     ]
    },
    {
     "name": "stderr",
     "output_type": "stream",
     "text": [
      "2021-12-25 11:19:07.241876: I tensorflow/compiler/jit/xla_cpu_device.cc:41] Not creating XLA devices, tf_xla_enable_xla_devices not set\n",
      "2021-12-25 11:19:07.242590: I tensorflow/stream_executor/platform/default/dso_loader.cc:49] Successfully opened dynamic library libcuda.so.1\n",
      "2021-12-25 11:19:07.267683: E tensorflow/stream_executor/cuda/cuda_driver.cc:328] failed call to cuInit: CUDA_ERROR_UNKNOWN: unknown error\n",
      "2021-12-25 11:19:07.267708: I tensorflow/stream_executor/cuda/cuda_diagnostics.cc:169] retrieving CUDA diagnostic information for host: data-science-l-danielle\n",
      "2021-12-25 11:19:07.267714: I tensorflow/stream_executor/cuda/cuda_diagnostics.cc:176] hostname: data-science-l-danielle\n",
      "2021-12-25 11:19:07.267783: I tensorflow/stream_executor/cuda/cuda_diagnostics.cc:200] libcuda reported version is: 470.86.0\n",
      "2021-12-25 11:19:07.267802: I tensorflow/stream_executor/cuda/cuda_diagnostics.cc:204] kernel reported version is: 470.86.0\n",
      "2021-12-25 11:19:07.267807: I tensorflow/stream_executor/cuda/cuda_diagnostics.cc:310] kernel version seems to match DSO: 470.86.0\n",
      "2021-12-25 11:19:07.389407: I tensorflow/core/platform/cpu_feature_guard.cc:142] This TensorFlow binary is optimized with oneAPI Deep Neural Network Library (oneDNN) to use the following CPU instructions in performance-critical operations:  SSE4.1 SSE4.2 AVX AVX2 FMA\n",
      "To enable them in other operations, rebuild TensorFlow with the appropriate compiler flags.\n",
      "2021-12-25 11:19:07.390228: I tensorflow/compiler/jit/xla_gpu_device.cc:99] Not creating XLA devices, tf_xla_enable_xla_devices not set\n"
     ]
    }
   ],
   "source": [
    "synthesizer = CGAN.load(GERMAN_CREDIT_GEN_CGAN_MODEL_PATH)"
   ],
   "metadata": {
    "collapsed": false,
    "pycharm": {
     "name": "#%%\n"
    }
   }
  },
  {
   "cell_type": "code",
   "execution_count": 29,
   "outputs": [
    {
     "data": {
      "text/plain": "2.0"
     },
     "execution_count": 29,
     "metadata": {},
     "output_type": "execute_result"
    }
   ],
   "source": [
    "np.ceil(200/128)"
   ],
   "metadata": {
    "collapsed": false,
    "pycharm": {
     "name": "#%%\n"
    }
   }
  },
  {
   "cell_type": "code",
   "execution_count": 48,
   "outputs": [
    {
     "name": "stderr",
     "output_type": "stream",
     "text": [
      "Synthetic data generation: 100%|██████████| 1/1 [00:00<00:00, 14.20it/s]\n"
     ]
    },
    {
     "data": {
      "text/plain": "     duration  creditamount  installmentrate  residencesince  age  \\\n0           8          1055                1               1   22   \n1           8          1107                1               1   22   \n2           8          1082                1               1   22   \n3           8          1091                1               1   22   \n4           8          1100                1               1   22   \n..        ...           ...              ...             ...  ...   \n123         8          1072                1               1   22   \n124         8          1110                1               1   22   \n125         8          1119                1               1   22   \n126         8          1073                1               1   22   \n127         8          1101                1               1   22   \n\n     existingcredits  peopleliable  existingchecking_A11  \\\n0                  1             1                     1   \n1                  1             1                     1   \n2                  1             1                     1   \n3                  1             1                     1   \n4                  1             1                     0   \n..               ...           ...                   ...   \n123                1             1                     0   \n124                1             1                     1   \n125                1             1                     1   \n126                1             1                     1   \n127                1             1                     0   \n\n     existingchecking_A12  existingchecking_A13  ...  housing_A153  job_A171  \\\n0                       1                     0  ...             0         0   \n1                       0                     0  ...             0         1   \n2                       1                     1  ...             1         0   \n3                       1                     0  ...             1         0   \n4                       1                     0  ...             1         1   \n..                    ...                   ...  ...           ...       ...   \n123                     0                     1  ...             0         1   \n124                     1                     0  ...             0         0   \n125                     0                     1  ...             0         0   \n126                     1                     0  ...             0         1   \n127                     1                     0  ...             1         0   \n\n     job_A172  job_A173  job_A174  telephone_A191  telephone_A192  \\\n0           1         0         1               1               0   \n1           1         0         1               0               0   \n2           0         1         0               1               1   \n3           1         0         1               0               1   \n4           1         0         0               1               1   \n..        ...       ...       ...             ...             ...   \n123         0         1         1               1               0   \n124         1         1         1               1               1   \n125         1         1         1               1               0   \n126         0         0         1               1               1   \n127         0         1         1               0               0   \n\n     foreignworker_A201  foreignworker_A202  NaN  \n0                     0                   0  1.0  \n1                     0                   1  1.0  \n2                     0                   1  1.0  \n3                     0                   1  1.0  \n4                     0                   1  1.0  \n..                  ...                 ...  ...  \n123                   1                   0  1.0  \n124                   1                   0  1.0  \n125                   0                   0  1.0  \n126                   1                   0  1.0  \n127                   1                   1  1.0  \n\n[128 rows x 62 columns]",
      "text/html": "<div>\n<style scoped>\n    .dataframe tbody tr th:only-of-type {\n        vertical-align: middle;\n    }\n\n    .dataframe tbody tr th {\n        vertical-align: top;\n    }\n\n    .dataframe thead th {\n        text-align: right;\n    }\n</style>\n<table border=\"1\" class=\"dataframe\">\n  <thead>\n    <tr style=\"text-align: right;\">\n      <th></th>\n      <th>duration</th>\n      <th>creditamount</th>\n      <th>installmentrate</th>\n      <th>residencesince</th>\n      <th>age</th>\n      <th>existingcredits</th>\n      <th>peopleliable</th>\n      <th>existingchecking_A11</th>\n      <th>existingchecking_A12</th>\n      <th>existingchecking_A13</th>\n      <th>...</th>\n      <th>housing_A153</th>\n      <th>job_A171</th>\n      <th>job_A172</th>\n      <th>job_A173</th>\n      <th>job_A174</th>\n      <th>telephone_A191</th>\n      <th>telephone_A192</th>\n      <th>foreignworker_A201</th>\n      <th>foreignworker_A202</th>\n      <th>NaN</th>\n    </tr>\n  </thead>\n  <tbody>\n    <tr>\n      <th>0</th>\n      <td>8</td>\n      <td>1055</td>\n      <td>1</td>\n      <td>1</td>\n      <td>22</td>\n      <td>1</td>\n      <td>1</td>\n      <td>1</td>\n      <td>1</td>\n      <td>0</td>\n      <td>...</td>\n      <td>0</td>\n      <td>0</td>\n      <td>1</td>\n      <td>0</td>\n      <td>1</td>\n      <td>1</td>\n      <td>0</td>\n      <td>0</td>\n      <td>0</td>\n      <td>1.0</td>\n    </tr>\n    <tr>\n      <th>1</th>\n      <td>8</td>\n      <td>1107</td>\n      <td>1</td>\n      <td>1</td>\n      <td>22</td>\n      <td>1</td>\n      <td>1</td>\n      <td>1</td>\n      <td>0</td>\n      <td>0</td>\n      <td>...</td>\n      <td>0</td>\n      <td>1</td>\n      <td>1</td>\n      <td>0</td>\n      <td>1</td>\n      <td>0</td>\n      <td>0</td>\n      <td>0</td>\n      <td>1</td>\n      <td>1.0</td>\n    </tr>\n    <tr>\n      <th>2</th>\n      <td>8</td>\n      <td>1082</td>\n      <td>1</td>\n      <td>1</td>\n      <td>22</td>\n      <td>1</td>\n      <td>1</td>\n      <td>1</td>\n      <td>1</td>\n      <td>1</td>\n      <td>...</td>\n      <td>1</td>\n      <td>0</td>\n      <td>0</td>\n      <td>1</td>\n      <td>0</td>\n      <td>1</td>\n      <td>1</td>\n      <td>0</td>\n      <td>1</td>\n      <td>1.0</td>\n    </tr>\n    <tr>\n      <th>3</th>\n      <td>8</td>\n      <td>1091</td>\n      <td>1</td>\n      <td>1</td>\n      <td>22</td>\n      <td>1</td>\n      <td>1</td>\n      <td>1</td>\n      <td>1</td>\n      <td>0</td>\n      <td>...</td>\n      <td>1</td>\n      <td>0</td>\n      <td>1</td>\n      <td>0</td>\n      <td>1</td>\n      <td>0</td>\n      <td>1</td>\n      <td>0</td>\n      <td>1</td>\n      <td>1.0</td>\n    </tr>\n    <tr>\n      <th>4</th>\n      <td>8</td>\n      <td>1100</td>\n      <td>1</td>\n      <td>1</td>\n      <td>22</td>\n      <td>1</td>\n      <td>1</td>\n      <td>0</td>\n      <td>1</td>\n      <td>0</td>\n      <td>...</td>\n      <td>1</td>\n      <td>1</td>\n      <td>1</td>\n      <td>0</td>\n      <td>0</td>\n      <td>1</td>\n      <td>1</td>\n      <td>0</td>\n      <td>1</td>\n      <td>1.0</td>\n    </tr>\n    <tr>\n      <th>...</th>\n      <td>...</td>\n      <td>...</td>\n      <td>...</td>\n      <td>...</td>\n      <td>...</td>\n      <td>...</td>\n      <td>...</td>\n      <td>...</td>\n      <td>...</td>\n      <td>...</td>\n      <td>...</td>\n      <td>...</td>\n      <td>...</td>\n      <td>...</td>\n      <td>...</td>\n      <td>...</td>\n      <td>...</td>\n      <td>...</td>\n      <td>...</td>\n      <td>...</td>\n      <td>...</td>\n    </tr>\n    <tr>\n      <th>123</th>\n      <td>8</td>\n      <td>1072</td>\n      <td>1</td>\n      <td>1</td>\n      <td>22</td>\n      <td>1</td>\n      <td>1</td>\n      <td>0</td>\n      <td>0</td>\n      <td>1</td>\n      <td>...</td>\n      <td>0</td>\n      <td>1</td>\n      <td>0</td>\n      <td>1</td>\n      <td>1</td>\n      <td>1</td>\n      <td>0</td>\n      <td>1</td>\n      <td>0</td>\n      <td>1.0</td>\n    </tr>\n    <tr>\n      <th>124</th>\n      <td>8</td>\n      <td>1110</td>\n      <td>1</td>\n      <td>1</td>\n      <td>22</td>\n      <td>1</td>\n      <td>1</td>\n      <td>1</td>\n      <td>1</td>\n      <td>0</td>\n      <td>...</td>\n      <td>0</td>\n      <td>0</td>\n      <td>1</td>\n      <td>1</td>\n      <td>1</td>\n      <td>1</td>\n      <td>1</td>\n      <td>1</td>\n      <td>0</td>\n      <td>1.0</td>\n    </tr>\n    <tr>\n      <th>125</th>\n      <td>8</td>\n      <td>1119</td>\n      <td>1</td>\n      <td>1</td>\n      <td>22</td>\n      <td>1</td>\n      <td>1</td>\n      <td>1</td>\n      <td>0</td>\n      <td>1</td>\n      <td>...</td>\n      <td>0</td>\n      <td>0</td>\n      <td>1</td>\n      <td>1</td>\n      <td>1</td>\n      <td>1</td>\n      <td>0</td>\n      <td>0</td>\n      <td>0</td>\n      <td>1.0</td>\n    </tr>\n    <tr>\n      <th>126</th>\n      <td>8</td>\n      <td>1073</td>\n      <td>1</td>\n      <td>1</td>\n      <td>22</td>\n      <td>1</td>\n      <td>1</td>\n      <td>1</td>\n      <td>1</td>\n      <td>0</td>\n      <td>...</td>\n      <td>0</td>\n      <td>1</td>\n      <td>0</td>\n      <td>0</td>\n      <td>1</td>\n      <td>1</td>\n      <td>1</td>\n      <td>1</td>\n      <td>0</td>\n      <td>1.0</td>\n    </tr>\n    <tr>\n      <th>127</th>\n      <td>8</td>\n      <td>1101</td>\n      <td>1</td>\n      <td>1</td>\n      <td>22</td>\n      <td>1</td>\n      <td>1</td>\n      <td>0</td>\n      <td>1</td>\n      <td>0</td>\n      <td>...</td>\n      <td>1</td>\n      <td>0</td>\n      <td>0</td>\n      <td>1</td>\n      <td>1</td>\n      <td>0</td>\n      <td>0</td>\n      <td>1</td>\n      <td>1</td>\n      <td>1.0</td>\n    </tr>\n  </tbody>\n</table>\n<p>128 rows × 62 columns</p>\n</div>"
     },
     "execution_count": 48,
     "metadata": {},
     "output_type": "execute_result"
    }
   ],
   "source": [
    "generated_df_class_true = synthesizer.sample(condition=np.array([1]), n_samples=1)#batch_size*100)\n",
    "generated_df_class_true"
   ],
   "metadata": {
    "collapsed": false,
    "pycharm": {
     "name": "#%%\n"
    }
   }
  },
  {
   "cell_type": "code",
   "execution_count": 49,
   "outputs": [
    {
     "name": "stderr",
     "output_type": "stream",
     "text": [
      "Synthetic data generation: 100%|██████████| 1/1 [00:00<00:00, 14.05it/s]\n"
     ]
    },
    {
     "data": {
      "text/plain": "     duration  creditamount  installmentrate  residencesince  age  \\\n0           8          1087                1               1   22   \n1           8          1085                1               1   22   \n2           8          1083                1               1   22   \n3           8          1085                1               1   22   \n4           8          1082                1               1   22   \n..        ...           ...              ...             ...  ...   \n123         8          1086                1               1   22   \n124         8          1084                1               1   22   \n125         8          1081                1               1   22   \n126         8          1084                1               1   22   \n127         8          1082                1               1   22   \n\n     existingcredits  peopleliable  existingchecking_A11  \\\n0                  1             1                     0   \n1                  1             1                     0   \n2                  1             1                     1   \n3                  1             1                     0   \n4                  1             1                     0   \n..               ...           ...                   ...   \n123                1             1                     1   \n124                1             1                     1   \n125                1             1                     1   \n126                1             1                     1   \n127                1             1                     0   \n\n     existingchecking_A12  existingchecking_A13  ...  housing_A153  job_A171  \\\n0                       1                     1  ...             1         0   \n1                       1                     1  ...             1         0   \n2                       0                     1  ...             0         0   \n3                       1                     1  ...             0         0   \n4                       1                     1  ...             0         1   \n..                    ...                   ...  ...           ...       ...   \n123                     1                     0  ...             0         1   \n124                     0                     1  ...             1         0   \n125                     0                     0  ...             0         0   \n126                     1                     0  ...             0         1   \n127                     1                     1  ...             0         0   \n\n     job_A172  job_A173  job_A174  telephone_A191  telephone_A192  \\\n0           1         1         0               0               1   \n1           1         1         1               1               1   \n2           1         1         0               0               0   \n3           1         0         1               0               0   \n4           0         1         0               1               1   \n..        ...       ...       ...             ...             ...   \n123         0         1         1               0               0   \n124         0         0         0               0               1   \n125         1         1         1               0               0   \n126         1         1         0               1               0   \n127         0         0         1               0               0   \n\n     foreignworker_A201  foreignworker_A202  NaN  \n0                     1                   0  0.0  \n1                     0                   0  0.0  \n2                     1                   0  0.0  \n3                     1                   0  0.0  \n4                     0                   0  0.0  \n..                  ...                 ...  ...  \n123                   0                   0  0.0  \n124                   1                   1  0.0  \n125                   0                   0  0.0  \n126                   0                   0  0.0  \n127                   1                   1  0.0  \n\n[128 rows x 62 columns]",
      "text/html": "<div>\n<style scoped>\n    .dataframe tbody tr th:only-of-type {\n        vertical-align: middle;\n    }\n\n    .dataframe tbody tr th {\n        vertical-align: top;\n    }\n\n    .dataframe thead th {\n        text-align: right;\n    }\n</style>\n<table border=\"1\" class=\"dataframe\">\n  <thead>\n    <tr style=\"text-align: right;\">\n      <th></th>\n      <th>duration</th>\n      <th>creditamount</th>\n      <th>installmentrate</th>\n      <th>residencesince</th>\n      <th>age</th>\n      <th>existingcredits</th>\n      <th>peopleliable</th>\n      <th>existingchecking_A11</th>\n      <th>existingchecking_A12</th>\n      <th>existingchecking_A13</th>\n      <th>...</th>\n      <th>housing_A153</th>\n      <th>job_A171</th>\n      <th>job_A172</th>\n      <th>job_A173</th>\n      <th>job_A174</th>\n      <th>telephone_A191</th>\n      <th>telephone_A192</th>\n      <th>foreignworker_A201</th>\n      <th>foreignworker_A202</th>\n      <th>NaN</th>\n    </tr>\n  </thead>\n  <tbody>\n    <tr>\n      <th>0</th>\n      <td>8</td>\n      <td>1087</td>\n      <td>1</td>\n      <td>1</td>\n      <td>22</td>\n      <td>1</td>\n      <td>1</td>\n      <td>0</td>\n      <td>1</td>\n      <td>1</td>\n      <td>...</td>\n      <td>1</td>\n      <td>0</td>\n      <td>1</td>\n      <td>1</td>\n      <td>0</td>\n      <td>0</td>\n      <td>1</td>\n      <td>1</td>\n      <td>0</td>\n      <td>0.0</td>\n    </tr>\n    <tr>\n      <th>1</th>\n      <td>8</td>\n      <td>1085</td>\n      <td>1</td>\n      <td>1</td>\n      <td>22</td>\n      <td>1</td>\n      <td>1</td>\n      <td>0</td>\n      <td>1</td>\n      <td>1</td>\n      <td>...</td>\n      <td>1</td>\n      <td>0</td>\n      <td>1</td>\n      <td>1</td>\n      <td>1</td>\n      <td>1</td>\n      <td>1</td>\n      <td>0</td>\n      <td>0</td>\n      <td>0.0</td>\n    </tr>\n    <tr>\n      <th>2</th>\n      <td>8</td>\n      <td>1083</td>\n      <td>1</td>\n      <td>1</td>\n      <td>22</td>\n      <td>1</td>\n      <td>1</td>\n      <td>1</td>\n      <td>0</td>\n      <td>1</td>\n      <td>...</td>\n      <td>0</td>\n      <td>0</td>\n      <td>1</td>\n      <td>1</td>\n      <td>0</td>\n      <td>0</td>\n      <td>0</td>\n      <td>1</td>\n      <td>0</td>\n      <td>0.0</td>\n    </tr>\n    <tr>\n      <th>3</th>\n      <td>8</td>\n      <td>1085</td>\n      <td>1</td>\n      <td>1</td>\n      <td>22</td>\n      <td>1</td>\n      <td>1</td>\n      <td>0</td>\n      <td>1</td>\n      <td>1</td>\n      <td>...</td>\n      <td>0</td>\n      <td>0</td>\n      <td>1</td>\n      <td>0</td>\n      <td>1</td>\n      <td>0</td>\n      <td>0</td>\n      <td>1</td>\n      <td>0</td>\n      <td>0.0</td>\n    </tr>\n    <tr>\n      <th>4</th>\n      <td>8</td>\n      <td>1082</td>\n      <td>1</td>\n      <td>1</td>\n      <td>22</td>\n      <td>1</td>\n      <td>1</td>\n      <td>0</td>\n      <td>1</td>\n      <td>1</td>\n      <td>...</td>\n      <td>0</td>\n      <td>1</td>\n      <td>0</td>\n      <td>1</td>\n      <td>0</td>\n      <td>1</td>\n      <td>1</td>\n      <td>0</td>\n      <td>0</td>\n      <td>0.0</td>\n    </tr>\n    <tr>\n      <th>...</th>\n      <td>...</td>\n      <td>...</td>\n      <td>...</td>\n      <td>...</td>\n      <td>...</td>\n      <td>...</td>\n      <td>...</td>\n      <td>...</td>\n      <td>...</td>\n      <td>...</td>\n      <td>...</td>\n      <td>...</td>\n      <td>...</td>\n      <td>...</td>\n      <td>...</td>\n      <td>...</td>\n      <td>...</td>\n      <td>...</td>\n      <td>...</td>\n      <td>...</td>\n      <td>...</td>\n    </tr>\n    <tr>\n      <th>123</th>\n      <td>8</td>\n      <td>1086</td>\n      <td>1</td>\n      <td>1</td>\n      <td>22</td>\n      <td>1</td>\n      <td>1</td>\n      <td>1</td>\n      <td>1</td>\n      <td>0</td>\n      <td>...</td>\n      <td>0</td>\n      <td>1</td>\n      <td>0</td>\n      <td>1</td>\n      <td>1</td>\n      <td>0</td>\n      <td>0</td>\n      <td>0</td>\n      <td>0</td>\n      <td>0.0</td>\n    </tr>\n    <tr>\n      <th>124</th>\n      <td>8</td>\n      <td>1084</td>\n      <td>1</td>\n      <td>1</td>\n      <td>22</td>\n      <td>1</td>\n      <td>1</td>\n      <td>1</td>\n      <td>0</td>\n      <td>1</td>\n      <td>...</td>\n      <td>1</td>\n      <td>0</td>\n      <td>0</td>\n      <td>0</td>\n      <td>0</td>\n      <td>0</td>\n      <td>1</td>\n      <td>1</td>\n      <td>1</td>\n      <td>0.0</td>\n    </tr>\n    <tr>\n      <th>125</th>\n      <td>8</td>\n      <td>1081</td>\n      <td>1</td>\n      <td>1</td>\n      <td>22</td>\n      <td>1</td>\n      <td>1</td>\n      <td>1</td>\n      <td>0</td>\n      <td>0</td>\n      <td>...</td>\n      <td>0</td>\n      <td>0</td>\n      <td>1</td>\n      <td>1</td>\n      <td>1</td>\n      <td>0</td>\n      <td>0</td>\n      <td>0</td>\n      <td>0</td>\n      <td>0.0</td>\n    </tr>\n    <tr>\n      <th>126</th>\n      <td>8</td>\n      <td>1084</td>\n      <td>1</td>\n      <td>1</td>\n      <td>22</td>\n      <td>1</td>\n      <td>1</td>\n      <td>1</td>\n      <td>1</td>\n      <td>0</td>\n      <td>...</td>\n      <td>0</td>\n      <td>1</td>\n      <td>1</td>\n      <td>1</td>\n      <td>0</td>\n      <td>1</td>\n      <td>0</td>\n      <td>0</td>\n      <td>0</td>\n      <td>0.0</td>\n    </tr>\n    <tr>\n      <th>127</th>\n      <td>8</td>\n      <td>1082</td>\n      <td>1</td>\n      <td>1</td>\n      <td>22</td>\n      <td>1</td>\n      <td>1</td>\n      <td>0</td>\n      <td>1</td>\n      <td>1</td>\n      <td>...</td>\n      <td>0</td>\n      <td>0</td>\n      <td>0</td>\n      <td>0</td>\n      <td>1</td>\n      <td>0</td>\n      <td>0</td>\n      <td>1</td>\n      <td>1</td>\n      <td>0.0</td>\n    </tr>\n  </tbody>\n</table>\n<p>128 rows × 62 columns</p>\n</div>"
     },
     "execution_count": 49,
     "metadata": {},
     "output_type": "execute_result"
    }
   ],
   "source": [
    "generated_df_class_false = synthesizer.sample(condition=np.array([0]), n_samples=1) #n_samples=batch_size*10)\n",
    "generated_df_class_false"
   ],
   "metadata": {
    "collapsed": false,
    "pycharm": {
     "name": "#%%\n"
    }
   }
  },
  {
   "cell_type": "code",
   "execution_count": 51,
   "outputs": [
    {
     "data": {
      "text/plain": "     duration  creditamount  installmentrate  residencesince  age  \\\n97          8          1038                1               1   22   \n94          8          1082                1               1   22   \n44          8          1086                1               1   22   \n42          8          1126                1               1   22   \n3           8          1085                1               1   22   \n124         8          1084                1               1   22   \n2           8          1083                1               1   22   \n23          8          1078                1               1   22   \n45          8          1119                1               1   22   \n84          8          1100                1               1   22   \n\n     existingcredits  peopleliable  existingchecking_A11  \\\n97                 1             1                     1   \n94                 1             1                     1   \n44                 1             1                     1   \n42                 1             1                     1   \n3                  1             1                     0   \n124                1             1                     1   \n2                  1             1                     1   \n23                 1             1                     1   \n45                 1             1                     1   \n84                 1             1                     1   \n\n     existingchecking_A12  existingchecking_A13  ...  housing_A153  job_A171  \\\n97                      0                     0  ...             0         0   \n94                      1                     1  ...             1         1   \n44                      1                     0  ...             0         0   \n42                      0                     0  ...             0         1   \n3                       1                     1  ...             0         0   \n124                     0                     1  ...             1         0   \n2                       0                     1  ...             0         0   \n23                      1                     1  ...             1         1   \n45                      1                     0  ...             0         1   \n84                      0                     1  ...             0         1   \n\n     job_A172  job_A173  job_A174  telephone_A191  telephone_A192  \\\n97          1         0         0               0               1   \n94          1         1         1               0               1   \n44          0         0         0               0               1   \n42          1         0         0               0               1   \n3           1         0         1               0               0   \n124         0         0         0               0               1   \n2           1         1         0               0               0   \n23          0         1         0               0               1   \n45          0         1         1               0               1   \n84          0         1         1               1               1   \n\n     foreignworker_A201  foreignworker_A202  NaN  \n97                    1                   1  1.0  \n94                    0                   1  0.0  \n44                    0                   0  0.0  \n42                    0                   0  1.0  \n3                     1                   0  0.0  \n124                   1                   1  0.0  \n2                     1                   0  0.0  \n23                    1                   0  0.0  \n45                    0                   0  1.0  \n84                    1                   0  1.0  \n\n[10 rows x 62 columns]",
      "text/html": "<div>\n<style scoped>\n    .dataframe tbody tr th:only-of-type {\n        vertical-align: middle;\n    }\n\n    .dataframe tbody tr th {\n        vertical-align: top;\n    }\n\n    .dataframe thead th {\n        text-align: right;\n    }\n</style>\n<table border=\"1\" class=\"dataframe\">\n  <thead>\n    <tr style=\"text-align: right;\">\n      <th></th>\n      <th>duration</th>\n      <th>creditamount</th>\n      <th>installmentrate</th>\n      <th>residencesince</th>\n      <th>age</th>\n      <th>existingcredits</th>\n      <th>peopleliable</th>\n      <th>existingchecking_A11</th>\n      <th>existingchecking_A12</th>\n      <th>existingchecking_A13</th>\n      <th>...</th>\n      <th>housing_A153</th>\n      <th>job_A171</th>\n      <th>job_A172</th>\n      <th>job_A173</th>\n      <th>job_A174</th>\n      <th>telephone_A191</th>\n      <th>telephone_A192</th>\n      <th>foreignworker_A201</th>\n      <th>foreignworker_A202</th>\n      <th>NaN</th>\n    </tr>\n  </thead>\n  <tbody>\n    <tr>\n      <th>97</th>\n      <td>8</td>\n      <td>1038</td>\n      <td>1</td>\n      <td>1</td>\n      <td>22</td>\n      <td>1</td>\n      <td>1</td>\n      <td>1</td>\n      <td>0</td>\n      <td>0</td>\n      <td>...</td>\n      <td>0</td>\n      <td>0</td>\n      <td>1</td>\n      <td>0</td>\n      <td>0</td>\n      <td>0</td>\n      <td>1</td>\n      <td>1</td>\n      <td>1</td>\n      <td>1.0</td>\n    </tr>\n    <tr>\n      <th>94</th>\n      <td>8</td>\n      <td>1082</td>\n      <td>1</td>\n      <td>1</td>\n      <td>22</td>\n      <td>1</td>\n      <td>1</td>\n      <td>1</td>\n      <td>1</td>\n      <td>1</td>\n      <td>...</td>\n      <td>1</td>\n      <td>1</td>\n      <td>1</td>\n      <td>1</td>\n      <td>1</td>\n      <td>0</td>\n      <td>1</td>\n      <td>0</td>\n      <td>1</td>\n      <td>0.0</td>\n    </tr>\n    <tr>\n      <th>44</th>\n      <td>8</td>\n      <td>1086</td>\n      <td>1</td>\n      <td>1</td>\n      <td>22</td>\n      <td>1</td>\n      <td>1</td>\n      <td>1</td>\n      <td>1</td>\n      <td>0</td>\n      <td>...</td>\n      <td>0</td>\n      <td>0</td>\n      <td>0</td>\n      <td>0</td>\n      <td>0</td>\n      <td>0</td>\n      <td>1</td>\n      <td>0</td>\n      <td>0</td>\n      <td>0.0</td>\n    </tr>\n    <tr>\n      <th>42</th>\n      <td>8</td>\n      <td>1126</td>\n      <td>1</td>\n      <td>1</td>\n      <td>22</td>\n      <td>1</td>\n      <td>1</td>\n      <td>1</td>\n      <td>0</td>\n      <td>0</td>\n      <td>...</td>\n      <td>0</td>\n      <td>1</td>\n      <td>1</td>\n      <td>0</td>\n      <td>0</td>\n      <td>0</td>\n      <td>1</td>\n      <td>0</td>\n      <td>0</td>\n      <td>1.0</td>\n    </tr>\n    <tr>\n      <th>3</th>\n      <td>8</td>\n      <td>1085</td>\n      <td>1</td>\n      <td>1</td>\n      <td>22</td>\n      <td>1</td>\n      <td>1</td>\n      <td>0</td>\n      <td>1</td>\n      <td>1</td>\n      <td>...</td>\n      <td>0</td>\n      <td>0</td>\n      <td>1</td>\n      <td>0</td>\n      <td>1</td>\n      <td>0</td>\n      <td>0</td>\n      <td>1</td>\n      <td>0</td>\n      <td>0.0</td>\n    </tr>\n    <tr>\n      <th>124</th>\n      <td>8</td>\n      <td>1084</td>\n      <td>1</td>\n      <td>1</td>\n      <td>22</td>\n      <td>1</td>\n      <td>1</td>\n      <td>1</td>\n      <td>0</td>\n      <td>1</td>\n      <td>...</td>\n      <td>1</td>\n      <td>0</td>\n      <td>0</td>\n      <td>0</td>\n      <td>0</td>\n      <td>0</td>\n      <td>1</td>\n      <td>1</td>\n      <td>1</td>\n      <td>0.0</td>\n    </tr>\n    <tr>\n      <th>2</th>\n      <td>8</td>\n      <td>1083</td>\n      <td>1</td>\n      <td>1</td>\n      <td>22</td>\n      <td>1</td>\n      <td>1</td>\n      <td>1</td>\n      <td>0</td>\n      <td>1</td>\n      <td>...</td>\n      <td>0</td>\n      <td>0</td>\n      <td>1</td>\n      <td>1</td>\n      <td>0</td>\n      <td>0</td>\n      <td>0</td>\n      <td>1</td>\n      <td>0</td>\n      <td>0.0</td>\n    </tr>\n    <tr>\n      <th>23</th>\n      <td>8</td>\n      <td>1078</td>\n      <td>1</td>\n      <td>1</td>\n      <td>22</td>\n      <td>1</td>\n      <td>1</td>\n      <td>1</td>\n      <td>1</td>\n      <td>1</td>\n      <td>...</td>\n      <td>1</td>\n      <td>1</td>\n      <td>0</td>\n      <td>1</td>\n      <td>0</td>\n      <td>0</td>\n      <td>1</td>\n      <td>1</td>\n      <td>0</td>\n      <td>0.0</td>\n    </tr>\n    <tr>\n      <th>45</th>\n      <td>8</td>\n      <td>1119</td>\n      <td>1</td>\n      <td>1</td>\n      <td>22</td>\n      <td>1</td>\n      <td>1</td>\n      <td>1</td>\n      <td>1</td>\n      <td>0</td>\n      <td>...</td>\n      <td>0</td>\n      <td>1</td>\n      <td>0</td>\n      <td>1</td>\n      <td>1</td>\n      <td>0</td>\n      <td>1</td>\n      <td>0</td>\n      <td>0</td>\n      <td>1.0</td>\n    </tr>\n    <tr>\n      <th>84</th>\n      <td>8</td>\n      <td>1100</td>\n      <td>1</td>\n      <td>1</td>\n      <td>22</td>\n      <td>1</td>\n      <td>1</td>\n      <td>1</td>\n      <td>0</td>\n      <td>1</td>\n      <td>...</td>\n      <td>0</td>\n      <td>1</td>\n      <td>0</td>\n      <td>1</td>\n      <td>1</td>\n      <td>1</td>\n      <td>1</td>\n      <td>1</td>\n      <td>0</td>\n      <td>1.0</td>\n    </tr>\n  </tbody>\n</table>\n<p>10 rows × 62 columns</p>\n</div>"
     },
     "execution_count": 51,
     "metadata": {},
     "output_type": "execute_result"
    }
   ],
   "source": [
    "pd.concat([generated_df_class_false, generated_df_class_true]).sample(10)"
   ],
   "metadata": {
    "collapsed": false,
    "pycharm": {
     "name": "#%%\n"
    }
   }
  },
  {
   "cell_type": "code",
   "execution_count": 41,
   "outputs": [
    {
     "data": {
      "text/plain": "       duration  creditamount  installmentrate  residencesince    age  \\\ncount     128.0    128.000000            128.0           128.0  128.0   \nmean        8.0   1101.078125              1.0             1.0   22.0   \nstd         0.0     27.126885              0.0             0.0    0.0   \nmin         8.0   1043.000000              1.0             1.0   22.0   \n25%         8.0   1081.750000              1.0             1.0   22.0   \n50%         8.0   1102.000000              1.0             1.0   22.0   \n75%         8.0   1118.000000              1.0             1.0   22.0   \nmax         8.0   1174.000000              1.0             1.0   22.0   \n\n       existingcredits  peopleliable  existingchecking_A11  \\\ncount            128.0         128.0            128.000000   \nmean               1.0           1.0              0.539062   \nstd                0.0           0.0              0.500430   \nmin                1.0           1.0              0.000000   \n25%                1.0           1.0              0.000000   \n50%                1.0           1.0              1.000000   \n75%                1.0           1.0              1.000000   \nmax                1.0           1.0              1.000000   \n\n       existingchecking_A12  existingchecking_A13  ...  housing_A153  \\\ncount            128.000000            128.000000  ...    128.000000   \nmean               0.445312              0.562500  ...      0.531250   \nstd                0.498953              0.498028  ...      0.500983   \nmin                0.000000              0.000000  ...      0.000000   \n25%                0.000000              0.000000  ...      0.000000   \n50%                0.000000              1.000000  ...      1.000000   \n75%                1.000000              1.000000  ...      1.000000   \nmax                1.000000              1.000000  ...      1.000000   \n\n         job_A171    job_A172    job_A173    job_A174  telephone_A191  \\\ncount  128.000000  128.000000  128.000000  128.000000      128.000000   \nmean     0.468750    0.445312    0.476562    0.570312        0.406250   \nstd      0.500983    0.498953    0.501413    0.496977        0.493062   \nmin      0.000000    0.000000    0.000000    0.000000        0.000000   \n25%      0.000000    0.000000    0.000000    0.000000        0.000000   \n50%      0.000000    0.000000    0.000000    1.000000        0.000000   \n75%      1.000000    1.000000    1.000000    1.000000        1.000000   \nmax      1.000000    1.000000    1.000000    1.000000        1.000000   \n\n       telephone_A192  foreignworker_A201  foreignworker_A202    NaN  \ncount      128.000000          128.000000          128.000000  128.0  \nmean         0.484375            0.515625            0.484375    1.0  \nstd          0.501719            0.501719            0.501719    0.0  \nmin          0.000000            0.000000            0.000000    1.0  \n25%          0.000000            0.000000            0.000000    1.0  \n50%          0.000000            1.000000            0.000000    1.0  \n75%          1.000000            1.000000            1.000000    1.0  \nmax          1.000000            1.000000            1.000000    1.0  \n\n[8 rows x 62 columns]",
      "text/html": "<div>\n<style scoped>\n    .dataframe tbody tr th:only-of-type {\n        vertical-align: middle;\n    }\n\n    .dataframe tbody tr th {\n        vertical-align: top;\n    }\n\n    .dataframe thead th {\n        text-align: right;\n    }\n</style>\n<table border=\"1\" class=\"dataframe\">\n  <thead>\n    <tr style=\"text-align: right;\">\n      <th></th>\n      <th>duration</th>\n      <th>creditamount</th>\n      <th>installmentrate</th>\n      <th>residencesince</th>\n      <th>age</th>\n      <th>existingcredits</th>\n      <th>peopleliable</th>\n      <th>existingchecking_A11</th>\n      <th>existingchecking_A12</th>\n      <th>existingchecking_A13</th>\n      <th>...</th>\n      <th>housing_A153</th>\n      <th>job_A171</th>\n      <th>job_A172</th>\n      <th>job_A173</th>\n      <th>job_A174</th>\n      <th>telephone_A191</th>\n      <th>telephone_A192</th>\n      <th>foreignworker_A201</th>\n      <th>foreignworker_A202</th>\n      <th>NaN</th>\n    </tr>\n  </thead>\n  <tbody>\n    <tr>\n      <th>count</th>\n      <td>128.0</td>\n      <td>128.000000</td>\n      <td>128.0</td>\n      <td>128.0</td>\n      <td>128.0</td>\n      <td>128.0</td>\n      <td>128.0</td>\n      <td>128.000000</td>\n      <td>128.000000</td>\n      <td>128.000000</td>\n      <td>...</td>\n      <td>128.000000</td>\n      <td>128.000000</td>\n      <td>128.000000</td>\n      <td>128.000000</td>\n      <td>128.000000</td>\n      <td>128.000000</td>\n      <td>128.000000</td>\n      <td>128.000000</td>\n      <td>128.000000</td>\n      <td>128.0</td>\n    </tr>\n    <tr>\n      <th>mean</th>\n      <td>8.0</td>\n      <td>1101.078125</td>\n      <td>1.0</td>\n      <td>1.0</td>\n      <td>22.0</td>\n      <td>1.0</td>\n      <td>1.0</td>\n      <td>0.539062</td>\n      <td>0.445312</td>\n      <td>0.562500</td>\n      <td>...</td>\n      <td>0.531250</td>\n      <td>0.468750</td>\n      <td>0.445312</td>\n      <td>0.476562</td>\n      <td>0.570312</td>\n      <td>0.406250</td>\n      <td>0.484375</td>\n      <td>0.515625</td>\n      <td>0.484375</td>\n      <td>1.0</td>\n    </tr>\n    <tr>\n      <th>std</th>\n      <td>0.0</td>\n      <td>27.126885</td>\n      <td>0.0</td>\n      <td>0.0</td>\n      <td>0.0</td>\n      <td>0.0</td>\n      <td>0.0</td>\n      <td>0.500430</td>\n      <td>0.498953</td>\n      <td>0.498028</td>\n      <td>...</td>\n      <td>0.500983</td>\n      <td>0.500983</td>\n      <td>0.498953</td>\n      <td>0.501413</td>\n      <td>0.496977</td>\n      <td>0.493062</td>\n      <td>0.501719</td>\n      <td>0.501719</td>\n      <td>0.501719</td>\n      <td>0.0</td>\n    </tr>\n    <tr>\n      <th>min</th>\n      <td>8.0</td>\n      <td>1043.000000</td>\n      <td>1.0</td>\n      <td>1.0</td>\n      <td>22.0</td>\n      <td>1.0</td>\n      <td>1.0</td>\n      <td>0.000000</td>\n      <td>0.000000</td>\n      <td>0.000000</td>\n      <td>...</td>\n      <td>0.000000</td>\n      <td>0.000000</td>\n      <td>0.000000</td>\n      <td>0.000000</td>\n      <td>0.000000</td>\n      <td>0.000000</td>\n      <td>0.000000</td>\n      <td>0.000000</td>\n      <td>0.000000</td>\n      <td>1.0</td>\n    </tr>\n    <tr>\n      <th>25%</th>\n      <td>8.0</td>\n      <td>1081.750000</td>\n      <td>1.0</td>\n      <td>1.0</td>\n      <td>22.0</td>\n      <td>1.0</td>\n      <td>1.0</td>\n      <td>0.000000</td>\n      <td>0.000000</td>\n      <td>0.000000</td>\n      <td>...</td>\n      <td>0.000000</td>\n      <td>0.000000</td>\n      <td>0.000000</td>\n      <td>0.000000</td>\n      <td>0.000000</td>\n      <td>0.000000</td>\n      <td>0.000000</td>\n      <td>0.000000</td>\n      <td>0.000000</td>\n      <td>1.0</td>\n    </tr>\n    <tr>\n      <th>50%</th>\n      <td>8.0</td>\n      <td>1102.000000</td>\n      <td>1.0</td>\n      <td>1.0</td>\n      <td>22.0</td>\n      <td>1.0</td>\n      <td>1.0</td>\n      <td>1.000000</td>\n      <td>0.000000</td>\n      <td>1.000000</td>\n      <td>...</td>\n      <td>1.000000</td>\n      <td>0.000000</td>\n      <td>0.000000</td>\n      <td>0.000000</td>\n      <td>1.000000</td>\n      <td>0.000000</td>\n      <td>0.000000</td>\n      <td>1.000000</td>\n      <td>0.000000</td>\n      <td>1.0</td>\n    </tr>\n    <tr>\n      <th>75%</th>\n      <td>8.0</td>\n      <td>1118.000000</td>\n      <td>1.0</td>\n      <td>1.0</td>\n      <td>22.0</td>\n      <td>1.0</td>\n      <td>1.0</td>\n      <td>1.000000</td>\n      <td>1.000000</td>\n      <td>1.000000</td>\n      <td>...</td>\n      <td>1.000000</td>\n      <td>1.000000</td>\n      <td>1.000000</td>\n      <td>1.000000</td>\n      <td>1.000000</td>\n      <td>1.000000</td>\n      <td>1.000000</td>\n      <td>1.000000</td>\n      <td>1.000000</td>\n      <td>1.0</td>\n    </tr>\n    <tr>\n      <th>max</th>\n      <td>8.0</td>\n      <td>1174.000000</td>\n      <td>1.0</td>\n      <td>1.0</td>\n      <td>22.0</td>\n      <td>1.0</td>\n      <td>1.0</td>\n      <td>1.000000</td>\n      <td>1.000000</td>\n      <td>1.000000</td>\n      <td>...</td>\n      <td>1.000000</td>\n      <td>1.000000</td>\n      <td>1.000000</td>\n      <td>1.000000</td>\n      <td>1.000000</td>\n      <td>1.000000</td>\n      <td>1.000000</td>\n      <td>1.000000</td>\n      <td>1.000000</td>\n      <td>1.0</td>\n    </tr>\n  </tbody>\n</table>\n<p>8 rows × 62 columns</p>\n</div>"
     },
     "execution_count": 41,
     "metadata": {},
     "output_type": "execute_result"
    }
   ],
   "source": [
    "generated_df_class_true.describe()"
   ],
   "metadata": {
    "collapsed": false,
    "pycharm": {
     "name": "#%%\n"
    }
   }
  },
  {
   "cell_type": "code",
   "execution_count": 22,
   "outputs": [
    {
     "data": {
      "text/plain": "         duration  creditamount  installmentrate  residencesince         age  \\\ncount  300.000000    300.000000       300.000000      300.000000  300.000000   \nmean    24.860000   3938.126667         3.096667        2.850000   33.963333   \nstd     13.282639   3535.818955         1.088395        1.094605   11.222379   \nmin      6.000000    433.000000         1.000000        1.000000   19.000000   \n25%     12.000000   1352.500000         2.000000        2.000000   25.000000   \n50%     24.000000   2574.500000         4.000000        3.000000   31.000000   \n75%     36.000000   5141.500000         4.000000        4.000000   40.000000   \nmax     72.000000  18424.000000         4.000000        4.000000   74.000000   \n\n       existingcredits  peopleliable  classification  existingchecking_A11  \\\ncount       300.000000    300.000000           300.0            300.000000   \nmean          1.366667      1.153333             1.0              0.450000   \nstd           0.559702      0.360911             0.0              0.498325   \nmin           1.000000      1.000000             1.0              0.000000   \n25%           1.000000      1.000000             1.0              0.000000   \n50%           1.000000      1.000000             1.0              0.000000   \n75%           2.000000      1.000000             1.0              1.000000   \nmax           4.000000      2.000000             1.0              1.000000   \n\n       existingchecking_A12  ...  housing_A152  housing_A153    job_A171  \\\ncount            300.000000  ...    300.000000    300.000000  300.000000   \nmean               0.350000  ...      0.620000      0.146667    0.023333   \nstd                0.477767  ...      0.486197      0.354364    0.151212   \nmin                0.000000  ...      0.000000      0.000000    0.000000   \n25%                0.000000  ...      0.000000      0.000000    0.000000   \n50%                0.000000  ...      1.000000      0.000000    0.000000   \n75%                1.000000  ...      1.000000      0.000000    0.000000   \nmax                1.000000  ...      1.000000      1.000000    1.000000   \n\n         job_A172    job_A173   job_A174  telephone_A191  telephone_A192  \\\ncount  300.000000  300.000000  300.00000      300.000000      300.000000   \nmean     0.186667    0.620000    0.17000        0.623333        0.376667   \nstd      0.390295    0.486197    0.37626        0.485360        0.485360   \nmin      0.000000    0.000000    0.00000        0.000000        0.000000   \n25%      0.000000    0.000000    0.00000        0.000000        0.000000   \n50%      0.000000    1.000000    0.00000        1.000000        0.000000   \n75%      0.000000    1.000000    0.00000        1.000000        1.000000   \nmax      1.000000    1.000000    1.00000        1.000000        1.000000   \n\n       foreignworker_A201  foreignworker_A202  \ncount          300.000000          300.000000  \nmean             0.986667            0.013333  \nstd              0.114889            0.114889  \nmin              0.000000            0.000000  \n25%              1.000000            0.000000  \n50%              1.000000            0.000000  \n75%              1.000000            0.000000  \nmax              1.000000            1.000000  \n\n[8 rows x 62 columns]",
      "text/html": "<div>\n<style scoped>\n    .dataframe tbody tr th:only-of-type {\n        vertical-align: middle;\n    }\n\n    .dataframe tbody tr th {\n        vertical-align: top;\n    }\n\n    .dataframe thead th {\n        text-align: right;\n    }\n</style>\n<table border=\"1\" class=\"dataframe\">\n  <thead>\n    <tr style=\"text-align: right;\">\n      <th></th>\n      <th>duration</th>\n      <th>creditamount</th>\n      <th>installmentrate</th>\n      <th>residencesince</th>\n      <th>age</th>\n      <th>existingcredits</th>\n      <th>peopleliable</th>\n      <th>classification</th>\n      <th>existingchecking_A11</th>\n      <th>existingchecking_A12</th>\n      <th>...</th>\n      <th>housing_A152</th>\n      <th>housing_A153</th>\n      <th>job_A171</th>\n      <th>job_A172</th>\n      <th>job_A173</th>\n      <th>job_A174</th>\n      <th>telephone_A191</th>\n      <th>telephone_A192</th>\n      <th>foreignworker_A201</th>\n      <th>foreignworker_A202</th>\n    </tr>\n  </thead>\n  <tbody>\n    <tr>\n      <th>count</th>\n      <td>300.000000</td>\n      <td>300.000000</td>\n      <td>300.000000</td>\n      <td>300.000000</td>\n      <td>300.000000</td>\n      <td>300.000000</td>\n      <td>300.000000</td>\n      <td>300.0</td>\n      <td>300.000000</td>\n      <td>300.000000</td>\n      <td>...</td>\n      <td>300.000000</td>\n      <td>300.000000</td>\n      <td>300.000000</td>\n      <td>300.000000</td>\n      <td>300.000000</td>\n      <td>300.00000</td>\n      <td>300.000000</td>\n      <td>300.000000</td>\n      <td>300.000000</td>\n      <td>300.000000</td>\n    </tr>\n    <tr>\n      <th>mean</th>\n      <td>24.860000</td>\n      <td>3938.126667</td>\n      <td>3.096667</td>\n      <td>2.850000</td>\n      <td>33.963333</td>\n      <td>1.366667</td>\n      <td>1.153333</td>\n      <td>1.0</td>\n      <td>0.450000</td>\n      <td>0.350000</td>\n      <td>...</td>\n      <td>0.620000</td>\n      <td>0.146667</td>\n      <td>0.023333</td>\n      <td>0.186667</td>\n      <td>0.620000</td>\n      <td>0.17000</td>\n      <td>0.623333</td>\n      <td>0.376667</td>\n      <td>0.986667</td>\n      <td>0.013333</td>\n    </tr>\n    <tr>\n      <th>std</th>\n      <td>13.282639</td>\n      <td>3535.818955</td>\n      <td>1.088395</td>\n      <td>1.094605</td>\n      <td>11.222379</td>\n      <td>0.559702</td>\n      <td>0.360911</td>\n      <td>0.0</td>\n      <td>0.498325</td>\n      <td>0.477767</td>\n      <td>...</td>\n      <td>0.486197</td>\n      <td>0.354364</td>\n      <td>0.151212</td>\n      <td>0.390295</td>\n      <td>0.486197</td>\n      <td>0.37626</td>\n      <td>0.485360</td>\n      <td>0.485360</td>\n      <td>0.114889</td>\n      <td>0.114889</td>\n    </tr>\n    <tr>\n      <th>min</th>\n      <td>6.000000</td>\n      <td>433.000000</td>\n      <td>1.000000</td>\n      <td>1.000000</td>\n      <td>19.000000</td>\n      <td>1.000000</td>\n      <td>1.000000</td>\n      <td>1.0</td>\n      <td>0.000000</td>\n      <td>0.000000</td>\n      <td>...</td>\n      <td>0.000000</td>\n      <td>0.000000</td>\n      <td>0.000000</td>\n      <td>0.000000</td>\n      <td>0.000000</td>\n      <td>0.00000</td>\n      <td>0.000000</td>\n      <td>0.000000</td>\n      <td>0.000000</td>\n      <td>0.000000</td>\n    </tr>\n    <tr>\n      <th>25%</th>\n      <td>12.000000</td>\n      <td>1352.500000</td>\n      <td>2.000000</td>\n      <td>2.000000</td>\n      <td>25.000000</td>\n      <td>1.000000</td>\n      <td>1.000000</td>\n      <td>1.0</td>\n      <td>0.000000</td>\n      <td>0.000000</td>\n      <td>...</td>\n      <td>0.000000</td>\n      <td>0.000000</td>\n      <td>0.000000</td>\n      <td>0.000000</td>\n      <td>0.000000</td>\n      <td>0.00000</td>\n      <td>0.000000</td>\n      <td>0.000000</td>\n      <td>1.000000</td>\n      <td>0.000000</td>\n    </tr>\n    <tr>\n      <th>50%</th>\n      <td>24.000000</td>\n      <td>2574.500000</td>\n      <td>4.000000</td>\n      <td>3.000000</td>\n      <td>31.000000</td>\n      <td>1.000000</td>\n      <td>1.000000</td>\n      <td>1.0</td>\n      <td>0.000000</td>\n      <td>0.000000</td>\n      <td>...</td>\n      <td>1.000000</td>\n      <td>0.000000</td>\n      <td>0.000000</td>\n      <td>0.000000</td>\n      <td>1.000000</td>\n      <td>0.00000</td>\n      <td>1.000000</td>\n      <td>0.000000</td>\n      <td>1.000000</td>\n      <td>0.000000</td>\n    </tr>\n    <tr>\n      <th>75%</th>\n      <td>36.000000</td>\n      <td>5141.500000</td>\n      <td>4.000000</td>\n      <td>4.000000</td>\n      <td>40.000000</td>\n      <td>2.000000</td>\n      <td>1.000000</td>\n      <td>1.0</td>\n      <td>1.000000</td>\n      <td>1.000000</td>\n      <td>...</td>\n      <td>1.000000</td>\n      <td>0.000000</td>\n      <td>0.000000</td>\n      <td>0.000000</td>\n      <td>1.000000</td>\n      <td>0.00000</td>\n      <td>1.000000</td>\n      <td>1.000000</td>\n      <td>1.000000</td>\n      <td>0.000000</td>\n    </tr>\n    <tr>\n      <th>max</th>\n      <td>72.000000</td>\n      <td>18424.000000</td>\n      <td>4.000000</td>\n      <td>4.000000</td>\n      <td>74.000000</td>\n      <td>4.000000</td>\n      <td>2.000000</td>\n      <td>1.0</td>\n      <td>1.000000</td>\n      <td>1.000000</td>\n      <td>...</td>\n      <td>1.000000</td>\n      <td>1.000000</td>\n      <td>1.000000</td>\n      <td>1.000000</td>\n      <td>1.000000</td>\n      <td>1.00000</td>\n      <td>1.000000</td>\n      <td>1.000000</td>\n      <td>1.000000</td>\n      <td>1.000000</td>\n    </tr>\n  </tbody>\n</table>\n<p>8 rows × 62 columns</p>\n</div>"
     },
     "execution_count": 22,
     "metadata": {},
     "output_type": "execute_result"
    }
   ],
   "source": [
    "real_df_class_true = df[df[label_col]==1]#.sample(128)\n",
    "real_df_class_true.describe()"
   ],
   "metadata": {
    "collapsed": false,
    "pycharm": {
     "name": "#%%\n"
    }
   }
  },
  {
   "cell_type": "code",
   "execution_count": 18,
   "outputs": [
    {
     "data": {
      "text/plain": "         duration  creditamount  installmentrate  residencesince         age  \\\ncount  128.000000    128.000000       128.000000      128.000000  128.000000   \nmean    20.062500   2831.937500         2.968750        2.890625   36.507812   \nstd     10.979401   2346.876379         1.107864        1.081224   11.478152   \nmin      4.000000    250.000000         1.000000        1.000000   20.000000   \n25%     12.000000   1436.250000         2.000000        2.000000   27.750000   \n50%     18.000000   2227.500000         3.000000        3.000000   35.000000   \n75%     24.000000   3390.500000         4.000000        4.000000   40.250000   \nmax     60.000000  13756.000000         4.000000        4.000000   74.000000   \n\n       existingcredits  peopleliable  classification  existingchecking_A11  \\\ncount       128.000000    128.000000           128.0            128.000000   \nmean          1.484375      1.140625             0.0              0.203125   \nstd           0.651882      0.349000             0.0              0.403906   \nmin           1.000000      1.000000             0.0              0.000000   \n25%           1.000000      1.000000             0.0              0.000000   \n50%           1.000000      1.000000             0.0              0.000000   \n75%           2.000000      1.000000             0.0              0.000000   \nmax           4.000000      2.000000             0.0              1.000000   \n\n       existingchecking_A12  ...  housing_A152  housing_A153    job_A171  \\\ncount            128.000000  ...    128.000000    128.000000  128.000000   \nmean               0.257812  ...      0.796875      0.070312    0.039062   \nstd                0.439149  ...      0.403906      0.256678    0.194505   \nmin                0.000000  ...      0.000000      0.000000    0.000000   \n25%                0.000000  ...      1.000000      0.000000    0.000000   \n50%                0.000000  ...      1.000000      0.000000    0.000000   \n75%                1.000000  ...      1.000000      0.000000    0.000000   \nmax                1.000000  ...      1.000000      1.000000    1.000000   \n\n         job_A172    job_A173    job_A174  telephone_A191  telephone_A192  \\\ncount  128.000000  128.000000  128.000000      128.000000      128.000000   \nmean     0.140625    0.664062    0.156250        0.585938        0.414062   \nstd      0.349000    0.474173    0.364519        0.494495        0.494495   \nmin      0.000000    0.000000    0.000000        0.000000        0.000000   \n25%      0.000000    0.000000    0.000000        0.000000        0.000000   \n50%      0.000000    1.000000    0.000000        1.000000        0.000000   \n75%      0.000000    1.000000    0.000000        1.000000        1.000000   \nmax      1.000000    1.000000    1.000000        1.000000        1.000000   \n\n       foreignworker_A201  foreignworker_A202  \ncount          128.000000          128.000000  \nmean             0.945312            0.054688  \nstd              0.228263            0.228263  \nmin              0.000000            0.000000  \n25%              1.000000            0.000000  \n50%              1.000000            0.000000  \n75%              1.000000            0.000000  \nmax              1.000000            1.000000  \n\n[8 rows x 62 columns]",
      "text/html": "<div>\n<style scoped>\n    .dataframe tbody tr th:only-of-type {\n        vertical-align: middle;\n    }\n\n    .dataframe tbody tr th {\n        vertical-align: top;\n    }\n\n    .dataframe thead th {\n        text-align: right;\n    }\n</style>\n<table border=\"1\" class=\"dataframe\">\n  <thead>\n    <tr style=\"text-align: right;\">\n      <th></th>\n      <th>duration</th>\n      <th>creditamount</th>\n      <th>installmentrate</th>\n      <th>residencesince</th>\n      <th>age</th>\n      <th>existingcredits</th>\n      <th>peopleliable</th>\n      <th>classification</th>\n      <th>existingchecking_A11</th>\n      <th>existingchecking_A12</th>\n      <th>...</th>\n      <th>housing_A152</th>\n      <th>housing_A153</th>\n      <th>job_A171</th>\n      <th>job_A172</th>\n      <th>job_A173</th>\n      <th>job_A174</th>\n      <th>telephone_A191</th>\n      <th>telephone_A192</th>\n      <th>foreignworker_A201</th>\n      <th>foreignworker_A202</th>\n    </tr>\n  </thead>\n  <tbody>\n    <tr>\n      <th>count</th>\n      <td>128.000000</td>\n      <td>128.000000</td>\n      <td>128.000000</td>\n      <td>128.000000</td>\n      <td>128.000000</td>\n      <td>128.000000</td>\n      <td>128.000000</td>\n      <td>128.0</td>\n      <td>128.000000</td>\n      <td>128.000000</td>\n      <td>...</td>\n      <td>128.000000</td>\n      <td>128.000000</td>\n      <td>128.000000</td>\n      <td>128.000000</td>\n      <td>128.000000</td>\n      <td>128.000000</td>\n      <td>128.000000</td>\n      <td>128.000000</td>\n      <td>128.000000</td>\n      <td>128.000000</td>\n    </tr>\n    <tr>\n      <th>mean</th>\n      <td>20.062500</td>\n      <td>2831.937500</td>\n      <td>2.968750</td>\n      <td>2.890625</td>\n      <td>36.507812</td>\n      <td>1.484375</td>\n      <td>1.140625</td>\n      <td>0.0</td>\n      <td>0.203125</td>\n      <td>0.257812</td>\n      <td>...</td>\n      <td>0.796875</td>\n      <td>0.070312</td>\n      <td>0.039062</td>\n      <td>0.140625</td>\n      <td>0.664062</td>\n      <td>0.156250</td>\n      <td>0.585938</td>\n      <td>0.414062</td>\n      <td>0.945312</td>\n      <td>0.054688</td>\n    </tr>\n    <tr>\n      <th>std</th>\n      <td>10.979401</td>\n      <td>2346.876379</td>\n      <td>1.107864</td>\n      <td>1.081224</td>\n      <td>11.478152</td>\n      <td>0.651882</td>\n      <td>0.349000</td>\n      <td>0.0</td>\n      <td>0.403906</td>\n      <td>0.439149</td>\n      <td>...</td>\n      <td>0.403906</td>\n      <td>0.256678</td>\n      <td>0.194505</td>\n      <td>0.349000</td>\n      <td>0.474173</td>\n      <td>0.364519</td>\n      <td>0.494495</td>\n      <td>0.494495</td>\n      <td>0.228263</td>\n      <td>0.228263</td>\n    </tr>\n    <tr>\n      <th>min</th>\n      <td>4.000000</td>\n      <td>250.000000</td>\n      <td>1.000000</td>\n      <td>1.000000</td>\n      <td>20.000000</td>\n      <td>1.000000</td>\n      <td>1.000000</td>\n      <td>0.0</td>\n      <td>0.000000</td>\n      <td>0.000000</td>\n      <td>...</td>\n      <td>0.000000</td>\n      <td>0.000000</td>\n      <td>0.000000</td>\n      <td>0.000000</td>\n      <td>0.000000</td>\n      <td>0.000000</td>\n      <td>0.000000</td>\n      <td>0.000000</td>\n      <td>0.000000</td>\n      <td>0.000000</td>\n    </tr>\n    <tr>\n      <th>25%</th>\n      <td>12.000000</td>\n      <td>1436.250000</td>\n      <td>2.000000</td>\n      <td>2.000000</td>\n      <td>27.750000</td>\n      <td>1.000000</td>\n      <td>1.000000</td>\n      <td>0.0</td>\n      <td>0.000000</td>\n      <td>0.000000</td>\n      <td>...</td>\n      <td>1.000000</td>\n      <td>0.000000</td>\n      <td>0.000000</td>\n      <td>0.000000</td>\n      <td>0.000000</td>\n      <td>0.000000</td>\n      <td>0.000000</td>\n      <td>0.000000</td>\n      <td>1.000000</td>\n      <td>0.000000</td>\n    </tr>\n    <tr>\n      <th>50%</th>\n      <td>18.000000</td>\n      <td>2227.500000</td>\n      <td>3.000000</td>\n      <td>3.000000</td>\n      <td>35.000000</td>\n      <td>1.000000</td>\n      <td>1.000000</td>\n      <td>0.0</td>\n      <td>0.000000</td>\n      <td>0.000000</td>\n      <td>...</td>\n      <td>1.000000</td>\n      <td>0.000000</td>\n      <td>0.000000</td>\n      <td>0.000000</td>\n      <td>1.000000</td>\n      <td>0.000000</td>\n      <td>1.000000</td>\n      <td>0.000000</td>\n      <td>1.000000</td>\n      <td>0.000000</td>\n    </tr>\n    <tr>\n      <th>75%</th>\n      <td>24.000000</td>\n      <td>3390.500000</td>\n      <td>4.000000</td>\n      <td>4.000000</td>\n      <td>40.250000</td>\n      <td>2.000000</td>\n      <td>1.000000</td>\n      <td>0.0</td>\n      <td>0.000000</td>\n      <td>1.000000</td>\n      <td>...</td>\n      <td>1.000000</td>\n      <td>0.000000</td>\n      <td>0.000000</td>\n      <td>0.000000</td>\n      <td>1.000000</td>\n      <td>0.000000</td>\n      <td>1.000000</td>\n      <td>1.000000</td>\n      <td>1.000000</td>\n      <td>0.000000</td>\n    </tr>\n    <tr>\n      <th>max</th>\n      <td>60.000000</td>\n      <td>13756.000000</td>\n      <td>4.000000</td>\n      <td>4.000000</td>\n      <td>74.000000</td>\n      <td>4.000000</td>\n      <td>2.000000</td>\n      <td>0.0</td>\n      <td>1.000000</td>\n      <td>1.000000</td>\n      <td>...</td>\n      <td>1.000000</td>\n      <td>1.000000</td>\n      <td>1.000000</td>\n      <td>1.000000</td>\n      <td>1.000000</td>\n      <td>1.000000</td>\n      <td>1.000000</td>\n      <td>1.000000</td>\n      <td>1.000000</td>\n      <td>1.000000</td>\n    </tr>\n  </tbody>\n</table>\n<p>8 rows × 62 columns</p>\n</div>"
     },
     "execution_count": 18,
     "metadata": {},
     "output_type": "execute_result"
    }
   ],
   "source": [
    "real_df_class_false = df[df[label_col]==0].sample(128)\n",
    "real_df_class_false.describe()"
   ],
   "metadata": {
    "collapsed": false,
    "pycharm": {
     "name": "#%%\n"
    }
   }
  },
  {
   "cell_type": "code",
   "execution_count": null,
   "metadata": {
    "id": "S14gv_faB_M8"
   },
   "outputs": [],
   "source": [
    "gan_generator = GANDataGenerator(dataset=origin_dataset, model_class=CGAN, trained_model_path=)"
   ]
  }
 ],
 "metadata": {
  "colab": {
   "collapsed_sections": [],
   "name": "generative_model_training.ipynb",
   "provenance": []
  },
  "kernelspec": {
   "display_name": "Python 3 (ipykernel)",
   "language": "python",
   "name": "python3"
  },
  "language_info": {
   "codemirror_mode": {
    "name": "ipython",
    "version": 3
   },
   "file_extension": ".py",
   "mimetype": "text/x-python",
   "name": "python",
   "nbconvert_exporter": "python",
   "pygments_lexer": "ipython3",
   "version": "3.8.12"
  }
 },
 "nbformat": 4,
 "nbformat_minor": 1
}