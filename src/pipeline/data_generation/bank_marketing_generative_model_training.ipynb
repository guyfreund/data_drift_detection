{
 "cells": [
  {
   "cell_type": "markdown",
   "source": [
    "# Bank Marketing Dataset"
   ],
   "metadata": {
    "collapsed": false,
    "pycharm": {
     "name": "#%% md\n"
    }
   }
  },
  {
   "cell_type": "markdown",
   "source": [
    "# CGAN Training for synthesize datasets\n",
    "\n",
    "\n",
    "CGAN: A conditional generative adversarial network (CGAN) is a type of GAN that also takes advantage of labels during the training process. Generator — Given a label and random array as input, this network generates data with the same structure as the training data observations corresponding to the same label.\n",
    "\n",
    "Then, we save the CGAN models for the data generation pipeline."
   ],
   "metadata": {
    "collapsed": false
   }
  },
  {
   "cell_type": "code",
   "execution_count": 138,
   "outputs": [],
   "source": [
    "# TODO\n",
    "# try also https://github.com/sdv-dev/CTGAN"
   ],
   "metadata": {
    "collapsed": false,
    "pycharm": {
     "name": "#%%\n"
    }
   }
  },
  {
   "cell_type": "markdown",
   "source": [
    "## Imports"
   ],
   "metadata": {
    "collapsed": false
   }
  },
  {
   "cell_type": "code",
   "execution_count": 1,
   "outputs": [
    {
     "name": "stderr",
     "output_type": "stream",
     "text": [
      "2021-12-23 22:22:12.648955: I tensorflow/stream_executor/platform/default/dso_loader.cc:49] Successfully opened dynamic library libcudart.so.10.1\n"
     ]
    }
   ],
   "source": [
    "import os\n",
    "import pandas as pd\n",
    "import numpy as np\n",
    "from ydata_synthetic.synthesizers.regular import CGAN\n",
    "from ydata_synthetic.synthesizers import ModelParameters, TrainParameters\n",
    "import matplotlib.pyplot as plt\n",
    "from sklearn.preprocessing import PowerTransformer\n",
    "from sklearn.pipeline import Pipeline\n",
    "from sklearn.compose import ColumnTransformer\n",
    "\n",
    "from src.pipeline.data_generation.data_generator import GANDataGenerator\n",
    "from src.pipeline.datasets.training_datasets import BankMarketingProcessedDataset\n",
    "from src.pipeline.model.paths import BANK_MARKETING_GEN_CGAN_MODEL_PATH\n"
   ],
   "metadata": {
    "collapsed": false,
    "pycharm": {
     "name": "#%%\n"
    }
   }
  },
  {
   "cell_type": "code",
   "execution_count": 2,
   "outputs": [],
   "source": [
    "from IPython.core.interactiveshell import InteractiveShell\n",
    "InteractiveShell.ast_node_interactivity = \"all\""
   ],
   "metadata": {
    "collapsed": false,
    "pycharm": {
     "name": "#%%\n"
    }
   }
  },
  {
   "cell_type": "markdown",
   "source": [
    "# Reading the Datasets"
   ],
   "metadata": {
    "collapsed": false
   }
  },
  {
   "cell_type": "markdown",
   "source": [
    "# Load Preprocessed Data"
   ],
   "metadata": {
    "collapsed": false
   }
  },
  {
   "cell_type": "markdown",
   "metadata": {
    "id": "g96nVpRYxWFy"
   },
   "source": [
    "# EDA and Preprocessing"
   ]
  },
  {
   "cell_type": "code",
   "execution_count": 65,
   "outputs": [
    {
     "name": "stdout",
     "output_type": "stream",
     "text": [
      "Bank Marketing dataset\n",
      "\n",
      "loading dataset\n"
     ]
    },
    {
     "data": {
      "text/plain": "   age  balance  day  duration  campaign  pdays  previous  y  job_admin.  \\\n0   30     1787   19        79         1     -1         0  0           0   \n1   33     4789   11       220         1    339         4  0           0   \n2   35     1350   16       185         1    330         1  0           0   \n3   30     1476    3       199         4     -1         0  0           0   \n4   59        0    5       226         1     -1         0  0           0   \n\n   job_blue-collar  ...  month_jun  month_mar  month_may  month_nov  \\\n0                0  ...          0          0          0          0   \n1                0  ...          0          0          1          0   \n2                0  ...          0          0          0          0   \n3                0  ...          1          0          0          0   \n4                1  ...          0          0          1          0   \n\n   month_oct  month_sep  poutcome_failure  poutcome_other  poutcome_success  \\\n0          1          0                 0               0                 0   \n1          0          0                 1               0                 0   \n2          0          0                 1               0                 0   \n3          0          0                 0               0                 0   \n4          0          0                 0               0                 0   \n\n   poutcome_unknown  \n0                 1  \n1                 0  \n2                 0  \n3                 1  \n4                 1  \n\n[5 rows x 52 columns]",
      "text/html": "<div>\n<style scoped>\n    .dataframe tbody tr th:only-of-type {\n        vertical-align: middle;\n    }\n\n    .dataframe tbody tr th {\n        vertical-align: top;\n    }\n\n    .dataframe thead th {\n        text-align: right;\n    }\n</style>\n<table border=\"1\" class=\"dataframe\">\n  <thead>\n    <tr style=\"text-align: right;\">\n      <th></th>\n      <th>age</th>\n      <th>balance</th>\n      <th>day</th>\n      <th>duration</th>\n      <th>campaign</th>\n      <th>pdays</th>\n      <th>previous</th>\n      <th>y</th>\n      <th>job_admin.</th>\n      <th>job_blue-collar</th>\n      <th>...</th>\n      <th>month_jun</th>\n      <th>month_mar</th>\n      <th>month_may</th>\n      <th>month_nov</th>\n      <th>month_oct</th>\n      <th>month_sep</th>\n      <th>poutcome_failure</th>\n      <th>poutcome_other</th>\n      <th>poutcome_success</th>\n      <th>poutcome_unknown</th>\n    </tr>\n  </thead>\n  <tbody>\n    <tr>\n      <th>0</th>\n      <td>30</td>\n      <td>1787</td>\n      <td>19</td>\n      <td>79</td>\n      <td>1</td>\n      <td>-1</td>\n      <td>0</td>\n      <td>0</td>\n      <td>0</td>\n      <td>0</td>\n      <td>...</td>\n      <td>0</td>\n      <td>0</td>\n      <td>0</td>\n      <td>0</td>\n      <td>1</td>\n      <td>0</td>\n      <td>0</td>\n      <td>0</td>\n      <td>0</td>\n      <td>1</td>\n    </tr>\n    <tr>\n      <th>1</th>\n      <td>33</td>\n      <td>4789</td>\n      <td>11</td>\n      <td>220</td>\n      <td>1</td>\n      <td>339</td>\n      <td>4</td>\n      <td>0</td>\n      <td>0</td>\n      <td>0</td>\n      <td>...</td>\n      <td>0</td>\n      <td>0</td>\n      <td>1</td>\n      <td>0</td>\n      <td>0</td>\n      <td>0</td>\n      <td>1</td>\n      <td>0</td>\n      <td>0</td>\n      <td>0</td>\n    </tr>\n    <tr>\n      <th>2</th>\n      <td>35</td>\n      <td>1350</td>\n      <td>16</td>\n      <td>185</td>\n      <td>1</td>\n      <td>330</td>\n      <td>1</td>\n      <td>0</td>\n      <td>0</td>\n      <td>0</td>\n      <td>...</td>\n      <td>0</td>\n      <td>0</td>\n      <td>0</td>\n      <td>0</td>\n      <td>0</td>\n      <td>0</td>\n      <td>1</td>\n      <td>0</td>\n      <td>0</td>\n      <td>0</td>\n    </tr>\n    <tr>\n      <th>3</th>\n      <td>30</td>\n      <td>1476</td>\n      <td>3</td>\n      <td>199</td>\n      <td>4</td>\n      <td>-1</td>\n      <td>0</td>\n      <td>0</td>\n      <td>0</td>\n      <td>0</td>\n      <td>...</td>\n      <td>1</td>\n      <td>0</td>\n      <td>0</td>\n      <td>0</td>\n      <td>0</td>\n      <td>0</td>\n      <td>0</td>\n      <td>0</td>\n      <td>0</td>\n      <td>1</td>\n    </tr>\n    <tr>\n      <th>4</th>\n      <td>59</td>\n      <td>0</td>\n      <td>5</td>\n      <td>226</td>\n      <td>1</td>\n      <td>-1</td>\n      <td>0</td>\n      <td>0</td>\n      <td>0</td>\n      <td>1</td>\n      <td>...</td>\n      <td>0</td>\n      <td>0</td>\n      <td>1</td>\n      <td>0</td>\n      <td>0</td>\n      <td>0</td>\n      <td>0</td>\n      <td>0</td>\n      <td>0</td>\n      <td>1</td>\n    </tr>\n  </tbody>\n</table>\n<p>5 rows × 52 columns</p>\n</div>"
     },
     "execution_count": 65,
     "metadata": {},
     "output_type": "execute_result"
    },
    {
     "data": {
      "text/plain": "(4521, 52)"
     },
     "execution_count": 65,
     "metadata": {},
     "output_type": "execute_result"
    },
    {
     "name": "stdout",
     "output_type": "stream",
     "text": [
      "Label columns name is: y. With 2 unique values.([0 1])\n"
     ]
    }
   ],
   "source": [
    "# init GANDataGenerator\n",
    "print('Bank Marketing dataset\\n')\n",
    "origin_dataset = BankMarketingProcessedDataset()\n",
    "\n",
    "df = origin_dataset.raw_df\n",
    "label_col = origin_dataset.label_column_name\n",
    "\n",
    "df.head()\n",
    "df.shape\n",
    "\n",
    "print(f'Label columns name is: {label_col}. With {df[label_col].nunique()} unique values.'\n",
    "      f'({df[label_col].unique()})')\n"
   ],
   "metadata": {
    "collapsed": false,
    "pycharm": {
     "name": "#%%\n"
    }
   }
  },
  {
   "cell_type": "code",
   "execution_count": 67,
   "metadata": {},
   "outputs": [],
   "source": [
    "train_sample = df.sample(4521)"
   ]
  },
  {
   "cell_type": "code",
   "execution_count": 70,
   "outputs": [],
   "source": [
    "cat_cols = [col for col in df.columns if any(cat_col for cat_col in origin_dataset.categorical_feature_names if cat_col + '_' in col)]\n",
    "numeric_cols = [col for col in df.columns if any(numeric_col for numeric_col in origin_dataset.numeric_feature_names if numeric_col in col)]\n",
    "\n",
    "numeric_cols.remove('job_management')\n",
    "\n",
    "# assert len(cat_cols)+len(numeric_cols) == len(df.columns)\n"
   ],
   "metadata": {
    "collapsed": false,
    "pycharm": {
     "name": "#%%\n"
    }
   }
  },
  {
   "cell_type": "markdown",
   "metadata": {},
   "source": [
    "# Init the GAN"
   ]
  },
  {
   "cell_type": "code",
   "execution_count": 74,
   "metadata": {
    "id": "avDWHsCKhMXS"
   },
   "outputs": [],
   "source": [
    "\n",
    "to_save = False\n",
    "\n",
    "#Define the Conditional GAN and training parameters\n",
    "\n",
    "noise_dim = 32\n",
    "dim = 128\n",
    "batch_size = 128\n",
    "beta_1 = 0.5\n",
    "beta_2 = 0.9\n",
    "\n",
    "log_step = 100\n",
    "epochs = 500 + 1\n",
    "learning_rate = 5e-4\n",
    "\n",
    "\n",
    "gan_args = ModelParameters(batch_size=batch_size,\n",
    "                           lr=learning_rate,\n",
    "                           betas=(beta_1, beta_2),\n",
    "                           noise_dim=noise_dim,\n",
    "                           n_cols=train_sample.shape[1] - 1,  # Don't count the label columns here\n",
    "                           layers_dim=dim)\n",
    "\n",
    "train_args = TrainParameters(epochs=epochs,\n",
    "                             cache_prefix='',\n",
    "                             sample_interval=log_step,\n",
    "                             label_dim=-1,\n",
    "                             labels=[0,1])\n",
    "\n",
    "num_classes = df[label_col].nunique()\n",
    "\n",
    "#Init the Conditional GAN providing the index of the label column as one of the arguments\n",
    "synthesizer = CGAN(model_parameters=gan_args, num_classes=num_classes)\n",
    "\n",
    "\n"
   ]
  },
  {
   "cell_type": "markdown",
   "metadata": {},
   "source": [
    "# Training\n"
   ]
  },
  {
   "cell_type": "code",
   "execution_count": 75,
   "metadata": {},
   "outputs": [
    {
     "name": "stderr",
     "output_type": "stream",
     "text": [
      "  0%|          | 0/301 [00:00<?, ?it/s]"
     ]
    },
    {
     "name": "stdout",
     "output_type": "stream",
     "text": [
      "0 [D loss: 0.036691, acc.: 100.00%] [G loss: 3.860453]\n"
     ]
    },
    {
     "name": "stderr",
     "output_type": "stream",
     "text": [
      "\n",
      "Synthetic data generation:   0%|          | 0/8 [00:00<?, ?it/s]\u001B[A\n",
      "Synthetic data generation:  38%|███▊      | 3/8 [00:00<00:00, 22.75it/s]\u001B[A\n",
      "Synthetic data generation: 100%|██████████| 8/8 [00:00<00:00, 22.97it/s]\u001B[A\n",
      "  1%|          | 2/301 [00:07<18:25,  3.70s/it]"
     ]
    },
    {
     "name": "stdout",
     "output_type": "stream",
     "text": [
      "1 [D loss: 0.000629, acc.: 100.00%] [G loss: 8.398649]\n"
     ]
    },
    {
     "name": "stderr",
     "output_type": "stream",
     "text": [
      "  1%|          | 3/301 [00:10<16:35,  3.34s/it]"
     ]
    },
    {
     "name": "stdout",
     "output_type": "stream",
     "text": [
      "2 [D loss: 0.000016, acc.: 100.00%] [G loss: 16.275906]\n"
     ]
    },
    {
     "name": "stderr",
     "output_type": "stream",
     "text": [
      "  1%|▏         | 4/301 [00:13<15:23,  3.11s/it]"
     ]
    },
    {
     "name": "stdout",
     "output_type": "stream",
     "text": [
      "3 [D loss: 0.000015, acc.: 100.00%] [G loss: 16.502548]\n"
     ]
    },
    {
     "name": "stderr",
     "output_type": "stream",
     "text": [
      "  2%|▏         | 5/301 [00:16<14:51,  3.01s/it]"
     ]
    },
    {
     "name": "stdout",
     "output_type": "stream",
     "text": [
      "4 [D loss: 0.000002, acc.: 100.00%] [G loss: 20.215670]\n"
     ]
    },
    {
     "name": "stderr",
     "output_type": "stream",
     "text": [
      "  2%|▏         | 6/301 [00:19<14:34,  2.96s/it]"
     ]
    },
    {
     "name": "stdout",
     "output_type": "stream",
     "text": [
      "5 [D loss: 0.000003, acc.: 100.00%] [G loss: 23.012604]\n"
     ]
    },
    {
     "name": "stderr",
     "output_type": "stream",
     "text": [
      "  2%|▏         | 7/301 [00:22<14:29,  2.96s/it]"
     ]
    },
    {
     "name": "stdout",
     "output_type": "stream",
     "text": [
      "6 [D loss: 0.000019, acc.: 100.00%] [G loss: 31.555435]\n"
     ]
    },
    {
     "name": "stderr",
     "output_type": "stream",
     "text": [
      "  3%|▎         | 8/301 [00:24<14:23,  2.95s/it]"
     ]
    },
    {
     "name": "stdout",
     "output_type": "stream",
     "text": [
      "7 [D loss: 0.000015, acc.: 100.00%] [G loss: 22.208426]\n"
     ]
    },
    {
     "name": "stderr",
     "output_type": "stream",
     "text": [
      "  3%|▎         | 9/301 [00:27<14:25,  2.96s/it]"
     ]
    },
    {
     "name": "stdout",
     "output_type": "stream",
     "text": [
      "8 [D loss: 0.000003, acc.: 100.00%] [G loss: 33.268051]\n"
     ]
    },
    {
     "name": "stderr",
     "output_type": "stream",
     "text": [
      "  3%|▎         | 10/301 [00:30<14:15,  2.94s/it]"
     ]
    },
    {
     "name": "stdout",
     "output_type": "stream",
     "text": [
      "9 [D loss: 0.000002, acc.: 100.00%] [G loss: 33.849106]\n"
     ]
    },
    {
     "name": "stderr",
     "output_type": "stream",
     "text": [
      "  4%|▎         | 11/301 [00:33<14:00,  2.90s/it]"
     ]
    },
    {
     "name": "stdout",
     "output_type": "stream",
     "text": [
      "10 [D loss: 0.000008, acc.: 100.00%] [G loss: 29.447855]\n"
     ]
    },
    {
     "name": "stderr",
     "output_type": "stream",
     "text": [
      "  4%|▍         | 12/301 [00:36<14:02,  2.92s/it]"
     ]
    },
    {
     "name": "stdout",
     "output_type": "stream",
     "text": [
      "11 [D loss: 0.000002, acc.: 100.00%] [G loss: 34.117111]\n"
     ]
    },
    {
     "name": "stderr",
     "output_type": "stream",
     "text": [
      "  4%|▍         | 13/301 [00:39<14:14,  2.97s/it]"
     ]
    },
    {
     "name": "stdout",
     "output_type": "stream",
     "text": [
      "12 [D loss: 0.000000, acc.: 100.00%] [G loss: 32.901985]\n"
     ]
    },
    {
     "name": "stderr",
     "output_type": "stream",
     "text": [
      "  5%|▍         | 14/301 [00:42<14:09,  2.96s/it]"
     ]
    },
    {
     "name": "stdout",
     "output_type": "stream",
     "text": [
      "13 [D loss: 0.000000, acc.: 100.00%] [G loss: 40.499237]\n"
     ]
    },
    {
     "name": "stderr",
     "output_type": "stream",
     "text": [
      "  5%|▍         | 15/301 [00:45<13:56,  2.92s/it]"
     ]
    },
    {
     "name": "stdout",
     "output_type": "stream",
     "text": [
      "14 [D loss: 0.000004, acc.: 100.00%] [G loss: 36.335220]\n"
     ]
    },
    {
     "name": "stderr",
     "output_type": "stream",
     "text": [
      "  5%|▌         | 16/301 [00:48<14:00,  2.95s/it]"
     ]
    },
    {
     "name": "stdout",
     "output_type": "stream",
     "text": [
      "15 [D loss: 0.000004, acc.: 100.00%] [G loss: 37.652420]\n"
     ]
    },
    {
     "name": "stderr",
     "output_type": "stream",
     "text": [
      "  6%|▌         | 17/301 [00:51<13:38,  2.88s/it]"
     ]
    },
    {
     "name": "stdout",
     "output_type": "stream",
     "text": [
      "16 [D loss: 0.000004, acc.: 100.00%] [G loss: 40.106392]\n"
     ]
    },
    {
     "name": "stderr",
     "output_type": "stream",
     "text": [
      "  6%|▌         | 18/301 [00:53<13:25,  2.85s/it]"
     ]
    },
    {
     "name": "stdout",
     "output_type": "stream",
     "text": [
      "17 [D loss: 0.000007, acc.: 100.00%] [G loss: 45.899818]\n"
     ]
    },
    {
     "name": "stderr",
     "output_type": "stream",
     "text": [
      "  6%|▋         | 19/301 [00:56<13:24,  2.85s/it]"
     ]
    },
    {
     "name": "stdout",
     "output_type": "stream",
     "text": [
      "18 [D loss: 0.000001, acc.: 100.00%] [G loss: 49.226608]\n"
     ]
    },
    {
     "name": "stderr",
     "output_type": "stream",
     "text": [
      "  7%|▋         | 20/301 [00:59<13:36,  2.91s/it]"
     ]
    },
    {
     "name": "stdout",
     "output_type": "stream",
     "text": [
      "19 [D loss: 0.000004, acc.: 100.00%] [G loss: 47.310535]\n"
     ]
    },
    {
     "name": "stderr",
     "output_type": "stream",
     "text": [
      "  7%|▋         | 21/301 [01:02<13:28,  2.89s/it]"
     ]
    },
    {
     "name": "stdout",
     "output_type": "stream",
     "text": [
      "20 [D loss: 0.000000, acc.: 100.00%] [G loss: 58.658073]\n"
     ]
    },
    {
     "name": "stderr",
     "output_type": "stream",
     "text": [
      "  7%|▋         | 22/301 [01:05<13:25,  2.89s/it]"
     ]
    },
    {
     "name": "stdout",
     "output_type": "stream",
     "text": [
      "21 [D loss: 0.000004, acc.: 100.00%] [G loss: 60.741394]\n"
     ]
    },
    {
     "name": "stderr",
     "output_type": "stream",
     "text": [
      "  8%|▊         | 23/301 [01:08<13:44,  2.97s/it]"
     ]
    },
    {
     "name": "stdout",
     "output_type": "stream",
     "text": [
      "22 [D loss: 0.000002, acc.: 100.00%] [G loss: 55.719357]\n"
     ]
    },
    {
     "name": "stderr",
     "output_type": "stream",
     "text": [
      "  8%|▊         | 24/301 [01:11<13:36,  2.95s/it]"
     ]
    },
    {
     "name": "stdout",
     "output_type": "stream",
     "text": [
      "23 [D loss: 0.000008, acc.: 100.00%] [G loss: 59.684036]\n"
     ]
    },
    {
     "name": "stderr",
     "output_type": "stream",
     "text": [
      "  8%|▊         | 25/301 [01:14<13:21,  2.91s/it]"
     ]
    },
    {
     "name": "stdout",
     "output_type": "stream",
     "text": [
      "24 [D loss: 0.000237, acc.: 100.00%] [G loss: 54.589874]\n"
     ]
    },
    {
     "name": "stderr",
     "output_type": "stream",
     "text": [
      "  9%|▊         | 26/301 [01:17<13:08,  2.87s/it]"
     ]
    },
    {
     "name": "stdout",
     "output_type": "stream",
     "text": [
      "25 [D loss: 0.000000, acc.: 100.00%] [G loss: 59.954964]\n"
     ]
    },
    {
     "name": "stderr",
     "output_type": "stream",
     "text": [
      "  9%|▉         | 27/301 [01:20<12:57,  2.84s/it]"
     ]
    },
    {
     "name": "stdout",
     "output_type": "stream",
     "text": [
      "26 [D loss: 0.000000, acc.: 100.00%] [G loss: 74.870010]\n"
     ]
    },
    {
     "name": "stderr",
     "output_type": "stream",
     "text": [
      "  9%|▉         | 28/301 [01:22<12:53,  2.83s/it]"
     ]
    },
    {
     "name": "stdout",
     "output_type": "stream",
     "text": [
      "27 [D loss: 0.000000, acc.: 100.00%] [G loss: 67.240318]\n"
     ]
    },
    {
     "name": "stderr",
     "output_type": "stream",
     "text": [
      " 10%|▉         | 29/301 [01:25<12:54,  2.85s/it]"
     ]
    },
    {
     "name": "stdout",
     "output_type": "stream",
     "text": [
      "28 [D loss: 0.000000, acc.: 100.00%] [G loss: 59.553795]\n"
     ]
    },
    {
     "name": "stderr",
     "output_type": "stream",
     "text": [
      " 10%|▉         | 30/301 [01:28<12:57,  2.87s/it]"
     ]
    },
    {
     "name": "stdout",
     "output_type": "stream",
     "text": [
      "29 [D loss: 0.000000, acc.: 100.00%] [G loss: 69.294289]\n"
     ]
    },
    {
     "name": "stderr",
     "output_type": "stream",
     "text": [
      " 10%|█         | 31/301 [01:31<12:51,  2.86s/it]"
     ]
    },
    {
     "name": "stdout",
     "output_type": "stream",
     "text": [
      "30 [D loss: 0.000019, acc.: 100.00%] [G loss: 69.785065]\n"
     ]
    },
    {
     "name": "stderr",
     "output_type": "stream",
     "text": [
      " 11%|█         | 32/301 [01:34<12:47,  2.85s/it]"
     ]
    },
    {
     "name": "stdout",
     "output_type": "stream",
     "text": [
      "31 [D loss: 0.000239, acc.: 100.00%] [G loss: 71.457642]\n"
     ]
    },
    {
     "name": "stderr",
     "output_type": "stream",
     "text": [
      " 11%|█         | 33/301 [01:37<12:41,  2.84s/it]"
     ]
    },
    {
     "name": "stdout",
     "output_type": "stream",
     "text": [
      "32 [D loss: 0.000001, acc.: 100.00%] [G loss: 60.551872]\n"
     ]
    },
    {
     "name": "stderr",
     "output_type": "stream",
     "text": [
      " 11%|█▏        | 34/301 [01:39<12:36,  2.83s/it]"
     ]
    },
    {
     "name": "stdout",
     "output_type": "stream",
     "text": [
      "33 [D loss: 0.000000, acc.: 100.00%] [G loss: 67.055771]\n"
     ]
    },
    {
     "name": "stderr",
     "output_type": "stream",
     "text": [
      " 12%|█▏        | 35/301 [01:42<12:28,  2.82s/it]"
     ]
    },
    {
     "name": "stdout",
     "output_type": "stream",
     "text": [
      "34 [D loss: 0.000000, acc.: 100.00%] [G loss: 76.148354]\n"
     ]
    },
    {
     "name": "stderr",
     "output_type": "stream",
     "text": [
      " 12%|█▏        | 36/301 [01:45<12:20,  2.80s/it]"
     ]
    },
    {
     "name": "stdout",
     "output_type": "stream",
     "text": [
      "35 [D loss: 0.000000, acc.: 100.00%] [G loss: 69.711044]\n"
     ]
    },
    {
     "name": "stderr",
     "output_type": "stream",
     "text": [
      " 12%|█▏        | 37/301 [01:48<12:16,  2.79s/it]"
     ]
    },
    {
     "name": "stdout",
     "output_type": "stream",
     "text": [
      "36 [D loss: 0.000000, acc.: 100.00%] [G loss: 65.048920]\n"
     ]
    },
    {
     "name": "stderr",
     "output_type": "stream",
     "text": [
      " 13%|█▎        | 38/301 [01:51<12:15,  2.80s/it]"
     ]
    },
    {
     "name": "stdout",
     "output_type": "stream",
     "text": [
      "37 [D loss: 0.000000, acc.: 100.00%] [G loss: 81.804291]\n"
     ]
    },
    {
     "name": "stderr",
     "output_type": "stream",
     "text": [
      " 13%|█▎        | 39/301 [01:53<12:17,  2.82s/it]"
     ]
    },
    {
     "name": "stdout",
     "output_type": "stream",
     "text": [
      "38 [D loss: 0.000000, acc.: 100.00%] [G loss: 86.775475]\n"
     ]
    },
    {
     "name": "stderr",
     "output_type": "stream",
     "text": [
      " 13%|█▎        | 40/301 [01:56<12:15,  2.82s/it]"
     ]
    },
    {
     "name": "stdout",
     "output_type": "stream",
     "text": [
      "39 [D loss: 0.000000, acc.: 100.00%] [G loss: 84.467606]\n"
     ]
    },
    {
     "name": "stderr",
     "output_type": "stream",
     "text": [
      " 14%|█▎        | 41/301 [01:59<12:10,  2.81s/it]"
     ]
    },
    {
     "name": "stdout",
     "output_type": "stream",
     "text": [
      "40 [D loss: 0.000000, acc.: 100.00%] [G loss: 88.862617]\n"
     ]
    },
    {
     "name": "stderr",
     "output_type": "stream",
     "text": [
      " 14%|█▍        | 42/301 [02:02<12:26,  2.88s/it]"
     ]
    },
    {
     "name": "stdout",
     "output_type": "stream",
     "text": [
      "41 [D loss: 0.000000, acc.: 100.00%] [G loss: 72.207153]\n"
     ]
    },
    {
     "name": "stderr",
     "output_type": "stream",
     "text": [
      " 14%|█▍        | 43/301 [02:05<12:26,  2.89s/it]"
     ]
    },
    {
     "name": "stdout",
     "output_type": "stream",
     "text": [
      "42 [D loss: 0.016087, acc.: 99.61%] [G loss: 90.993332]\n"
     ]
    },
    {
     "name": "stderr",
     "output_type": "stream",
     "text": [
      " 15%|█▍        | 44/301 [02:08<12:27,  2.91s/it]"
     ]
    },
    {
     "name": "stdout",
     "output_type": "stream",
     "text": [
      "43 [D loss: 0.000001, acc.: 100.00%] [G loss: 85.749969]\n"
     ]
    },
    {
     "name": "stderr",
     "output_type": "stream",
     "text": [
      " 15%|█▍        | 45/301 [02:11<12:16,  2.88s/it]"
     ]
    },
    {
     "name": "stdout",
     "output_type": "stream",
     "text": [
      "44 [D loss: 0.000000, acc.: 100.00%] [G loss: 79.093063]\n"
     ]
    },
    {
     "name": "stderr",
     "output_type": "stream",
     "text": [
      " 15%|█▌        | 46/301 [02:14<12:10,  2.86s/it]"
     ]
    },
    {
     "name": "stdout",
     "output_type": "stream",
     "text": [
      "45 [D loss: 0.000000, acc.: 100.00%] [G loss: 83.587189]\n"
     ]
    },
    {
     "name": "stderr",
     "output_type": "stream",
     "text": [
      " 16%|█▌        | 47/301 [02:17<12:15,  2.89s/it]"
     ]
    },
    {
     "name": "stdout",
     "output_type": "stream",
     "text": [
      "46 [D loss: 0.000000, acc.: 100.00%] [G loss: 87.179695]\n"
     ]
    },
    {
     "name": "stderr",
     "output_type": "stream",
     "text": [
      " 16%|█▌        | 48/301 [02:19<12:02,  2.85s/it]"
     ]
    },
    {
     "name": "stdout",
     "output_type": "stream",
     "text": [
      "47 [D loss: 0.000000, acc.: 100.00%] [G loss: 94.158638]\n"
     ]
    },
    {
     "name": "stderr",
     "output_type": "stream",
     "text": [
      " 16%|█▋        | 49/301 [02:22<11:59,  2.85s/it]"
     ]
    },
    {
     "name": "stdout",
     "output_type": "stream",
     "text": [
      "48 [D loss: 0.000001, acc.: 100.00%] [G loss: 84.809189]\n"
     ]
    },
    {
     "name": "stderr",
     "output_type": "stream",
     "text": [
      " 17%|█▋        | 50/301 [02:25<12:12,  2.92s/it]"
     ]
    },
    {
     "name": "stdout",
     "output_type": "stream",
     "text": [
      "49 [D loss: 0.000000, acc.: 100.00%] [G loss: 98.230789]\n"
     ]
    },
    {
     "name": "stderr",
     "output_type": "stream",
     "text": [
      " 17%|█▋        | 51/301 [02:28<12:26,  2.99s/it]"
     ]
    },
    {
     "name": "stdout",
     "output_type": "stream",
     "text": [
      "50 [D loss: 0.000000, acc.: 100.00%] [G loss: 81.968575]\n"
     ]
    },
    {
     "name": "stderr",
     "output_type": "stream",
     "text": [
      " 17%|█▋        | 52/301 [02:31<12:19,  2.97s/it]"
     ]
    },
    {
     "name": "stdout",
     "output_type": "stream",
     "text": [
      "51 [D loss: 0.000044, acc.: 100.00%] [G loss: 99.257957]\n"
     ]
    },
    {
     "name": "stderr",
     "output_type": "stream",
     "text": [
      " 18%|█▊        | 53/301 [02:34<12:11,  2.95s/it]"
     ]
    },
    {
     "name": "stdout",
     "output_type": "stream",
     "text": [
      "52 [D loss: 0.000000, acc.: 100.00%] [G loss: 105.533180]\n"
     ]
    },
    {
     "name": "stderr",
     "output_type": "stream",
     "text": [
      " 18%|█▊        | 54/301 [02:37<12:11,  2.96s/it]"
     ]
    },
    {
     "name": "stdout",
     "output_type": "stream",
     "text": [
      "53 [D loss: 0.000197, acc.: 100.00%] [G loss: 91.537689]\n"
     ]
    },
    {
     "name": "stderr",
     "output_type": "stream",
     "text": [
      " 18%|█▊        | 55/301 [02:40<12:19,  3.01s/it]"
     ]
    },
    {
     "name": "stdout",
     "output_type": "stream",
     "text": [
      "54 [D loss: 0.000000, acc.: 100.00%] [G loss: 108.744652]\n"
     ]
    },
    {
     "name": "stderr",
     "output_type": "stream",
     "text": [
      " 19%|█▊        | 56/301 [02:43<12:09,  2.98s/it]"
     ]
    },
    {
     "name": "stdout",
     "output_type": "stream",
     "text": [
      "55 [D loss: 0.000000, acc.: 100.00%] [G loss: 99.747513]\n"
     ]
    },
    {
     "name": "stderr",
     "output_type": "stream",
     "text": [
      " 19%|█▉        | 57/301 [02:46<12:03,  2.96s/it]"
     ]
    },
    {
     "name": "stdout",
     "output_type": "stream",
     "text": [
      "56 [D loss: 0.000000, acc.: 100.00%] [G loss: 115.529419]\n"
     ]
    },
    {
     "name": "stderr",
     "output_type": "stream",
     "text": [
      " 19%|█▉        | 58/301 [02:49<12:00,  2.96s/it]"
     ]
    },
    {
     "name": "stdout",
     "output_type": "stream",
     "text": [
      "57 [D loss: 0.000000, acc.: 100.00%] [G loss: 106.209526]\n"
     ]
    },
    {
     "name": "stderr",
     "output_type": "stream",
     "text": [
      " 20%|█▉        | 59/301 [02:52<11:54,  2.95s/it]"
     ]
    },
    {
     "name": "stdout",
     "output_type": "stream",
     "text": [
      "58 [D loss: 0.000104, acc.: 100.00%] [G loss: 131.957764]\n"
     ]
    },
    {
     "name": "stderr",
     "output_type": "stream",
     "text": [
      " 20%|█▉        | 60/301 [02:55<11:54,  2.96s/it]"
     ]
    },
    {
     "name": "stdout",
     "output_type": "stream",
     "text": [
      "59 [D loss: 0.000000, acc.: 100.00%] [G loss: 125.781166]\n"
     ]
    },
    {
     "name": "stderr",
     "output_type": "stream",
     "text": [
      " 20%|██        | 61/301 [02:58<11:53,  2.97s/it]"
     ]
    },
    {
     "name": "stdout",
     "output_type": "stream",
     "text": [
      "60 [D loss: 0.000000, acc.: 100.00%] [G loss: 118.279190]\n"
     ]
    },
    {
     "name": "stderr",
     "output_type": "stream",
     "text": [
      " 21%|██        | 62/301 [03:01<11:53,  2.99s/it]"
     ]
    },
    {
     "name": "stdout",
     "output_type": "stream",
     "text": [
      "61 [D loss: 0.000001, acc.: 100.00%] [G loss: 124.569595]\n"
     ]
    },
    {
     "name": "stderr",
     "output_type": "stream",
     "text": [
      " 21%|██        | 63/301 [03:04<11:39,  2.94s/it]"
     ]
    },
    {
     "name": "stdout",
     "output_type": "stream",
     "text": [
      "62 [D loss: 0.000000, acc.: 100.00%] [G loss: 127.320129]\n"
     ]
    },
    {
     "name": "stderr",
     "output_type": "stream",
     "text": [
      " 21%|██▏       | 64/301 [03:07<11:26,  2.90s/it]"
     ]
    },
    {
     "name": "stdout",
     "output_type": "stream",
     "text": [
      "63 [D loss: 0.000000, acc.: 100.00%] [G loss: 126.206917]\n"
     ]
    },
    {
     "name": "stderr",
     "output_type": "stream",
     "text": [
      " 22%|██▏       | 65/301 [03:10<11:20,  2.88s/it]"
     ]
    },
    {
     "name": "stdout",
     "output_type": "stream",
     "text": [
      "64 [D loss: 0.000000, acc.: 100.00%] [G loss: 102.908646]\n"
     ]
    },
    {
     "name": "stderr",
     "output_type": "stream",
     "text": [
      " 22%|██▏       | 66/301 [03:13<11:36,  2.97s/it]"
     ]
    },
    {
     "name": "stdout",
     "output_type": "stream",
     "text": [
      "65 [D loss: 0.000001, acc.: 100.00%] [G loss: 122.359741]\n"
     ]
    },
    {
     "name": "stderr",
     "output_type": "stream",
     "text": [
      " 22%|██▏       | 67/301 [03:16<11:28,  2.94s/it]"
     ]
    },
    {
     "name": "stdout",
     "output_type": "stream",
     "text": [
      "66 [D loss: 0.000000, acc.: 100.00%] [G loss: 136.577728]\n"
     ]
    },
    {
     "name": "stderr",
     "output_type": "stream",
     "text": [
      " 23%|██▎       | 68/301 [03:19<11:40,  3.01s/it]"
     ]
    },
    {
     "name": "stdout",
     "output_type": "stream",
     "text": [
      "67 [D loss: 0.000002, acc.: 100.00%] [G loss: 134.933685]\n"
     ]
    },
    {
     "name": "stderr",
     "output_type": "stream",
     "text": [
      " 23%|██▎       | 69/301 [03:22<11:23,  2.95s/it]"
     ]
    },
    {
     "name": "stdout",
     "output_type": "stream",
     "text": [
      "68 [D loss: 0.000008, acc.: 100.00%] [G loss: 130.201691]\n"
     ]
    },
    {
     "name": "stderr",
     "output_type": "stream",
     "text": [
      " 23%|██▎       | 70/301 [03:25<11:33,  3.00s/it]"
     ]
    },
    {
     "name": "stdout",
     "output_type": "stream",
     "text": [
      "69 [D loss: 0.000000, acc.: 100.00%] [G loss: 122.215561]\n"
     ]
    },
    {
     "name": "stderr",
     "output_type": "stream",
     "text": [
      " 24%|██▎       | 71/301 [03:28<11:37,  3.03s/it]"
     ]
    },
    {
     "name": "stdout",
     "output_type": "stream",
     "text": [
      "70 [D loss: 0.000833, acc.: 100.00%] [G loss: 135.846619]\n"
     ]
    },
    {
     "name": "stderr",
     "output_type": "stream",
     "text": [
      " 24%|██▍       | 72/301 [03:31<11:23,  2.99s/it]"
     ]
    },
    {
     "name": "stdout",
     "output_type": "stream",
     "text": [
      "71 [D loss: 0.000000, acc.: 100.00%] [G loss: 117.779114]\n"
     ]
    },
    {
     "name": "stderr",
     "output_type": "stream",
     "text": [
      " 24%|██▍       | 73/301 [03:33<11:09,  2.94s/it]"
     ]
    },
    {
     "name": "stdout",
     "output_type": "stream",
     "text": [
      "72 [D loss: 0.000000, acc.: 100.00%] [G loss: 156.829895]\n"
     ]
    },
    {
     "name": "stderr",
     "output_type": "stream",
     "text": [
      " 25%|██▍       | 74/301 [03:36<11:04,  2.93s/it]"
     ]
    },
    {
     "name": "stdout",
     "output_type": "stream",
     "text": [
      "73 [D loss: 0.000000, acc.: 100.00%] [G loss: 140.222733]\n"
     ]
    },
    {
     "name": "stderr",
     "output_type": "stream",
     "text": [
      " 25%|██▍       | 75/301 [03:39<11:08,  2.96s/it]"
     ]
    },
    {
     "name": "stdout",
     "output_type": "stream",
     "text": [
      "74 [D loss: 0.000000, acc.: 100.00%] [G loss: 158.184845]\n"
     ]
    },
    {
     "name": "stderr",
     "output_type": "stream",
     "text": [
      " 25%|██▌       | 76/301 [03:42<11:02,  2.94s/it]"
     ]
    },
    {
     "name": "stdout",
     "output_type": "stream",
     "text": [
      "75 [D loss: 0.000000, acc.: 100.00%] [G loss: 157.663040]\n"
     ]
    },
    {
     "name": "stderr",
     "output_type": "stream",
     "text": [
      " 26%|██▌       | 77/301 [03:45<11:07,  2.98s/it]"
     ]
    },
    {
     "name": "stdout",
     "output_type": "stream",
     "text": [
      "76 [D loss: 0.000000, acc.: 100.00%] [G loss: 153.414703]\n"
     ]
    },
    {
     "name": "stderr",
     "output_type": "stream",
     "text": [
      " 26%|██▌       | 78/301 [03:48<11:06,  2.99s/it]"
     ]
    },
    {
     "name": "stdout",
     "output_type": "stream",
     "text": [
      "77 [D loss: 0.000000, acc.: 100.00%] [G loss: 161.284760]\n"
     ]
    },
    {
     "name": "stderr",
     "output_type": "stream",
     "text": [
      " 26%|██▌       | 79/301 [03:51<10:49,  2.93s/it]"
     ]
    },
    {
     "name": "stdout",
     "output_type": "stream",
     "text": [
      "78 [D loss: 0.000000, acc.: 100.00%] [G loss: 154.769073]\n"
     ]
    },
    {
     "name": "stderr",
     "output_type": "stream",
     "text": [
      " 27%|██▋       | 80/301 [03:54<10:40,  2.90s/it]"
     ]
    },
    {
     "name": "stdout",
     "output_type": "stream",
     "text": [
      "79 [D loss: 0.000000, acc.: 100.00%] [G loss: 174.041138]\n"
     ]
    },
    {
     "name": "stderr",
     "output_type": "stream",
     "text": [
      " 27%|██▋       | 81/301 [03:57<10:32,  2.88s/it]"
     ]
    },
    {
     "name": "stdout",
     "output_type": "stream",
     "text": [
      "80 [D loss: 0.000000, acc.: 100.00%] [G loss: 172.428604]\n"
     ]
    },
    {
     "name": "stderr",
     "output_type": "stream",
     "text": [
      " 27%|██▋       | 82/301 [04:00<10:42,  2.94s/it]"
     ]
    },
    {
     "name": "stdout",
     "output_type": "stream",
     "text": [
      "81 [D loss: 0.000000, acc.: 100.00%] [G loss: 146.300980]\n"
     ]
    },
    {
     "name": "stderr",
     "output_type": "stream",
     "text": [
      " 28%|██▊       | 83/301 [04:03<10:48,  2.97s/it]"
     ]
    },
    {
     "name": "stdout",
     "output_type": "stream",
     "text": [
      "82 [D loss: 0.000000, acc.: 100.00%] [G loss: 208.537567]\n"
     ]
    },
    {
     "name": "stderr",
     "output_type": "stream",
     "text": [
      " 28%|██▊       | 84/301 [04:06<10:41,  2.95s/it]"
     ]
    },
    {
     "name": "stdout",
     "output_type": "stream",
     "text": [
      "83 [D loss: 0.000000, acc.: 100.00%] [G loss: 139.767487]\n"
     ]
    },
    {
     "name": "stderr",
     "output_type": "stream",
     "text": [
      " 28%|██▊       | 85/301 [04:09<10:36,  2.95s/it]"
     ]
    },
    {
     "name": "stdout",
     "output_type": "stream",
     "text": [
      "84 [D loss: 0.000000, acc.: 100.00%] [G loss: 164.008545]\n"
     ]
    },
    {
     "name": "stderr",
     "output_type": "stream",
     "text": [
      " 29%|██▊       | 86/301 [04:12<10:27,  2.92s/it]"
     ]
    },
    {
     "name": "stdout",
     "output_type": "stream",
     "text": [
      "85 [D loss: 0.000001, acc.: 100.00%] [G loss: 176.133377]\n"
     ]
    },
    {
     "name": "stderr",
     "output_type": "stream",
     "text": [
      " 29%|██▉       | 87/301 [04:15<10:31,  2.95s/it]"
     ]
    },
    {
     "name": "stdout",
     "output_type": "stream",
     "text": [
      "86 [D loss: 0.000000, acc.: 100.00%] [G loss: 157.934784]\n"
     ]
    },
    {
     "name": "stderr",
     "output_type": "stream",
     "text": [
      " 29%|██▉       | 88/301 [04:18<10:22,  2.92s/it]"
     ]
    },
    {
     "name": "stdout",
     "output_type": "stream",
     "text": [
      "87 [D loss: 0.000000, acc.: 100.00%] [G loss: 155.095932]\n"
     ]
    },
    {
     "name": "stderr",
     "output_type": "stream",
     "text": [
      " 30%|██▉       | 89/301 [04:21<10:23,  2.94s/it]"
     ]
    },
    {
     "name": "stdout",
     "output_type": "stream",
     "text": [
      "88 [D loss: 0.000006, acc.: 100.00%] [G loss: 186.851379]\n"
     ]
    },
    {
     "name": "stderr",
     "output_type": "stream",
     "text": [
      " 30%|██▉       | 90/301 [04:23<10:14,  2.91s/it]"
     ]
    },
    {
     "name": "stdout",
     "output_type": "stream",
     "text": [
      "89 [D loss: 0.000000, acc.: 100.00%] [G loss: 183.182297]\n"
     ]
    },
    {
     "name": "stderr",
     "output_type": "stream",
     "text": [
      " 30%|███       | 91/301 [04:26<10:13,  2.92s/it]"
     ]
    },
    {
     "name": "stdout",
     "output_type": "stream",
     "text": [
      "90 [D loss: 0.000000, acc.: 100.00%] [G loss: 182.681549]\n"
     ]
    },
    {
     "name": "stderr",
     "output_type": "stream",
     "text": [
      " 31%|███       | 92/301 [04:29<10:06,  2.90s/it]"
     ]
    },
    {
     "name": "stdout",
     "output_type": "stream",
     "text": [
      "91 [D loss: 0.000000, acc.: 100.00%] [G loss: 183.567719]\n"
     ]
    },
    {
     "name": "stderr",
     "output_type": "stream",
     "text": [
      " 31%|███       | 93/301 [04:32<10:03,  2.90s/it]"
     ]
    },
    {
     "name": "stdout",
     "output_type": "stream",
     "text": [
      "92 [D loss: 0.000000, acc.: 100.00%] [G loss: 177.363617]\n"
     ]
    },
    {
     "name": "stderr",
     "output_type": "stream",
     "text": [
      " 31%|███       | 94/301 [04:35<09:59,  2.90s/it]"
     ]
    },
    {
     "name": "stdout",
     "output_type": "stream",
     "text": [
      "93 [D loss: 0.000000, acc.: 100.00%] [G loss: 156.391937]\n"
     ]
    },
    {
     "name": "stderr",
     "output_type": "stream",
     "text": [
      " 32%|███▏      | 95/301 [04:38<09:59,  2.91s/it]"
     ]
    },
    {
     "name": "stdout",
     "output_type": "stream",
     "text": [
      "94 [D loss: 0.000000, acc.: 100.00%] [G loss: 194.277435]\n"
     ]
    },
    {
     "name": "stderr",
     "output_type": "stream",
     "text": [
      " 32%|███▏      | 96/301 [04:41<09:58,  2.92s/it]"
     ]
    },
    {
     "name": "stdout",
     "output_type": "stream",
     "text": [
      "95 [D loss: 0.000000, acc.: 100.00%] [G loss: 165.119125]\n"
     ]
    },
    {
     "name": "stderr",
     "output_type": "stream",
     "text": [
      " 32%|███▏      | 97/301 [04:44<10:03,  2.96s/it]"
     ]
    },
    {
     "name": "stdout",
     "output_type": "stream",
     "text": [
      "96 [D loss: 0.000000, acc.: 100.00%] [G loss: 186.723175]\n"
     ]
    },
    {
     "name": "stderr",
     "output_type": "stream",
     "text": [
      " 33%|███▎      | 98/301 [04:47<10:00,  2.96s/it]"
     ]
    },
    {
     "name": "stdout",
     "output_type": "stream",
     "text": [
      "97 [D loss: 0.000000, acc.: 100.00%] [G loss: 162.738785]\n"
     ]
    },
    {
     "name": "stderr",
     "output_type": "stream",
     "text": [
      " 33%|███▎      | 99/301 [04:50<09:55,  2.95s/it]"
     ]
    },
    {
     "name": "stdout",
     "output_type": "stream",
     "text": [
      "98 [D loss: 0.000000, acc.: 100.00%] [G loss: 178.882629]\n"
     ]
    },
    {
     "name": "stderr",
     "output_type": "stream",
     "text": [
      " 33%|███▎      | 100/301 [04:53<09:53,  2.95s/it]"
     ]
    },
    {
     "name": "stdout",
     "output_type": "stream",
     "text": [
      "99 [D loss: 0.000000, acc.: 100.00%] [G loss: 195.315765]\n",
      "100 [D loss: 0.000000, acc.: 100.00%] [G loss: 193.144745]\n"
     ]
    },
    {
     "name": "stderr",
     "output_type": "stream",
     "text": [
      "\n",
      "Synthetic data generation:   0%|          | 0/8 [00:00<?, ?it/s]\u001B[A\n",
      "Synthetic data generation:  38%|███▊      | 3/8 [00:00<00:00, 23.45it/s]\u001B[A\n",
      "Synthetic data generation: 100%|██████████| 8/8 [00:00<00:00, 23.59it/s]\u001B[A\n",
      " 34%|███▍      | 102/301 [04:59<10:01,  3.02s/it]"
     ]
    },
    {
     "name": "stdout",
     "output_type": "stream",
     "text": [
      "101 [D loss: 0.000000, acc.: 100.00%] [G loss: 186.673035]\n"
     ]
    },
    {
     "name": "stderr",
     "output_type": "stream",
     "text": [
      " 34%|███▍      | 103/301 [05:02<09:50,  2.98s/it]"
     ]
    },
    {
     "name": "stdout",
     "output_type": "stream",
     "text": [
      "102 [D loss: 0.000000, acc.: 100.00%] [G loss: 192.007324]\n"
     ]
    },
    {
     "name": "stderr",
     "output_type": "stream",
     "text": [
      " 35%|███▍      | 104/301 [05:05<09:41,  2.95s/it]"
     ]
    },
    {
     "name": "stdout",
     "output_type": "stream",
     "text": [
      "103 [D loss: 0.000000, acc.: 100.00%] [G loss: 182.413635]\n"
     ]
    },
    {
     "name": "stderr",
     "output_type": "stream",
     "text": [
      " 35%|███▍      | 105/301 [05:08<09:34,  2.93s/it]"
     ]
    },
    {
     "name": "stdout",
     "output_type": "stream",
     "text": [
      "104 [D loss: 0.000000, acc.: 100.00%] [G loss: 143.936996]\n"
     ]
    },
    {
     "name": "stderr",
     "output_type": "stream",
     "text": [
      " 35%|███▌      | 106/301 [05:11<09:26,  2.91s/it]"
     ]
    },
    {
     "name": "stdout",
     "output_type": "stream",
     "text": [
      "105 [D loss: 0.000000, acc.: 100.00%] [G loss: 168.666046]\n"
     ]
    },
    {
     "name": "stderr",
     "output_type": "stream",
     "text": [
      " 36%|███▌      | 107/301 [05:13<09:24,  2.91s/it]"
     ]
    },
    {
     "name": "stdout",
     "output_type": "stream",
     "text": [
      "106 [D loss: 0.000000, acc.: 100.00%] [G loss: 203.580948]\n"
     ]
    },
    {
     "name": "stderr",
     "output_type": "stream",
     "text": [
      " 36%|███▌      | 108/301 [05:16<09:13,  2.87s/it]"
     ]
    },
    {
     "name": "stdout",
     "output_type": "stream",
     "text": [
      "107 [D loss: 0.000000, acc.: 100.00%] [G loss: 234.771973]\n"
     ]
    },
    {
     "name": "stderr",
     "output_type": "stream",
     "text": [
      " 36%|███▌      | 109/301 [05:19<09:05,  2.84s/it]"
     ]
    },
    {
     "name": "stdout",
     "output_type": "stream",
     "text": [
      "108 [D loss: 0.000000, acc.: 100.00%] [G loss: 201.116867]\n"
     ]
    },
    {
     "name": "stderr",
     "output_type": "stream",
     "text": [
      " 37%|███▋      | 110/301 [05:22<08:58,  2.82s/it]"
     ]
    },
    {
     "name": "stdout",
     "output_type": "stream",
     "text": [
      "109 [D loss: 0.000000, acc.: 100.00%] [G loss: 222.993286]\n"
     ]
    },
    {
     "name": "stderr",
     "output_type": "stream",
     "text": [
      " 37%|███▋      | 111/301 [05:25<08:57,  2.83s/it]"
     ]
    },
    {
     "name": "stdout",
     "output_type": "stream",
     "text": [
      "110 [D loss: 0.000000, acc.: 100.00%] [G loss: 196.346558]\n"
     ]
    },
    {
     "name": "stderr",
     "output_type": "stream",
     "text": [
      " 37%|███▋      | 112/301 [05:28<09:01,  2.86s/it]"
     ]
    },
    {
     "name": "stdout",
     "output_type": "stream",
     "text": [
      "111 [D loss: 0.000000, acc.: 100.00%] [G loss: 184.005432]\n"
     ]
    },
    {
     "name": "stderr",
     "output_type": "stream",
     "text": [
      " 38%|███▊      | 113/301 [05:31<09:04,  2.89s/it]"
     ]
    },
    {
     "name": "stdout",
     "output_type": "stream",
     "text": [
      "112 [D loss: 0.000000, acc.: 100.00%] [G loss: 213.350769]\n"
     ]
    },
    {
     "name": "stderr",
     "output_type": "stream",
     "text": [
      " 38%|███▊      | 114/301 [05:34<09:10,  2.94s/it]"
     ]
    },
    {
     "name": "stdout",
     "output_type": "stream",
     "text": [
      "113 [D loss: 0.000000, acc.: 100.00%] [G loss: 182.063431]\n"
     ]
    },
    {
     "name": "stderr",
     "output_type": "stream",
     "text": [
      " 38%|███▊      | 115/301 [05:36<09:00,  2.90s/it]"
     ]
    },
    {
     "name": "stdout",
     "output_type": "stream",
     "text": [
      "114 [D loss: 0.000000, acc.: 100.00%] [G loss: 201.294495]\n"
     ]
    },
    {
     "name": "stderr",
     "output_type": "stream",
     "text": [
      " 39%|███▊      | 116/301 [05:39<08:53,  2.89s/it]"
     ]
    },
    {
     "name": "stdout",
     "output_type": "stream",
     "text": [
      "115 [D loss: 0.000000, acc.: 100.00%] [G loss: 200.328705]\n"
     ]
    },
    {
     "name": "stderr",
     "output_type": "stream",
     "text": [
      " 39%|███▉      | 117/301 [05:42<08:51,  2.89s/it]"
     ]
    },
    {
     "name": "stdout",
     "output_type": "stream",
     "text": [
      "116 [D loss: 0.000000, acc.: 100.00%] [G loss: 248.323364]\n"
     ]
    },
    {
     "name": "stderr",
     "output_type": "stream",
     "text": [
      " 39%|███▉      | 118/301 [05:45<08:47,  2.88s/it]"
     ]
    },
    {
     "name": "stdout",
     "output_type": "stream",
     "text": [
      "117 [D loss: 0.000000, acc.: 100.00%] [G loss: 204.233963]\n"
     ]
    },
    {
     "name": "stderr",
     "output_type": "stream",
     "text": [
      " 40%|███▉      | 119/301 [05:48<08:46,  2.89s/it]"
     ]
    },
    {
     "name": "stdout",
     "output_type": "stream",
     "text": [
      "118 [D loss: 0.000000, acc.: 100.00%] [G loss: 208.411194]\n"
     ]
    },
    {
     "name": "stderr",
     "output_type": "stream",
     "text": [
      " 40%|███▉      | 120/301 [05:51<08:42,  2.89s/it]"
     ]
    },
    {
     "name": "stdout",
     "output_type": "stream",
     "text": [
      "119 [D loss: 0.000000, acc.: 100.00%] [G loss: 211.194946]\n"
     ]
    },
    {
     "name": "stderr",
     "output_type": "stream",
     "text": [
      " 40%|████      | 121/301 [05:54<08:34,  2.86s/it]"
     ]
    },
    {
     "name": "stdout",
     "output_type": "stream",
     "text": [
      "120 [D loss: 0.000000, acc.: 100.00%] [G loss: 250.432968]\n"
     ]
    },
    {
     "name": "stderr",
     "output_type": "stream",
     "text": [
      " 41%|████      | 122/301 [05:56<08:28,  2.84s/it]"
     ]
    },
    {
     "name": "stdout",
     "output_type": "stream",
     "text": [
      "121 [D loss: 0.000000, acc.: 100.00%] [G loss: 234.955536]\n"
     ]
    },
    {
     "name": "stderr",
     "output_type": "stream",
     "text": [
      " 41%|████      | 123/301 [05:59<08:24,  2.84s/it]"
     ]
    },
    {
     "name": "stdout",
     "output_type": "stream",
     "text": [
      "122 [D loss: 0.000000, acc.: 100.00%] [G loss: 198.629730]\n"
     ]
    },
    {
     "name": "stderr",
     "output_type": "stream",
     "text": [
      " 41%|████      | 124/301 [06:02<08:34,  2.91s/it]"
     ]
    },
    {
     "name": "stdout",
     "output_type": "stream",
     "text": [
      "123 [D loss: 0.000000, acc.: 100.00%] [G loss: 245.293716]\n"
     ]
    },
    {
     "name": "stderr",
     "output_type": "stream",
     "text": [
      " 42%|████▏     | 125/301 [06:05<08:34,  2.92s/it]"
     ]
    },
    {
     "name": "stdout",
     "output_type": "stream",
     "text": [
      "124 [D loss: 0.000000, acc.: 100.00%] [G loss: 234.574402]\n"
     ]
    },
    {
     "name": "stderr",
     "output_type": "stream",
     "text": [
      " 42%|████▏     | 126/301 [06:08<08:25,  2.89s/it]"
     ]
    },
    {
     "name": "stdout",
     "output_type": "stream",
     "text": [
      "125 [D loss: 0.000000, acc.: 100.00%] [G loss: 204.357269]\n"
     ]
    },
    {
     "name": "stderr",
     "output_type": "stream",
     "text": [
      " 42%|████▏     | 127/301 [06:11<08:19,  2.87s/it]"
     ]
    },
    {
     "name": "stdout",
     "output_type": "stream",
     "text": [
      "126 [D loss: 0.000000, acc.: 100.00%] [G loss: 233.567200]\n"
     ]
    },
    {
     "name": "stderr",
     "output_type": "stream",
     "text": [
      " 43%|████▎     | 128/301 [06:14<08:22,  2.90s/it]"
     ]
    },
    {
     "name": "stdout",
     "output_type": "stream",
     "text": [
      "127 [D loss: 0.000000, acc.: 100.00%] [G loss: 209.974823]\n"
     ]
    },
    {
     "name": "stderr",
     "output_type": "stream",
     "text": [
      " 43%|████▎     | 129/301 [06:17<08:22,  2.92s/it]"
     ]
    },
    {
     "name": "stdout",
     "output_type": "stream",
     "text": [
      "128 [D loss: 0.000000, acc.: 100.00%] [G loss: 224.724823]\n"
     ]
    },
    {
     "name": "stderr",
     "output_type": "stream",
     "text": [
      " 43%|████▎     | 130/301 [06:20<08:18,  2.92s/it]"
     ]
    },
    {
     "name": "stdout",
     "output_type": "stream",
     "text": [
      "129 [D loss: 0.000000, acc.: 100.00%] [G loss: 226.101624]\n"
     ]
    },
    {
     "name": "stderr",
     "output_type": "stream",
     "text": [
      " 44%|████▎     | 131/301 [06:23<08:09,  2.88s/it]"
     ]
    },
    {
     "name": "stdout",
     "output_type": "stream",
     "text": [
      "130 [D loss: 0.000000, acc.: 100.00%] [G loss: 230.631409]\n"
     ]
    },
    {
     "name": "stderr",
     "output_type": "stream",
     "text": [
      " 44%|████▍     | 132/301 [06:25<08:01,  2.85s/it]"
     ]
    },
    {
     "name": "stdout",
     "output_type": "stream",
     "text": [
      "131 [D loss: 0.000000, acc.: 100.00%] [G loss: 284.561707]\n"
     ]
    },
    {
     "name": "stderr",
     "output_type": "stream",
     "text": [
      " 44%|████▍     | 133/301 [06:28<07:57,  2.84s/it]"
     ]
    },
    {
     "name": "stdout",
     "output_type": "stream",
     "text": [
      "132 [D loss: 0.000000, acc.: 100.00%] [G loss: 260.400879]\n"
     ]
    },
    {
     "name": "stderr",
     "output_type": "stream",
     "text": [
      " 45%|████▍     | 134/301 [06:31<07:57,  2.86s/it]"
     ]
    },
    {
     "name": "stdout",
     "output_type": "stream",
     "text": [
      "133 [D loss: 0.000000, acc.: 100.00%] [G loss: 214.903564]\n"
     ]
    },
    {
     "name": "stderr",
     "output_type": "stream",
     "text": [
      " 45%|████▍     | 135/301 [06:34<07:54,  2.86s/it]"
     ]
    },
    {
     "name": "stdout",
     "output_type": "stream",
     "text": [
      "134 [D loss: 0.000000, acc.: 100.00%] [G loss: 265.517181]\n"
     ]
    },
    {
     "name": "stderr",
     "output_type": "stream",
     "text": [
      " 45%|████▌     | 136/301 [06:37<07:50,  2.85s/it]"
     ]
    },
    {
     "name": "stdout",
     "output_type": "stream",
     "text": [
      "135 [D loss: 0.000000, acc.: 100.00%] [G loss: 214.578247]\n"
     ]
    },
    {
     "name": "stderr",
     "output_type": "stream",
     "text": [
      " 46%|████▌     | 137/301 [06:40<07:55,  2.90s/it]"
     ]
    },
    {
     "name": "stdout",
     "output_type": "stream",
     "text": [
      "136 [D loss: 0.000000, acc.: 100.00%] [G loss: 297.278259]\n"
     ]
    },
    {
     "name": "stderr",
     "output_type": "stream",
     "text": [
      " 46%|████▌     | 138/301 [06:43<07:52,  2.90s/it]"
     ]
    },
    {
     "name": "stdout",
     "output_type": "stream",
     "text": [
      "137 [D loss: 0.000000, acc.: 100.00%] [G loss: 267.817993]\n"
     ]
    },
    {
     "name": "stderr",
     "output_type": "stream",
     "text": [
      " 46%|████▌     | 139/301 [06:45<07:48,  2.89s/it]"
     ]
    },
    {
     "name": "stdout",
     "output_type": "stream",
     "text": [
      "138 [D loss: 0.000000, acc.: 100.00%] [G loss: 259.943542]\n"
     ]
    },
    {
     "name": "stderr",
     "output_type": "stream",
     "text": [
      " 47%|████▋     | 140/301 [06:48<07:43,  2.88s/it]"
     ]
    },
    {
     "name": "stdout",
     "output_type": "stream",
     "text": [
      "139 [D loss: 0.000000, acc.: 100.00%] [G loss: 266.266754]\n"
     ]
    },
    {
     "name": "stderr",
     "output_type": "stream",
     "text": [
      " 47%|████▋     | 141/301 [06:51<07:41,  2.89s/it]"
     ]
    },
    {
     "name": "stdout",
     "output_type": "stream",
     "text": [
      "140 [D loss: 0.000000, acc.: 100.00%] [G loss: 271.119171]\n"
     ]
    },
    {
     "name": "stderr",
     "output_type": "stream",
     "text": [
      " 47%|████▋     | 142/301 [06:54<07:45,  2.93s/it]"
     ]
    },
    {
     "name": "stdout",
     "output_type": "stream",
     "text": [
      "141 [D loss: 0.000000, acc.: 100.00%] [G loss: 216.044601]\n"
     ]
    },
    {
     "name": "stderr",
     "output_type": "stream",
     "text": [
      " 48%|████▊     | 143/301 [06:57<07:37,  2.89s/it]"
     ]
    },
    {
     "name": "stdout",
     "output_type": "stream",
     "text": [
      "142 [D loss: 0.000000, acc.: 100.00%] [G loss: 259.100403]\n"
     ]
    },
    {
     "name": "stderr",
     "output_type": "stream",
     "text": [
      " 48%|████▊     | 144/301 [07:00<07:38,  2.92s/it]"
     ]
    },
    {
     "name": "stdout",
     "output_type": "stream",
     "text": [
      "143 [D loss: 0.000000, acc.: 100.00%] [G loss: 283.723328]\n"
     ]
    },
    {
     "name": "stderr",
     "output_type": "stream",
     "text": [
      " 48%|████▊     | 145/301 [07:03<07:34,  2.91s/it]"
     ]
    },
    {
     "name": "stdout",
     "output_type": "stream",
     "text": [
      "144 [D loss: 0.000000, acc.: 100.00%] [G loss: 268.775269]\n"
     ]
    },
    {
     "name": "stderr",
     "output_type": "stream",
     "text": [
      " 49%|████▊     | 146/301 [07:06<07:27,  2.89s/it]"
     ]
    },
    {
     "name": "stdout",
     "output_type": "stream",
     "text": [
      "145 [D loss: 0.000000, acc.: 100.00%] [G loss: 275.361389]\n"
     ]
    },
    {
     "name": "stderr",
     "output_type": "stream",
     "text": [
      " 49%|████▉     | 147/301 [07:09<07:23,  2.88s/it]"
     ]
    },
    {
     "name": "stdout",
     "output_type": "stream",
     "text": [
      "146 [D loss: 0.000000, acc.: 100.00%] [G loss: 235.820175]\n"
     ]
    },
    {
     "name": "stderr",
     "output_type": "stream",
     "text": [
      " 49%|████▉     | 148/301 [07:11<07:19,  2.87s/it]"
     ]
    },
    {
     "name": "stdout",
     "output_type": "stream",
     "text": [
      "147 [D loss: 0.000000, acc.: 100.00%] [G loss: 238.884155]\n"
     ]
    },
    {
     "name": "stderr",
     "output_type": "stream",
     "text": [
      " 50%|████▉     | 149/301 [07:14<07:17,  2.88s/it]"
     ]
    },
    {
     "name": "stdout",
     "output_type": "stream",
     "text": [
      "148 [D loss: 0.000000, acc.: 100.00%] [G loss: 281.107239]\n"
     ]
    },
    {
     "name": "stderr",
     "output_type": "stream",
     "text": [
      " 50%|████▉     | 150/301 [07:17<07:13,  2.87s/it]"
     ]
    },
    {
     "name": "stdout",
     "output_type": "stream",
     "text": [
      "149 [D loss: 0.000000, acc.: 100.00%] [G loss: 242.469070]\n"
     ]
    },
    {
     "name": "stderr",
     "output_type": "stream",
     "text": [
      " 50%|█████     | 151/301 [07:20<07:16,  2.91s/it]"
     ]
    },
    {
     "name": "stdout",
     "output_type": "stream",
     "text": [
      "150 [D loss: 0.000000, acc.: 100.00%] [G loss: 289.102020]\n"
     ]
    },
    {
     "name": "stderr",
     "output_type": "stream",
     "text": [
      " 50%|█████     | 152/301 [07:23<07:11,  2.89s/it]"
     ]
    },
    {
     "name": "stdout",
     "output_type": "stream",
     "text": [
      "151 [D loss: 0.000000, acc.: 100.00%] [G loss: 213.507874]\n"
     ]
    },
    {
     "name": "stderr",
     "output_type": "stream",
     "text": [
      " 51%|█████     | 153/301 [07:26<07:06,  2.89s/it]"
     ]
    },
    {
     "name": "stdout",
     "output_type": "stream",
     "text": [
      "152 [D loss: 0.000000, acc.: 100.00%] [G loss: 229.274170]\n"
     ]
    },
    {
     "name": "stderr",
     "output_type": "stream",
     "text": [
      " 51%|█████     | 154/301 [07:29<07:03,  2.88s/it]"
     ]
    },
    {
     "name": "stdout",
     "output_type": "stream",
     "text": [
      "153 [D loss: 0.000000, acc.: 100.00%] [G loss: 263.644958]\n"
     ]
    },
    {
     "name": "stderr",
     "output_type": "stream",
     "text": [
      " 51%|█████▏    | 155/301 [07:32<06:58,  2.86s/it]"
     ]
    },
    {
     "name": "stdout",
     "output_type": "stream",
     "text": [
      "154 [D loss: 0.000000, acc.: 100.00%] [G loss: 311.946350]\n"
     ]
    },
    {
     "name": "stderr",
     "output_type": "stream",
     "text": [
      " 52%|█████▏    | 156/301 [07:34<06:52,  2.85s/it]"
     ]
    },
    {
     "name": "stdout",
     "output_type": "stream",
     "text": [
      "155 [D loss: 0.000000, acc.: 100.00%] [G loss: 241.265518]\n"
     ]
    },
    {
     "name": "stderr",
     "output_type": "stream",
     "text": [
      " 52%|█████▏    | 157/301 [07:37<06:49,  2.84s/it]"
     ]
    },
    {
     "name": "stdout",
     "output_type": "stream",
     "text": [
      "156 [D loss: 0.000000, acc.: 100.00%] [G loss: 258.903748]\n"
     ]
    },
    {
     "name": "stderr",
     "output_type": "stream",
     "text": [
      " 52%|█████▏    | 158/301 [07:40<06:48,  2.86s/it]"
     ]
    },
    {
     "name": "stdout",
     "output_type": "stream",
     "text": [
      "157 [D loss: 0.000000, acc.: 100.00%] [G loss: 294.673126]\n"
     ]
    },
    {
     "name": "stderr",
     "output_type": "stream",
     "text": [
      " 53%|█████▎    | 159/301 [07:43<06:48,  2.88s/it]"
     ]
    },
    {
     "name": "stdout",
     "output_type": "stream",
     "text": [
      "158 [D loss: 0.000000, acc.: 100.00%] [G loss: 312.744080]\n"
     ]
    },
    {
     "name": "stderr",
     "output_type": "stream",
     "text": [
      " 53%|█████▎    | 160/301 [07:46<06:42,  2.85s/it]"
     ]
    },
    {
     "name": "stdout",
     "output_type": "stream",
     "text": [
      "159 [D loss: 0.000000, acc.: 100.00%] [G loss: 280.873291]\n"
     ]
    },
    {
     "name": "stderr",
     "output_type": "stream",
     "text": [
      " 53%|█████▎    | 161/301 [07:49<06:36,  2.83s/it]"
     ]
    },
    {
     "name": "stdout",
     "output_type": "stream",
     "text": [
      "160 [D loss: 0.000000, acc.: 100.00%] [G loss: 298.833191]\n"
     ]
    },
    {
     "name": "stderr",
     "output_type": "stream",
     "text": [
      " 54%|█████▍    | 162/301 [07:52<06:42,  2.89s/it]"
     ]
    },
    {
     "name": "stdout",
     "output_type": "stream",
     "text": [
      "161 [D loss: 0.000000, acc.: 100.00%] [G loss: 265.942627]\n"
     ]
    },
    {
     "name": "stderr",
     "output_type": "stream",
     "text": [
      " 54%|█████▍    | 163/301 [07:55<06:49,  2.97s/it]"
     ]
    },
    {
     "name": "stdout",
     "output_type": "stream",
     "text": [
      "162 [D loss: 0.000000, acc.: 100.00%] [G loss: 289.881958]\n"
     ]
    },
    {
     "name": "stderr",
     "output_type": "stream",
     "text": [
      " 54%|█████▍    | 164/301 [07:58<06:38,  2.91s/it]"
     ]
    },
    {
     "name": "stdout",
     "output_type": "stream",
     "text": [
      "163 [D loss: 0.000000, acc.: 100.00%] [G loss: 259.905029]\n"
     ]
    },
    {
     "name": "stderr",
     "output_type": "stream",
     "text": [
      " 55%|█████▍    | 165/301 [08:00<06:31,  2.88s/it]"
     ]
    },
    {
     "name": "stdout",
     "output_type": "stream",
     "text": [
      "164 [D loss: 0.000000, acc.: 100.00%] [G loss: 264.817139]\n"
     ]
    },
    {
     "name": "stderr",
     "output_type": "stream",
     "text": [
      " 55%|█████▌    | 166/301 [08:03<06:25,  2.86s/it]"
     ]
    },
    {
     "name": "stdout",
     "output_type": "stream",
     "text": [
      "165 [D loss: 0.000000, acc.: 100.00%] [G loss: 226.074097]\n"
     ]
    },
    {
     "name": "stderr",
     "output_type": "stream",
     "text": [
      " 55%|█████▌    | 167/301 [08:06<06:26,  2.89s/it]"
     ]
    },
    {
     "name": "stdout",
     "output_type": "stream",
     "text": [
      "166 [D loss: 0.000000, acc.: 100.00%] [G loss: 272.768250]\n"
     ]
    },
    {
     "name": "stderr",
     "output_type": "stream",
     "text": [
      " 56%|█████▌    | 168/301 [08:09<06:21,  2.87s/it]"
     ]
    },
    {
     "name": "stdout",
     "output_type": "stream",
     "text": [
      "167 [D loss: 0.000000, acc.: 100.00%] [G loss: 292.147217]\n"
     ]
    },
    {
     "name": "stderr",
     "output_type": "stream",
     "text": [
      " 56%|█████▌    | 169/301 [08:12<06:14,  2.84s/it]"
     ]
    },
    {
     "name": "stdout",
     "output_type": "stream",
     "text": [
      "168 [D loss: 0.000000, acc.: 100.00%] [G loss: 282.007202]\n"
     ]
    },
    {
     "name": "stderr",
     "output_type": "stream",
     "text": [
      " 56%|█████▋    | 170/301 [08:15<06:15,  2.87s/it]"
     ]
    },
    {
     "name": "stdout",
     "output_type": "stream",
     "text": [
      "169 [D loss: 0.000000, acc.: 100.00%] [G loss: 313.366608]\n"
     ]
    },
    {
     "name": "stderr",
     "output_type": "stream",
     "text": [
      " 57%|█████▋    | 171/301 [08:17<06:06,  2.82s/it]"
     ]
    },
    {
     "name": "stdout",
     "output_type": "stream",
     "text": [
      "170 [D loss: 0.000000, acc.: 100.00%] [G loss: 290.530273]\n"
     ]
    },
    {
     "name": "stderr",
     "output_type": "stream",
     "text": [
      " 57%|█████▋    | 172/301 [08:20<06:02,  2.81s/it]"
     ]
    },
    {
     "name": "stdout",
     "output_type": "stream",
     "text": [
      "171 [D loss: 0.000000, acc.: 100.00%] [G loss: 256.164307]\n"
     ]
    },
    {
     "name": "stderr",
     "output_type": "stream",
     "text": [
      " 57%|█████▋    | 173/301 [08:23<06:00,  2.81s/it]"
     ]
    },
    {
     "name": "stdout",
     "output_type": "stream",
     "text": [
      "172 [D loss: 0.000000, acc.: 100.00%] [G loss: 278.360535]\n"
     ]
    },
    {
     "name": "stderr",
     "output_type": "stream",
     "text": [
      " 58%|█████▊    | 174/301 [08:26<05:59,  2.83s/it]"
     ]
    },
    {
     "name": "stdout",
     "output_type": "stream",
     "text": [
      "173 [D loss: 0.000000, acc.: 100.00%] [G loss: 265.427277]\n"
     ]
    },
    {
     "name": "stderr",
     "output_type": "stream",
     "text": [
      " 58%|█████▊    | 175/301 [08:29<05:58,  2.85s/it]"
     ]
    },
    {
     "name": "stdout",
     "output_type": "stream",
     "text": [
      "174 [D loss: 0.000000, acc.: 100.00%] [G loss: 272.848511]\n"
     ]
    },
    {
     "name": "stderr",
     "output_type": "stream",
     "text": [
      " 58%|█████▊    | 176/301 [08:32<05:56,  2.85s/it]"
     ]
    },
    {
     "name": "stdout",
     "output_type": "stream",
     "text": [
      "175 [D loss: 0.000000, acc.: 100.00%] [G loss: 270.382263]\n"
     ]
    },
    {
     "name": "stderr",
     "output_type": "stream",
     "text": [
      " 59%|█████▉    | 177/301 [08:35<05:54,  2.86s/it]"
     ]
    },
    {
     "name": "stdout",
     "output_type": "stream",
     "text": [
      "176 [D loss: 0.076150, acc.: 99.61%] [G loss: 298.649597]\n"
     ]
    },
    {
     "name": "stderr",
     "output_type": "stream",
     "text": [
      " 59%|█████▉    | 178/301 [08:38<05:54,  2.89s/it]"
     ]
    },
    {
     "name": "stdout",
     "output_type": "stream",
     "text": [
      "177 [D loss: 0.000125, acc.: 100.00%] [G loss: 288.729095]\n"
     ]
    },
    {
     "name": "stderr",
     "output_type": "stream",
     "text": [
      " 59%|█████▉    | 179/301 [08:41<06:03,  2.98s/it]"
     ]
    },
    {
     "name": "stdout",
     "output_type": "stream",
     "text": [
      "178 [D loss: 0.000000, acc.: 100.00%] [G loss: 305.712128]\n"
     ]
    },
    {
     "name": "stderr",
     "output_type": "stream",
     "text": [
      " 60%|█████▉    | 180/301 [08:44<05:59,  2.97s/it]"
     ]
    },
    {
     "name": "stdout",
     "output_type": "stream",
     "text": [
      "179 [D loss: 0.000000, acc.: 100.00%] [G loss: 333.091797]\n"
     ]
    },
    {
     "name": "stderr",
     "output_type": "stream",
     "text": [
      " 60%|██████    | 181/301 [08:47<05:54,  2.95s/it]"
     ]
    },
    {
     "name": "stdout",
     "output_type": "stream",
     "text": [
      "180 [D loss: 0.000000, acc.: 100.00%] [G loss: 301.873474]\n"
     ]
    },
    {
     "name": "stderr",
     "output_type": "stream",
     "text": [
      " 60%|██████    | 182/301 [08:49<05:47,  2.92s/it]"
     ]
    },
    {
     "name": "stdout",
     "output_type": "stream",
     "text": [
      "181 [D loss: 0.000000, acc.: 100.00%] [G loss: 314.548553]\n"
     ]
    },
    {
     "name": "stderr",
     "output_type": "stream",
     "text": [
      " 61%|██████    | 183/301 [08:52<05:44,  2.92s/it]"
     ]
    },
    {
     "name": "stdout",
     "output_type": "stream",
     "text": [
      "182 [D loss: 0.000000, acc.: 100.00%] [G loss: 246.712906]\n"
     ]
    },
    {
     "name": "stderr",
     "output_type": "stream",
     "text": [
      " 61%|██████    | 184/301 [08:55<05:39,  2.91s/it]"
     ]
    },
    {
     "name": "stdout",
     "output_type": "stream",
     "text": [
      "183 [D loss: 0.000000, acc.: 100.00%] [G loss: 317.759338]\n"
     ]
    },
    {
     "name": "stderr",
     "output_type": "stream",
     "text": [
      " 61%|██████▏   | 185/301 [08:58<05:39,  2.92s/it]"
     ]
    },
    {
     "name": "stdout",
     "output_type": "stream",
     "text": [
      "184 [D loss: 0.000000, acc.: 100.00%] [G loss: 377.507385]\n"
     ]
    },
    {
     "name": "stderr",
     "output_type": "stream",
     "text": [
      " 62%|██████▏   | 186/301 [09:01<05:40,  2.96s/it]"
     ]
    },
    {
     "name": "stdout",
     "output_type": "stream",
     "text": [
      "185 [D loss: 0.000000, acc.: 100.00%] [G loss: 310.003845]\n"
     ]
    },
    {
     "name": "stderr",
     "output_type": "stream",
     "text": [
      " 62%|██████▏   | 187/301 [09:04<05:40,  2.99s/it]"
     ]
    },
    {
     "name": "stdout",
     "output_type": "stream",
     "text": [
      "186 [D loss: 0.000000, acc.: 100.00%] [G loss: 291.314209]\n"
     ]
    },
    {
     "name": "stderr",
     "output_type": "stream",
     "text": [
      " 62%|██████▏   | 188/301 [09:08<05:47,  3.08s/it]"
     ]
    },
    {
     "name": "stdout",
     "output_type": "stream",
     "text": [
      "187 [D loss: 0.000000, acc.: 100.00%] [G loss: 322.034485]\n"
     ]
    },
    {
     "name": "stderr",
     "output_type": "stream",
     "text": [
      " 63%|██████▎   | 189/301 [09:10<05:37,  3.01s/it]"
     ]
    },
    {
     "name": "stdout",
     "output_type": "stream",
     "text": [
      "188 [D loss: 0.000000, acc.: 100.00%] [G loss: 274.444489]\n"
     ]
    },
    {
     "name": "stderr",
     "output_type": "stream",
     "text": [
      " 63%|██████▎   | 190/301 [09:14<05:43,  3.10s/it]"
     ]
    },
    {
     "name": "stdout",
     "output_type": "stream",
     "text": [
      "189 [D loss: 0.000000, acc.: 100.00%] [G loss: 262.829010]\n"
     ]
    },
    {
     "name": "stderr",
     "output_type": "stream",
     "text": [
      " 63%|██████▎   | 191/301 [09:17<05:36,  3.06s/it]"
     ]
    },
    {
     "name": "stdout",
     "output_type": "stream",
     "text": [
      "190 [D loss: 0.000000, acc.: 100.00%] [G loss: 286.988678]\n"
     ]
    },
    {
     "name": "stderr",
     "output_type": "stream",
     "text": [
      " 64%|██████▍   | 192/301 [09:20<05:32,  3.05s/it]"
     ]
    },
    {
     "name": "stdout",
     "output_type": "stream",
     "text": [
      "191 [D loss: 0.000000, acc.: 100.00%] [G loss: 289.370453]\n"
     ]
    },
    {
     "name": "stderr",
     "output_type": "stream",
     "text": [
      " 64%|██████▍   | 193/301 [09:23<05:34,  3.10s/it]"
     ]
    },
    {
     "name": "stdout",
     "output_type": "stream",
     "text": [
      "192 [D loss: 0.000000, acc.: 100.00%] [G loss: 344.273621]\n"
     ]
    },
    {
     "name": "stderr",
     "output_type": "stream",
     "text": [
      " 64%|██████▍   | 194/301 [09:26<05:25,  3.04s/it]"
     ]
    },
    {
     "name": "stdout",
     "output_type": "stream",
     "text": [
      "193 [D loss: 0.000000, acc.: 100.00%] [G loss: 277.754944]\n"
     ]
    },
    {
     "name": "stderr",
     "output_type": "stream",
     "text": [
      " 65%|██████▍   | 195/301 [09:29<05:19,  3.01s/it]"
     ]
    },
    {
     "name": "stdout",
     "output_type": "stream",
     "text": [
      "194 [D loss: 0.000000, acc.: 100.00%] [G loss: 338.167969]\n"
     ]
    },
    {
     "name": "stderr",
     "output_type": "stream",
     "text": [
      " 65%|██████▌   | 196/301 [09:32<05:13,  2.99s/it]"
     ]
    },
    {
     "name": "stdout",
     "output_type": "stream",
     "text": [
      "195 [D loss: 0.000000, acc.: 100.00%] [G loss: 278.612183]\n"
     ]
    },
    {
     "name": "stderr",
     "output_type": "stream",
     "text": [
      " 65%|██████▌   | 197/301 [09:35<05:07,  2.96s/it]"
     ]
    },
    {
     "name": "stdout",
     "output_type": "stream",
     "text": [
      "196 [D loss: 0.000000, acc.: 100.00%] [G loss: 335.973511]\n"
     ]
    },
    {
     "name": "stderr",
     "output_type": "stream",
     "text": [
      " 66%|██████▌   | 198/301 [09:37<04:58,  2.90s/it]"
     ]
    },
    {
     "name": "stdout",
     "output_type": "stream",
     "text": [
      "197 [D loss: 0.000000, acc.: 100.00%] [G loss: 315.549927]\n"
     ]
    },
    {
     "name": "stderr",
     "output_type": "stream",
     "text": [
      " 66%|██████▌   | 199/301 [09:40<04:53,  2.88s/it]"
     ]
    },
    {
     "name": "stdout",
     "output_type": "stream",
     "text": [
      "198 [D loss: 0.000000, acc.: 100.00%] [G loss: 329.287323]\n"
     ]
    },
    {
     "name": "stderr",
     "output_type": "stream",
     "text": [
      " 66%|██████▋   | 200/301 [09:43<04:48,  2.85s/it]"
     ]
    },
    {
     "name": "stdout",
     "output_type": "stream",
     "text": [
      "199 [D loss: 0.000000, acc.: 100.00%] [G loss: 301.718628]\n",
      "200 [D loss: 0.000000, acc.: 100.00%] [G loss: 278.312927]\n"
     ]
    },
    {
     "name": "stderr",
     "output_type": "stream",
     "text": [
      "\n",
      "Synthetic data generation:   0%|          | 0/8 [00:00<?, ?it/s]\u001B[A\n",
      "Synthetic data generation:  38%|███▊      | 3/8 [00:00<00:00, 23.98it/s]\u001B[A\n",
      "Synthetic data generation: 100%|██████████| 8/8 [00:00<00:00, 24.80it/s]\u001B[A\n",
      " 67%|██████▋   | 202/301 [09:49<04:46,  2.90s/it]"
     ]
    },
    {
     "name": "stdout",
     "output_type": "stream",
     "text": [
      "201 [D loss: 0.000000, acc.: 100.00%] [G loss: 312.257843]\n"
     ]
    },
    {
     "name": "stderr",
     "output_type": "stream",
     "text": [
      " 67%|██████▋   | 203/301 [09:52<04:40,  2.86s/it]"
     ]
    },
    {
     "name": "stdout",
     "output_type": "stream",
     "text": [
      "202 [D loss: 0.000000, acc.: 100.00%] [G loss: 373.212311]\n"
     ]
    },
    {
     "name": "stderr",
     "output_type": "stream",
     "text": [
      " 68%|██████▊   | 204/301 [09:54<04:35,  2.84s/it]"
     ]
    },
    {
     "name": "stdout",
     "output_type": "stream",
     "text": [
      "203 [D loss: 0.000000, acc.: 100.00%] [G loss: 379.162262]\n"
     ]
    },
    {
     "name": "stderr",
     "output_type": "stream",
     "text": [
      " 68%|██████▊   | 205/301 [09:57<04:32,  2.84s/it]"
     ]
    },
    {
     "name": "stdout",
     "output_type": "stream",
     "text": [
      "204 [D loss: 0.000000, acc.: 100.00%] [G loss: 359.806702]\n"
     ]
    },
    {
     "name": "stderr",
     "output_type": "stream",
     "text": [
      " 68%|██████▊   | 206/301 [10:00<04:30,  2.85s/it]"
     ]
    },
    {
     "name": "stdout",
     "output_type": "stream",
     "text": [
      "205 [D loss: 0.000000, acc.: 100.00%] [G loss: 344.520325]\n"
     ]
    },
    {
     "name": "stderr",
     "output_type": "stream",
     "text": [
      " 69%|██████▉   | 207/301 [10:03<04:31,  2.89s/it]"
     ]
    },
    {
     "name": "stdout",
     "output_type": "stream",
     "text": [
      "206 [D loss: 0.000000, acc.: 100.00%] [G loss: 331.128174]\n"
     ]
    },
    {
     "name": "stderr",
     "output_type": "stream",
     "text": [
      " 69%|██████▉   | 208/301 [10:06<04:31,  2.92s/it]"
     ]
    },
    {
     "name": "stdout",
     "output_type": "stream",
     "text": [
      "207 [D loss: 0.000000, acc.: 100.00%] [G loss: 326.148407]\n"
     ]
    },
    {
     "name": "stderr",
     "output_type": "stream",
     "text": [
      " 69%|██████▉   | 209/301 [10:09<04:31,  2.95s/it]"
     ]
    },
    {
     "name": "stdout",
     "output_type": "stream",
     "text": [
      "208 [D loss: 0.000000, acc.: 100.00%] [G loss: 333.391937]\n"
     ]
    },
    {
     "name": "stderr",
     "output_type": "stream",
     "text": [
      " 70%|██████▉   | 210/301 [10:12<04:31,  2.98s/it]"
     ]
    },
    {
     "name": "stdout",
     "output_type": "stream",
     "text": [
      "209 [D loss: 0.000000, acc.: 100.00%] [G loss: 389.500610]\n"
     ]
    },
    {
     "name": "stderr",
     "output_type": "stream",
     "text": [
      " 70%|███████   | 211/301 [10:15<04:27,  2.97s/it]"
     ]
    },
    {
     "name": "stdout",
     "output_type": "stream",
     "text": [
      "210 [D loss: 0.000000, acc.: 100.00%] [G loss: 352.761780]\n"
     ]
    },
    {
     "name": "stderr",
     "output_type": "stream",
     "text": [
      " 70%|███████   | 212/301 [10:18<04:21,  2.93s/it]"
     ]
    },
    {
     "name": "stdout",
     "output_type": "stream",
     "text": [
      "211 [D loss: 0.000000, acc.: 100.00%] [G loss: 349.438477]\n"
     ]
    },
    {
     "name": "stderr",
     "output_type": "stream",
     "text": [
      " 71%|███████   | 213/301 [10:21<04:20,  2.96s/it]"
     ]
    },
    {
     "name": "stdout",
     "output_type": "stream",
     "text": [
      "212 [D loss: 0.000000, acc.: 100.00%] [G loss: 329.312439]\n"
     ]
    },
    {
     "name": "stderr",
     "output_type": "stream",
     "text": [
      " 71%|███████   | 214/301 [10:24<04:17,  2.96s/it]"
     ]
    },
    {
     "name": "stdout",
     "output_type": "stream",
     "text": [
      "213 [D loss: 0.000000, acc.: 100.00%] [G loss: 380.895081]\n"
     ]
    },
    {
     "name": "stderr",
     "output_type": "stream",
     "text": [
      " 71%|███████▏  | 215/301 [10:27<04:13,  2.94s/it]"
     ]
    },
    {
     "name": "stdout",
     "output_type": "stream",
     "text": [
      "214 [D loss: 0.000000, acc.: 100.00%] [G loss: 342.168610]\n"
     ]
    },
    {
     "name": "stderr",
     "output_type": "stream",
     "text": [
      " 72%|███████▏  | 216/301 [10:30<04:11,  2.95s/it]"
     ]
    },
    {
     "name": "stdout",
     "output_type": "stream",
     "text": [
      "215 [D loss: 0.000000, acc.: 100.00%] [G loss: 305.538177]\n"
     ]
    },
    {
     "name": "stderr",
     "output_type": "stream",
     "text": [
      " 72%|███████▏  | 217/301 [10:33<04:05,  2.93s/it]"
     ]
    },
    {
     "name": "stdout",
     "output_type": "stream",
     "text": [
      "216 [D loss: 0.000000, acc.: 100.00%] [G loss: 366.366394]\n"
     ]
    },
    {
     "name": "stderr",
     "output_type": "stream",
     "text": [
      " 72%|███████▏  | 218/301 [10:36<04:03,  2.93s/it]"
     ]
    },
    {
     "name": "stdout",
     "output_type": "stream",
     "text": [
      "217 [D loss: 0.000000, acc.: 100.00%] [G loss: 314.954132]\n"
     ]
    },
    {
     "name": "stderr",
     "output_type": "stream",
     "text": [
      " 73%|███████▎  | 219/301 [10:39<03:57,  2.90s/it]"
     ]
    },
    {
     "name": "stdout",
     "output_type": "stream",
     "text": [
      "218 [D loss: 0.000000, acc.: 100.00%] [G loss: 323.245178]\n"
     ]
    },
    {
     "name": "stderr",
     "output_type": "stream",
     "text": [
      " 73%|███████▎  | 220/301 [10:41<03:53,  2.88s/it]"
     ]
    },
    {
     "name": "stdout",
     "output_type": "stream",
     "text": [
      "219 [D loss: 0.000001, acc.: 100.00%] [G loss: 288.404053]\n"
     ]
    },
    {
     "name": "stderr",
     "output_type": "stream",
     "text": [
      " 73%|███████▎  | 221/301 [10:44<03:49,  2.87s/it]"
     ]
    },
    {
     "name": "stdout",
     "output_type": "stream",
     "text": [
      "220 [D loss: 0.000000, acc.: 100.00%] [G loss: 361.022430]\n"
     ]
    },
    {
     "name": "stderr",
     "output_type": "stream",
     "text": [
      " 74%|███████▍  | 222/301 [10:47<03:53,  2.95s/it]"
     ]
    },
    {
     "name": "stdout",
     "output_type": "stream",
     "text": [
      "221 [D loss: 0.000000, acc.: 100.00%] [G loss: 361.743866]\n"
     ]
    },
    {
     "name": "stderr",
     "output_type": "stream",
     "text": [
      " 74%|███████▍  | 223/301 [10:50<03:51,  2.97s/it]"
     ]
    },
    {
     "name": "stdout",
     "output_type": "stream",
     "text": [
      "222 [D loss: 0.000000, acc.: 100.00%] [G loss: 287.375275]\n"
     ]
    },
    {
     "name": "stderr",
     "output_type": "stream",
     "text": [
      " 74%|███████▍  | 224/301 [10:53<03:46,  2.94s/it]"
     ]
    },
    {
     "name": "stdout",
     "output_type": "stream",
     "text": [
      "223 [D loss: 0.000000, acc.: 100.00%] [G loss: 334.373138]\n"
     ]
    },
    {
     "name": "stderr",
     "output_type": "stream",
     "text": [
      " 75%|███████▍  | 225/301 [10:56<03:43,  2.95s/it]"
     ]
    },
    {
     "name": "stdout",
     "output_type": "stream",
     "text": [
      "224 [D loss: 0.000000, acc.: 100.00%] [G loss: 346.957397]\n"
     ]
    },
    {
     "name": "stderr",
     "output_type": "stream",
     "text": [
      " 75%|███████▌  | 226/301 [10:59<03:40,  2.94s/it]"
     ]
    },
    {
     "name": "stdout",
     "output_type": "stream",
     "text": [
      "225 [D loss: 0.000000, acc.: 100.00%] [G loss: 325.959473]\n"
     ]
    },
    {
     "name": "stderr",
     "output_type": "stream",
     "text": [
      " 75%|███████▌  | 227/301 [11:02<03:36,  2.93s/it]"
     ]
    },
    {
     "name": "stdout",
     "output_type": "stream",
     "text": [
      "226 [D loss: 0.000000, acc.: 100.00%] [G loss: 313.145874]\n"
     ]
    },
    {
     "name": "stderr",
     "output_type": "stream",
     "text": [
      " 76%|███████▌  | 228/301 [11:05<03:33,  2.92s/it]"
     ]
    },
    {
     "name": "stdout",
     "output_type": "stream",
     "text": [
      "227 [D loss: 0.000000, acc.: 100.00%] [G loss: 365.372742]\n"
     ]
    },
    {
     "name": "stderr",
     "output_type": "stream",
     "text": [
      " 76%|███████▌  | 229/301 [11:08<03:30,  2.92s/it]"
     ]
    },
    {
     "name": "stdout",
     "output_type": "stream",
     "text": [
      "228 [D loss: 0.000000, acc.: 100.00%] [G loss: 362.942749]\n"
     ]
    },
    {
     "name": "stderr",
     "output_type": "stream",
     "text": [
      " 76%|███████▋  | 230/301 [11:11<03:29,  2.95s/it]"
     ]
    },
    {
     "name": "stdout",
     "output_type": "stream",
     "text": [
      "229 [D loss: 0.000000, acc.: 100.00%] [G loss: 309.338257]\n"
     ]
    },
    {
     "name": "stderr",
     "output_type": "stream",
     "text": [
      " 77%|███████▋  | 231/301 [11:14<03:23,  2.91s/it]"
     ]
    },
    {
     "name": "stdout",
     "output_type": "stream",
     "text": [
      "230 [D loss: 0.000000, acc.: 100.00%] [G loss: 346.865784]\n"
     ]
    },
    {
     "name": "stderr",
     "output_type": "stream",
     "text": [
      " 77%|███████▋  | 232/301 [11:16<03:18,  2.88s/it]"
     ]
    },
    {
     "name": "stdout",
     "output_type": "stream",
     "text": [
      "231 [D loss: 0.000000, acc.: 100.00%] [G loss: 310.025940]\n"
     ]
    },
    {
     "name": "stderr",
     "output_type": "stream",
     "text": [
      " 77%|███████▋  | 233/301 [11:19<03:16,  2.89s/it]"
     ]
    },
    {
     "name": "stdout",
     "output_type": "stream",
     "text": [
      "232 [D loss: 0.000000, acc.: 100.00%] [G loss: 316.508911]\n"
     ]
    },
    {
     "name": "stderr",
     "output_type": "stream",
     "text": [
      " 78%|███████▊  | 234/301 [11:22<03:11,  2.86s/it]"
     ]
    },
    {
     "name": "stdout",
     "output_type": "stream",
     "text": [
      "233 [D loss: 0.000000, acc.: 100.00%] [G loss: 370.711182]\n"
     ]
    },
    {
     "name": "stderr",
     "output_type": "stream",
     "text": [
      " 78%|███████▊  | 235/301 [11:25<03:08,  2.86s/it]"
     ]
    },
    {
     "name": "stdout",
     "output_type": "stream",
     "text": [
      "234 [D loss: 0.000000, acc.: 100.00%] [G loss: 317.490448]\n"
     ]
    },
    {
     "name": "stderr",
     "output_type": "stream",
     "text": [
      " 78%|███████▊  | 236/301 [11:28<03:07,  2.88s/it]"
     ]
    },
    {
     "name": "stdout",
     "output_type": "stream",
     "text": [
      "235 [D loss: 0.000000, acc.: 100.00%] [G loss: 301.789673]\n"
     ]
    },
    {
     "name": "stderr",
     "output_type": "stream",
     "text": [
      " 79%|███████▊  | 237/301 [11:31<03:04,  2.89s/it]"
     ]
    },
    {
     "name": "stdout",
     "output_type": "stream",
     "text": [
      "236 [D loss: 0.000000, acc.: 100.00%] [G loss: 377.712524]\n"
     ]
    },
    {
     "name": "stderr",
     "output_type": "stream",
     "text": [
      " 79%|███████▉  | 238/301 [11:34<03:03,  2.91s/it]"
     ]
    },
    {
     "name": "stdout",
     "output_type": "stream",
     "text": [
      "237 [D loss: 0.000000, acc.: 100.00%] [G loss: 253.015839]\n"
     ]
    },
    {
     "name": "stderr",
     "output_type": "stream",
     "text": [
      " 79%|███████▉  | 239/301 [11:37<02:58,  2.88s/it]"
     ]
    },
    {
     "name": "stdout",
     "output_type": "stream",
     "text": [
      "238 [D loss: 0.000000, acc.: 100.00%] [G loss: 350.165375]\n"
     ]
    },
    {
     "name": "stderr",
     "output_type": "stream",
     "text": [
      " 80%|███████▉  | 240/301 [11:40<02:56,  2.90s/it]"
     ]
    },
    {
     "name": "stdout",
     "output_type": "stream",
     "text": [
      "239 [D loss: 0.000000, acc.: 100.00%] [G loss: 339.631714]\n"
     ]
    },
    {
     "name": "stderr",
     "output_type": "stream",
     "text": [
      " 80%|████████  | 241/301 [11:43<02:57,  2.96s/it]"
     ]
    },
    {
     "name": "stdout",
     "output_type": "stream",
     "text": [
      "240 [D loss: 0.000000, acc.: 100.00%] [G loss: 312.448120]\n"
     ]
    },
    {
     "name": "stderr",
     "output_type": "stream",
     "text": [
      " 80%|████████  | 242/301 [11:46<02:54,  2.96s/it]"
     ]
    },
    {
     "name": "stdout",
     "output_type": "stream",
     "text": [
      "241 [D loss: 0.000000, acc.: 100.00%] [G loss: 393.220123]\n"
     ]
    },
    {
     "name": "stderr",
     "output_type": "stream",
     "text": [
      " 81%|████████  | 243/301 [11:49<02:50,  2.95s/it]"
     ]
    },
    {
     "name": "stdout",
     "output_type": "stream",
     "text": [
      "242 [D loss: 0.000000, acc.: 100.00%] [G loss: 382.679993]\n"
     ]
    },
    {
     "name": "stderr",
     "output_type": "stream",
     "text": [
      " 81%|████████  | 244/301 [11:51<02:45,  2.90s/it]"
     ]
    },
    {
     "name": "stdout",
     "output_type": "stream",
     "text": [
      "243 [D loss: 0.000000, acc.: 100.00%] [G loss: 377.975647]\n"
     ]
    },
    {
     "name": "stderr",
     "output_type": "stream",
     "text": [
      " 81%|████████▏ | 245/301 [11:54<02:40,  2.87s/it]"
     ]
    },
    {
     "name": "stdout",
     "output_type": "stream",
     "text": [
      "244 [D loss: 0.000000, acc.: 100.00%] [G loss: 451.263916]\n"
     ]
    },
    {
     "name": "stderr",
     "output_type": "stream",
     "text": [
      " 82%|████████▏ | 246/301 [11:57<02:36,  2.85s/it]"
     ]
    },
    {
     "name": "stdout",
     "output_type": "stream",
     "text": [
      "245 [D loss: 0.000000, acc.: 100.00%] [G loss: 342.393921]\n"
     ]
    },
    {
     "name": "stderr",
     "output_type": "stream",
     "text": [
      " 82%|████████▏ | 247/301 [12:00<02:34,  2.85s/it]"
     ]
    },
    {
     "name": "stdout",
     "output_type": "stream",
     "text": [
      "246 [D loss: 0.000000, acc.: 100.00%] [G loss: 283.063538]\n"
     ]
    },
    {
     "name": "stderr",
     "output_type": "stream",
     "text": [
      " 82%|████████▏ | 248/301 [12:03<02:33,  2.90s/it]"
     ]
    },
    {
     "name": "stdout",
     "output_type": "stream",
     "text": [
      "247 [D loss: 0.000000, acc.: 100.00%] [G loss: 366.386353]\n"
     ]
    },
    {
     "name": "stderr",
     "output_type": "stream",
     "text": [
      " 83%|████████▎ | 249/301 [12:06<02:30,  2.89s/it]"
     ]
    },
    {
     "name": "stdout",
     "output_type": "stream",
     "text": [
      "248 [D loss: 0.000000, acc.: 100.00%] [G loss: 386.242035]\n"
     ]
    },
    {
     "name": "stderr",
     "output_type": "stream",
     "text": [
      " 83%|████████▎ | 250/301 [12:09<02:26,  2.88s/it]"
     ]
    },
    {
     "name": "stdout",
     "output_type": "stream",
     "text": [
      "249 [D loss: 0.000000, acc.: 100.00%] [G loss: 339.888916]\n"
     ]
    },
    {
     "name": "stderr",
     "output_type": "stream",
     "text": [
      " 83%|████████▎ | 251/301 [12:12<02:25,  2.92s/it]"
     ]
    },
    {
     "name": "stdout",
     "output_type": "stream",
     "text": [
      "250 [D loss: 0.000000, acc.: 100.00%] [G loss: 359.291077]\n"
     ]
    },
    {
     "name": "stderr",
     "output_type": "stream",
     "text": [
      " 84%|████████▎ | 252/301 [12:15<02:28,  3.03s/it]"
     ]
    },
    {
     "name": "stdout",
     "output_type": "stream",
     "text": [
      "251 [D loss: 0.000000, acc.: 100.00%] [G loss: 377.478577]\n"
     ]
    },
    {
     "name": "stderr",
     "output_type": "stream",
     "text": [
      " 84%|████████▍ | 253/301 [12:18<02:23,  2.99s/it]"
     ]
    },
    {
     "name": "stdout",
     "output_type": "stream",
     "text": [
      "252 [D loss: 0.000000, acc.: 100.00%] [G loss: 389.388550]\n"
     ]
    },
    {
     "name": "stderr",
     "output_type": "stream",
     "text": [
      " 84%|████████▍ | 254/301 [12:21<02:21,  3.01s/it]"
     ]
    },
    {
     "name": "stdout",
     "output_type": "stream",
     "text": [
      "253 [D loss: 0.000000, acc.: 100.00%] [G loss: 303.350708]\n"
     ]
    },
    {
     "name": "stderr",
     "output_type": "stream",
     "text": [
      " 85%|████████▍ | 255/301 [12:24<02:18,  3.01s/it]"
     ]
    },
    {
     "name": "stdout",
     "output_type": "stream",
     "text": [
      "254 [D loss: 0.000000, acc.: 100.00%] [G loss: 382.905640]\n"
     ]
    },
    {
     "name": "stderr",
     "output_type": "stream",
     "text": [
      " 85%|████████▌ | 256/301 [12:27<02:17,  3.06s/it]"
     ]
    },
    {
     "name": "stdout",
     "output_type": "stream",
     "text": [
      "255 [D loss: 0.000000, acc.: 100.00%] [G loss: 395.897858]\n"
     ]
    },
    {
     "name": "stderr",
     "output_type": "stream",
     "text": [
      " 85%|████████▌ | 257/301 [12:30<02:14,  3.06s/it]"
     ]
    },
    {
     "name": "stdout",
     "output_type": "stream",
     "text": [
      "256 [D loss: 0.000000, acc.: 100.00%] [G loss: 375.221710]\n"
     ]
    },
    {
     "name": "stderr",
     "output_type": "stream",
     "text": [
      " 86%|████████▌ | 258/301 [12:33<02:09,  3.01s/it]"
     ]
    },
    {
     "name": "stdout",
     "output_type": "stream",
     "text": [
      "257 [D loss: 0.000000, acc.: 100.00%] [G loss: 357.297333]\n"
     ]
    },
    {
     "name": "stderr",
     "output_type": "stream",
     "text": [
      " 86%|████████▌ | 259/301 [12:36<02:04,  2.97s/it]"
     ]
    },
    {
     "name": "stdout",
     "output_type": "stream",
     "text": [
      "258 [D loss: 0.000000, acc.: 100.00%] [G loss: 392.576477]\n"
     ]
    },
    {
     "name": "stderr",
     "output_type": "stream",
     "text": [
      " 86%|████████▋ | 260/301 [12:39<02:00,  2.94s/it]"
     ]
    },
    {
     "name": "stdout",
     "output_type": "stream",
     "text": [
      "259 [D loss: 0.000000, acc.: 100.00%] [G loss: 423.186798]\n"
     ]
    },
    {
     "name": "stderr",
     "output_type": "stream",
     "text": [
      " 87%|████████▋ | 261/301 [12:42<01:57,  2.93s/it]"
     ]
    },
    {
     "name": "stdout",
     "output_type": "stream",
     "text": [
      "260 [D loss: 0.000000, acc.: 100.00%] [G loss: 385.916870]\n"
     ]
    },
    {
     "name": "stderr",
     "output_type": "stream",
     "text": [
      " 87%|████████▋ | 262/301 [12:45<01:57,  3.01s/it]"
     ]
    },
    {
     "name": "stdout",
     "output_type": "stream",
     "text": [
      "261 [D loss: 0.000000, acc.: 100.00%] [G loss: 379.176941]\n"
     ]
    },
    {
     "name": "stderr",
     "output_type": "stream",
     "text": [
      " 87%|████████▋ | 263/301 [12:48<01:53,  2.97s/it]"
     ]
    },
    {
     "name": "stdout",
     "output_type": "stream",
     "text": [
      "262 [D loss: 0.000000, acc.: 100.00%] [G loss: 407.041931]\n"
     ]
    },
    {
     "name": "stderr",
     "output_type": "stream",
     "text": [
      " 88%|████████▊ | 264/301 [12:51<01:48,  2.93s/it]"
     ]
    },
    {
     "name": "stdout",
     "output_type": "stream",
     "text": [
      "263 [D loss: 0.000000, acc.: 100.00%] [G loss: 408.261597]\n"
     ]
    },
    {
     "name": "stderr",
     "output_type": "stream",
     "text": [
      " 88%|████████▊ | 265/301 [12:53<01:44,  2.90s/it]"
     ]
    },
    {
     "name": "stdout",
     "output_type": "stream",
     "text": [
      "264 [D loss: 0.000000, acc.: 100.00%] [G loss: 400.979675]\n"
     ]
    },
    {
     "name": "stderr",
     "output_type": "stream",
     "text": [
      " 88%|████████▊ | 266/301 [12:56<01:40,  2.87s/it]"
     ]
    },
    {
     "name": "stdout",
     "output_type": "stream",
     "text": [
      "265 [D loss: 0.000000, acc.: 100.00%] [G loss: 377.763489]\n"
     ]
    },
    {
     "name": "stderr",
     "output_type": "stream",
     "text": [
      " 89%|████████▊ | 267/301 [12:59<01:36,  2.85s/it]"
     ]
    },
    {
     "name": "stdout",
     "output_type": "stream",
     "text": [
      "266 [D loss: 0.000000, acc.: 100.00%] [G loss: 425.467010]\n"
     ]
    },
    {
     "name": "stderr",
     "output_type": "stream",
     "text": [
      " 89%|████████▉ | 268/301 [13:02<01:33,  2.83s/it]"
     ]
    },
    {
     "name": "stdout",
     "output_type": "stream",
     "text": [
      "267 [D loss: 0.000000, acc.: 100.00%] [G loss: 320.184998]\n"
     ]
    },
    {
     "name": "stderr",
     "output_type": "stream",
     "text": [
      " 89%|████████▉ | 269/301 [13:04<01:30,  2.81s/it]"
     ]
    },
    {
     "name": "stdout",
     "output_type": "stream",
     "text": [
      "268 [D loss: 0.000000, acc.: 100.00%] [G loss: 425.840454]\n"
     ]
    },
    {
     "name": "stderr",
     "output_type": "stream",
     "text": [
      " 90%|████████▉ | 270/301 [13:07<01:26,  2.81s/it]"
     ]
    },
    {
     "name": "stdout",
     "output_type": "stream",
     "text": [
      "269 [D loss: 0.000000, acc.: 100.00%] [G loss: 366.570312]\n"
     ]
    },
    {
     "name": "stderr",
     "output_type": "stream",
     "text": [
      " 90%|█████████ | 271/301 [13:10<01:24,  2.80s/it]"
     ]
    },
    {
     "name": "stdout",
     "output_type": "stream",
     "text": [
      "270 [D loss: 0.000000, acc.: 100.00%] [G loss: 393.653778]\n"
     ]
    },
    {
     "name": "stderr",
     "output_type": "stream",
     "text": [
      " 90%|█████████ | 272/301 [13:13<01:21,  2.79s/it]"
     ]
    },
    {
     "name": "stdout",
     "output_type": "stream",
     "text": [
      "271 [D loss: 0.000000, acc.: 100.00%] [G loss: 378.922668]\n"
     ]
    },
    {
     "name": "stderr",
     "output_type": "stream",
     "text": [
      " 91%|█████████ | 273/301 [13:16<01:20,  2.87s/it]"
     ]
    },
    {
     "name": "stdout",
     "output_type": "stream",
     "text": [
      "272 [D loss: 0.000000, acc.: 100.00%] [G loss: 361.521881]\n"
     ]
    },
    {
     "name": "stderr",
     "output_type": "stream",
     "text": [
      " 91%|█████████ | 274/301 [13:19<01:17,  2.87s/it]"
     ]
    },
    {
     "name": "stdout",
     "output_type": "stream",
     "text": [
      "273 [D loss: 0.000000, acc.: 100.00%] [G loss: 403.267975]\n"
     ]
    },
    {
     "name": "stderr",
     "output_type": "stream",
     "text": [
      " 91%|█████████▏| 275/301 [13:22<01:14,  2.86s/it]"
     ]
    },
    {
     "name": "stdout",
     "output_type": "stream",
     "text": [
      "274 [D loss: 0.000000, acc.: 100.00%] [G loss: 413.726837]\n"
     ]
    },
    {
     "name": "stderr",
     "output_type": "stream",
     "text": [
      " 92%|█████████▏| 276/301 [13:24<01:10,  2.83s/it]"
     ]
    },
    {
     "name": "stdout",
     "output_type": "stream",
     "text": [
      "275 [D loss: 0.000000, acc.: 100.00%] [G loss: 423.637787]\n"
     ]
    },
    {
     "name": "stderr",
     "output_type": "stream",
     "text": [
      " 92%|█████████▏| 277/301 [13:27<01:08,  2.86s/it]"
     ]
    },
    {
     "name": "stdout",
     "output_type": "stream",
     "text": [
      "276 [D loss: 0.000000, acc.: 100.00%] [G loss: 407.661865]\n"
     ]
    },
    {
     "name": "stderr",
     "output_type": "stream",
     "text": [
      " 92%|█████████▏| 278/301 [13:30<01:06,  2.90s/it]"
     ]
    },
    {
     "name": "stdout",
     "output_type": "stream",
     "text": [
      "277 [D loss: 0.000000, acc.: 100.00%] [G loss: 359.521179]\n"
     ]
    },
    {
     "name": "stderr",
     "output_type": "stream",
     "text": [
      " 93%|█████████▎| 279/301 [13:33<01:03,  2.89s/it]"
     ]
    },
    {
     "name": "stdout",
     "output_type": "stream",
     "text": [
      "278 [D loss: 0.000000, acc.: 100.00%] [G loss: 379.252594]\n"
     ]
    },
    {
     "name": "stderr",
     "output_type": "stream",
     "text": [
      " 93%|█████████▎| 280/301 [13:36<01:00,  2.89s/it]"
     ]
    },
    {
     "name": "stdout",
     "output_type": "stream",
     "text": [
      "279 [D loss: 0.000000, acc.: 100.00%] [G loss: 344.069824]\n"
     ]
    },
    {
     "name": "stderr",
     "output_type": "stream",
     "text": [
      " 93%|█████████▎| 281/301 [13:39<00:57,  2.88s/it]"
     ]
    },
    {
     "name": "stdout",
     "output_type": "stream",
     "text": [
      "280 [D loss: 0.000000, acc.: 100.00%] [G loss: 407.680389]\n"
     ]
    },
    {
     "name": "stderr",
     "output_type": "stream",
     "text": [
      " 94%|█████████▎| 282/301 [13:42<00:54,  2.88s/it]"
     ]
    },
    {
     "name": "stdout",
     "output_type": "stream",
     "text": [
      "281 [D loss: 0.000000, acc.: 100.00%] [G loss: 383.078857]\n"
     ]
    },
    {
     "name": "stderr",
     "output_type": "stream",
     "text": [
      " 94%|█████████▍| 283/301 [13:45<00:51,  2.87s/it]"
     ]
    },
    {
     "name": "stdout",
     "output_type": "stream",
     "text": [
      "282 [D loss: 0.000000, acc.: 100.00%] [G loss: 427.555298]\n"
     ]
    },
    {
     "name": "stderr",
     "output_type": "stream",
     "text": [
      " 94%|█████████▍| 284/301 [13:47<00:48,  2.86s/it]"
     ]
    },
    {
     "name": "stdout",
     "output_type": "stream",
     "text": [
      "283 [D loss: 0.000000, acc.: 100.00%] [G loss: 404.911865]\n"
     ]
    },
    {
     "name": "stderr",
     "output_type": "stream",
     "text": [
      " 95%|█████████▍| 285/301 [13:50<00:46,  2.91s/it]"
     ]
    },
    {
     "name": "stdout",
     "output_type": "stream",
     "text": [
      "284 [D loss: 0.000000, acc.: 100.00%] [G loss: 424.942810]\n"
     ]
    },
    {
     "name": "stderr",
     "output_type": "stream",
     "text": [
      " 95%|█████████▌| 286/301 [13:53<00:43,  2.89s/it]"
     ]
    },
    {
     "name": "stdout",
     "output_type": "stream",
     "text": [
      "285 [D loss: 0.000000, acc.: 100.00%] [G loss: 417.925110]\n"
     ]
    },
    {
     "name": "stderr",
     "output_type": "stream",
     "text": [
      " 95%|█████████▌| 287/301 [13:56<00:40,  2.89s/it]"
     ]
    },
    {
     "name": "stdout",
     "output_type": "stream",
     "text": [
      "286 [D loss: 0.000000, acc.: 100.00%] [G loss: 434.801819]\n"
     ]
    },
    {
     "name": "stderr",
     "output_type": "stream",
     "text": [
      " 96%|█████████▌| 288/301 [13:59<00:37,  2.88s/it]"
     ]
    },
    {
     "name": "stdout",
     "output_type": "stream",
     "text": [
      "287 [D loss: 0.000000, acc.: 100.00%] [G loss: 417.287964]\n"
     ]
    },
    {
     "name": "stderr",
     "output_type": "stream",
     "text": [
      " 96%|█████████▌| 289/301 [14:02<00:34,  2.89s/it]"
     ]
    },
    {
     "name": "stdout",
     "output_type": "stream",
     "text": [
      "288 [D loss: 0.000000, acc.: 100.00%] [G loss: 442.631836]\n"
     ]
    },
    {
     "name": "stderr",
     "output_type": "stream",
     "text": [
      " 96%|█████████▋| 290/301 [14:05<00:31,  2.88s/it]"
     ]
    },
    {
     "name": "stdout",
     "output_type": "stream",
     "text": [
      "289 [D loss: 0.000000, acc.: 100.00%] [G loss: 378.454895]\n"
     ]
    },
    {
     "name": "stderr",
     "output_type": "stream",
     "text": [
      " 97%|█████████▋| 291/301 [14:08<00:28,  2.87s/it]"
     ]
    },
    {
     "name": "stdout",
     "output_type": "stream",
     "text": [
      "290 [D loss: 0.000000, acc.: 100.00%] [G loss: 490.525604]\n"
     ]
    },
    {
     "name": "stderr",
     "output_type": "stream",
     "text": [
      " 97%|█████████▋| 292/301 [14:11<00:25,  2.85s/it]"
     ]
    },
    {
     "name": "stdout",
     "output_type": "stream",
     "text": [
      "291 [D loss: 0.000000, acc.: 100.00%] [G loss: 415.740845]\n"
     ]
    },
    {
     "name": "stderr",
     "output_type": "stream",
     "text": [
      " 97%|█████████▋| 293/301 [14:13<00:22,  2.83s/it]"
     ]
    },
    {
     "name": "stdout",
     "output_type": "stream",
     "text": [
      "292 [D loss: 0.000000, acc.: 100.00%] [G loss: 403.191772]\n"
     ]
    },
    {
     "name": "stderr",
     "output_type": "stream",
     "text": [
      " 98%|█████████▊| 294/301 [14:16<00:19,  2.82s/it]"
     ]
    },
    {
     "name": "stdout",
     "output_type": "stream",
     "text": [
      "293 [D loss: 0.000000, acc.: 100.00%] [G loss: 454.196899]\n"
     ]
    },
    {
     "name": "stderr",
     "output_type": "stream",
     "text": [
      " 98%|█████████▊| 295/301 [14:19<00:17,  2.87s/it]"
     ]
    },
    {
     "name": "stdout",
     "output_type": "stream",
     "text": [
      "294 [D loss: 0.000000, acc.: 100.00%] [G loss: 472.086853]\n"
     ]
    },
    {
     "name": "stderr",
     "output_type": "stream",
     "text": [
      " 98%|█████████▊| 296/301 [14:22<00:14,  2.88s/it]"
     ]
    },
    {
     "name": "stdout",
     "output_type": "stream",
     "text": [
      "295 [D loss: 0.000000, acc.: 100.00%] [G loss: 472.599609]\n"
     ]
    },
    {
     "name": "stderr",
     "output_type": "stream",
     "text": [
      " 99%|█████████▊| 297/301 [14:25<00:11,  2.87s/it]"
     ]
    },
    {
     "name": "stdout",
     "output_type": "stream",
     "text": [
      "296 [D loss: 0.000000, acc.: 100.00%] [G loss: 409.443787]\n"
     ]
    },
    {
     "name": "stderr",
     "output_type": "stream",
     "text": [
      " 99%|█████████▉| 298/301 [14:28<00:08,  2.94s/it]"
     ]
    },
    {
     "name": "stdout",
     "output_type": "stream",
     "text": [
      "297 [D loss: 0.000000, acc.: 100.00%] [G loss: 428.754181]\n"
     ]
    },
    {
     "name": "stderr",
     "output_type": "stream",
     "text": [
      " 99%|█████████▉| 299/301 [14:31<00:05,  2.94s/it]"
     ]
    },
    {
     "name": "stdout",
     "output_type": "stream",
     "text": [
      "298 [D loss: 0.000000, acc.: 100.00%] [G loss: 377.152832]\n"
     ]
    },
    {
     "name": "stderr",
     "output_type": "stream",
     "text": [
      "100%|█████████▉| 300/301 [14:34<00:02,  2.92s/it]"
     ]
    },
    {
     "name": "stdout",
     "output_type": "stream",
     "text": [
      "299 [D loss: 0.000000, acc.: 100.00%] [G loss: 410.826721]\n",
      "300 [D loss: 0.000000, acc.: 100.00%] [G loss: 374.407654]\n"
     ]
    },
    {
     "name": "stderr",
     "output_type": "stream",
     "text": [
      "\n",
      "Synthetic data generation:   0%|          | 0/8 [00:00<?, ?it/s]\u001B[A\n",
      "Synthetic data generation:  38%|███▊      | 3/8 [00:00<00:00, 24.44it/s]\u001B[A\n",
      "Synthetic data generation: 100%|██████████| 8/8 [00:00<00:00, 24.82it/s]\u001B[A\n",
      "100%|██████████| 301/301 [14:37<00:00,  2.92s/it]\n"
     ]
    }
   ],
   "source": [
    "#----------------------------\n",
    "#    GAN Training\n",
    "#----------------------------\n",
    "\n",
    "#Training the Conditional GAN\n",
    "synthesizer.train(data=train_sample, label_col=label_col, train_arguments=train_args,\n",
    "                 num_cols=numeric_cols, cat_cols=cat_cols )\n",
    "\n",
    "#Saving the synthesizer\n",
    "if to_save:\n",
    "    synthesizer.save(BANK_MARKETING_GEN_CGAN_MODEL_PATH)"
   ]
  },
  {
   "cell_type": "markdown",
   "source": [
    "# Save the model"
   ],
   "metadata": {
    "collapsed": false,
    "pycharm": {
     "name": "#%% md\n"
    }
   }
  },
  {
   "cell_type": "code",
   "execution_count": 76,
   "outputs": [],
   "source": [
    "synthesizer.save(BANK_MARKETING_GEN_CGAN_MODEL_PATH)"
   ],
   "metadata": {
    "collapsed": false,
    "pycharm": {
     "name": "#%%\n"
    }
   }
  },
  {
   "cell_type": "code",
   "execution_count": 82,
   "outputs": [],
   "source": [
    "synthesizer = CGAN.load(BANK_MARKETING_GEN_CGAN_MODEL_PATH)"
   ],
   "metadata": {
    "collapsed": false,
    "pycharm": {
     "name": "#%%\n"
    }
   }
  },
  {
   "cell_type": "code",
   "execution_count": 83,
   "metadata": {
    "id": "KT0rf9AIMsz3"
   },
   "outputs": [
    {
     "name": "stdout",
     "output_type": "stream",
     "text": [
      "Model: \"model_18\"\n",
      "__________________________________________________________________________________________________\n",
      "Layer (type)                    Output Shape         Param #     Connected to                     \n",
      "==================================================================================================\n",
      "input_38 (InputLayer)           [(128, 1)]           0                                            \n",
      "__________________________________________________________________________________________________\n",
      "embedding_12 (Embedding)        (128, 1, 1)          2           input_38[0][0]                   \n",
      "__________________________________________________________________________________________________\n",
      "input_37 (InputLayer)           [(128, 32)]          0                                            \n",
      "__________________________________________________________________________________________________\n",
      "flatten_18 (Flatten)            (128, 1)             0           embedding_12[0][0]               \n",
      "__________________________________________________________________________________________________\n",
      "multiply_12 (Multiply)          (128, 32)            0           input_37[0][0]                   \n",
      "                                                                 flatten_18[0][0]                 \n",
      "__________________________________________________________________________________________________\n",
      "dense_48 (Dense)                (128, 128)           4224        multiply_12[0][0]                \n",
      "__________________________________________________________________________________________________\n",
      "dense_49 (Dense)                (128, 256)           33024       dense_48[0][0]                   \n",
      "__________________________________________________________________________________________________\n",
      "dense_50 (Dense)                (128, 512)           131584      dense_49[0][0]                   \n",
      "__________________________________________________________________________________________________\n",
      "dense_51 (Dense)                (128, 95)            48735       dense_50[0][0]                   \n",
      "__________________________________________________________________________________________________\n",
      "tf.split_12 (TFOpLambda)        [(128, 7), (128, 88) 0           dense_51[0][0]                   \n",
      "__________________________________________________________________________________________________\n",
      "tf.split_13 (TFOpLambda)        [(128, 2), (128, 2), 0           tf.split_12[0][1]                \n",
      "__________________________________________________________________________________________________\n",
      "num_cols_activation (Activation (128, 7)             0           tf.split_12[0][0]                \n",
      "__________________________________________________________________________________________________\n",
      "job_admin. (GumbelSoftmaxLayer) ((128, 2), (128, 2)) 0           tf.split_13[0][0]                \n",
      "__________________________________________________________________________________________________\n",
      "job_blue-collar (GumbelSoftmaxL ((128, 2), (128, 2)) 0           tf.split_13[0][1]                \n",
      "__________________________________________________________________________________________________\n",
      "job_entrepreneur (GumbelSoftmax ((128, 2), (128, 2)) 0           tf.split_13[0][2]                \n",
      "__________________________________________________________________________________________________\n",
      "job_housemaid (GumbelSoftmaxLay ((128, 2), (128, 2)) 0           tf.split_13[0][3]                \n",
      "__________________________________________________________________________________________________\n",
      "job_management (GumbelSoftmaxLa ((128, 2), (128, 2)) 0           tf.split_13[0][4]                \n",
      "__________________________________________________________________________________________________\n",
      "job_retired (GumbelSoftmaxLayer ((128, 2), (128, 2)) 0           tf.split_13[0][5]                \n",
      "__________________________________________________________________________________________________\n",
      "job_self-employed (GumbelSoftma ((128, 2), (128, 2)) 0           tf.split_13[0][6]                \n",
      "__________________________________________________________________________________________________\n",
      "job_services (GumbelSoftmaxLaye ((128, 2), (128, 2)) 0           tf.split_13[0][7]                \n",
      "__________________________________________________________________________________________________\n",
      "job_student (GumbelSoftmaxLayer ((128, 2), (128, 2)) 0           tf.split_13[0][8]                \n",
      "__________________________________________________________________________________________________\n",
      "job_technician (GumbelSoftmaxLa ((128, 2), (128, 2)) 0           tf.split_13[0][9]                \n",
      "__________________________________________________________________________________________________\n",
      "job_unemployed (GumbelSoftmaxLa ((128, 2), (128, 2)) 0           tf.split_13[0][10]               \n",
      "__________________________________________________________________________________________________\n",
      "job_unknown (GumbelSoftmaxLayer ((128, 2), (128, 2)) 0           tf.split_13[0][11]               \n",
      "__________________________________________________________________________________________________\n",
      "marital_divorced (GumbelSoftmax ((128, 2), (128, 2)) 0           tf.split_13[0][12]               \n",
      "__________________________________________________________________________________________________\n",
      "marital_married (GumbelSoftmaxL ((128, 2), (128, 2)) 0           tf.split_13[0][13]               \n",
      "__________________________________________________________________________________________________\n",
      "marital_single (GumbelSoftmaxLa ((128, 2), (128, 2)) 0           tf.split_13[0][14]               \n",
      "__________________________________________________________________________________________________\n",
      "education_primary (GumbelSoftma ((128, 2), (128, 2)) 0           tf.split_13[0][15]               \n",
      "__________________________________________________________________________________________________\n",
      "education_secondary (GumbelSoft ((128, 2), (128, 2)) 0           tf.split_13[0][16]               \n",
      "__________________________________________________________________________________________________\n",
      "education_tertiary (GumbelSoftm ((128, 2), (128, 2)) 0           tf.split_13[0][17]               \n",
      "__________________________________________________________________________________________________\n",
      "education_unknown (GumbelSoftma ((128, 2), (128, 2)) 0           tf.split_13[0][18]               \n",
      "__________________________________________________________________________________________________\n",
      "default_no (GumbelSoftmaxLayer) ((128, 2), (128, 2)) 0           tf.split_13[0][19]               \n",
      "__________________________________________________________________________________________________\n",
      "default_yes (GumbelSoftmaxLayer ((128, 2), (128, 2)) 0           tf.split_13[0][20]               \n",
      "__________________________________________________________________________________________________\n",
      "housing_no (GumbelSoftmaxLayer) ((128, 2), (128, 2)) 0           tf.split_13[0][21]               \n",
      "__________________________________________________________________________________________________\n",
      "housing_yes (GumbelSoftmaxLayer ((128, 2), (128, 2)) 0           tf.split_13[0][22]               \n",
      "__________________________________________________________________________________________________\n",
      "loan_no (GumbelSoftmaxLayer)    ((128, 2), (128, 2)) 0           tf.split_13[0][23]               \n",
      "__________________________________________________________________________________________________\n",
      "loan_yes (GumbelSoftmaxLayer)   ((128, 2), (128, 2)) 0           tf.split_13[0][24]               \n",
      "__________________________________________________________________________________________________\n",
      "contact_cellular (GumbelSoftmax ((128, 2), (128, 2)) 0           tf.split_13[0][25]               \n",
      "__________________________________________________________________________________________________\n",
      "contact_telephone (GumbelSoftma ((128, 2), (128, 2)) 0           tf.split_13[0][26]               \n",
      "__________________________________________________________________________________________________\n",
      "contact_unknown (GumbelSoftmaxL ((128, 2), (128, 2)) 0           tf.split_13[0][27]               \n",
      "__________________________________________________________________________________________________\n",
      "month_apr (GumbelSoftmaxLayer)  ((128, 2), (128, 2)) 0           tf.split_13[0][28]               \n",
      "__________________________________________________________________________________________________\n",
      "month_aug (GumbelSoftmaxLayer)  ((128, 2), (128, 2)) 0           tf.split_13[0][29]               \n",
      "__________________________________________________________________________________________________\n",
      "month_dec (GumbelSoftmaxLayer)  ((128, 2), (128, 2)) 0           tf.split_13[0][30]               \n",
      "__________________________________________________________________________________________________\n",
      "month_feb (GumbelSoftmaxLayer)  ((128, 2), (128, 2)) 0           tf.split_13[0][31]               \n",
      "__________________________________________________________________________________________________\n",
      "month_jan (GumbelSoftmaxLayer)  ((128, 2), (128, 2)) 0           tf.split_13[0][32]               \n",
      "__________________________________________________________________________________________________\n",
      "month_jul (GumbelSoftmaxLayer)  ((128, 2), (128, 2)) 0           tf.split_13[0][33]               \n",
      "__________________________________________________________________________________________________\n",
      "month_jun (GumbelSoftmaxLayer)  ((128, 2), (128, 2)) 0           tf.split_13[0][34]               \n",
      "__________________________________________________________________________________________________\n",
      "month_mar (GumbelSoftmaxLayer)  ((128, 2), (128, 2)) 0           tf.split_13[0][35]               \n",
      "__________________________________________________________________________________________________\n",
      "month_may (GumbelSoftmaxLayer)  ((128, 2), (128, 2)) 0           tf.split_13[0][36]               \n",
      "__________________________________________________________________________________________________\n",
      "month_nov (GumbelSoftmaxLayer)  ((128, 2), (128, 2)) 0           tf.split_13[0][37]               \n",
      "__________________________________________________________________________________________________\n",
      "month_oct (GumbelSoftmaxLayer)  ((128, 2), (128, 2)) 0           tf.split_13[0][38]               \n",
      "__________________________________________________________________________________________________\n",
      "month_sep (GumbelSoftmaxLayer)  ((128, 2), (128, 2)) 0           tf.split_13[0][39]               \n",
      "__________________________________________________________________________________________________\n",
      "poutcome_failure (GumbelSoftmax ((128, 2), (128, 2)) 0           tf.split_13[0][40]               \n",
      "__________________________________________________________________________________________________\n",
      "poutcome_other (GumbelSoftmaxLa ((128, 2), (128, 2)) 0           tf.split_13[0][41]               \n",
      "__________________________________________________________________________________________________\n",
      "poutcome_success (GumbelSoftmax ((128, 2), (128, 2)) 0           tf.split_13[0][42]               \n",
      "__________________________________________________________________________________________________\n",
      "poutcome_unknown (GumbelSoftmax ((128, 2), (128, 2)) 0           tf.split_13[0][43]               \n",
      "__________________________________________________________________________________________________\n",
      "tf.concat_6 (TFOpLambda)        (128, 95)            0           num_cols_activation[0][0]        \n",
      "                                                                 job_admin.[0][0]                 \n",
      "                                                                 job_blue-collar[0][0]            \n",
      "                                                                 job_entrepreneur[0][0]           \n",
      "                                                                 job_housemaid[0][0]              \n",
      "                                                                 job_management[0][0]             \n",
      "                                                                 job_retired[0][0]                \n",
      "                                                                 job_self-employed[0][0]          \n",
      "                                                                 job_services[0][0]               \n",
      "                                                                 job_student[0][0]                \n",
      "                                                                 job_technician[0][0]             \n",
      "                                                                 job_unemployed[0][0]             \n",
      "                                                                 job_unknown[0][0]                \n",
      "                                                                 marital_divorced[0][0]           \n",
      "                                                                 marital_married[0][0]            \n",
      "                                                                 marital_single[0][0]             \n",
      "                                                                 education_primary[0][0]          \n",
      "                                                                 education_secondary[0][0]        \n",
      "                                                                 education_tertiary[0][0]         \n",
      "                                                                 education_unknown[0][0]          \n",
      "                                                                 default_no[0][0]                 \n",
      "                                                                 default_yes[0][0]                \n",
      "                                                                 housing_no[0][0]                 \n",
      "                                                                 housing_yes[0][0]                \n",
      "                                                                 loan_no[0][0]                    \n",
      "                                                                 loan_yes[0][0]                   \n",
      "                                                                 contact_cellular[0][0]           \n",
      "                                                                 contact_telephone[0][0]          \n",
      "                                                                 contact_unknown[0][0]            \n",
      "                                                                 month_apr[0][0]                  \n",
      "                                                                 month_aug[0][0]                  \n",
      "                                                                 month_dec[0][0]                  \n",
      "                                                                 month_feb[0][0]                  \n",
      "                                                                 month_jan[0][0]                  \n",
      "                                                                 month_jul[0][0]                  \n",
      "                                                                 month_jun[0][0]                  \n",
      "                                                                 month_mar[0][0]                  \n",
      "                                                                 month_may[0][0]                  \n",
      "                                                                 month_nov[0][0]                  \n",
      "                                                                 month_oct[0][0]                  \n",
      "                                                                 month_sep[0][0]                  \n",
      "                                                                 poutcome_failure[0][0]           \n",
      "                                                                 poutcome_other[0][0]             \n",
      "                                                                 poutcome_success[0][0]           \n",
      "                                                                 poutcome_unknown[0][0]           \n",
      "==================================================================================================\n",
      "Total params: 217,569\n",
      "Trainable params: 217,569\n",
      "Non-trainable params: 0\n",
      "__________________________________________________________________________________________________\n"
     ]
    }
   ],
   "source": [
    "synthesizer.generator.summary()\n"
   ]
  },
  {
   "cell_type": "code",
   "execution_count": 84,
   "outputs": [
    {
     "name": "stdout",
     "output_type": "stream",
     "text": [
      "Model: \"model_19\"\n",
      "__________________________________________________________________________________________________\n",
      "Layer (type)                    Output Shape         Param #     Connected to                     \n",
      "==================================================================================================\n",
      "input_40 (InputLayer)           [(128, 1)]           0                                            \n",
      "__________________________________________________________________________________________________\n",
      "input_39 (InputLayer)           [(128, 95)]          0                                            \n",
      "__________________________________________________________________________________________________\n",
      "embedding_13 (Embedding)        (128, 1, 1)          2           input_40[0][0]                   \n",
      "__________________________________________________________________________________________________\n",
      "flatten_20 (Flatten)            (128, 95)            0           input_39[0][0]                   \n",
      "__________________________________________________________________________________________________\n",
      "flatten_19 (Flatten)            (128, 1)             0           embedding_13[0][0]               \n",
      "__________________________________________________________________________________________________\n",
      "multiply_13 (Multiply)          (128, 95)            0           flatten_20[0][0]                 \n",
      "                                                                 flatten_19[0][0]                 \n",
      "__________________________________________________________________________________________________\n",
      "dense_52 (Dense)                (128, 512)           49152       multiply_13[0][0]                \n",
      "__________________________________________________________________________________________________\n",
      "dropout_12 (Dropout)            (128, 512)           0           dense_52[0][0]                   \n",
      "__________________________________________________________________________________________________\n",
      "dense_53 (Dense)                (128, 256)           131328      dropout_12[0][0]                 \n",
      "__________________________________________________________________________________________________\n",
      "dropout_13 (Dropout)            (128, 256)           0           dense_53[0][0]                   \n",
      "__________________________________________________________________________________________________\n",
      "dense_54 (Dense)                (128, 128)           32896       dropout_13[0][0]                 \n",
      "__________________________________________________________________________________________________\n",
      "dense_55 (Dense)                (128, 1)             129         dense_54[0][0]                   \n",
      "==================================================================================================\n",
      "Total params: 213,507\n",
      "Trainable params: 0\n",
      "Non-trainable params: 213,507\n",
      "__________________________________________________________________________________________________\n"
     ]
    }
   ],
   "source": [
    "synthesizer.discriminator.summary()"
   ],
   "metadata": {
    "collapsed": false,
    "pycharm": {
     "name": "#%%\n"
    }
   }
  },
  {
   "cell_type": "markdown",
   "source": [
    "# Synthesize samples based on the trained CGAN:"
   ],
   "metadata": {
    "collapsed": false
   }
  },
  {
   "cell_type": "code",
   "execution_count": 101,
   "outputs": [
    {
     "name": "stderr",
     "output_type": "stream",
     "text": [
      "Synthetic data generation: 100%|██████████| 1/1 [00:00<00:00, 21.18it/s]\n"
     ]
    },
    {
     "data": {
      "text/plain": "     age  balance  day  duration  campaign  pdays  previous  job_admin.  \\\n0     28    18026    3       858        -1    -50         0           0   \n1     28    18351    2       868        -1    -49         0           0   \n2     28    18136    3       862         0    -49         0           0   \n3     28    18196    2       861        -1    -49         0           0   \n4     28    18284    3       867        -1    -50         0           0   \n..   ...      ...  ...       ...       ...    ...       ...         ...   \n123   28    18115    2       858        -1    -50         0           0   \n124   28    18371    3       873        -1    -50         0           0   \n125   28    18162    3       863        -1    -50         0           1   \n126   28    18144    3       862        -1    -50         0           0   \n127   28    18156    3       861        -1    -50         0           0   \n\n     job_blue-collar  job_entrepreneur  ...  month_mar  month_may  month_nov  \\\n0                  1                 0  ...          0          0          0   \n1                  0                 1  ...          1          1          1   \n2                  0                 0  ...          1          1          0   \n3                  1                 1  ...          1          0          1   \n4                  1                 1  ...          0          1          1   \n..               ...               ...  ...        ...        ...        ...   \n123                0                 0  ...          1          0          0   \n124                0                 0  ...          0          1          1   \n125                0                 1  ...          0          0          1   \n126                1                 0  ...          1          1          1   \n127                1                 0  ...          0          0          1   \n\n     month_oct  month_sep  poutcome_failure  poutcome_other  poutcome_success  \\\n0            1          0                 0               1                 0   \n1            1          1                 0               0                 0   \n2            0          1                 0               0                 1   \n3            1          1                 1               0                 1   \n4            1          0                 1               0                 1   \n..         ...        ...               ...             ...               ...   \n123          0          0                 0               1                 1   \n124          1          1                 0               0                 1   \n125          0          0                 1               0                 1   \n126          0          0                 1               1                 1   \n127          1          0                 0               1                 1   \n\n     poutcome_unknown  NaN  \n0                   1  1.0  \n1                   0  1.0  \n2                   1  1.0  \n3                   1  1.0  \n4                   1  1.0  \n..                ...  ...  \n123                 1  1.0  \n124                 0  1.0  \n125                 1  1.0  \n126                 0  1.0  \n127                 1  1.0  \n\n[128 rows x 52 columns]",
      "text/html": "<div>\n<style scoped>\n    .dataframe tbody tr th:only-of-type {\n        vertical-align: middle;\n    }\n\n    .dataframe tbody tr th {\n        vertical-align: top;\n    }\n\n    .dataframe thead th {\n        text-align: right;\n    }\n</style>\n<table border=\"1\" class=\"dataframe\">\n  <thead>\n    <tr style=\"text-align: right;\">\n      <th></th>\n      <th>age</th>\n      <th>balance</th>\n      <th>day</th>\n      <th>duration</th>\n      <th>campaign</th>\n      <th>pdays</th>\n      <th>previous</th>\n      <th>job_admin.</th>\n      <th>job_blue-collar</th>\n      <th>job_entrepreneur</th>\n      <th>...</th>\n      <th>month_mar</th>\n      <th>month_may</th>\n      <th>month_nov</th>\n      <th>month_oct</th>\n      <th>month_sep</th>\n      <th>poutcome_failure</th>\n      <th>poutcome_other</th>\n      <th>poutcome_success</th>\n      <th>poutcome_unknown</th>\n      <th>NaN</th>\n    </tr>\n  </thead>\n  <tbody>\n    <tr>\n      <th>0</th>\n      <td>28</td>\n      <td>18026</td>\n      <td>3</td>\n      <td>858</td>\n      <td>-1</td>\n      <td>-50</td>\n      <td>0</td>\n      <td>0</td>\n      <td>1</td>\n      <td>0</td>\n      <td>...</td>\n      <td>0</td>\n      <td>0</td>\n      <td>0</td>\n      <td>1</td>\n      <td>0</td>\n      <td>0</td>\n      <td>1</td>\n      <td>0</td>\n      <td>1</td>\n      <td>1.0</td>\n    </tr>\n    <tr>\n      <th>1</th>\n      <td>28</td>\n      <td>18351</td>\n      <td>2</td>\n      <td>868</td>\n      <td>-1</td>\n      <td>-49</td>\n      <td>0</td>\n      <td>0</td>\n      <td>0</td>\n      <td>1</td>\n      <td>...</td>\n      <td>1</td>\n      <td>1</td>\n      <td>1</td>\n      <td>1</td>\n      <td>1</td>\n      <td>0</td>\n      <td>0</td>\n      <td>0</td>\n      <td>0</td>\n      <td>1.0</td>\n    </tr>\n    <tr>\n      <th>2</th>\n      <td>28</td>\n      <td>18136</td>\n      <td>3</td>\n      <td>862</td>\n      <td>0</td>\n      <td>-49</td>\n      <td>0</td>\n      <td>0</td>\n      <td>0</td>\n      <td>0</td>\n      <td>...</td>\n      <td>1</td>\n      <td>1</td>\n      <td>0</td>\n      <td>0</td>\n      <td>1</td>\n      <td>0</td>\n      <td>0</td>\n      <td>1</td>\n      <td>1</td>\n      <td>1.0</td>\n    </tr>\n    <tr>\n      <th>3</th>\n      <td>28</td>\n      <td>18196</td>\n      <td>2</td>\n      <td>861</td>\n      <td>-1</td>\n      <td>-49</td>\n      <td>0</td>\n      <td>0</td>\n      <td>1</td>\n      <td>1</td>\n      <td>...</td>\n      <td>1</td>\n      <td>0</td>\n      <td>1</td>\n      <td>1</td>\n      <td>1</td>\n      <td>1</td>\n      <td>0</td>\n      <td>1</td>\n      <td>1</td>\n      <td>1.0</td>\n    </tr>\n    <tr>\n      <th>4</th>\n      <td>28</td>\n      <td>18284</td>\n      <td>3</td>\n      <td>867</td>\n      <td>-1</td>\n      <td>-50</td>\n      <td>0</td>\n      <td>0</td>\n      <td>1</td>\n      <td>1</td>\n      <td>...</td>\n      <td>0</td>\n      <td>1</td>\n      <td>1</td>\n      <td>1</td>\n      <td>0</td>\n      <td>1</td>\n      <td>0</td>\n      <td>1</td>\n      <td>1</td>\n      <td>1.0</td>\n    </tr>\n    <tr>\n      <th>...</th>\n      <td>...</td>\n      <td>...</td>\n      <td>...</td>\n      <td>...</td>\n      <td>...</td>\n      <td>...</td>\n      <td>...</td>\n      <td>...</td>\n      <td>...</td>\n      <td>...</td>\n      <td>...</td>\n      <td>...</td>\n      <td>...</td>\n      <td>...</td>\n      <td>...</td>\n      <td>...</td>\n      <td>...</td>\n      <td>...</td>\n      <td>...</td>\n      <td>...</td>\n      <td>...</td>\n    </tr>\n    <tr>\n      <th>123</th>\n      <td>28</td>\n      <td>18115</td>\n      <td>2</td>\n      <td>858</td>\n      <td>-1</td>\n      <td>-50</td>\n      <td>0</td>\n      <td>0</td>\n      <td>0</td>\n      <td>0</td>\n      <td>...</td>\n      <td>1</td>\n      <td>0</td>\n      <td>0</td>\n      <td>0</td>\n      <td>0</td>\n      <td>0</td>\n      <td>1</td>\n      <td>1</td>\n      <td>1</td>\n      <td>1.0</td>\n    </tr>\n    <tr>\n      <th>124</th>\n      <td>28</td>\n      <td>18371</td>\n      <td>3</td>\n      <td>873</td>\n      <td>-1</td>\n      <td>-50</td>\n      <td>0</td>\n      <td>0</td>\n      <td>0</td>\n      <td>0</td>\n      <td>...</td>\n      <td>0</td>\n      <td>1</td>\n      <td>1</td>\n      <td>1</td>\n      <td>1</td>\n      <td>0</td>\n      <td>0</td>\n      <td>1</td>\n      <td>0</td>\n      <td>1.0</td>\n    </tr>\n    <tr>\n      <th>125</th>\n      <td>28</td>\n      <td>18162</td>\n      <td>3</td>\n      <td>863</td>\n      <td>-1</td>\n      <td>-50</td>\n      <td>0</td>\n      <td>1</td>\n      <td>0</td>\n      <td>1</td>\n      <td>...</td>\n      <td>0</td>\n      <td>0</td>\n      <td>1</td>\n      <td>0</td>\n      <td>0</td>\n      <td>1</td>\n      <td>0</td>\n      <td>1</td>\n      <td>1</td>\n      <td>1.0</td>\n    </tr>\n    <tr>\n      <th>126</th>\n      <td>28</td>\n      <td>18144</td>\n      <td>3</td>\n      <td>862</td>\n      <td>-1</td>\n      <td>-50</td>\n      <td>0</td>\n      <td>0</td>\n      <td>1</td>\n      <td>0</td>\n      <td>...</td>\n      <td>1</td>\n      <td>1</td>\n      <td>1</td>\n      <td>0</td>\n      <td>0</td>\n      <td>1</td>\n      <td>1</td>\n      <td>1</td>\n      <td>0</td>\n      <td>1.0</td>\n    </tr>\n    <tr>\n      <th>127</th>\n      <td>28</td>\n      <td>18156</td>\n      <td>3</td>\n      <td>861</td>\n      <td>-1</td>\n      <td>-50</td>\n      <td>0</td>\n      <td>0</td>\n      <td>1</td>\n      <td>0</td>\n      <td>...</td>\n      <td>0</td>\n      <td>0</td>\n      <td>1</td>\n      <td>1</td>\n      <td>0</td>\n      <td>0</td>\n      <td>1</td>\n      <td>1</td>\n      <td>1</td>\n      <td>1.0</td>\n    </tr>\n  </tbody>\n</table>\n<p>128 rows × 52 columns</p>\n</div>"
     },
     "execution_count": 101,
     "metadata": {},
     "output_type": "execute_result"
    }
   ],
   "source": [
    "generated_df_class_true = synthesizer.sample(condition=np.array([1]), n_samples=1)\n",
    "generated_df_class_true"
   ],
   "metadata": {
    "collapsed": false,
    "pycharm": {
     "name": "#%%\n"
    }
   }
  },
  {
   "cell_type": "code",
   "execution_count": 137,
   "outputs": [
    {
     "name": "stderr",
     "output_type": "stream",
     "text": [
      "Synthetic data generation: 100%|██████████| 1/1 [00:00<00:00, 18.93it/s]\n"
     ]
    },
    {
     "data": {
      "text/plain": "     age  balance  day  duration  campaign  pdays  previous  job_admin.  \\\n0     28    18182    3       863        -1    -50         0           1   \n1     28    18249    3       866        -1    -50         0           1   \n2     28    18180    3       861        -1    -50         0           1   \n3     28    18239    3       865        -1    -49         0           0   \n4     28    18001    3       856        -1    -50         0           0   \n..   ...      ...  ...       ...       ...    ...       ...         ...   \n123   28    18211    3       866        -1    -50         0           0   \n124   28    18235    3       864        -1    -49         0           0   \n125   28    18203    3       863        -1    -50         0           1   \n126   28    18205    3       863        -1    -49         0           0   \n127   28    18173    3       864        -1    -50         0           1   \n\n     job_blue-collar  job_entrepreneur  ...  month_mar  month_may  month_nov  \\\n0                  0                 1  ...          1          1          1   \n1                  0                 1  ...          1          0          0   \n2                  1                 0  ...          0          0          1   \n3                  1                 1  ...          0          0          1   \n4                  1                 1  ...          1          1          1   \n..               ...               ...  ...        ...        ...        ...   \n123                1                 1  ...          1          1          0   \n124                1                 0  ...          0          1          1   \n125                0                 0  ...          0          0          1   \n126                0                 1  ...          0          0          1   \n127                0                 1  ...          1          0          0   \n\n     month_oct  month_sep  poutcome_failure  poutcome_other  poutcome_success  \\\n0            0          0                 1               1                 0   \n1            1          0                 1               1                 0   \n2            0          0                 1               1                 1   \n3            0          0                 1               0                 1   \n4            0          0                 0               1                 1   \n..         ...        ...               ...             ...               ...   \n123          0          0                 1               0                 0   \n124          1          1                 0               1                 1   \n125          1          0                 1               0                 1   \n126          1          1                 1               1                 1   \n127          0          1                 1               0                 0   \n\n     poutcome_unknown  NaN  \n0                   0  0.0  \n1                   1  0.0  \n2                   0  0.0  \n3                   1  0.0  \n4                   1  0.0  \n..                ...  ...  \n123                 1  0.0  \n124                 1  0.0  \n125                 1  0.0  \n126                 1  0.0  \n127                 1  0.0  \n\n[128 rows x 52 columns]",
      "text/html": "<div>\n<style scoped>\n    .dataframe tbody tr th:only-of-type {\n        vertical-align: middle;\n    }\n\n    .dataframe tbody tr th {\n        vertical-align: top;\n    }\n\n    .dataframe thead th {\n        text-align: right;\n    }\n</style>\n<table border=\"1\" class=\"dataframe\">\n  <thead>\n    <tr style=\"text-align: right;\">\n      <th></th>\n      <th>age</th>\n      <th>balance</th>\n      <th>day</th>\n      <th>duration</th>\n      <th>campaign</th>\n      <th>pdays</th>\n      <th>previous</th>\n      <th>job_admin.</th>\n      <th>job_blue-collar</th>\n      <th>job_entrepreneur</th>\n      <th>...</th>\n      <th>month_mar</th>\n      <th>month_may</th>\n      <th>month_nov</th>\n      <th>month_oct</th>\n      <th>month_sep</th>\n      <th>poutcome_failure</th>\n      <th>poutcome_other</th>\n      <th>poutcome_success</th>\n      <th>poutcome_unknown</th>\n      <th>NaN</th>\n    </tr>\n  </thead>\n  <tbody>\n    <tr>\n      <th>0</th>\n      <td>28</td>\n      <td>18182</td>\n      <td>3</td>\n      <td>863</td>\n      <td>-1</td>\n      <td>-50</td>\n      <td>0</td>\n      <td>1</td>\n      <td>0</td>\n      <td>1</td>\n      <td>...</td>\n      <td>1</td>\n      <td>1</td>\n      <td>1</td>\n      <td>0</td>\n      <td>0</td>\n      <td>1</td>\n      <td>1</td>\n      <td>0</td>\n      <td>0</td>\n      <td>0.0</td>\n    </tr>\n    <tr>\n      <th>1</th>\n      <td>28</td>\n      <td>18249</td>\n      <td>3</td>\n      <td>866</td>\n      <td>-1</td>\n      <td>-50</td>\n      <td>0</td>\n      <td>1</td>\n      <td>0</td>\n      <td>1</td>\n      <td>...</td>\n      <td>1</td>\n      <td>0</td>\n      <td>0</td>\n      <td>1</td>\n      <td>0</td>\n      <td>1</td>\n      <td>1</td>\n      <td>0</td>\n      <td>1</td>\n      <td>0.0</td>\n    </tr>\n    <tr>\n      <th>2</th>\n      <td>28</td>\n      <td>18180</td>\n      <td>3</td>\n      <td>861</td>\n      <td>-1</td>\n      <td>-50</td>\n      <td>0</td>\n      <td>1</td>\n      <td>1</td>\n      <td>0</td>\n      <td>...</td>\n      <td>0</td>\n      <td>0</td>\n      <td>1</td>\n      <td>0</td>\n      <td>0</td>\n      <td>1</td>\n      <td>1</td>\n      <td>1</td>\n      <td>0</td>\n      <td>0.0</td>\n    </tr>\n    <tr>\n      <th>3</th>\n      <td>28</td>\n      <td>18239</td>\n      <td>3</td>\n      <td>865</td>\n      <td>-1</td>\n      <td>-49</td>\n      <td>0</td>\n      <td>0</td>\n      <td>1</td>\n      <td>1</td>\n      <td>...</td>\n      <td>0</td>\n      <td>0</td>\n      <td>1</td>\n      <td>0</td>\n      <td>0</td>\n      <td>1</td>\n      <td>0</td>\n      <td>1</td>\n      <td>1</td>\n      <td>0.0</td>\n    </tr>\n    <tr>\n      <th>4</th>\n      <td>28</td>\n      <td>18001</td>\n      <td>3</td>\n      <td>856</td>\n      <td>-1</td>\n      <td>-50</td>\n      <td>0</td>\n      <td>0</td>\n      <td>1</td>\n      <td>1</td>\n      <td>...</td>\n      <td>1</td>\n      <td>1</td>\n      <td>1</td>\n      <td>0</td>\n      <td>0</td>\n      <td>0</td>\n      <td>1</td>\n      <td>1</td>\n      <td>1</td>\n      <td>0.0</td>\n    </tr>\n    <tr>\n      <th>...</th>\n      <td>...</td>\n      <td>...</td>\n      <td>...</td>\n      <td>...</td>\n      <td>...</td>\n      <td>...</td>\n      <td>...</td>\n      <td>...</td>\n      <td>...</td>\n      <td>...</td>\n      <td>...</td>\n      <td>...</td>\n      <td>...</td>\n      <td>...</td>\n      <td>...</td>\n      <td>...</td>\n      <td>...</td>\n      <td>...</td>\n      <td>...</td>\n      <td>...</td>\n      <td>...</td>\n    </tr>\n    <tr>\n      <th>123</th>\n      <td>28</td>\n      <td>18211</td>\n      <td>3</td>\n      <td>866</td>\n      <td>-1</td>\n      <td>-50</td>\n      <td>0</td>\n      <td>0</td>\n      <td>1</td>\n      <td>1</td>\n      <td>...</td>\n      <td>1</td>\n      <td>1</td>\n      <td>0</td>\n      <td>0</td>\n      <td>0</td>\n      <td>1</td>\n      <td>0</td>\n      <td>0</td>\n      <td>1</td>\n      <td>0.0</td>\n    </tr>\n    <tr>\n      <th>124</th>\n      <td>28</td>\n      <td>18235</td>\n      <td>3</td>\n      <td>864</td>\n      <td>-1</td>\n      <td>-49</td>\n      <td>0</td>\n      <td>0</td>\n      <td>1</td>\n      <td>0</td>\n      <td>...</td>\n      <td>0</td>\n      <td>1</td>\n      <td>1</td>\n      <td>1</td>\n      <td>1</td>\n      <td>0</td>\n      <td>1</td>\n      <td>1</td>\n      <td>1</td>\n      <td>0.0</td>\n    </tr>\n    <tr>\n      <th>125</th>\n      <td>28</td>\n      <td>18203</td>\n      <td>3</td>\n      <td>863</td>\n      <td>-1</td>\n      <td>-50</td>\n      <td>0</td>\n      <td>1</td>\n      <td>0</td>\n      <td>0</td>\n      <td>...</td>\n      <td>0</td>\n      <td>0</td>\n      <td>1</td>\n      <td>1</td>\n      <td>0</td>\n      <td>1</td>\n      <td>0</td>\n      <td>1</td>\n      <td>1</td>\n      <td>0.0</td>\n    </tr>\n    <tr>\n      <th>126</th>\n      <td>28</td>\n      <td>18205</td>\n      <td>3</td>\n      <td>863</td>\n      <td>-1</td>\n      <td>-49</td>\n      <td>0</td>\n      <td>0</td>\n      <td>0</td>\n      <td>1</td>\n      <td>...</td>\n      <td>0</td>\n      <td>0</td>\n      <td>1</td>\n      <td>1</td>\n      <td>1</td>\n      <td>1</td>\n      <td>1</td>\n      <td>1</td>\n      <td>1</td>\n      <td>0.0</td>\n    </tr>\n    <tr>\n      <th>127</th>\n      <td>28</td>\n      <td>18173</td>\n      <td>3</td>\n      <td>864</td>\n      <td>-1</td>\n      <td>-50</td>\n      <td>0</td>\n      <td>1</td>\n      <td>0</td>\n      <td>1</td>\n      <td>...</td>\n      <td>1</td>\n      <td>0</td>\n      <td>0</td>\n      <td>0</td>\n      <td>1</td>\n      <td>1</td>\n      <td>0</td>\n      <td>0</td>\n      <td>1</td>\n      <td>0.0</td>\n    </tr>\n  </tbody>\n</table>\n<p>128 rows × 52 columns</p>\n</div>"
     },
     "execution_count": 137,
     "metadata": {},
     "output_type": "execute_result"
    }
   ],
   "source": [
    "generated_df_class_false = synthesizer.sample(condition=np.array([0]), n_samples=2)\n",
    "generated_df_class_false"
   ],
   "metadata": {
    "collapsed": false,
    "pycharm": {
     "name": "#%%\n"
    }
   }
  },
  {
   "cell_type": "markdown",
   "source": [
    "# Comparing the synthesized data"
   ],
   "metadata": {
    "collapsed": false,
    "pycharm": {
     "name": "#%% md\n"
    }
   }
  },
  {
   "cell_type": "code",
   "execution_count": 110,
   "outputs": [
    {
     "data": {
      "text/plain": "['age', 'balance', 'day', 'duration', 'campaign', 'pdays', 'previous']"
     },
     "execution_count": 110,
     "metadata": {},
     "output_type": "execute_result"
    }
   ],
   "source": [
    "numeric_cols"
   ],
   "metadata": {
    "collapsed": false,
    "pycharm": {
     "name": "#%%\n"
    }
   }
  },
  {
   "cell_type": "code",
   "execution_count": 117,
   "outputs": [
    {
     "data": {
      "text/plain": "              age       balance         day     duration    campaign  \\\ncount  128.000000    128.000000  128.000000   128.000000  128.000000   \nmean    41.648438   1541.164062   16.640625   578.882812    2.429688   \nstd     12.348349   2984.180922    8.351278   443.141925    2.026143   \nmin     20.000000   -701.000000    1.000000    30.000000    1.000000   \n25%     32.000000     92.250000   10.000000   261.000000    1.000000   \n50%     41.000000    737.500000   16.500000   472.000000    2.000000   \n75%     49.000000   2046.000000   22.250000   747.250000    3.000000   \nmax     83.000000  26965.000000   31.000000  2456.000000   13.000000   \n\n            pdays    previous      y  job_admin.  job_blue-collar  ...  \\\ncount  128.000000  128.000000  128.0  128.000000       128.000000  ...   \nmean    56.226562    0.906250    1.0    0.093750         0.179688  ...   \nstd     98.575860    1.917337    0.0    0.292626         0.385436  ...   \nmin     -1.000000    0.000000    1.0    0.000000         0.000000  ...   \n25%     -1.000000    0.000000    1.0    0.000000         0.000000  ...   \n50%     -1.000000    0.000000    1.0    0.000000         0.000000  ...   \n75%     94.250000    1.000000    1.0    0.000000         0.000000  ...   \nmax    541.000000   14.000000    1.0    1.000000         1.000000  ...   \n\n        month_jun   month_mar   month_may   month_nov   month_oct   month_sep  \\\ncount  128.000000  128.000000  128.000000  128.000000  128.000000  128.000000   \nmean     0.078125    0.039062    0.187500    0.070312    0.085938    0.054688   \nstd      0.269423    0.194505    0.391846    0.256678    0.281373    0.228263   \nmin      0.000000    0.000000    0.000000    0.000000    0.000000    0.000000   \n25%      0.000000    0.000000    0.000000    0.000000    0.000000    0.000000   \n50%      0.000000    0.000000    0.000000    0.000000    0.000000    0.000000   \n75%      0.000000    0.000000    0.000000    0.000000    0.000000    0.000000   \nmax      1.000000    1.000000    1.000000    1.000000    1.000000    1.000000   \n\n       poutcome_failure  poutcome_other  poutcome_success  poutcome_unknown  \ncount        128.000000      128.000000        128.000000        128.000000  \nmean           0.093750        0.062500          0.179688          0.664062  \nstd            0.292626        0.243013          0.385436          0.474173  \nmin            0.000000        0.000000          0.000000          0.000000  \n25%            0.000000        0.000000          0.000000          0.000000  \n50%            0.000000        0.000000          0.000000          1.000000  \n75%            0.000000        0.000000          0.000000          1.000000  \nmax            1.000000        1.000000          1.000000          1.000000  \n\n[8 rows x 52 columns]",
      "text/html": "<div>\n<style scoped>\n    .dataframe tbody tr th:only-of-type {\n        vertical-align: middle;\n    }\n\n    .dataframe tbody tr th {\n        vertical-align: top;\n    }\n\n    .dataframe thead th {\n        text-align: right;\n    }\n</style>\n<table border=\"1\" class=\"dataframe\">\n  <thead>\n    <tr style=\"text-align: right;\">\n      <th></th>\n      <th>age</th>\n      <th>balance</th>\n      <th>day</th>\n      <th>duration</th>\n      <th>campaign</th>\n      <th>pdays</th>\n      <th>previous</th>\n      <th>y</th>\n      <th>job_admin.</th>\n      <th>job_blue-collar</th>\n      <th>...</th>\n      <th>month_jun</th>\n      <th>month_mar</th>\n      <th>month_may</th>\n      <th>month_nov</th>\n      <th>month_oct</th>\n      <th>month_sep</th>\n      <th>poutcome_failure</th>\n      <th>poutcome_other</th>\n      <th>poutcome_success</th>\n      <th>poutcome_unknown</th>\n    </tr>\n  </thead>\n  <tbody>\n    <tr>\n      <th>count</th>\n      <td>128.000000</td>\n      <td>128.000000</td>\n      <td>128.000000</td>\n      <td>128.000000</td>\n      <td>128.000000</td>\n      <td>128.000000</td>\n      <td>128.000000</td>\n      <td>128.0</td>\n      <td>128.000000</td>\n      <td>128.000000</td>\n      <td>...</td>\n      <td>128.000000</td>\n      <td>128.000000</td>\n      <td>128.000000</td>\n      <td>128.000000</td>\n      <td>128.000000</td>\n      <td>128.000000</td>\n      <td>128.000000</td>\n      <td>128.000000</td>\n      <td>128.000000</td>\n      <td>128.000000</td>\n    </tr>\n    <tr>\n      <th>mean</th>\n      <td>41.648438</td>\n      <td>1541.164062</td>\n      <td>16.640625</td>\n      <td>578.882812</td>\n      <td>2.429688</td>\n      <td>56.226562</td>\n      <td>0.906250</td>\n      <td>1.0</td>\n      <td>0.093750</td>\n      <td>0.179688</td>\n      <td>...</td>\n      <td>0.078125</td>\n      <td>0.039062</td>\n      <td>0.187500</td>\n      <td>0.070312</td>\n      <td>0.085938</td>\n      <td>0.054688</td>\n      <td>0.093750</td>\n      <td>0.062500</td>\n      <td>0.179688</td>\n      <td>0.664062</td>\n    </tr>\n    <tr>\n      <th>std</th>\n      <td>12.348349</td>\n      <td>2984.180922</td>\n      <td>8.351278</td>\n      <td>443.141925</td>\n      <td>2.026143</td>\n      <td>98.575860</td>\n      <td>1.917337</td>\n      <td>0.0</td>\n      <td>0.292626</td>\n      <td>0.385436</td>\n      <td>...</td>\n      <td>0.269423</td>\n      <td>0.194505</td>\n      <td>0.391846</td>\n      <td>0.256678</td>\n      <td>0.281373</td>\n      <td>0.228263</td>\n      <td>0.292626</td>\n      <td>0.243013</td>\n      <td>0.385436</td>\n      <td>0.474173</td>\n    </tr>\n    <tr>\n      <th>min</th>\n      <td>20.000000</td>\n      <td>-701.000000</td>\n      <td>1.000000</td>\n      <td>30.000000</td>\n      <td>1.000000</td>\n      <td>-1.000000</td>\n      <td>0.000000</td>\n      <td>1.0</td>\n      <td>0.000000</td>\n      <td>0.000000</td>\n      <td>...</td>\n      <td>0.000000</td>\n      <td>0.000000</td>\n      <td>0.000000</td>\n      <td>0.000000</td>\n      <td>0.000000</td>\n      <td>0.000000</td>\n      <td>0.000000</td>\n      <td>0.000000</td>\n      <td>0.000000</td>\n      <td>0.000000</td>\n    </tr>\n    <tr>\n      <th>25%</th>\n      <td>32.000000</td>\n      <td>92.250000</td>\n      <td>10.000000</td>\n      <td>261.000000</td>\n      <td>1.000000</td>\n      <td>-1.000000</td>\n      <td>0.000000</td>\n      <td>1.0</td>\n      <td>0.000000</td>\n      <td>0.000000</td>\n      <td>...</td>\n      <td>0.000000</td>\n      <td>0.000000</td>\n      <td>0.000000</td>\n      <td>0.000000</td>\n      <td>0.000000</td>\n      <td>0.000000</td>\n      <td>0.000000</td>\n      <td>0.000000</td>\n      <td>0.000000</td>\n      <td>0.000000</td>\n    </tr>\n    <tr>\n      <th>50%</th>\n      <td>41.000000</td>\n      <td>737.500000</td>\n      <td>16.500000</td>\n      <td>472.000000</td>\n      <td>2.000000</td>\n      <td>-1.000000</td>\n      <td>0.000000</td>\n      <td>1.0</td>\n      <td>0.000000</td>\n      <td>0.000000</td>\n      <td>...</td>\n      <td>0.000000</td>\n      <td>0.000000</td>\n      <td>0.000000</td>\n      <td>0.000000</td>\n      <td>0.000000</td>\n      <td>0.000000</td>\n      <td>0.000000</td>\n      <td>0.000000</td>\n      <td>0.000000</td>\n      <td>1.000000</td>\n    </tr>\n    <tr>\n      <th>75%</th>\n      <td>49.000000</td>\n      <td>2046.000000</td>\n      <td>22.250000</td>\n      <td>747.250000</td>\n      <td>3.000000</td>\n      <td>94.250000</td>\n      <td>1.000000</td>\n      <td>1.0</td>\n      <td>0.000000</td>\n      <td>0.000000</td>\n      <td>...</td>\n      <td>0.000000</td>\n      <td>0.000000</td>\n      <td>0.000000</td>\n      <td>0.000000</td>\n      <td>0.000000</td>\n      <td>0.000000</td>\n      <td>0.000000</td>\n      <td>0.000000</td>\n      <td>0.000000</td>\n      <td>1.000000</td>\n    </tr>\n    <tr>\n      <th>max</th>\n      <td>83.000000</td>\n      <td>26965.000000</td>\n      <td>31.000000</td>\n      <td>2456.000000</td>\n      <td>13.000000</td>\n      <td>541.000000</td>\n      <td>14.000000</td>\n      <td>1.0</td>\n      <td>1.000000</td>\n      <td>1.000000</td>\n      <td>...</td>\n      <td>1.000000</td>\n      <td>1.000000</td>\n      <td>1.000000</td>\n      <td>1.000000</td>\n      <td>1.000000</td>\n      <td>1.000000</td>\n      <td>1.000000</td>\n      <td>1.000000</td>\n      <td>1.000000</td>\n      <td>1.000000</td>\n    </tr>\n  </tbody>\n</table>\n<p>8 rows × 52 columns</p>\n</div>"
     },
     "execution_count": 117,
     "metadata": {},
     "output_type": "execute_result"
    }
   ],
   "source": [
    "real_df_class_true = df[df[label_col]==1].sample(128)\n",
    "real_df_class_true.describe()"
   ],
   "metadata": {
    "collapsed": false,
    "pycharm": {
     "name": "#%%\n"
    }
   }
  },
  {
   "cell_type": "code",
   "execution_count": 118,
   "outputs": [
    {
     "data": {
      "text/plain": "         age       balance         day    duration    campaign       pdays  \\\ncount  128.0    128.000000  128.000000  128.000000  128.000000  128.000000   \nmean    28.0  18192.812500    2.773438  862.992188   -0.859375  -49.695312   \nstd      0.0    129.915706    0.420252    6.001963    0.349000    0.494992   \nmin     28.0  17927.000000    2.000000  851.000000   -1.000000  -51.000000   \n25%     28.0  18093.000000    3.000000  859.000000   -1.000000  -50.000000   \n50%     28.0  18179.500000    3.000000  862.000000   -1.000000  -50.000000   \n75%     28.0  18279.500000    3.000000  867.000000   -1.000000  -49.000000   \nmax     28.0  18612.000000    3.000000  883.000000    0.000000  -49.000000   \n\n       previous  job_admin.  job_blue-collar  job_entrepreneur  ...  \\\ncount     128.0  128.000000       128.000000        128.000000  ...   \nmean        0.0    0.398438         0.492188          0.460938  ...   \nstd         0.0    0.491500         0.501903          0.500430  ...   \nmin         0.0    0.000000         0.000000          0.000000  ...   \n25%         0.0    0.000000         0.000000          0.000000  ...   \n50%         0.0    0.000000         0.000000          0.000000  ...   \n75%         0.0    1.000000         1.000000          1.000000  ...   \nmax         0.0    1.000000         1.000000          1.000000  ...   \n\n        month_mar   month_may   month_nov   month_oct   month_sep  \\\ncount  128.000000  128.000000  128.000000  128.000000  128.000000   \nmean     0.437500    0.500000    0.500000    0.476562    0.484375   \nstd      0.498028    0.501965    0.501965    0.501413    0.501719   \nmin      0.000000    0.000000    0.000000    0.000000    0.000000   \n25%      0.000000    0.000000    0.000000    0.000000    0.000000   \n50%      0.000000    0.500000    0.500000    0.000000    0.000000   \n75%      1.000000    1.000000    1.000000    1.000000    1.000000   \nmax      1.000000    1.000000    1.000000    1.000000    1.000000   \n\n       poutcome_failure  poutcome_other  poutcome_success  poutcome_unknown  \\\ncount        128.000000      128.000000        128.000000        128.000000   \nmean           0.593750        0.476562          0.531250          0.492188   \nstd            0.493062        0.501413          0.500983          0.501903   \nmin            0.000000        0.000000          0.000000          0.000000   \n25%            0.000000        0.000000          0.000000          0.000000   \n50%            1.000000        0.000000          1.000000          0.000000   \n75%            1.000000        1.000000          1.000000          1.000000   \nmax            1.000000        1.000000          1.000000          1.000000   \n\n         NaN  \ncount  128.0  \nmean     1.0  \nstd      0.0  \nmin      1.0  \n25%      1.0  \n50%      1.0  \n75%      1.0  \nmax      1.0  \n\n[8 rows x 52 columns]",
      "text/html": "<div>\n<style scoped>\n    .dataframe tbody tr th:only-of-type {\n        vertical-align: middle;\n    }\n\n    .dataframe tbody tr th {\n        vertical-align: top;\n    }\n\n    .dataframe thead th {\n        text-align: right;\n    }\n</style>\n<table border=\"1\" class=\"dataframe\">\n  <thead>\n    <tr style=\"text-align: right;\">\n      <th></th>\n      <th>age</th>\n      <th>balance</th>\n      <th>day</th>\n      <th>duration</th>\n      <th>campaign</th>\n      <th>pdays</th>\n      <th>previous</th>\n      <th>job_admin.</th>\n      <th>job_blue-collar</th>\n      <th>job_entrepreneur</th>\n      <th>...</th>\n      <th>month_mar</th>\n      <th>month_may</th>\n      <th>month_nov</th>\n      <th>month_oct</th>\n      <th>month_sep</th>\n      <th>poutcome_failure</th>\n      <th>poutcome_other</th>\n      <th>poutcome_success</th>\n      <th>poutcome_unknown</th>\n      <th>NaN</th>\n    </tr>\n  </thead>\n  <tbody>\n    <tr>\n      <th>count</th>\n      <td>128.0</td>\n      <td>128.000000</td>\n      <td>128.000000</td>\n      <td>128.000000</td>\n      <td>128.000000</td>\n      <td>128.000000</td>\n      <td>128.0</td>\n      <td>128.000000</td>\n      <td>128.000000</td>\n      <td>128.000000</td>\n      <td>...</td>\n      <td>128.000000</td>\n      <td>128.000000</td>\n      <td>128.000000</td>\n      <td>128.000000</td>\n      <td>128.000000</td>\n      <td>128.000000</td>\n      <td>128.000000</td>\n      <td>128.000000</td>\n      <td>128.000000</td>\n      <td>128.0</td>\n    </tr>\n    <tr>\n      <th>mean</th>\n      <td>28.0</td>\n      <td>18192.812500</td>\n      <td>2.773438</td>\n      <td>862.992188</td>\n      <td>-0.859375</td>\n      <td>-49.695312</td>\n      <td>0.0</td>\n      <td>0.398438</td>\n      <td>0.492188</td>\n      <td>0.460938</td>\n      <td>...</td>\n      <td>0.437500</td>\n      <td>0.500000</td>\n      <td>0.500000</td>\n      <td>0.476562</td>\n      <td>0.484375</td>\n      <td>0.593750</td>\n      <td>0.476562</td>\n      <td>0.531250</td>\n      <td>0.492188</td>\n      <td>1.0</td>\n    </tr>\n    <tr>\n      <th>std</th>\n      <td>0.0</td>\n      <td>129.915706</td>\n      <td>0.420252</td>\n      <td>6.001963</td>\n      <td>0.349000</td>\n      <td>0.494992</td>\n      <td>0.0</td>\n      <td>0.491500</td>\n      <td>0.501903</td>\n      <td>0.500430</td>\n      <td>...</td>\n      <td>0.498028</td>\n      <td>0.501965</td>\n      <td>0.501965</td>\n      <td>0.501413</td>\n      <td>0.501719</td>\n      <td>0.493062</td>\n      <td>0.501413</td>\n      <td>0.500983</td>\n      <td>0.501903</td>\n      <td>0.0</td>\n    </tr>\n    <tr>\n      <th>min</th>\n      <td>28.0</td>\n      <td>17927.000000</td>\n      <td>2.000000</td>\n      <td>851.000000</td>\n      <td>-1.000000</td>\n      <td>-51.000000</td>\n      <td>0.0</td>\n      <td>0.000000</td>\n      <td>0.000000</td>\n      <td>0.000000</td>\n      <td>...</td>\n      <td>0.000000</td>\n      <td>0.000000</td>\n      <td>0.000000</td>\n      <td>0.000000</td>\n      <td>0.000000</td>\n      <td>0.000000</td>\n      <td>0.000000</td>\n      <td>0.000000</td>\n      <td>0.000000</td>\n      <td>1.0</td>\n    </tr>\n    <tr>\n      <th>25%</th>\n      <td>28.0</td>\n      <td>18093.000000</td>\n      <td>3.000000</td>\n      <td>859.000000</td>\n      <td>-1.000000</td>\n      <td>-50.000000</td>\n      <td>0.0</td>\n      <td>0.000000</td>\n      <td>0.000000</td>\n      <td>0.000000</td>\n      <td>...</td>\n      <td>0.000000</td>\n      <td>0.000000</td>\n      <td>0.000000</td>\n      <td>0.000000</td>\n      <td>0.000000</td>\n      <td>0.000000</td>\n      <td>0.000000</td>\n      <td>0.000000</td>\n      <td>0.000000</td>\n      <td>1.0</td>\n    </tr>\n    <tr>\n      <th>50%</th>\n      <td>28.0</td>\n      <td>18179.500000</td>\n      <td>3.000000</td>\n      <td>862.000000</td>\n      <td>-1.000000</td>\n      <td>-50.000000</td>\n      <td>0.0</td>\n      <td>0.000000</td>\n      <td>0.000000</td>\n      <td>0.000000</td>\n      <td>...</td>\n      <td>0.000000</td>\n      <td>0.500000</td>\n      <td>0.500000</td>\n      <td>0.000000</td>\n      <td>0.000000</td>\n      <td>1.000000</td>\n      <td>0.000000</td>\n      <td>1.000000</td>\n      <td>0.000000</td>\n      <td>1.0</td>\n    </tr>\n    <tr>\n      <th>75%</th>\n      <td>28.0</td>\n      <td>18279.500000</td>\n      <td>3.000000</td>\n      <td>867.000000</td>\n      <td>-1.000000</td>\n      <td>-49.000000</td>\n      <td>0.0</td>\n      <td>1.000000</td>\n      <td>1.000000</td>\n      <td>1.000000</td>\n      <td>...</td>\n      <td>1.000000</td>\n      <td>1.000000</td>\n      <td>1.000000</td>\n      <td>1.000000</td>\n      <td>1.000000</td>\n      <td>1.000000</td>\n      <td>1.000000</td>\n      <td>1.000000</td>\n      <td>1.000000</td>\n      <td>1.0</td>\n    </tr>\n    <tr>\n      <th>max</th>\n      <td>28.0</td>\n      <td>18612.000000</td>\n      <td>3.000000</td>\n      <td>883.000000</td>\n      <td>0.000000</td>\n      <td>-49.000000</td>\n      <td>0.0</td>\n      <td>1.000000</td>\n      <td>1.000000</td>\n      <td>1.000000</td>\n      <td>...</td>\n      <td>1.000000</td>\n      <td>1.000000</td>\n      <td>1.000000</td>\n      <td>1.000000</td>\n      <td>1.000000</td>\n      <td>1.000000</td>\n      <td>1.000000</td>\n      <td>1.000000</td>\n      <td>1.000000</td>\n      <td>1.0</td>\n    </tr>\n  </tbody>\n</table>\n<p>8 rows × 52 columns</p>\n</div>"
     },
     "execution_count": 118,
     "metadata": {},
     "output_type": "execute_result"
    }
   ],
   "source": [
    "generated_df_class_true.describe()"
   ],
   "metadata": {
    "collapsed": false,
    "pycharm": {
     "name": "#%%\n"
    }
   }
  },
  {
   "cell_type": "code",
   "execution_count": 134,
   "outputs": [
    {
     "data": {
      "text/plain": "     age  balance  day  duration  campaign  pdays  previous  job_admin.  \\\n0     28    18026    3       858        -1    -50         0           0   \n1     28    18351    2       868        -1    -49         0           0   \n2     28    18136    3       862         0    -49         0           0   \n3     28    18196    2       861        -1    -49         0           0   \n4     28    18284    3       867        -1    -50         0           0   \n..   ...      ...  ...       ...       ...    ...       ...         ...   \n123   28    18115    2       858        -1    -50         0           0   \n124   28    18371    3       873        -1    -50         0           0   \n125   28    18162    3       863        -1    -50         0           1   \n126   28    18144    3       862        -1    -50         0           0   \n127   28    18156    3       861        -1    -50         0           0   \n\n     job_blue-collar  job_entrepreneur  ...  month_mar  month_may  month_nov  \\\n0                  1                 0  ...          0          0          0   \n1                  0                 1  ...          1          1          1   \n2                  0                 0  ...          1          1          0   \n3                  1                 1  ...          1          0          1   \n4                  1                 1  ...          0          1          1   \n..               ...               ...  ...        ...        ...        ...   \n123                0                 0  ...          1          0          0   \n124                0                 0  ...          0          1          1   \n125                0                 1  ...          0          0          1   \n126                1                 0  ...          1          1          1   \n127                1                 0  ...          0          0          1   \n\n     month_oct  month_sep  poutcome_failure  poutcome_other  poutcome_success  \\\n0            1          0                 0               1                 0   \n1            1          1                 0               0                 0   \n2            0          1                 0               0                 1   \n3            1          1                 1               0                 1   \n4            1          0                 1               0                 1   \n..         ...        ...               ...             ...               ...   \n123          0          0                 0               1                 1   \n124          1          1                 0               0                 1   \n125          0          0                 1               0                 1   \n126          0          0                 1               1                 1   \n127          1          0                 0               1                 1   \n\n     poutcome_unknown  NaN  \n0                   1  1.0  \n1                   0  1.0  \n2                   1  1.0  \n3                   1  1.0  \n4                   1  1.0  \n..                ...  ...  \n123                 1  1.0  \n124                 0  1.0  \n125                 1  1.0  \n126                 0  1.0  \n127                 1  1.0  \n\n[128 rows x 52 columns]",
      "text/html": "<div>\n<style scoped>\n    .dataframe tbody tr th:only-of-type {\n        vertical-align: middle;\n    }\n\n    .dataframe tbody tr th {\n        vertical-align: top;\n    }\n\n    .dataframe thead th {\n        text-align: right;\n    }\n</style>\n<table border=\"1\" class=\"dataframe\">\n  <thead>\n    <tr style=\"text-align: right;\">\n      <th></th>\n      <th>age</th>\n      <th>balance</th>\n      <th>day</th>\n      <th>duration</th>\n      <th>campaign</th>\n      <th>pdays</th>\n      <th>previous</th>\n      <th>job_admin.</th>\n      <th>job_blue-collar</th>\n      <th>job_entrepreneur</th>\n      <th>...</th>\n      <th>month_mar</th>\n      <th>month_may</th>\n      <th>month_nov</th>\n      <th>month_oct</th>\n      <th>month_sep</th>\n      <th>poutcome_failure</th>\n      <th>poutcome_other</th>\n      <th>poutcome_success</th>\n      <th>poutcome_unknown</th>\n      <th>NaN</th>\n    </tr>\n  </thead>\n  <tbody>\n    <tr>\n      <th>0</th>\n      <td>28</td>\n      <td>18026</td>\n      <td>3</td>\n      <td>858</td>\n      <td>-1</td>\n      <td>-50</td>\n      <td>0</td>\n      <td>0</td>\n      <td>1</td>\n      <td>0</td>\n      <td>...</td>\n      <td>0</td>\n      <td>0</td>\n      <td>0</td>\n      <td>1</td>\n      <td>0</td>\n      <td>0</td>\n      <td>1</td>\n      <td>0</td>\n      <td>1</td>\n      <td>1.0</td>\n    </tr>\n    <tr>\n      <th>1</th>\n      <td>28</td>\n      <td>18351</td>\n      <td>2</td>\n      <td>868</td>\n      <td>-1</td>\n      <td>-49</td>\n      <td>0</td>\n      <td>0</td>\n      <td>0</td>\n      <td>1</td>\n      <td>...</td>\n      <td>1</td>\n      <td>1</td>\n      <td>1</td>\n      <td>1</td>\n      <td>1</td>\n      <td>0</td>\n      <td>0</td>\n      <td>0</td>\n      <td>0</td>\n      <td>1.0</td>\n    </tr>\n    <tr>\n      <th>2</th>\n      <td>28</td>\n      <td>18136</td>\n      <td>3</td>\n      <td>862</td>\n      <td>0</td>\n      <td>-49</td>\n      <td>0</td>\n      <td>0</td>\n      <td>0</td>\n      <td>0</td>\n      <td>...</td>\n      <td>1</td>\n      <td>1</td>\n      <td>0</td>\n      <td>0</td>\n      <td>1</td>\n      <td>0</td>\n      <td>0</td>\n      <td>1</td>\n      <td>1</td>\n      <td>1.0</td>\n    </tr>\n    <tr>\n      <th>3</th>\n      <td>28</td>\n      <td>18196</td>\n      <td>2</td>\n      <td>861</td>\n      <td>-1</td>\n      <td>-49</td>\n      <td>0</td>\n      <td>0</td>\n      <td>1</td>\n      <td>1</td>\n      <td>...</td>\n      <td>1</td>\n      <td>0</td>\n      <td>1</td>\n      <td>1</td>\n      <td>1</td>\n      <td>1</td>\n      <td>0</td>\n      <td>1</td>\n      <td>1</td>\n      <td>1.0</td>\n    </tr>\n    <tr>\n      <th>4</th>\n      <td>28</td>\n      <td>18284</td>\n      <td>3</td>\n      <td>867</td>\n      <td>-1</td>\n      <td>-50</td>\n      <td>0</td>\n      <td>0</td>\n      <td>1</td>\n      <td>1</td>\n      <td>...</td>\n      <td>0</td>\n      <td>1</td>\n      <td>1</td>\n      <td>1</td>\n      <td>0</td>\n      <td>1</td>\n      <td>0</td>\n      <td>1</td>\n      <td>1</td>\n      <td>1.0</td>\n    </tr>\n    <tr>\n      <th>...</th>\n      <td>...</td>\n      <td>...</td>\n      <td>...</td>\n      <td>...</td>\n      <td>...</td>\n      <td>...</td>\n      <td>...</td>\n      <td>...</td>\n      <td>...</td>\n      <td>...</td>\n      <td>...</td>\n      <td>...</td>\n      <td>...</td>\n      <td>...</td>\n      <td>...</td>\n      <td>...</td>\n      <td>...</td>\n      <td>...</td>\n      <td>...</td>\n      <td>...</td>\n      <td>...</td>\n    </tr>\n    <tr>\n      <th>123</th>\n      <td>28</td>\n      <td>18115</td>\n      <td>2</td>\n      <td>858</td>\n      <td>-1</td>\n      <td>-50</td>\n      <td>0</td>\n      <td>0</td>\n      <td>0</td>\n      <td>0</td>\n      <td>...</td>\n      <td>1</td>\n      <td>0</td>\n      <td>0</td>\n      <td>0</td>\n      <td>0</td>\n      <td>0</td>\n      <td>1</td>\n      <td>1</td>\n      <td>1</td>\n      <td>1.0</td>\n    </tr>\n    <tr>\n      <th>124</th>\n      <td>28</td>\n      <td>18371</td>\n      <td>3</td>\n      <td>873</td>\n      <td>-1</td>\n      <td>-50</td>\n      <td>0</td>\n      <td>0</td>\n      <td>0</td>\n      <td>0</td>\n      <td>...</td>\n      <td>0</td>\n      <td>1</td>\n      <td>1</td>\n      <td>1</td>\n      <td>1</td>\n      <td>0</td>\n      <td>0</td>\n      <td>1</td>\n      <td>0</td>\n      <td>1.0</td>\n    </tr>\n    <tr>\n      <th>125</th>\n      <td>28</td>\n      <td>18162</td>\n      <td>3</td>\n      <td>863</td>\n      <td>-1</td>\n      <td>-50</td>\n      <td>0</td>\n      <td>1</td>\n      <td>0</td>\n      <td>1</td>\n      <td>...</td>\n      <td>0</td>\n      <td>0</td>\n      <td>1</td>\n      <td>0</td>\n      <td>0</td>\n      <td>1</td>\n      <td>0</td>\n      <td>1</td>\n      <td>1</td>\n      <td>1.0</td>\n    </tr>\n    <tr>\n      <th>126</th>\n      <td>28</td>\n      <td>18144</td>\n      <td>3</td>\n      <td>862</td>\n      <td>-1</td>\n      <td>-50</td>\n      <td>0</td>\n      <td>0</td>\n      <td>1</td>\n      <td>0</td>\n      <td>...</td>\n      <td>1</td>\n      <td>1</td>\n      <td>1</td>\n      <td>0</td>\n      <td>0</td>\n      <td>1</td>\n      <td>1</td>\n      <td>1</td>\n      <td>0</td>\n      <td>1.0</td>\n    </tr>\n    <tr>\n      <th>127</th>\n      <td>28</td>\n      <td>18156</td>\n      <td>3</td>\n      <td>861</td>\n      <td>-1</td>\n      <td>-50</td>\n      <td>0</td>\n      <td>0</td>\n      <td>1</td>\n      <td>0</td>\n      <td>...</td>\n      <td>0</td>\n      <td>0</td>\n      <td>1</td>\n      <td>1</td>\n      <td>0</td>\n      <td>0</td>\n      <td>1</td>\n      <td>1</td>\n      <td>1</td>\n      <td>1.0</td>\n    </tr>\n  </tbody>\n</table>\n<p>128 rows × 52 columns</p>\n</div>"
     },
     "execution_count": 134,
     "metadata": {},
     "output_type": "execute_result"
    }
   ],
   "source": [
    "generated_df_class_true"
   ],
   "metadata": {
    "collapsed": false,
    "pycharm": {
     "name": "#%%\n"
    }
   }
  },
  {
   "cell_type": "code",
   "execution_count": 135,
   "outputs": [
    {
     "data": {
      "text/plain": "<AxesSubplot:ylabel='Frequency'>"
     },
     "execution_count": 135,
     "metadata": {},
     "output_type": "execute_result"
    },
    {
     "data": {
      "text/plain": "<AxesSubplot:ylabel='Frequency'>"
     },
     "execution_count": 135,
     "metadata": {},
     "output_type": "execute_result"
    },
    {
     "data": {
      "text/plain": "<Figure size 432x288 with 1 Axes>",
      "image/png": "[encoded data removed]"
     },
     "metadata": {
      "needs_background": "light"
     },
     "output_type": "display_data"
    }
   ],
   "source": [
    "generated_df_class_true.duration.plot(kind='hist')\n",
    "real_df_class_true.duration.plot(kind='hist')"
   ],
   "metadata": {
    "collapsed": false,
    "pycharm": {
     "name": "#%%\n"
    }
   }
  },
  {
   "cell_type": "code",
   "execution_count": 93,
   "metadata": {
    "colab": {
     "base_uri": "https://localhost:8080/"
    },
    "id": "CVziu36qZ_9w",
    "outputId": "5ba4e118-03f5-40cb-dc5f-68cc08be84f3"
   },
   "outputs": [],
   "source": [
    "# cat_cols = df.select_dtypes(include=['category']).columns\n",
    "# numeric_cols = df.select_dtypes(exclude=['category']).columns\n",
    "#\n",
    "# print('categorical columns are:', cat_cols)\n",
    "# print('numeric columns are:', numeric_cols)"
   ]
  },
  {
   "cell_type": "code",
   "execution_count": 85,
   "outputs": [],
   "source": [
    "# num_classes = df[label_col].nunique()\n",
    "#\n",
    "# df[label_col] = df[label_col].astype('category')\n",
    "#\n",
    "# # There's only 1 class, so essentially rename the 'Class' to 'Class_1',\n",
    "# # which tells weather a sample data is of class 1 or not.\n",
    "# df = pd.get_dummies(df, columns=[label_col], prefix='class', drop_first=True)\n",
    "#\n",
    "# train_sample = df.copy().reset_index(drop=True)\n",
    "# print(f\"df columns: {train_sample.columns}\")\n",
    "#\n",
    "# # 'Class_1' label\n",
    "# label_cols = [ i for i in train_sample.columns if 'class_' in i ]\n",
    "#\n",
    "# # All columns except 'Class_1'\n",
    "# data_cols = [ i for i in train_sample.columns if i not in label_cols ]\n",
    "#\n",
    "# # Scale down the data, and rename it to 'train_no_label'\n",
    "# train_sample[data_cols] = train_sample[data_cols].astype(int) / 10 # scale to random noise size, one less thing to learn\n",
    "#\n",
    "# # TODO To remove:\n",
    "# train_no_label = train_sample[data_cols]"
   ],
   "metadata": {
    "collapsed": false,
    "pycharm": {
     "name": "#%%\n"
    }
   }
  },
  {
   "cell_type": "code",
   "execution_count": 86,
   "metadata": {
    "id": "tCifZEyZBz0A"
   },
   "outputs": [],
   "source": [
    "models = {'GAN': ['GAN', False, synthesizer.generator]}\n"
   ]
  },
  {
   "cell_type": "code",
   "execution_count": null,
   "metadata": {
    "colab": {
     "base_uri": "https://localhost:8080/",
     "height": 901
    },
    "id": "SBUGfPUaB1LN",
    "outputId": "93b7a8d7-703d-48d5-f521-cf639a2e2833"
   },
   "outputs": [
    {
     "ename": "ImportError",
     "errorDetails": {
      "actions": [
       {
        "action": "open_url",
        "actionText": "Open Examples",
        "url": "/notebooks/snippets/importing_libraries.ipynb"
       }
      ]
     },
     "evalue": "ignored",
     "output_type": "error",
     "traceback": [
      "\u001B[0;31m---------------------------------------------------------------------------\u001B[0m",
      "\u001B[0;31mImportError\u001B[0m                               Traceback (most recent call last)",
      "\u001B[0;32m<ipython-input-39-e52e298ac48b>\u001B[0m in \u001B[0;36m<module>\u001B[0;34m()\u001B[0m\n\u001B[1;32m     64\u001B[0m             \u001B[0mg_z\u001B[0m \u001B[0;34m=\u001B[0m \u001B[0mgenerator_model\u001B[0m\u001B[0;34m.\u001B[0m\u001B[0mpredict\u001B[0m\u001B[0;34m(\u001B[0m\u001B[0mz\u001B[0m\u001B[0;34m)\u001B[0m\u001B[0;34m\u001B[0m\u001B[0;34m\u001B[0m\u001B[0m\n\u001B[1;32m     65\u001B[0m             \u001B[0mgen_samples\u001B[0m \u001B[0;34m=\u001B[0m \u001B[0mpd\u001B[0m\u001B[0;34m.\u001B[0m\u001B[0mDataFrame\u001B[0m\u001B[0;34m(\u001B[0m\u001B[0mg_z\u001B[0m\u001B[0;34m,\u001B[0m \u001B[0mcolumns\u001B[0m\u001B[0;34m=\u001B[0m\u001B[0mdata_cols\u001B[0m\u001B[0;34m+\u001B[0m\u001B[0;34m[\u001B[0m\u001B[0;34m'label'\u001B[0m\u001B[0;34m]\u001B[0m\u001B[0;34m)\u001B[0m\u001B[0;34m\u001B[0m\u001B[0;34m\u001B[0m\u001B[0m\n\u001B[0;32m---> 66\u001B[0;31m             \u001B[0mgen_samples\u001B[0m\u001B[0;34m.\u001B[0m\u001B[0mto_csv\u001B[0m\u001B[0;34m(\u001B[0m\u001B[0;34m'../../data/Generated_sample.csv'\u001B[0m\u001B[0;34m)\u001B[0m\u001B[0;34m\u001B[0m\u001B[0;34m\u001B[0m\u001B[0m\n\u001B[0m\u001B[1;32m     67\u001B[0m             plt.scatter( gen_samples[[col1]], gen_samples[[col2]],\n\u001B[1;32m     68\u001B[0m                              label=class_labels[0], marker=markers[0], edgecolors=colors[0], facecolors='none' )\n",
      "\u001B[0;32m/usr/local/lib/python3.7/dist-packages/pandas/core/generic.py\u001B[0m in \u001B[0;36mto_csv\u001B[0;34m(self, path_or_buf, sep, na_rep, float_format, columns, header, index, index_label, mode, encoding, compression, quoting, quotechar, line_terminator, chunksize, date_format, doublequote, escapechar, decimal, errors)\u001B[0m\n\u001B[1;32m   3143\u001B[0m             \u001B[0mtabular\u001B[0m \u001B[0moutput\u001B[0m\u001B[0;34m.\u001B[0m\u001B[0;34m\u001B[0m\u001B[0;34m\u001B[0m\u001B[0m\n\u001B[1;32m   3144\u001B[0m         \u001B[0mDataFrame\u001B[0m\u001B[0;34m.\u001B[0m\u001B[0mto_html\u001B[0m \u001B[0;34m:\u001B[0m \u001B[0mRender\u001B[0m \u001B[0ma\u001B[0m \u001B[0mDataFrame\u001B[0m \u001B[0;32mas\u001B[0m \u001B[0man\u001B[0m \u001B[0mHTML\u001B[0m \u001B[0mtable\u001B[0m\u001B[0;34m.\u001B[0m\u001B[0;34m\u001B[0m\u001B[0;34m\u001B[0m\u001B[0m\n\u001B[0;32m-> 3145\u001B[0;31m \u001B[0;34m\u001B[0m\u001B[0m\n\u001B[0m\u001B[1;32m   3146\u001B[0m         \u001B[0mExamples\u001B[0m\u001B[0;34m\u001B[0m\u001B[0;34m\u001B[0m\u001B[0m\n\u001B[1;32m   3147\u001B[0m         \u001B[0;34m-\u001B[0m\u001B[0;34m-\u001B[0m\u001B[0;34m-\u001B[0m\u001B[0;34m-\u001B[0m\u001B[0;34m-\u001B[0m\u001B[0;34m-\u001B[0m\u001B[0;34m-\u001B[0m\u001B[0;34m-\u001B[0m\u001B[0;34m\u001B[0m\u001B[0;34m\u001B[0m\u001B[0m\n",
      "\u001B[0;32m/usr/local/lib/python3.7/dist-packages/pandas/io/formats/csvs.py\u001B[0m in \u001B[0;36m<module>\u001B[0;34m()\u001B[0m\n\u001B[1;32m     10\u001B[0m \u001B[0;34m\u001B[0m\u001B[0m\n\u001B[1;32m     11\u001B[0m \u001B[0;32mfrom\u001B[0m \u001B[0mpandas\u001B[0m\u001B[0;34m.\u001B[0m\u001B[0m_libs\u001B[0m \u001B[0;32mimport\u001B[0m \u001B[0mwriters\u001B[0m \u001B[0;32mas\u001B[0m \u001B[0mlibwriters\u001B[0m\u001B[0;34m\u001B[0m\u001B[0;34m\u001B[0m\u001B[0m\n\u001B[0;32m---> 12\u001B[0;31m from pandas._typing import (\n\u001B[0m\u001B[1;32m     13\u001B[0m     \u001B[0mCompressionOptions\u001B[0m\u001B[0;34m,\u001B[0m\u001B[0;34m\u001B[0m\u001B[0;34m\u001B[0m\u001B[0m\n\u001B[1;32m     14\u001B[0m     \u001B[0mFilePathOrBuffer\u001B[0m\u001B[0;34m,\u001B[0m\u001B[0;34m\u001B[0m\u001B[0;34m\u001B[0m\u001B[0m\n",
      "\u001B[0;31mImportError\u001B[0m: cannot import name 'CompressionOptions' from 'pandas._typing' (/usr/local/lib/python3.7/dist-packages/pandas/_typing.py)",
      "",
      "\u001B[0;31m---------------------------------------------------------------------------\u001B[0;32m\nNOTE: If your import is failing due to a missing package, you can\nmanually install dependencies using either !pip or !apt.\n\nTo view examples of installing some common dependencies, click the\n\"Open Examples\" button below.\n\u001B[0;31m---------------------------------------------------------------------------\u001B[0m\n"
     ]
    },
    {
     "ename": "ImportError",
     "evalue": "ignored",
     "output_type": "error",
     "traceback": [
      "\u001B[0;31m---------------------------------------------------------------------------\u001B[0m",
      "\u001B[0;31mImportError\u001B[0m                               Traceback (most recent call last)",
      "\u001B[0;32m/usr/local/lib/python3.7/dist-packages/IPython/core/formatters.py\u001B[0m in \u001B[0;36m__call__\u001B[0;34m(self, obj)\u001B[0m\n\u001B[1;32m    332\u001B[0m                 \u001B[0;32mpass\u001B[0m\u001B[0;34m\u001B[0m\u001B[0;34m\u001B[0m\u001B[0m\n\u001B[1;32m    333\u001B[0m             \u001B[0;32melse\u001B[0m\u001B[0;34m:\u001B[0m\u001B[0;34m\u001B[0m\u001B[0;34m\u001B[0m\u001B[0m\n\u001B[0;32m--> 334\u001B[0;31m                 \u001B[0;32mreturn\u001B[0m \u001B[0mprinter\u001B[0m\u001B[0;34m(\u001B[0m\u001B[0mobj\u001B[0m\u001B[0;34m)\u001B[0m\u001B[0;34m\u001B[0m\u001B[0;34m\u001B[0m\u001B[0m\n\u001B[0m\u001B[1;32m    335\u001B[0m             \u001B[0;31m# Finally look for special method names\u001B[0m\u001B[0;34m\u001B[0m\u001B[0;34m\u001B[0m\u001B[0;34m\u001B[0m\u001B[0m\n\u001B[1;32m    336\u001B[0m             \u001B[0mmethod\u001B[0m \u001B[0;34m=\u001B[0m \u001B[0mget_real_method\u001B[0m\u001B[0;34m(\u001B[0m\u001B[0mobj\u001B[0m\u001B[0;34m,\u001B[0m \u001B[0mself\u001B[0m\u001B[0;34m.\u001B[0m\u001B[0mprint_method\u001B[0m\u001B[0;34m)\u001B[0m\u001B[0;34m\u001B[0m\u001B[0;34m\u001B[0m\u001B[0m\n",
      "\u001B[0;32m/usr/local/lib/python3.7/dist-packages/IPython/core/pylabtools.py\u001B[0m in \u001B[0;36m<lambda>\u001B[0;34m(fig)\u001B[0m\n\u001B[1;32m    239\u001B[0m \u001B[0;34m\u001B[0m\u001B[0m\n\u001B[1;32m    240\u001B[0m     \u001B[0;32mif\u001B[0m \u001B[0;34m'png'\u001B[0m \u001B[0;32min\u001B[0m \u001B[0mformats\u001B[0m\u001B[0;34m:\u001B[0m\u001B[0;34m\u001B[0m\u001B[0;34m\u001B[0m\u001B[0m\n\u001B[0;32m--> 241\u001B[0;31m         \u001B[0mpng_formatter\u001B[0m\u001B[0;34m.\u001B[0m\u001B[0mfor_type\u001B[0m\u001B[0;34m(\u001B[0m\u001B[0mFigure\u001B[0m\u001B[0;34m,\u001B[0m \u001B[0;32mlambda\u001B[0m \u001B[0mfig\u001B[0m\u001B[0;34m:\u001B[0m \u001B[0mprint_figure\u001B[0m\u001B[0;34m(\u001B[0m\u001B[0mfig\u001B[0m\u001B[0;34m,\u001B[0m \u001B[0;34m'png'\u001B[0m\u001B[0;34m,\u001B[0m \u001B[0;34m**\u001B[0m\u001B[0mkwargs\u001B[0m\u001B[0;34m)\u001B[0m\u001B[0;34m)\u001B[0m\u001B[0;34m\u001B[0m\u001B[0;34m\u001B[0m\u001B[0m\n\u001B[0m\u001B[1;32m    242\u001B[0m     \u001B[0;32mif\u001B[0m \u001B[0;34m'retina'\u001B[0m \u001B[0;32min\u001B[0m \u001B[0mformats\u001B[0m \u001B[0;32mor\u001B[0m \u001B[0;34m'png2x'\u001B[0m \u001B[0;32min\u001B[0m \u001B[0mformats\u001B[0m\u001B[0;34m:\u001B[0m\u001B[0;34m\u001B[0m\u001B[0;34m\u001B[0m\u001B[0m\n\u001B[1;32m    243\u001B[0m         \u001B[0mpng_formatter\u001B[0m\u001B[0;34m.\u001B[0m\u001B[0mfor_type\u001B[0m\u001B[0;34m(\u001B[0m\u001B[0mFigure\u001B[0m\u001B[0;34m,\u001B[0m \u001B[0;32mlambda\u001B[0m \u001B[0mfig\u001B[0m\u001B[0;34m:\u001B[0m \u001B[0mretina_figure\u001B[0m\u001B[0;34m(\u001B[0m\u001B[0mfig\u001B[0m\u001B[0;34m,\u001B[0m \u001B[0;34m**\u001B[0m\u001B[0mkwargs\u001B[0m\u001B[0;34m)\u001B[0m\u001B[0;34m)\u001B[0m\u001B[0;34m\u001B[0m\u001B[0;34m\u001B[0m\u001B[0m\n",
      "\u001B[0;32m/usr/local/lib/python3.7/dist-packages/IPython/core/pylabtools.py\u001B[0m in \u001B[0;36mprint_figure\u001B[0;34m(fig, fmt, bbox_inches, **kwargs)\u001B[0m\n\u001B[1;32m    123\u001B[0m \u001B[0;34m\u001B[0m\u001B[0m\n\u001B[1;32m    124\u001B[0m     \u001B[0mbytes_io\u001B[0m \u001B[0;34m=\u001B[0m \u001B[0mBytesIO\u001B[0m\u001B[0;34m(\u001B[0m\u001B[0;34m)\u001B[0m\u001B[0;34m\u001B[0m\u001B[0;34m\u001B[0m\u001B[0m\n\u001B[0;32m--> 125\u001B[0;31m     \u001B[0mfig\u001B[0m\u001B[0;34m.\u001B[0m\u001B[0mcanvas\u001B[0m\u001B[0;34m.\u001B[0m\u001B[0mprint_figure\u001B[0m\u001B[0;34m(\u001B[0m\u001B[0mbytes_io\u001B[0m\u001B[0;34m,\u001B[0m \u001B[0;34m**\u001B[0m\u001B[0mkw\u001B[0m\u001B[0;34m)\u001B[0m\u001B[0;34m\u001B[0m\u001B[0;34m\u001B[0m\u001B[0m\n\u001B[0m\u001B[1;32m    126\u001B[0m     \u001B[0mdata\u001B[0m \u001B[0;34m=\u001B[0m \u001B[0mbytes_io\u001B[0m\u001B[0;34m.\u001B[0m\u001B[0mgetvalue\u001B[0m\u001B[0;34m(\u001B[0m\u001B[0;34m)\u001B[0m\u001B[0;34m\u001B[0m\u001B[0;34m\u001B[0m\u001B[0m\n\u001B[1;32m    127\u001B[0m     \u001B[0;32mif\u001B[0m \u001B[0mfmt\u001B[0m \u001B[0;34m==\u001B[0m \u001B[0;34m'svg'\u001B[0m\u001B[0;34m:\u001B[0m\u001B[0;34m\u001B[0m\u001B[0;34m\u001B[0m\u001B[0m\n",
      "\u001B[0;32m/usr/local/lib/python3.7/dist-packages/matplotlib/backend_bases.py\u001B[0m in \u001B[0;36mprint_figure\u001B[0;34m(self, filename, dpi, facecolor, edgecolor, orientation, format, bbox_inches, **kwargs)\u001B[0m\n\u001B[1;32m   2092\u001B[0m         \u001B[0mhardcopy\u001B[0m\u001B[0;34m.\u001B[0m\u001B[0;34m\u001B[0m\u001B[0;34m\u001B[0m\u001B[0m\n\u001B[1;32m   2093\u001B[0m \u001B[0;34m\u001B[0m\u001B[0m\n\u001B[0;32m-> 2094\u001B[0;31m         \u001B[0mParameters\u001B[0m\u001B[0;34m\u001B[0m\u001B[0;34m\u001B[0m\u001B[0m\n\u001B[0m\u001B[1;32m   2095\u001B[0m         \u001B[0;34m-\u001B[0m\u001B[0;34m-\u001B[0m\u001B[0;34m-\u001B[0m\u001B[0;34m-\u001B[0m\u001B[0;34m-\u001B[0m\u001B[0;34m-\u001B[0m\u001B[0;34m-\u001B[0m\u001B[0;34m-\u001B[0m\u001B[0;34m-\u001B[0m\u001B[0;34m-\u001B[0m\u001B[0;34m\u001B[0m\u001B[0;34m\u001B[0m\u001B[0m\n\u001B[1;32m   2096\u001B[0m         \u001B[0mfilename\u001B[0m \u001B[0;34m:\u001B[0m \u001B[0mstr\u001B[0m \u001B[0;32mor\u001B[0m \u001B[0mpath\u001B[0m\u001B[0;34m-\u001B[0m\u001B[0mlike\u001B[0m \u001B[0;32mor\u001B[0m \u001B[0mfile\u001B[0m\u001B[0;34m-\u001B[0m\u001B[0mlike\u001B[0m\u001B[0;34m\u001B[0m\u001B[0;34m\u001B[0m\u001B[0m\n",
      "\u001B[0;32m/usr/local/lib/python3.7/dist-packages/matplotlib/backend_bases.py\u001B[0m in \u001B[0;36m_get_renderer\u001B[0;34m(figure, print_method)\u001B[0m\n\u001B[1;32m   1558\u001B[0m             \u001B[0;32mreturn\u001B[0m \u001B[0mrenderer\u001B[0m\u001B[0;34m\u001B[0m\u001B[0;34m\u001B[0m\u001B[0m\n\u001B[1;32m   1559\u001B[0m         \u001B[0;32melse\u001B[0m\u001B[0;34m:\u001B[0m\u001B[0;34m\u001B[0m\u001B[0;34m\u001B[0m\u001B[0m\n\u001B[0;32m-> 1560\u001B[0;31m             raise RuntimeError(f\"{print_method} did not call Figure.draw, so \"\n\u001B[0m\u001B[1;32m   1561\u001B[0m                                f\"no renderer is available\")\n\u001B[1;32m   1562\u001B[0m         \u001B[0;32mfinally\u001B[0m\u001B[0;34m:\u001B[0m\u001B[0;34m\u001B[0m\u001B[0;34m\u001B[0m\u001B[0m\n",
      "\u001B[0;32m/usr/local/lib/python3.7/dist-packages/matplotlib/backends/backend_agg.py\u001B[0m in \u001B[0;36mprint_png\u001B[0;34m(self, filename_or_obj, metadata, pil_kwargs, *args, **kwargs)\u001B[0m\n\u001B[1;32m    503\u001B[0m         \u001B[0mpil_kwargs\u001B[0m \u001B[0;34m:\u001B[0m \u001B[0mdict\u001B[0m\u001B[0;34m,\u001B[0m \u001B[0moptional\u001B[0m\u001B[0;34m\u001B[0m\u001B[0;34m\u001B[0m\u001B[0m\n\u001B[1;32m    504\u001B[0m             \u001B[0mKeyword\u001B[0m \u001B[0marguments\u001B[0m \u001B[0mpassed\u001B[0m \u001B[0mto\u001B[0m\u001B[0;31m \u001B[0m\u001B[0;31m`\u001B[0m\u001B[0mPIL\u001B[0m\u001B[0;34m.\u001B[0m\u001B[0mImage\u001B[0m\u001B[0;34m.\u001B[0m\u001B[0mImage\u001B[0m\u001B[0;34m.\u001B[0m\u001B[0msave\u001B[0m\u001B[0;31m`\u001B[0m\u001B[0;34m.\u001B[0m\u001B[0;34m\u001B[0m\u001B[0;34m\u001B[0m\u001B[0m\n\u001B[0;32m--> 505\u001B[0;31m \u001B[0;34m\u001B[0m\u001B[0m\n\u001B[0m\u001B[1;32m    506\u001B[0m             \u001B[0mIf\u001B[0m \u001B[0mthe\u001B[0m \u001B[0;34m'pnginfo'\u001B[0m \u001B[0mkey\u001B[0m \u001B[0;32mis\u001B[0m \u001B[0mpresent\u001B[0m\u001B[0;34m,\u001B[0m \u001B[0mit\u001B[0m \u001B[0mcompletely\u001B[0m \u001B[0moverrides\u001B[0m\u001B[0;34m\u001B[0m\u001B[0;34m\u001B[0m\u001B[0m\n\u001B[1;32m    507\u001B[0m             \u001B[0;34m*\u001B[0m\u001B[0mmetadata\u001B[0m\u001B[0;34m*\u001B[0m\u001B[0;34m,\u001B[0m \u001B[0mincluding\u001B[0m \u001B[0mthe\u001B[0m \u001B[0mdefault\u001B[0m \u001B[0;34m'Software'\u001B[0m \u001B[0mkey\u001B[0m\u001B[0;34m.\u001B[0m\u001B[0;34m\u001B[0m\u001B[0;34m\u001B[0m\u001B[0m\n",
      "\u001B[0;31mImportError\u001B[0m: cannot import name '_png' from 'matplotlib' (/usr/local/lib/python3.7/dist-packages/matplotlib/__init__.py)"
     ]
    },
    {
     "data": {
      "text/plain": [
       "<Figure size 1008x648 with 2 Axes>"
      ]
     },
     "metadata": {
      "needs_background": "light"
     },
     "output_type": "display_data"
    }
   ],
   "source": [
    "# Setup parameters visualization parameters\n",
    "seed = 17\n",
    "test_size = 492 # number of fraud cases\n",
    "noise_dim = 32\n",
    "\n",
    "np.random.seed(seed)\n",
    "z = np.random.normal(size=(test_size, noise_dim))\n",
    "real = synthesizer.get_data_batch(train=train_sample, batch_size=test_size, seed=seed)\n",
    "real_samples = pd.DataFrame(real, columns=data_cols+label_cols)\n",
    "labels = fraud_w_classes['Class']\n",
    "\n",
    "model_names = ['GAN']\n",
    "colors = ['deepskyblue','blue']\n",
    "markers = ['o','^']\n",
    "class_labels = ['Class 1','Class 2']\n",
    "\n",
    "col1, col2 = 'V17', 'V10'\n",
    "\n",
    "base_dir = 'cache/'\n",
    "\n",
    "# Actual fraud data visualization\n",
    "model_steps = [ 0, 100, 200]\n",
    "rows = len(model_steps)\n",
    "columns = 1 + len(models)\n",
    "\n",
    "axarr = [[]]*len(model_steps)\n",
    "\n",
    "fig = plt.figure(figsize=(14,rows*3))\n",
    "\n",
    "# Go through each of the 3 model_step values -> 0, 100, 200\n",
    "for model_step_ix, model_step in enumerate(model_steps):        \n",
    "    axarr[model_step_ix] = plt.subplot(rows, columns, model_step_ix*columns + 1)\n",
    "\n",
    "    # Plot 'Class 1' and 'Class 2' samples taken from the original data, in a random shuffled fashion\n",
    "    for group, color, marker, label in zip(real_samples.groupby('Class_1'), colors, markers, class_labels ):\n",
    "        plt.scatter( group[1][[col1]], group[1][[col2]], \n",
    "                         label=label, marker=marker, edgecolors=color, facecolors='none' )\n",
    "    \n",
    "    plt.title('Actual Fraud Data')\n",
    "    plt.ylabel(col2) # Only add y label to left plot\n",
    "    plt.xlabel(col1)\n",
    "    xlims, ylims = axarr[model_step_ix].get_xlim(), axarr[model_step_ix].get_ylim()\n",
    "    \n",
    "    if model_step_ix == 0: \n",
    "        legend = plt.legend()\n",
    "        legend.get_frame().set_facecolor('white')\n",
    "\n",
    "    # Go through all the GAN models listed in 'model_names' and defined in 'models'\n",
    "    for i, model_name in enumerate( model_names[:] ):\n",
    "\n",
    "        [model_name, with_class, generator_model] = models[model_name]\n",
    "\n",
    "        generator_model.load_weights( base_dir + '_generator_model_weights_step_'+str(model_step)+'.h5')\n",
    "\n",
    "        ax = plt.subplot(rows, columns, model_step_ix*columns + 1 + (i+1) )\n",
    "\n",
    "        if with_class:\n",
    "            g_z = generator_model.predict([z, labels])\n",
    "            gen_samples = pd.DataFrame(g_z, columns=data_cols+label_cols)\n",
    "            for group, color, marker, label in zip( gen_samples.groupby('Class_1'), colors, markers, class_labels ):\n",
    "                plt.scatter( group[1][[col1]], group[1][[col2]], \n",
    "                                 label=label, marker=marker, edgecolors=color, facecolors='none' )\n",
    "        else:\n",
    "            g_z = generator_model.predict(z)\n",
    "            gen_samples = pd.DataFrame(g_z, columns=data_cols+['label'])\n",
    "            gen_samples.to_csv('../../data/Generated_sample.csv')\n",
    "            plt.scatter( gen_samples[[col1]], gen_samples[[col2]],\n",
    "                             label=class_labels[0], marker=markers[0], edgecolors=colors[0], facecolors='none' )\n",
    "        plt.title(model_name)   \n",
    "        plt.xlabel(col1)\n",
    "        ax.set_xlim(xlims), ax.set_ylim(ylims)\n",
    "\n",
    "plt.suptitle('Comparison of GAN outputs', size=16, fontweight='bold')\n",
    "plt.tight_layout(rect=[0.075,0,1,0.95])\n",
    "\n",
    "# Adding text labels for training steps\n",
    "vpositions = np.array([ i._position.bounds[1] for i in axarr ])\n",
    "vpositions += ((vpositions[0] - vpositions[1]) * 0.35 )\n",
    "for model_step_ix, model_step in enumerate( model_steps ):\n",
    "    fig.text( 0.05, vpositions[model_step_ix], 'training\\nstep\\n'+str(model_step), ha='center', va='center', size=12)\n",
    "\n",
    "# if not os.path.exists(\"./img\"):\n",
    "    # os.makedirs(\"./img\")\n",
    "# plt.savefig('img/Comparison_of_GAN_outputs.png', dpi=100)"
   ]
  },
  {
   "cell_type": "markdown",
   "metadata": {},
   "source": [
    "# Load Trained Model"
   ]
  },
  {
   "cell_type": "code",
   "execution_count": null,
   "metadata": {
    "id": "S14gv_faB_M8"
   },
   "outputs": [],
   "source": [
    "gan_generator = GANDataGenerator(dataset=origin_dataset, model_class=CGAN, trained_model_path=)"
   ]
  }
 ],
 "metadata": {
  "colab": {
   "collapsed_sections": [],
   "name": "generative_model_training.ipynb",
   "provenance": []
  },
  "kernelspec": {
   "display_name": "Python 3 (ipykernel)",
   "language": "python",
   "name": "python3"
  },
  "language_info": {
   "codemirror_mode": {
    "name": "ipython",
    "version": 3
   },
   "file_extension": ".py",
   "mimetype": "text/x-python",
   "name": "python",
   "nbconvert_exporter": "python",
   "pygments_lexer": "ipython3",
   "version": "3.8.12"
  }
 },
 "nbformat": 4,
 "nbformat_minor": 1
}